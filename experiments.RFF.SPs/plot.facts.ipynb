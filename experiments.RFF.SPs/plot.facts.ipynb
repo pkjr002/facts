{
 "cells": [
  {
   "cell_type": "markdown",
   "metadata": {},
   "source": [
    "<span style=\"font-size: 32pt; font-family: 'Times New Roman'; color: blue; \"> Notebook to viz FaIR output </span> "
   ]
  },
  {
   "cell_type": "markdown",
   "metadata": {},
   "source": [
    "I am currently running this notebook to viz the results from running FaIR `project` from within a sandbox. \n",
    "You will need to use the `fair_env` to run the notebook. "
   ]
  },
  {
   "cell_type": "markdown",
   "metadata": {},
   "source": [
    "### Notebook Env:  <mark> fair_env</mark>\n",
    "located at `/Users/pk695/werk.M2/FACTS_dev/2401_RFF.SPs/facts_development/envs/fair_env/bin`   \n",
    "activate\n",
    "- Terminal `source /Users/pk695/werk.M2/FACTS_dev/2401_RFF.SPs/facts_development/envs/fair_env/bin/activate`   \n",
    "- Jupyter: Change the kernel in the toolbar to run the notebook. \n",
    "\n",
    "  <details>\n",
    "  <summary>If the kernel does not appear:</summary>\n",
    "\n",
    "  - Restart and install the new kernel using:\n",
    "    ```bash\n",
    "    ipython kernel install --user --name=fair_env\n",
    "    ```\n",
    "  - If that does not work, install `ipykernel`:\n",
    "    ```bash\n",
    "    pip install ipykernel\n",
    "    ```\n",
    "  </details>\n"
   ]
  },
  {
   "cell_type": "code",
   "execution_count": null,
   "metadata": {},
   "outputs": [],
   "source": [
    "import os\n",
    "import pickle\n",
    "import numpy as np\n",
    "import xarray as xr\n",
    "from matplotlib import pyplot as plt\n",
    "import plot_facts as fun"
   ]
  },
  {
   "cell_type": "markdown",
   "metadata": {},
   "source": [
    "1. `rffemissions` has 3 gasses - 'C' 'CH4' 'N2' , IDX (0,1,2)\n",
    "\n",
    "1. `emis` and `rffemfull_array` have at \"C\" ,\"CH4\" ,\"N2O\" ,\"N2\" , IDX (1,3,4,4)\n",
    "    * first column is time. "
   ]
  },
  {
   "cell_type": "markdown",
   "metadata": {},
   "source": [
    "<span style=\"font-size: 22pt; font-family: 'Times New Roman'; color: red; \"> Load FaIR data at the <span style=\"background-color: yellow;\"> project </span>  stage </span> "
   ]
  },
  {
   "cell_type": "code",
   "execution_count": null,
   "metadata": {},
   "outputs": [],
   "source": [
    "pathDICT = {\n",
    "    \"debug_Path\" : \"/Users/pk695/werk.M2/FACTS_dev/2401_RFF.SPs/facts_development/facts/experiments.RFF.SPs/debug_rffLL_project\",   \n",
    "}\n",
    "\n",
    "rffemfull_array, rff_sp_array, temps, deeptemps, ohcs = fun.load_data_project(pathDICT)\n",
    "\n",
    "emis, rffemissions, REFERENCE_YEAR, t = fun.load_data_preprocess(pathDICT)\n"
   ]
  },
  {
   "cell_type": "code",
   "execution_count": null,
   "metadata": {},
   "outputs": [],
   "source": [
    "print('\\n <======>')\n",
    "print('rffemissions = ',rffemissions)\n",
    "print('<======>')\n",
    "print('emis shape:: ',emis.shape)\n",
    "print('<======>')\n",
    "print(f\"rffemfull_array shape:: {rffemfull_array.shape}\")\n",
    "print('<======>')"
   ]
  },
  {
   "cell_type": "markdown",
   "metadata": {},
   "source": [
    "---"
   ]
  },
  {
   "cell_type": "markdown",
   "metadata": {},
   "source": [
    "<span style=\"font-size: 32pt; font-family: 'Times New Roman'; color: red; \"> Plot:: FaIR <mark> Input emissions </mark> </span> "
   ]
  },
  {
   "cell_type": "code",
   "execution_count": null,
   "metadata": {},
   "outputs": [],
   "source": [
    "fun.plot_grouped_dataset(emis, rffemissions, rffemfull_array, rff_sp_array, 0)"
   ]
  },
  {
   "cell_type": "code",
   "execution_count": null,
   "metadata": {},
   "outputs": [],
   "source": [
    "fun.plot_grouped_gas(emis, rffemissions, rffemfull_array, rff_sp_array, 0)\n",
    "\n",
    "''' LOOP over samples '''\n",
    "# for ii in range(10):\n",
    "#     print(f\"sample={ii}\")\n",
    "#     fun.plot_grouped_gas(emis, rffemissions, rffemfull_array, rff_sp_array, ii)\n",
    "#     plt.show(block=False)"
   ]
  },
  {
   "cell_type": "markdown",
   "metadata": {},
   "source": [
    "<hr style=\"position: absolute; left: 1.5; width: 50%; height: 2px; background-color: blue; border-style: solid;\">"
   ]
  },
  {
   "cell_type": "markdown",
   "metadata": {},
   "source": [
    "<span style=\"font-size: 32pt; font-family: 'Times New Roman'; color: blue; \"> Re-calculate above.\n",
    " <span style=\"font-size: 12pt; color: black; \"> the <mark>3-gas RFF substitution</mark> for debugging. \n",
    "\n",
    " </span>  \n",
    "</span> "
   ]
  },
  {
   "cell_type": "code",
   "execution_count": null,
   "metadata": {},
   "outputs": [],
   "source": [
    "fun.plot_grouped_gas_nbk(emis, rffemissions, rffemfull_array, rff_sp_array, REFERENCE_YEAR, 0)"
   ]
  },
  {
   "cell_type": "markdown",
   "metadata": {},
   "source": [
    "<hr style=\"position: absolute; left: 1.5; width: 50%; height: 2px; background-color: blue; border-style: solid;\">"
   ]
  },
  {
   "cell_type": "markdown",
   "metadata": {},
   "source": [
    "<span style=\"font-size: 32pt; font-family: 'Times New Roman'; color: blue; \"> PLOT :: <span style=\"font-size: 22pt;\"> <mark>base-emis</mark> VS <mark>3-Gas</mark>\n",
    " </span> \n",
    "</span> "
   ]
  },
  {
   "cell_type": "code",
   "execution_count": null,
   "metadata": {},
   "outputs": [],
   "source": [
    "fun.plot_3_gas(emis,rffemissions, rff_sp_array, 0)"
   ]
  },
  {
   "cell_type": "markdown",
   "metadata": {},
   "source": [
    "<hr style=\"position: absolute; left: 1.5; width: 50%; height: 2px; background-color: blue; border-style: solid;\">"
   ]
  },
  {
   "cell_type": "markdown",
   "metadata": {},
   "source": [
    "<span style=\"font-size: 32pt; font-family: 'Times New Roman'; color: blue; \"> Viz <mark>project script</mark> result .V.S. <mark>this ipynb calc</mark>  </span> "
   ]
  },
  {
   "cell_type": "code",
   "execution_count": null,
   "metadata": {},
   "outputs": [],
   "source": [
    "# fun.plot_grouped_gas(emis, rffemissions, rffemfull_array, rff_sp_array, 0)\n",
    "for ii in range(10):\n",
    "    print(f\"sample={ii}, project sandbox result\")\n",
    "    fun.plot_grouped_gas(emis, rffemissions, rffemfull_array, rff_sp_array, ii)\n",
    "    plt.show(block=False)\n",
    "    print(f\"nbk based calculation\")\n",
    "    fun.plot_grouped_gas_nbk(emis, rffemissions, rffemfull_array, rff_sp_array, REFERENCE_YEAR, ii)\n",
    "    plt.show(block=False)"
   ]
  },
  {
   "cell_type": "markdown",
   "metadata": {},
   "source": [
    "---"
   ]
  },
  {
   "cell_type": "markdown",
   "metadata": {},
   "source": [
    "<span style=\"font-size: 32pt; font-family: 'Times New Roman'; color: red; \"> <mark>Cumulative</mark> Emissions  </span> "
   ]
  },
  {
   "cell_type": "code",
   "execution_count": null,
   "metadata": {},
   "outputs": [],
   "source": [
    "selected_gas = \"C\"  # Replace with your desired gas\n",
    "subset = rffemissions[\"emissions\"].sel(gas=selected_gas, Year=slice(2020, 2100))\n",
    "subset_Year_values = subset.coords[\"Year\"].values\n",
    "#\n",
    "cumulative_emissions = subset.cumsum(dim=\"Year\")\n",
    "print(cumulative_emissions)"
   ]
  },
  {
   "cell_type": "code",
   "execution_count": null,
   "metadata": {},
   "outputs": [],
   "source": [
    "# Plot\n",
    "cumulative_emissions.plot(label=f\"Cumulative Emissions for {selected_gas}\")\n",
    "plt.title(\"Cumulative Emissions (2020–2100)\")\n",
    "plt.xlabel(\"Year\")\n",
    "plt.ylabel(\"Cumulative Emissions\")\n",
    "plt.legend()\n",
    "plt.show()"
   ]
  },
  {
   "cell_type": "code",
   "execution_count": null,
   "metadata": {},
   "outputs": [],
   "source": [
    "plt.plot(cumulative_emissions[1:100,:])"
   ]
  },
  {
   "cell_type": "code",
   "execution_count": null,
   "metadata": {},
   "outputs": [],
   "source": [
    "# Sort cumulative_emissions for 2100\n",
    "year_index_2100 = np.where(subset_Year_values == 2100)[0][0]    \n",
    "emissions_2100 = cumulative_emissions[:, year_index_2100]\n",
    "sorted_indexes = np.argsort(emissions_2100)\n",
    "sorted_indexes\n",
    "# sorted_rff_sp_labels = rff_sp[sorted_indexes]\n",
    "\n",
    "\n",
    "plt.figure(figsize=(80, 5))\n",
    "plt.plot(sorted_indexes, '-')"
   ]
  },
  {
   "cell_type": "code",
   "execution_count": null,
   "metadata": {},
   "outputs": [],
   "source": [
    "# Latin Line\n",
    "rng = np.random.default_rng(1234)\n",
    "\n",
    "def LatinLine(sorted_array, num_samples, rng):\n",
    "    # Total number of elements in the sorted array\n",
    "    total_elements = len(sorted_array)\n",
    "    \n",
    "    # Divide the sorted array into `num_samples` intervals\n",
    "    intervals = np.linspace(0, total_elements, num_samples + 1).astype(int)\n",
    "    \n",
    "    # Randomly sample one index from each interval\n",
    "    sampled_indexes = [\n",
    "        rng.integers(intervals[i], intervals[i + 1]) for i in range(num_samples)\n",
    "    ]\n",
    "    \n",
    "    # Retrieve sampled values\n",
    "    sampled_values = sorted_array[sampled_indexes]\n",
    "    \n",
    "    return sampled_indexes, sampled_values"
   ]
  },
  {
   "cell_type": "code",
   "execution_count": null,
   "metadata": {},
   "outputs": [],
   "source": [
    "sorted_array = np.array([1, 2, 3, 4, 5, 6, 7, 8, 9, 10])\n",
    "num_samples = 3\n",
    "sampled_indexes, sampled_values = LatinLine(sorted_array, num_samples, rng)\n",
    "\n",
    "print(\"Sampled indexes:\", sampled_indexes)\n",
    "print(\"Sampled values:\", sampled_values)"
   ]
  },
  {
   "cell_type": "markdown",
   "metadata": {},
   "source": [
    "---"
   ]
  },
  {
   "cell_type": "markdown",
   "metadata": {},
   "source": [
    "<span style=\"font-size: 32pt; font-family: 'Times New Roman'; color: red; \"> Plot:: <mark>FaIR output</mark>  </span> "
   ]
  },
  {
   "cell_type": "code",
   "execution_count": null,
   "metadata": {},
   "outputs": [],
   "source": [
    "fig, axs = plt.subplots(1, 4, figsize=(20, 5))\n",
    "\n",
    "axs[0].plot(t,deeptemps[1,:],'-b',label='Deep Ocean Temp'); axs[0].grid(True)\n",
    "axs[1].plot(t,ohcs[1,:],'--b', label='Ocean Heat Content'); axs[1].grid(True)\n",
    "axs[2].plot(t,temps[1, :], '-r', label='temps'); axs[2].grid(True)\n",
    "axs[3].plot(rff_sp_array[:], '*', label='rff sps IDX'); axs[3].grid(True)\n",
    "\n",
    "axs[0].legend()  ; axs[1].legend(); axs[2].legend() ; axs[3].legend()\n"
   ]
  },
  {
   "cell_type": "code",
   "execution_count": null,
   "metadata": {},
   "outputs": [],
   "source": [
    "rff_sp_array[:]"
   ]
  },
  {
   "cell_type": "markdown",
   "metadata": {},
   "source": [
    "---"
   ]
  },
  {
   "cell_type": "markdown",
   "metadata": {},
   "source": [
    "<span style=\"font-size: 32pt; font-family: 'Times New Roman'; color: red; \"> Check sampling <mark>randomness</mark>  </span> "
   ]
  },
  {
   "cell_type": "code",
   "execution_count": null,
   "metadata": {},
   "outputs": [],
   "source": [
    "# nsamps = 9999 \n",
    "# nsims = 2237\n",
    "# rng = np.random.default_rng(1234)\n",
    "# if nsamps > nsims:\n",
    "# \trun_idx = np.arange(nsims)\n",
    "# \tsample_idx = rng.choice(nsims, nsamps, nsamps>nsims)\n",
    "# else:\n",
    "# \trun_idx = rng.choice(nsims, nsamps, nsamps>nsims)\n",
    "# \tsample_idx = np.arange(nsamps)\n"
   ]
  },
  {
   "cell_type": "code",
   "execution_count": null,
   "metadata": {},
   "outputs": [],
   "source": [
    "# plt.plot(sample_idx,'.')\n",
    "# sample_idx.unique"
   ]
  },
  {
   "cell_type": "code",
   "execution_count": null,
   "metadata": {},
   "outputs": [],
   "source": [
    "# index_counts = np.bincount(sample_idx, minlength=nsims)\n",
    "# print(\"Index counts:\", index_counts)"
   ]
  },
  {
   "cell_type": "markdown",
   "metadata": {},
   "source": [
    "---"
   ]
  },
  {
   "cell_type": "markdown",
   "metadata": {},
   "source": [
    "<span style=\"font-size: 32pt; font-family: 'Times New Roman'; color: red; \"> Gas Species   </span> "
   ]
  },
  {
   "cell_type": "code",
   "execution_count": null,
   "metadata": {},
   "outputs": [],
   "source": [
    "species = [\n",
    "    'CO2|MAGICC Fossil and Industrial', 'CO2|MAGICC AFOLU', 'CH4', 'N2O', 'Sulfur', 'CO', \n",
    "    'VOC', 'NOx', 'BC', '|OC', 'NH3', 'CF4', 'C2F6', 'C6F14', 'HFC23', 'HFC32', \n",
    "    'HFC4310mee', 'HFC125', 'HFC134a', 'HFC143a', 'HFC227ea', 'HFC245fa', 'SF6', \n",
    "    'CFC11', 'CFC12', 'CFC113', 'CFC114', 'CFC115', 'CCl4', 'CH3CCl3', 'HCFC22', \n",
    "    'HCFC141b', 'HCFC142b', 'Halon1211', 'Halon1202', 'Halon1301', 'Halon2402', \n",
    "    'CH3Br', '|CH3Cl'\n",
    "]\n",
    "\n",
    "list_of_emissions_species = [\n",
    "    'CO2_Fossil', 'CO2_Land', 'CH4', 'N2O', 'SOx', 'CO', 'NMVOC', 'NOx', 'BC', 'OC', 'NH3',\n",
    "    'CF4', 'C2F6', 'C6F14', 'HFC23', 'HFC32', 'HFC4310mee', 'HFC125', 'HFC134a', 'HFC143a',\n",
    "    'HFC227ea', 'HFC245fa', 'SF6', 'CFC11', 'CFC12', 'CFC113', 'CFC114', 'CFC115', \n",
    "    'CARB_TET', 'MCF', 'HCFC22', 'HCFC141b', 'HCFC142b', 'Halon1211', 'Halon1202', \n",
    "    'Halon1301', 'Halon2402', 'CH3Br', 'CH3Cl'\n",
    "]\n",
    "\n",
    "# Ensure both lists are of the same length\n",
    "assert len(species) == len(list_of_emissions_species), \"Lists must be of the same length\"\n",
    "\n",
    "# Generate the markdown table\n",
    "table_md = \"| Index | Species                               | Emissions Species     |\\n\"\n",
    "table_md += \"|-------|---------------------------------------|------------------------|\\n\"\n",
    "for i, (sp, es) in enumerate(zip(species, list_of_emissions_species)):\n",
    "    table_md += f\"| {i+1}     | {sp:<35} | {es:<20} |\\n\"\n",
    "\n",
    "# Print the markdown table\n",
    "print(table_md)\n",
    "\n",
    "# Display the total count\n",
    "print(f\"\\n**Total species count: {len(species)}**\")\n"
   ]
  },
  {
   "cell_type": "markdown",
   "metadata": {},
   "source": [
    "##### Full list"
   ]
  },
  {
   "cell_type": "code",
   "execution_count": null,
   "metadata": {},
   "outputs": [],
   "source": [
    "variables = [\n",
    "    'Emissions|BC', 'Emissions|CH4', 'Emissions|CO', 'Emissions|CO2',\n",
    "    'Emissions|CO2|MAGICC AFOLU', 'Emissions|CO2|MAGICC Fossil and Industrial',\n",
    "    'Emissions|F-Gases|HFC|HFC125', 'Emissions|F-Gases|HFC|HFC134a',\n",
    "    'Emissions|F-Gases|HFC|HFC143a', 'Emissions|F-Gases|HFC|HFC227ea',\n",
    "    'Emissions|F-Gases|HFC|HFC23', 'Emissions|F-Gases|HFC|HFC245fa',\n",
    "    'Emissions|F-Gases|HFC|HFC32', 'Emissions|F-Gases|HFC|HFC4310mee',\n",
    "    'Emissions|F-Gases|PFC|C2F6', 'Emissions|F-Gases|PFC|C6F14',\n",
    "    'Emissions|F-Gases|PFC|CF4', 'Emissions|F-Gases|SF6',\n",
    "    'Emissions|Montreal Gases|CCl4', 'Emissions|Montreal Gases|CFC|CFC11',\n",
    "    'Emissions|Montreal Gases|CFC|CFC113', 'Emissions|Montreal Gases|CFC|CFC114',\n",
    "    'Emissions|Montreal Gases|CFC|CFC115', 'Emissions|Montreal Gases|CFC|CFC12',\n",
    "    'Emissions|Montreal Gases|CH3Br', 'Emissions|Montreal Gases|CH3CCl3',\n",
    "    'Emissions|Montreal Gases|CH3Cl', 'Emissions|Montreal Gases|HCFC141b',\n",
    "    'Emissions|Montreal Gases|HCFC142b', 'Emissions|Montreal Gases|HCFC22',\n",
    "    'Emissions|Montreal Gases|Halon1202', 'Emissions|Montreal Gases|Halon1211',\n",
    "    'Emissions|Montreal Gases|Halon1301', 'Emissions|Montreal Gases|Halon2402',\n",
    "    'Emissions|N2O', 'Emissions|NH3', 'Emissions|NOx', 'Emissions|OC',\n",
    "    'Emissions|Sulfur', 'Emissions|VOC', 'Emissions|BC|MAGICC AFOLU',\n",
    "    'Emissions|BC|MAGICC AFOLU|Agricultural Waste Burning',\n",
    "    'Emissions|BC|MAGICC AFOLU|Agriculture', 'Emissions|BC|MAGICC AFOLU|Forest Burning',\n",
    "    'Emissions|BC|MAGICC AFOLU|Grassland Burning', 'Emissions|BC|MAGICC AFOLU|Peat Burning',\n",
    "    'Emissions|BC|MAGICC Fossil and Industrial', 'Emissions|BC|MAGICC Fossil and Industrial|Aircraft',\n",
    "    'Emissions|BC|MAGICC Fossil and Industrial|Energy Sector',\n",
    "    'Emissions|BC|MAGICC Fossil and Industrial|Industrial Sector',\n",
    "    'Emissions|BC|MAGICC Fossil and Industrial|International Shipping',\n",
    "    'Emissions|BC|MAGICC Fossil and Industrial|Residential Commercial Other',\n",
    "    'Emissions|BC|MAGICC Fossil and Industrial|Solvents Production and Application',\n",
    "    'Emissions|BC|MAGICC Fossil and Industrial|Transportation Sector',\n",
    "    'Emissions|BC|MAGICC Fossil and Industrial|Waste', 'Emissions|CH4|MAGICC AFOLU',\n",
    "    'Emissions|CH4|MAGICC AFOLU|Agricultural Waste Burning',\n",
    "    'Emissions|CH4|MAGICC AFOLU|Agriculture', 'Emissions|CH4|MAGICC AFOLU|Forest Burning',\n",
    "    'Emissions|CH4|MAGICC AFOLU|Grassland Burning', 'Emissions|CH4|MAGICC AFOLU|Peat Burning',\n",
    "    'Emissions|CH4|MAGICC Fossil and Industrial',\n",
    "    'Emissions|CH4|MAGICC Fossil and Industrial|Energy Sector',\n",
    "    'Emissions|CH4|MAGICC Fossil and Industrial|Industrial Sector',\n",
    "    'Emissions|CH4|MAGICC Fossil and Industrial|International Shipping',\n",
    "    'Emissions|CH4|MAGICC Fossil and Industrial|Residential Commercial Other',\n",
    "    'Emissions|CH4|MAGICC Fossil and Industrial|Solvents Production and Application',\n",
    "    'Emissions|CH4|MAGICC Fossil and Industrial|Transportation Sector',\n",
    "    'Emissions|CH4|MAGICC Fossil and Industrial|Waste',\n",
    "    'Emissions|CO2|MAGICC Fossil and Industrial|Aircraft',\n",
    "    'Emissions|CO2|MAGICC Fossil and Industrial|Energy Sector',\n",
    "    'Emissions|CO2|MAGICC Fossil and Industrial|Industrial Sector',\n",
    "    'Emissions|CO2|MAGICC Fossil and Industrial|International Shipping',\n",
    "    'Emissions|CO2|MAGICC Fossil and Industrial|Residential Commercial Other',\n",
    "    'Emissions|CO2|MAGICC Fossil and Industrial|Solvents Production and Application',\n",
    "    'Emissions|CO2|MAGICC Fossil and Industrial|Transportation Sector',\n",
    "    'Emissions|CO2|MAGICC Fossil and Industrial|Waste', 'Emissions|CO|MAGICC AFOLU',\n",
    "    'Emissions|CO|MAGICC AFOLU|Agricultural Waste Burning',\n",
    "    'Emissions|CO|MAGICC AFOLU|Agriculture', 'Emissions|CO|MAGICC AFOLU|Forest Burning',\n",
    "    'Emissions|CO|MAGICC AFOLU|Grassland Burning', 'Emissions|CO|MAGICC AFOLU|Peat Burning',\n",
    "    'Emissions|CO|MAGICC Fossil and Industrial', 'Emissions|CO|MAGICC Fossil and Industrial|Aircraft',\n",
    "    'Emissions|CO|MAGICC Fossil and Industrial|Energy Sector',\n",
    "    'Emissions|CO|MAGICC Fossil and Industrial|Industrial Sector',\n",
    "    'Emissions|CO|MAGICC Fossil and Industrial|International Shipping',\n",
    "    'Emissions|CO|MAGICC Fossil and Industrial|Residential Commercial Other',\n",
    "    'Emissions|CO|MAGICC Fossil and Industrial|Solvents Production and Application',\n",
    "    'Emissions|CO|MAGICC Fossil and Industrial|Transportation Sector',\n",
    "    'Emissions|CO|MAGICC Fossil and Industrial|Waste', 'Emissions|F-Gases|HFC|HFC152a',\n",
    "    'Emissions|F-Gases|HFC|HFC236fa', 'Emissions|F-Gases|HFC|HFC365mfc', 'Emissions|F-Gases|NF3',\n",
    "    'Emissions|F-Gases|PFC|C3F8', 'Emissions|F-Gases|PFC|C4F10', 'Emissions|F-Gases|PFC|C5F12',\n",
    "    'Emissions|F-Gases|PFC|C7F16', 'Emissions|F-Gases|PFC|C8F18', 'Emissions|F-Gases|PFC|cC4F8',\n",
    "    'Emissions|F-Gases|SO2F2', 'Emissions|Montreal Gases|CH2Cl2', 'Emissions|Montreal Gases|CHCl3',\n",
    "    'Emissions|N2O|MAGICC AFOLU', 'Emissions|N2O|MAGICC Fossil and Industrial',\n",
    "    'Emissions|NH3|MAGICC AFOLU', 'Emissions|NH3|MAGICC AFOLU|Agricultural Waste Burning',\n",
    "    'Emissions|NH3|MAGICC AFOLU|Agriculture', 'Emissions|NH3|MAGICC AFOLU|Forest Burning',\n",
    "    'Emissions|NH3|MAGICC AFOLU|Grassland Burning', 'Emissions|NH3|MAGICC AFOLU|Peat Burning',\n",
    "    'Emissions|NH3|MAGICC Fossil and Industrial', 'Emissions|NH3|MAGICC Fossil and Industrial|Aircraft',\n",
    "    'Emissions|NH3|MAGICC Fossil and Industrial|Energy Sector',\n",
    "    'Emissions|NH3|MAGICC Fossil and Industrial|Industrial Sector',\n",
    "    'Emissions|NH3|MAGICC Fossil and Industrial|International Shipping',\n",
    "    'Emissions|NH3|MAGICC Fossil and Industrial|Residential Commercial Other',\n",
    "    'Emissions|NH3|MAGICC Fossil and Industrial|Solvents Production and Application',\n",
    "    'Emissions|NH3|MAGICC Fossil and Industrial|Transportation Sector',\n",
    "    'Emissions|NH3|MAGICC Fossil and Industrial|Waste', 'Emissions|NOx|MAGICC AFOLU',\n",
    "    'Emissions|NOx|MAGICC AFOLU|Agricultural Waste Burning',\n",
    "    'Emissions|NOx|MAGICC AFOLU|Agriculture', 'Emissions|NOx|MAGICC AFOLU|Forest Burning',\n",
    "    'Emissions|NOx|MAGICC AFOLU|Grassland Burning', 'Emissions|NOx|MAGICC AFOLU|Peat Burning',\n",
    "    'Emissions|NOx|MAGICC Fossil and Industrial', 'Emissions|NOx|MAGICC Fossil and Industrial|Aircraft',\n",
    "]\n",
    "\n",
    "# Generate the markdown table\n",
    "table_md = \"| Index | Variable                             |\\n\"\n",
    "table_md += \"|-------|--------------------------------------|\\n\"\n",
    "\n",
    "for i, var in enumerate(variables):\n",
    "    table_md += f\"| {i}     | {var} |\\n\"\n",
    "\n",
    "# Print the markdown table\n",
    "print(table_md)"
   ]
  }
 ],
 "metadata": {
  "kernelspec": {
   "display_name": "fair_env",
   "language": "python",
   "name": "python3"
  },
  "language_info": {
   "codemirror_mode": {
    "name": "ipython",
    "version": 3
   },
   "file_extension": ".py",
   "mimetype": "text/x-python",
   "name": "python",
   "nbconvert_exporter": "python",
   "pygments_lexer": "ipython3",
   "version": "3.12.3"
  }
 },
 "nbformat": 4,
 "nbformat_minor": 2
}
