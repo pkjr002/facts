{
 "cells": [
  {
   "cell_type": "markdown",
   "metadata": {},
   "source": [
    "# <font color=black> =============================================== </font>\n",
    "#### <font color=blue> EXTRACT <font color=red> **NEW** </font> **location.lst** file </font>"
   ]
  },
  {
   "cell_type": "code",
   "execution_count": 1,
   "metadata": {},
   "outputs": [],
   "source": [
    "import tarfile\n",
    "#\n",
    "path='/scratch/pk695/FACTS/002_fork/facts/JupNbk/000_pk-JupNb_TESTspace/2023-01_NZ_INSAR/NZ_location.lst/New_location.lst/'\n",
    "filename='newGPS.tar.gz'\n",
    "#\n",
    "with tarfile.open(path+filename, \"r:gz\") as tar:\n",
    "    tar.extractall(\"XtractD_files_\"+filename.split('.')[0].split('_')[0])"
   ]
  },
  {
   "cell_type": "code",
   "execution_count": 2,
   "metadata": {},
   "outputs": [
    {
     "name": "stdout",
     "output_type": "stream",
     "text": [
      "total 1459\r\n",
      "drwxr-xr-x 2 pk695 pk695   4096 Feb 13 18:31 .\r\n",
      "drwxr-xr-x 3 pk695 pk695   4096 Feb 16 11:39 ..\r\n",
      "-rw-r--r-- 1 pk695 pk695    185 Feb 13 18:31 cre8DATA.sh\r\n",
      "-rw-r--r-- 1 pk695 pk695    120 Feb 13 17:28 ._.DS_Store\r\n",
      "-rw-r--r-- 1 pk695 pk695   6148 Feb 13 17:28 .DS_Store\r\n",
      "-rw------- 1 pk695 pk695    227 Feb 13 18:31 ._NZ_2km.txt\r\n",
      "-rw------- 1 pk695 pk695 613613 Feb 13 18:31 NZ_2km.txt\r\n",
      "-rw-r--r-- 1 pk695 pk695 213896 Feb 13 18:31 NZInsarGPS1_verticallandmotion_preprocess_data.tgz\r\n",
      "-rw------- 1 pk695 pk695    227 Feb 14 13:52 ._NZ_with_islands_VLM-v2.txt\r\n",
      "-rw------- 1 pk695 pk695 613613 Feb 14 13:52 NZ_with_islands_VLM-v2.txt\r\n"
     ]
    }
   ],
   "source": [
    "#\n",
    "XtractD_folder=path+\"XtractD_files_\"+filename.split('.')[0].split('_')[0]\n",
    "!ls -la $XtractD_folder*/* #shows data within subfolders."
   ]
  },
  {
   "cell_type": "markdown",
   "metadata": {},
   "source": [
    "# <font color=black>==============================================================</font>\n",
    "# <font color=blue> RE-Create <font color=red> **location.lst** </font> for NZInsarGPS1 module </font>"
   ]
  },
  {
   "cell_type": "code",
   "execution_count": 5,
   "metadata": {},
   "outputs": [],
   "source": [
    "import numpy as np\n",
    "import re\n",
    "\n",
    "# Initialize lists to hold data\n",
    "qfmin = 5\n",
    "iDs = []\n",
    "lats = []\n",
    "lons = []\n",
    "vlm_rates = []\n",
    "sigmas = []\n",
    "npts = []\n",
    "qfs = []\n",
    "mndist = []\n",
    "\n",
    "FILENAME  = 'NZ_with_islands_VLM-v2.txt'\n",
    "PATH      ='/scratch/pk695/FACTS/002_fork/facts/JupNbk/000_pk-JupNb_TESTspace/2023-01_NZ_INSAR/NZ_location.lst/New_location.lst/XtractD_files_newGPS/newGPS/'\n",
    "\n",
    "# Name of the VLM data file\n",
    "with open(PATH+FILENAME, 'r') as f:\n",
    "\n",
    "    # Skip the header line\n",
    "    line = f.readline()\n",
    "\n",
    "    # Loop through the lines\n",
    "    for line in f:\n",
    "\n",
    "        # Strip the white space off the end of the line\n",
    "        line.rstrip()\n",
    "\n",
    "        # Get the pieces of data from the line\n",
    "        lp = re.split(\"\\s+\", line)\n",
    "\n",
    "        # Assign the data to their respective lists\n",
    "        this_qf = float(lp[6])\n",
    "        if(this_qf <= qfmin):\n",
    "            iDs.append(float(lp[0]))\n",
    "            lons.append(float(lp[1]))\n",
    "            lats.append(float(lp[2]))\n",
    "            vlm_rates.append(float(lp[3]))\n",
    "            sigmas.append(float(lp[4]))\n",
    "            npts.append(float(lp[5]))\n",
    "            qfs.append(this_qf)\n",
    "            mndist.append(float(lp[7]))\n",
    "\n",
    "# Convert lists to numpy arrays\n",
    "iDs = np.array(iDs)\n",
    "lons = np.array(lons)\n",
    "lats = np.array(lats)\n",
    "vlm_rates = np.array(vlm_rates)\n",
    "sigmas = np.array(sigmas)\n",
    "npts = np.array(npts)\n",
    "qfs = np.array(qfs)\n",
    "mndist = np.array(mndist)"
   ]
  },
  {
   "cell_type": "code",
   "execution_count": null,
   "metadata": {},
   "outputs": [],
   "source": []
  },
  {
   "cell_type": "code",
   "execution_count": 6,
   "metadata": {},
   "outputs": [],
   "source": [
    "# save the file as txt file with NAME and ID (match location.lst)\n",
    "#\n",
    "with open(\"latlon_basedON_NZ_with_islands_VLM-v2_.txt\", \"w\") as file:\n",
    "    count = 3000000000\n",
    "    for i in range(len(lats)):\n",
    "        lat_r = round(lats[i], 1)\n",
    "        lon_r = round(lons[i], 1)\n",
    "        grid_lat_lon = \"grid_{}_{}\".format(lat_r,lon_r)\n",
    "        file.write(grid_lat_lon + \"\\t\" + str(count) + \"\\t\" + str(lats[i]) + \"\\t\" + str(lons[i]) + \"\\n\")\n",
    "        count += 10"
   ]
  },
  {
   "cell_type": "markdown",
   "metadata": {},
   "source": [
    "#### <font color=black> -----------------------> </font>\n",
    "#### <font color=blue> PLOT <font color=red> **ALL LOCATIONS** </font>"
   ]
  },
  {
   "cell_type": "code",
   "execution_count": 9,
   "metadata": {
    "scrolled": true
   },
   "outputs": [
    {
     "data": {
      "image/png": "[encoded data removed]",
      "text/plain": [
       "<Figure size 640x480 with 1 Axes>"
      ]
     },
     "metadata": {},
     "output_type": "display_data"
    }
   ],
   "source": [
    "import pandas as pd\n",
    "import matplotlib.pyplot as plt\n",
    "from mpl_toolkits.basemap import Basemap\n",
    "\n",
    "# longitude = d_nc['lon'].to_dataframe().values.tolist()\n",
    "# latitude = d_nc['lat'].to_dataframe().values.tolist()\n",
    "\n",
    "longitude = lons\n",
    "latitude  = lats\n",
    "\n",
    "# Latitude and longitude values for NZ\n",
    "min_lon = 155.0\n",
    "max_lon = 190.0\n",
    "min_lat = -50.0\n",
    "max_lat = -30.0\n",
    "\n",
    "# Create the map\n",
    "m = Basemap(projection='merc', llcrnrlat=min_lat, urcrnrlat=max_lat, llcrnrlon=min_lon, urcrnrlon=max_lon, resolution='c')\n",
    "m.drawcoastlines()\n",
    "m.fillcontinents(color='lightgray', lake_color='lightblue')\n",
    "m.scatter(longitude, latitude, latlon=True, marker='.', color='red', zorder=5)\n",
    "\n",
    "plt.title(\"Latitude and Longitude Plot\")\n",
    "\n",
    "\n",
    "plt.show()"
   ]
  },
  {
   "cell_type": "markdown",
   "metadata": {},
   "source": [
    "# <font color=black>==============================================================</font>\n",
    "# <font color=blue> CPMPARE <font color=red> **location.lst** </font>  </font>"
   ]
  },
  {
   "cell_type": "code",
   "execution_count": null,
   "metadata": {
    "scrolled": true
   },
   "outputs": [],
   "source": [
    "# # with open(\"latlon.txt\", \"r\") as file1, open(\"latlon_basedON_2kmNZInsar_IPdata_.txt\", \"r\") as file2:\n",
    "# with open(\"latlon_basedON_gregNZ_OP_.txt\", \"r\") as file1, open(\"latlon_basedON_2kmNZInsar_IPdata_.txt\", \"r\") as file2:\n",
    "#     file1_contents = file1.read()\n",
    "#     file2_contents = file2.read()\n",
    "#     if file1_contents == file2_contents:\n",
    "#         print(\"The files are the same.\")\n",
    "#     else:\n",
    "#         print(\"The files are different.\")"
   ]
  }
 ],
 "metadata": {
  "kernelspec": {
   "display_name": "Python [conda env:plot] *",
   "language": "python",
   "name": "conda-env-plot-py"
  },
  "language_info": {
   "codemirror_mode": {
    "name": "ipython",
    "version": 3
   },
   "file_extension": ".py",
   "mimetype": "text/x-python",
   "name": "python",
   "nbconvert_exporter": "python",
   "pygments_lexer": "ipython3",
   "version": "3.9.15"
  },
  "vscode": {
   "interpreter": {
    "hash": "adc634733d73b0796380be3dda2ecd8c29414439860d566d764cbd379022a65e"
   }
  }
 },
 "nbformat": 4,
 "nbformat_minor": 2
}
