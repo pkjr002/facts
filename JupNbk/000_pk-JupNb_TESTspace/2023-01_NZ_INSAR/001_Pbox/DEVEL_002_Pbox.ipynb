{
 "cells": [
  {
   "attachments": {},
   "cell_type": "markdown",
   "metadata": {},
   "source": [
    "### <font color=black> IMPORT:: <font color=blue> **py modules** </font> </font>"
   ]
  },
  {
   "cell_type": "code",
   "execution_count": null,
   "metadata": {},
   "outputs": [],
   "source": [
    "import numpy as np\n",
    "import pandas as pd\n",
    "import xarray as xr\n",
    "from mpl_toolkits.basemap import Basemap\n",
    "import glob\n",
    "import os\n",
    "import shutil\n",
    "import re\n",
    "import cartopy\n",
    "import matplotlib.ticker as mticker\n",
    "import matplotlib.pyplot as plt\n",
    "%matplotlib inline\n",
    "#\n",
    "PD=os.getcwd(); PD\n"
   ]
  },
  {
   "cell_type": "code",
   "execution_count": null,
   "metadata": {},
   "outputs": [],
   "source": [
    "# Function block\n",
    "\n",
    "# +++++++++++++++++++++++++++++++++++++++++\n",
    "# create folder with JnB dir.\n",
    "def FOcr8(folder_name,subfolder_name=None,subsubfolder_name=None):\n",
    "# I/P: folder_name = '000_full_sample_components'\n",
    "    folder_path = os.path.join(PD, folder_name)\n",
    "    if os.path.exists(folder_path): shutil.rmtree(folder_path)\n",
    "    os.mkdir(folder_path)\n",
    "    # SUB Folder\n",
    "    if subfolder_name is not None:\n",
    "        subfolder_path = os.path.join(folder_path, subfolder_name)\n",
    "        if os.path.exists(subfolder_path): shutil.rmtree(subfolder_path)\n",
    "        os.mkdir(subfolder_path)\n",
    "        # Sub Sub Folder\n",
    "        if subsubfolder_name is not None:\n",
    "            subsubfolder_path = os.path.join(subfolder_path, subsubfolder_name)\n",
    "            if os.path.exists(subsubfolder_path): shutil.rmtree(subsubfolder_path)\n",
    "            os.mkdir(subsubfolder_path)\n",
    "            #\n",
    "            return folder_path, subfolder_path, subsubfolder_path   \n",
    "            #\n",
    "        return folder_path, subfolder_path\n",
    "    else:\n",
    "        return folder_path\n",
    "# ^^^\n",
    "\n",
    "# +++++++++++++++++++++++++++++++++++++++++\n",
    "# Copy all files to the FOLDER\n",
    "def cp(source_dir,destination_dir,pattern):\n",
    "    # source_dir = expF\n",
    "    # destination_dir = folder_path\n",
    "    source_file_pattern = os.path.join(source_dir, pattern)\n",
    "    matching_files = glob.glob(source_file_pattern)\n",
    "    for file_path in matching_files:\n",
    "        shutil.copy2(file_path, destination_dir)\n",
    "# ^^^   \n",
    "# \n",
    "# \n",
    "# ++++++++++++++++++++++++++++++++++++\n",
    "def fileNAME(patH,name,name1):\n",
    "    folder_path = patH\n",
    "    search_term = name   # replace with the word you want to search for\n",
    "    search_term1 = name1\n",
    "    file_pattern = f\"{folder_path}/*{search_term}*{search_term1}*\"  # create a pattern to match files containing the search term\n",
    "    matching_files = glob.glob(file_pattern)\n",
    "    if len(matching_files)>1: \n",
    "        raise ValueError(\"There are 2 files with same keyword\")\n",
    "    fnme = os.path.basename(matching_files[0])\n",
    "    return fnme\n",
    "#      \n",
    "#\n",
    "#\n",
    "#\n",
    "def fileNAME1(folder_path,search_term, search_term1, search_term2):\n",
    "    matching_files = []\n",
    "    for file_path in glob.glob(f\"{folder_path}/*\"):\n",
    "        file_name = os.path.basename(file_path)\n",
    "        if all(term in file_name for term in [search_term, search_term1, search_term2]):\n",
    "            matching_files.append(file_path)\n",
    "    if len(matching_files) > 1:\n",
    "        raise ValueError(\"There are 2 or more files with the same keyword\")\n",
    "    fnme = os.path.basename(matching_files[0])\n",
    "    return fnme\n"
   ]
  },
  {
   "attachments": {},
   "cell_type": "markdown",
   "metadata": {},
   "source": [
    "---\n",
    "## <font color=red> Generate:: 000_Full_sample_components  </font>\n",
    "---\n",
    "- need to loop over scenario\n"
   ]
  },
  {
   "cell_type": "code",
   "execution_count": null,
   "metadata": {},
   "outputs": [],
   "source": [
    "# get access to all the ssp's. \n",
    "ssp=[119,126,245,370,585]\n",
    "nn=ssp[0]\n",
    "# expF=\"/scratch/pk695/FACTS/002_fork/facts/experimentsNZ/nzOG/nzOG.ssp{arg0}/output_global_ssp{arg0}\".format(arg0=nn)\n",
    "expF=\"/scratch/pk695/FACTS/002_fork/facts/experiments.TEST/coupling/coupling.ssp585/output\"\n",
    "file_list = os.listdir(expF)\n",
    "# for file_name in file_list:\n",
    "#     print(file_name)\n",
    "#\n",
    "# Create a folder\n",
    "folder_path= FOcr8(\"000_full_sample_components\")\n",
    "# Copy files to folder\n",
    "# cp(expF,folder_path,'*.nc')\n"
   ]
  },
  {
   "attachments": {},
   "cell_type": "markdown",
   "metadata": {},
   "source": [
    "---\n",
    "## <font color=red> Generate:: 000_Full_sample_WORKFLOWS  </font>\n",
    "---"
   ]
  },
  {
   "cell_type": "code",
   "execution_count": null,
   "metadata": {},
   "outputs": [],
   "source": [
    "# Create a folder\n",
    "folder_path, subfolder_path , subsubfolder_path = FOcr8(\"000_full_sample_workflows\",\"wf_1e\",\"ssp585\")\n",
    "\n",
    "for wf0,wf1 in enumerate(workflow):\n",
    "    if wf1==\"wf1f\":\n",
    "        search_wf=wf1f[0]; search_ssp = \"ssp585\" # needs to loop over ssp. \n",
    "        file=fileNAME1(expF,search_wf, search_ssp, \"global\")\n",
    "        \n",
    "         \n",
    "    \n",
    "# ^^        "
   ]
  },
  {
   "cell_type": "code",
   "execution_count": null,
   "metadata": {},
   "outputs": [],
   "source": [
    "wf1f[0]"
   ]
  },
  {
   "cell_type": "code",
   "execution_count": null,
   "metadata": {},
   "outputs": [],
   "source": [
    "wf1f[1]\n"
   ]
  },
  {
   "cell_type": "code",
   "execution_count": null,
   "metadata": {},
   "outputs": [],
   "source": [
    "source_dir"
   ]
  },
  {
   "cell_type": "code",
   "execution_count": null,
   "metadata": {},
   "outputs": [],
   "source": [
    "# Workflow Components.\n",
    "wf1f     = ['GrIS1f.FittedISMIP.GrIS_GIS', 'ipccar5.icesheets_AIS', 'ipccar5.glaciers']\n",
    "wf2f     = ['GrIS1f.FittedISMIP.GrIS_GIS', 'larmip.AIS', 'ipccar5.glaciers']\n",
    "wf3f     = ['GrIS1f.FittedISMIP.GrIS_GIS', 'deconto21.AIS_ AIS', 'ipccar5.glaciers']\n",
    "wf4      = ['bamber19.icesheets_GIS', 'bamber19.icesheets_AIS', 'ipccar5.glaciers']\n",
    "#\n",
    "workflow = [\"wf1f\",\"wf2f\",\"wf3f\",\"wf4\"]"
   ]
  }
 ],
 "metadata": {
  "kernelspec": {
   "display_name": "plot",
   "language": "python",
   "name": "python3"
  },
  "language_info": {
   "codemirror_mode": {
    "name": "ipython",
    "version": 3
   },
   "file_extension": ".py",
   "mimetype": "text/x-python",
   "name": "python",
   "nbconvert_exporter": "python",
   "pygments_lexer": "ipython3",
   "version": "3.9.15"
  }
 },
 "nbformat": 4,
 "nbformat_minor": 2
}
