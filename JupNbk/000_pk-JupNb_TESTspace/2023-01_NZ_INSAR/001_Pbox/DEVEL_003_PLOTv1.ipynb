{
 "cells": [
  {
   "cell_type": "markdown",
   "metadata": {},
   "source": [
    "<span style=\"font-size:24pt; color:black\">Notes</span>\n",
    "\n",
    "<ul style=\"font-size:16pt; color:black\">\n",
    "    <li>Generate pboxes for total projections (primary use case)</li>\n",
    "    <li>Generate pboxes for individual components (limited set of users)</li>\n",
    "</ul>"
   ]
  },
  {
   "cell_type": "markdown",
   "metadata": {},
   "source": [
    "---"
   ]
  },
  {
   "cell_type": "code",
   "execution_count": 1,
   "metadata": {},
   "outputs": [],
   "source": [
    "import fun_plot as fn"
   ]
  },
  {
   "attachments": {},
   "cell_type": "markdown",
   "metadata": {},
   "source": [
    "---\n",
    "##### <font color=blue> IP:: Load Data  </font>\n",
    "---"
   ]
  },
  {
   "cell_type": "code",
   "execution_count": 2,
   "metadata": {},
   "outputs": [],
   "source": [
    "loc=0\n",
    "#\n",
    "path='/scratch/pk695/FACTS/002_fork/facts/JupNbk/000_pk-JupNb_TESTspace/2023-01_NZ_INSAR/001_Pbox/004_CI_files/medium_confidence/'\n",
    "sspDIR = [path+'ssp126/',path+'ssp585/']\n",
    "#\n",
    "# doscens = ['ssp126', 'ssp585']\n",
    "scentitles = ['SSP1-2.6', 'SSP5-8.5']"
   ]
  },
  {
   "cell_type": "markdown",
   "metadata": {},
   "source": [
    "---\n",
    "##### <font color=blue> PLOT::   </font>\n",
    "---"
   ]
  },
  {
   "cell_type": "code",
   "execution_count": 3,
   "metadata": {},
   "outputs": [],
   "source": [
    "import numpy as np    \n",
    "import xarray as xr\n",
    "import matplotlib.pyplot as plt\n",
    "import glob"
   ]
  },
  {
   "cell_type": "code",
   "execution_count": 4,
   "metadata": {},
   "outputs": [],
   "source": [
    "colors = {\n",
    "    'ssp119' : np.array([0, 173, 207]) / 255,\n",
    "    'ssp126' : np.array([23, 60, 102]) / 255,\n",
    "    'ssp245' : np.array([247, 148, 32]) / 255,\n",
    "    'ssp370' : np.array([149, 27, 30]) / 255,\n",
    "    'ssp585' : np.array([231, 29, 37]) / 255\n",
    "}"
   ]
  },
  {
   "cell_type": "code",
   "execution_count": 5,
   "metadata": {},
   "outputs": [],
   "source": [
    "# fig, axes = plt.subplots(1, 2, figsize=(12, 3)); \n",
    "# plt.subplots_adjust(wspace=0.4, hspace=0.2)\n",
    "# #\n",
    "# ssp=['ssp126','ssp585']\n",
    "# for ss0,ss1 in enumerate(ssp):\n",
    "#     #\n",
    "#     ax= axes[ss0]\n",
    "#     #\n",
    "#     path='/scratch/pk695/FACTS/002_fork/facts/JupNbk/000_pk-JupNb_TESTspace/2023-01_NZ_INSAR/001_Pbox/002_quant_workflows/'\n",
    "#     files=[path+f'wf_1e/{ss1}/coupling.{ss1}.emuAIS.emulandice.AIS_globalsl.nc',\n",
    "#            path+f'wf_2e/{ss1}/coupling.{ss1}.larmip.larmip.AIS_globalsl.nc',\n",
    "#            path+f'wf_3e/{ss1}/coupling.{ss1}.deconto21.deconto21.AIS_AIS_globalsl.nc',\n",
    "#            path+f'wf_4/{ss1}/coupling.{ss1}.bamber19.bamber19.icesheets_AIS_globalsl.nc']\n",
    "#     # files = glob.glob(sspDIR[0] + '/*.nc')\n",
    "#     sls     = np.empty((0, 0))\n",
    "#     Qvals   = np.empty((0, 0))\n",
    "#     label   = []\n",
    "#     #\n",
    "#     for fi0,fi1 in enumerate(files):\n",
    "#         #\n",
    "#         lab=fi1.split('/')[-1].split('.')[2]\n",
    "#         # ................................................................\n",
    "#         # Exract Data.\n",
    "#         dataset = xr.open_dataset(fi1)\n",
    "#         time    = dataset['years'].values\n",
    "#         subt    = np.where(time == 2100)[0][0]\n",
    "#         quant   = dataset['quantiles'].values\n",
    "#         subq    = np.where(np.isin(quant, [0.17,0.83]))[0]\n",
    "#         qlevs = np.arange(0.01, 1, 0.01)\n",
    "#         #\n",
    "#         sl      = dataset['sea_level_change'].values[:,subt,loc].T\n",
    "#         qvals   = np.percentile(sl, qlevs * 100)\n",
    "#         if sls.size == 0: \n",
    "#             sls = sl\n",
    "#             label=lab\n",
    "#             Qvals=qvals\n",
    "#         else: \n",
    "#             sls=np.vstack([sls,sl])\n",
    "#             label=np.vstack([label,lab])\n",
    "#             Qvals=np.vstack([Qvals,qvals])\n",
    "#         # ................................................................\n",
    "#     lws = [2, 2, 1, 1] * 2\n",
    "#     color_list = list(colors.values())[:5]; \n",
    "#     # ................................................................\n",
    "#     fnt=8\n",
    "#     for sss in range(4):\n",
    "#         xx=sls[sss,:]/1000\n",
    "#         xx1=sls[sss,subq]/1000\n",
    "#         yy=quant\n",
    "#         yy1 = [-0.05 * sss-0.05] * 2\n",
    "#         # ::::::::::::::::::::::::::::::::::::::::::::::::::::::::::::::::::::::::::::::::::::::::::::::::::::::::::::::\n",
    "#         current_color = color_list[sss]\n",
    "#         if sss < 2: linewidth = 3.5  \n",
    "#         else: linewidth = 1.5\n",
    "#         # ::::::::::::::::::::::::::::::::::::::::::::::::::::::::::::::::::::::::::::::::::::::::::::::::::::::::::::::\n",
    "#         # PLOT \n",
    "#         ax.plot(xx, yy, color=current_color, linewidth=linewidth,label=label[sss, 0])\n",
    "#         ax.plot(xx1,yy1,color=current_color, linewidth=linewidth)\n",
    "#         # hp, = ax.plot(Qvals[sss,:] / 1000, qlevs, color=current_color, linewidth=linewidth,label=label[sss, 0])\n",
    "#         # ax.plot(Qvals[sss,subq] / 1000, [-0.05 * sss] * 2, color=current_color, linewidth=linewidth)\n",
    "#         # ::::::::::::::::::::::::::::::::::::::::::::::::::::::::::::::::::::::::::::::::::::::::::::::::::::::::::::::\n",
    "#         # Set x-axis label and limits\n",
    "#         ax.set_xlabel('GMSL rise in 2100', fontsize=fnt+2)\n",
    "#         ax.set_ylabel('CDF quantile', fontsize=fnt+2)\n",
    "#         ax.set_xlim(-0.6, 3.5)\n",
    "#         ax.set_ylim(-0.25, 1.025)\n",
    "#         x_ticks= np.around(np.arange(-0.5, 3.6, .5), decimals=1); ax.set_xticks(x_ticks);  ax.set_xticklabels(x_ticks,fontsize=fnt, rotation=0)\n",
    "#         y_ticks= np.around(np.arange(0,1.1,0.2), decimals=1) ; ax.set_yticks(y_ticks);  ax.set_yticklabels(y_ticks,fontsize=fnt) \n",
    "#         ax.axhline(0, color='black', linestyle='-', linewidth=0.5)\n",
    "#         if ax==axes[0]: ax.legend() \n",
    "#     #\n",
    "# plt.show()"
   ]
  },
  {
   "cell_type": "markdown",
   "metadata": {},
   "source": [
    "<div style=\"background-color: black; padding: 10px; border: 2px solid white; font-weight: bold;\">\n",
    "    Plot panel1\n",
    "</div>"
   ]
  },
  {
   "cell_type": "code",
   "execution_count": 10,
   "metadata": {},
   "outputs": [
    {
     "data": {
      "image/png": "[encoded data removed]",
      "text/plain": [
       "<Figure size 1200x300 with 2 Axes>"
      ]
     },
     "metadata": {},
     "output_type": "display_data"
    }
   ],
   "source": [
    "fig, axes = plt.subplots(1, 2, figsize=(12, 3)); \n",
    "plt.subplots_adjust(wspace=0.4, hspace=0.2)\n",
    "#\n",
    "ssp=['ssp126','ssp585']\n",
    "for ss0,ss1 in enumerate(ssp):\n",
    "    #\n",
    "    ax= axes[ss0]\n",
    "    #\n",
    "    path='/scratch/pk695/FACTS/002_fork/facts/JupNbk/000_pk-JupNb_TESTspace/2023-01_NZ_INSAR/001_Pbox/002_quant_workflows/'\n",
    "    files=[path+f'wf_1e/{ss1}/coupling.{ss1}.emuAIS.emulandice.AIS_globalsl.nc',\n",
    "           path+f'wf_2e/{ss1}/coupling.{ss1}.larmip.larmip.AIS_globalsl.nc',\n",
    "           path+f'wf_3e/{ss1}/coupling.{ss1}.deconto21.deconto21.AIS_AIS_globalsl.nc',\n",
    "           path+f'wf_4/{ss1}/coupling.{ss1}.bamber19.bamber19.icesheets_AIS_globalsl.nc']\n",
    "    # files = glob.glob(sspDIR[0] + '/*.nc')\n",
    "    sls     = np.empty((0, 0))\n",
    "    Qvals   = np.empty((0, 0))\n",
    "    label   = []\n",
    "    #\n",
    "    for fi0,fi1 in enumerate(files):\n",
    "        #\n",
    "        lab=fi1.split('/')[-1].split('.')[2]\n",
    "        # ................................................................\n",
    "        # Exract Data.\n",
    "        dataset = xr.open_dataset(fi1)\n",
    "        time    = dataset['years'].values\n",
    "        subt    = np.where(time == 2100)[0][0]\n",
    "        # quant   = dataset['quantiles'].values\n",
    "        qlevs = np.arange(0.01, 1, 0.01)\n",
    "        # subq    = np.where(np.isin(qlevs, [0.17,0.83]))[0]\n",
    "        subq = np.where((np.around(qlevs,decimals=2) == 0.17) | (np.around(qlevs,decimals=2) == 0.83))[0]\n",
    "        #\n",
    "        sl      = dataset['sea_level_change'].values[:,subt,loc].T\n",
    "        qvals   = np.percentile(sl, qlevs * 100)\n",
    "        if sls.size == 0: \n",
    "            sls = sl\n",
    "            label=lab\n",
    "            Qvals=qvals\n",
    "        else: \n",
    "            sls=np.vstack([sls,sl])\n",
    "            label=np.vstack([label,lab])\n",
    "            Qvals=np.vstack([Qvals,qvals])\n",
    "    #\n",
    "    # P-box ................................\n",
    "    pbox1l = np.min(Qvals[:2, :], axis=0)\n",
    "    pbox1h = np.max(Qvals[:2, :], axis=0)\n",
    "    pbox2l = np.min(Qvals, axis=0)\n",
    "    pbox2h = np.max(Qvals, axis=0)\n",
    "    # ......................................\n",
    "    \n",
    "    ax.fill_betweenx(np.concatenate([qlevs,qlevs[::-1]]), np.concatenate([pbox2l, pbox2h[::-1]]) / 1000,  color=[0.8, 0.8, 1])\n",
    "    ax.fill_betweenx(np.concatenate([qlevs,qlevs[::-1]]), np.concatenate([pbox1l, pbox1h[::-1]]) / 1000,  color=[0.4, 0.4, 1])\n",
    "    \n",
    "    ax.plot([pbox2l[subq[0]] / 1000, pbox2h[subq[1]] / 1000], [-0.1, -0.1], color=[0.8, 0.8, 1], linewidth=6)\n",
    "    ax.plot([pbox1l[subq[0]] / 1000, pbox1h[subq[1]] / 1000], [-0.1, -0.1], color=[0.4, 0.4, 1], linewidth=6)\n",
    "    \n",
    "    ax.plot([0, 4], [0, 0], color='black', linestyle='-')\n",
    "    ax.set_xlim([-.5, 3.5])\n",
    "    ax.set_ylim([-0.25, 1])\n",
    "    ax.set_yticks(np.arange(0, 1.1, 0.2))\n",
    "    ax.set_xlabel('GMSL (m)')\n",
    "    ax.set_ylabel('quantile')\n",
    "    plt.box(on=True)\n",
    "plt.show()"
   ]
  }
 ],
 "metadata": {
  "kernelspec": {
   "display_name": "plot",
   "language": "python",
   "name": "python3"
  },
  "language_info": {
   "codemirror_mode": {
    "name": "ipython",
    "version": 3
   },
   "file_extension": ".py",
   "mimetype": "text/x-python",
   "name": "python",
   "nbconvert_exporter": "python",
   "pygments_lexer": "ipython3",
   "version": "3.9.15"
  }
 },
 "nbformat": 4,
 "nbformat_minor": 2
}
