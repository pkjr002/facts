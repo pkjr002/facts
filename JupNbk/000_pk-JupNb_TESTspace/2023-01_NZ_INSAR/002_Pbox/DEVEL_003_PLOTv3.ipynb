{
 "cells": [
  {
   "cell_type": "markdown",
   "metadata": {},
   "source": [
    "<span style=\"font-size:24pt; color:black\">Notes</span>\n",
    "\n",
    "<ul style=\"font-size:16pt; color:black\">\n",
    "    <li>Generate pboxes for individual components </li>\n",
    "</ul>"
   ]
  },
  {
   "cell_type": "markdown",
   "metadata": {},
   "source": [
    "---"
   ]
  },
  {
   "cell_type": "code",
   "execution_count": 1,
   "metadata": {},
   "outputs": [],
   "source": [
    "import fun_plot as fn\n",
    "#\n",
    "loc=0\n",
    "ssp=['ssp126','ssp585']\n",
    "fn.plot(loc,ssp)"
   ]
  }
 ],
 "metadata": {
  "kernelspec": {
   "display_name": "plot",
   "language": "python",
   "name": "python3"
  },
  "language_info": {
   "codemirror_mode": {
    "name": "ipython",
    "version": 3
   },
   "file_extension": ".py",
   "mimetype": "text/x-python",
   "name": "python",
   "nbconvert_exporter": "python",
   "pygments_lexer": "ipython3",
   "version": "3.9.15"
  }
 },
 "nbformat": 4,
 "nbformat_minor": 2
}
