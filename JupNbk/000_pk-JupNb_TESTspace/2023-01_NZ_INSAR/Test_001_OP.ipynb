{
 "cells": [
  {
   "attachments": {},
   "cell_type": "markdown",
   "metadata": {},
   "source": [
    "## <font color=blue> TEST the TASK NO <font color=green> _ _ _ </font> file </font>"
   ]
  },
  {
   "cell_type": "code",
   "execution_count": 11,
   "metadata": {},
   "outputs": [],
   "source": [
    "import pickle\n",
    "\n",
    "TASK = 'task.0006'\n",
    "PATH = '/scratch/pk695/radical.pilot.sandbox/re.session.amarel2.amarel.rutgers.edu.pk695.019394.0001/pilot.0000/{arg1}/'.format(arg1=TASK)\n",
    "#\n",
    "FILENAME1 = 'onemodule.ar5glaciers.ipccar5.glaciers_fit.pkl'\n",
    "FILENAME2 = 'onemodule.ar5glaciers.ipccar5.glaciers_data.pkl'\n",
    "#\n",
    "FILENAME = FILENAME1\n",
    "#\n",
    "# Load the contents of the .pkl file into a variable\n",
    "with open(PATH+FILENAME, 'rb') as file:\n",
    "    data = pickle.load(file)\n",
    "\n",
    "# Use the contents of the variable, for example:\n",
    "print(data)"
   ]
  },
  {
   "attachments": {},
   "cell_type": "markdown",
   "metadata": {},
   "source": [
    "# <font color=black> __________________________________________________________________________________________________ </font>\n",
    "# <font color=blue> Get <font color=green> **modules-data** </font> file details </font>"
   ]
  },
  {
   "attachments": {},
   "cell_type": "markdown",
   "metadata": {},
   "source": [
    "##### <font color=blue> Get the I/P  <font color=green> **ipccar5_glaciers_project_data.tgz** </font> file </font>"
   ]
  },
  {
   "cell_type": "code",
   "execution_count": 12,
   "metadata": {},
   "outputs": [],
   "source": [
    "import tarfile\n",
    "#\n",
    "PATH        = '/scratch/pk695/FACTS/002_fork/facts/modules-data/'\n",
    "FILENAME1   = 'ipccar5_icesheets_project_data.tgz'\n",
    "#\n",
    "with tarfile.open(PATH+FILENAME1, \"r:gz\") as tar:\n",
    "    tar.extractall(\"XtractD_files_\"+FILENAME1.split('.')[0].split('_')[0])\n"
   ]
  },
  {
   "attachments": {},
   "cell_type": "markdown",
   "metadata": {},
   "source": [
    "##### <font color=blue> Get the I/P  <font color=green> **NZInsarGPS_verticallandmotion_preprocess_data.tgz** </font> file </font>"
   ]
  },
  {
   "cell_type": "code",
   "execution_count": 13,
   "metadata": {},
   "outputs": [],
   "source": [
    "import tarfile\n",
    "#\n",
    "PATH        = '/scratch/pk695/FACTS/002_fork/facts/modules-data/'\n",
    "FILENAME1   = 'NZInsarGPS_verticallandmotion_preprocess_data.tgz'\n",
    "#\n",
    "with tarfile.open(PATH+FILENAME1, \"r:gz\") as tar:\n",
    "    tar.extractall(\"XtractD_files_\"+FILENAME1.split('.')[0].split('_')[0])\n",
    "\n"
   ]
  },
  {
   "attachments": {},
   "cell_type": "markdown",
   "metadata": {},
   "source": [
    "##### <font color=blue> Get the I/P  <font color=green> **extremesealevel_pointsoverthreshold_data.tgz** </font> file </font>"
   ]
  },
  {
   "cell_type": "code",
   "execution_count": 1,
   "metadata": {},
   "outputs": [],
   "source": [
    "import tarfile\n",
    "#\n",
    "PATH        = '/scratch/pk695/FACTS/002_fork/facts/modules-data/'\n",
    "FILENAME1   = 'extremesealevel_pointsoverthreshold_data.tgz'\n",
    "#\n",
    "with tarfile.open(PATH+FILENAME1, \"r:gz\") as tar:\n",
    "    tar.extractall(\"XtractD_files_\"+FILENAME1.split('.')[0].split('_')[0])\n",
    "\n"
   ]
  }
 ],
 "metadata": {
  "kernelspec": {
   "display_name": "plot",
   "language": "python",
   "name": "python3"
  },
  "language_info": {
   "codemirror_mode": {
    "name": "ipython",
    "version": 3
   },
   "file_extension": ".py",
   "mimetype": "text/x-python",
   "name": "python",
   "nbconvert_exporter": "python",
   "pygments_lexer": "ipython3",
   "version": "3.9.15"
  },
  "orig_nbformat": 4,
  "vscode": {
   "interpreter": {
    "hash": "adc634733d73b0796380be3dda2ecd8c29414439860d566d764cbd379022a65e"
   }
  }
 },
 "nbformat": 4,
 "nbformat_minor": 2
}
