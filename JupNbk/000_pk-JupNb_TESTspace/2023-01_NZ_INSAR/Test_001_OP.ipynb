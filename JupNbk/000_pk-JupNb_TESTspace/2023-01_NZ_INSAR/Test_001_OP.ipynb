{
 "cells": [
  {
   "attachments": {},
   "cell_type": "markdown",
   "metadata": {},
   "source": [
    "## <font color=blue> TEST the TASK NO <font color=green> **006** </font> file </font>"
   ]
  },
  {
   "cell_type": "code",
   "execution_count": 5,
   "metadata": {},
   "outputs": [
    {
     "name": "stdout",
     "output_type": "stream",
     "text": [
      "{'dmz': 0.008549999999999999, 'cvgl': 0.2, 'glmass': 0.3157, 'glparm': [{'name': 'GLIMB', 'factor': 2.3, 'exponent': 0.753, 'cvgl': 0.209}, {'name': 'GloGEM', 'factor': 2.77, 'exponent': 0.793, 'cvgl': 0.171}, {'name': 'JULES', 'factor': 3.57, 'exponent': 0.646, 'cvgl': 0.197}, {'name': 'Mar-12', 'factor': 3.31, 'exponent': 0.727, 'cvgl': 0.152}, {'name': 'OGGM', 'factor': 2.9, 'exponent': 0.791, 'cvgl': 0.177}, {'name': 'RAD2014', 'factor': 3.13, 'exponent': 0.788, 'cvgl': 0.147}, {'name': 'WAL2001', 'factor': 1.44, 'exponent': 0.852, 'cvgl': 0.208}]}\n"
     ]
    }
   ],
   "source": [
    "import pickle\n",
    "\n",
    "TASK = 'task.0006'\n",
    "PATH = '/scratch/pk695/radical.pilot.sandbox/re.session.amarel2.amarel.rutgers.edu.pk695.019394.0001/pilot.0000/{arg1}/'.format(arg1=TASK)\n",
    "FILENAME1 = 'onemodule.ar5glaciers.ipccar5.glaciers_fit.pkl'\n",
    "FILENAME2 = 'onemodule.ar5glaciers.ipccar5.glaciers_data.pkl'\n",
    "#\n",
    "FILENAME = FILENAME1\n",
    "#\n",
    "# Load the contents of the .pkl file into a variable\n",
    "with open(PATH+FILENAME, 'rb') as file:\n",
    "    data = pickle.load(file)\n",
    "\n",
    "# Use the contents of the variable, for example:\n",
    "print(data)"
   ]
  },
  {
   "attachments": {},
   "cell_type": "markdown",
   "metadata": {},
   "source": [
    "## <font color=blue> Get the I/P  <font color=green> **ipccar5_glaciers_project_data.tgz** </font> file </font>"
   ]
  },
  {
   "cell_type": "code",
   "execution_count": 6,
   "metadata": {},
   "outputs": [],
   "source": [
    "import tarfile\n",
    "#\n",
    "PATH        = '/scratch/pk695/FACTS/002_fork/facts/modules-data/'\n",
    "FILENAME1   = 'ipccar5_icesheets_project_data.tgz'\n",
    "#\n",
    "with tarfile.open(PATH+FILENAME1, \"r:gz\") as tar:\n",
    "    tar.extractall(\"extracted_files\")\n"
   ]
  }
 ],
 "metadata": {
  "kernelspec": {
   "display_name": "plot",
   "language": "python",
   "name": "python3"
  },
  "language_info": {
   "codemirror_mode": {
    "name": "ipython",
    "version": 3
   },
   "file_extension": ".py",
   "mimetype": "text/x-python",
   "name": "python",
   "nbconvert_exporter": "python",
   "pygments_lexer": "ipython3",
   "version": "3.9.15"
  },
  "orig_nbformat": 4,
  "vscode": {
   "interpreter": {
    "hash": "adc634733d73b0796380be3dda2ecd8c29414439860d566d764cbd379022a65e"
   }
  }
 },
 "nbformat": 4,
 "nbformat_minor": 2
}
