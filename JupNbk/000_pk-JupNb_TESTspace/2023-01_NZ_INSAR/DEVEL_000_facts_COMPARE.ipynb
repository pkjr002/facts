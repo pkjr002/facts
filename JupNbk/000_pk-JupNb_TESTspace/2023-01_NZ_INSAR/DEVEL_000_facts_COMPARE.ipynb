{
 "cells": [
  {
   "cell_type": "markdown",
   "metadata": {},
   "source": [
    "### <font color=black> IMPORT:: <font color=blue> **py modules** </font> </font>"
   ]
  },
  {
   "cell_type": "code",
   "execution_count": 1,
   "metadata": {},
   "outputs": [],
   "source": [
    "import numpy as np\n",
    "import pandas as pd\n",
    "import xarray as xr\n",
    "from mpl_toolkits.basemap import Basemap\n",
    "import glob\n",
    "import os\n",
    "import shutil\n",
    "import re\n",
    "import cartopy\n",
    "import matplotlib.ticker as mticker\n",
    "import matplotlib.pyplot as plt\n",
    "#\n",
    "%matplotlib inline\n",
    "# %matplotlib notebook\n",
    "#\n",
    "from mpl_toolkits.mplot3d import Axes3D\n",
    "from matplotlib.colors import ListedColormap, BoundaryNorm\n",
    "#\n",
    "# PD=os.getcwd(); PD\n"
   ]
  },
  {
   "cell_type": "markdown",
   "metadata": {},
   "source": [
    "### <font color=blue> Choose:: <font color=red> **Folder & Scenario**  </font>"
   ]
  },
  {
   "cell_type": "code",
   "execution_count": 2,
   "metadata": {},
   "outputs": [
    {
     "data": {
      "text/plain": [
       "['AIS_ssp126_low_confidence_rates.nc',\n",
       " 'AIS_ssp126_low_confidence_values.nc',\n",
       " 'GIS_ssp126_low_confidence_rates.nc',\n",
       " 'GIS_ssp126_low_confidence_values.nc',\n",
       " 'glaciers_ssp126_low_confidence_rates.nc',\n",
       " 'glaciers_ssp126_low_confidence_values.nc',\n",
       " 'landwaterstorage_ssp126_low_confidence_rates.nc',\n",
       " 'landwaterstorage_ssp126_low_confidence_values.nc',\n",
       " 'oceandynamics_ssp126_low_confidence_rates.nc',\n",
       " 'oceandynamics_ssp126_low_confidence_values.nc',\n",
       " 'total_ssp126_low_confidence_rates.nc',\n",
       " 'total_ssp126_low_confidence_values.nc',\n",
       " 'verticallandmotion_ssp126_low_confidence_rates.nc',\n",
       " 'verticallandmotion_ssp126_low_confidence_values.nc']"
      ]
     },
     "execution_count": 2,
     "metadata": {},
     "output_type": "execute_result"
    }
   ],
   "source": [
    "ci='low_confidence'\n",
    "ssp='ssp126'\n",
    "\n",
    "# # Scratch Path\n",
    "# pathG='/scratch/pk695/FACTS/NZrerun-pk695/GREGS_data2NZ/{arg0}/{arg1}/'.format(arg0=ci,arg1=ssp)\n",
    "# pathP='/scratch/pk695/FACTS/nzOG-pk695/local-pk695/006_confidence_output_files/{arg0}/{arg1}/'.format(arg0=ci,arg1=ssp)\n",
    "\n",
    "# Projects Path\n",
    "pathG='/projects/kopp/pk695/NZ_ReRun/nzGREG/{arg0}/{arg1}/'.format(arg0=ci,arg1=ssp)\n",
    "pathP='/projects/kopp/pk695/NZ_ReRun/nzOLD_facts1.0/{arg0}/{arg1}/'.format(arg0=ci,arg1=ssp)\n",
    "\n",
    "\n",
    "flist=sorted(os.listdir(pathG)); flist"
   ]
  },
  {
   "cell_type": "markdown",
   "metadata": {},
   "source": [
    "## <font color=blue> Choose::  <font color=red> **File & Variable** </font>  "
   ]
  },
  {
   "cell_type": "code",
   "execution_count": 3,
   "metadata": {},
   "outputs": [
    {
     "ename": "IndexError",
     "evalue": "list index out of range",
     "output_type": "error",
     "traceback": [
      "\u001b[0;31m---------------------------------------------------------------------------\u001b[0m",
      "\u001b[0;31mIndexError\u001b[0m                                Traceback (most recent call last)",
      "Cell \u001b[0;32mIn [3], line 24\u001b[0m\n\u001b[1;32m     19\u001b[0m \u001b[38;5;66;03m# file='verticallandmotion_{arg0}_{arg1}_rates.nc'.format(arg0=ssp,arg1=ci); var='sea_level_change_rate'\u001b[39;00m\n\u001b[1;32m     20\u001b[0m \u001b[38;5;66;03m# file='verticallandmotion_{arg0}_{arg1}_values.nc'.format(arg0=ssp,arg1=ci); var='sea_level_change'\u001b[39;00m\n\u001b[1;32m     21\u001b[0m \n\u001b[1;32m     22\u001b[0m \u001b[38;5;66;03m# labels\u001b[39;00m\n\u001b[1;32m     23\u001b[0m EXP_G\u001b[38;5;241m=\u001b[39mpathG\u001b[38;5;241m.\u001b[39msplit(\u001b[38;5;124m'\u001b[39m\u001b[38;5;124m/\u001b[39m\u001b[38;5;124m'\u001b[39m)[\u001b[38;5;241m5\u001b[39m]\u001b[38;5;241m.\u001b[39msplit(\u001b[38;5;124m'\u001b[39m\u001b[38;5;124m_\u001b[39m\u001b[38;5;124m'\u001b[39m)[\u001b[38;5;241m0\u001b[39m]\n\u001b[0;32m---> 24\u001b[0m EXP_P\u001b[38;5;241m=\u001b[39m\u001b[43mpathP\u001b[49m\u001b[38;5;241;43m.\u001b[39;49m\u001b[43msplit\u001b[49m\u001b[43m(\u001b[49m\u001b[38;5;124;43m'\u001b[39;49m\u001b[38;5;124;43m/\u001b[39;49m\u001b[38;5;124;43m'\u001b[39;49m\u001b[43m)\u001b[49m\u001b[43m[\u001b[49m\u001b[38;5;241;43m4\u001b[39;49m\u001b[43m]\u001b[49m\u001b[38;5;241;43m.\u001b[39;49m\u001b[43msplit\u001b[49m\u001b[43m(\u001b[49m\u001b[38;5;124;43m'\u001b[39;49m\u001b[38;5;124;43m-\u001b[39;49m\u001b[38;5;124;43m'\u001b[39;49m\u001b[43m)\u001b[49m\u001b[43m[\u001b[49m\u001b[38;5;241;43m1\u001b[39;49m\u001b[43m]\u001b[49m\n\u001b[1;32m     25\u001b[0m EXP_file\u001b[38;5;241m=\u001b[39mfile\n",
      "\u001b[0;31mIndexError\u001b[0m: list index out of range"
     ]
    }
   ],
   "source": [
    "# file='AIS_{arg0}_{arg1}_values.nc'.format(arg0=ssp,arg1=ci); var='sea_level_change'\n",
    "# file='AIS_{arg0}_{arg1}_rates.nc'.format(arg0=ssp,arg1=ci); var='sea_level_change_rate'\n",
    "\n",
    "# file='GIS_{arg0}_{arg1}_rates.nc'.format(arg0=ssp,arg1=ci); var='sea_level_change_rate'\n",
    "# file='GIS_{arg0}_{arg1}_values.nc'.format(arg0=ssp,arg1=ci); var='sea_level_change'\n",
    "\n",
    "# file='glaciers_{arg0}_{arg1}_rates.nc'.format(arg0=ssp,arg1=ci); var='sea_level_change_rate'\n",
    "# file='glaciers_{arg0}_{arg1}_values.nc'.format(arg0=ssp,arg1=ci); var='sea_level_change'\n",
    "\n",
    "# file='landwaterstorage_{arg0}_{arg1}_rates.nc'.format(arg0=ssp,arg1=ci); var='sea_level_change_rate'\n",
    "# file='landwaterstorage_{arg0}_{arg1}_values.nc'.format(arg0=ssp,arg1=ci); var='sea_level_change'\n",
    "\n",
    "# file='oceandynamics_{arg0}_{arg1}_rates.nc'.format(arg0=ssp,arg1=ci); var='sea_level_change_rate'\n",
    "# file='oceandynamics_{arg0}_{arg1}_values.nc'.format(arg0=ssp,arg1=ci); var='sea_level_change'\n",
    "\n",
    "# file='total_{arg0}_{arg1}_rates.nc'.format(arg0=ssp,arg1=ci); var='sea_level_change_rate'\n",
    "file='total_{arg0}_{arg1}_values.nc'.format(arg0=ssp,arg1=ci); var='sea_level_change'\n",
    "\n",
    "# file='verticallandmotion_{arg0}_{arg1}_rates.nc'.format(arg0=ssp,arg1=ci); var='sea_level_change_rate'\n",
    "# file='verticallandmotion_{arg0}_{arg1}_values.nc'.format(arg0=ssp,arg1=ci); var='sea_level_change'\n",
    "\n",
    "# labels\n",
    "EXP_G=pathG.split('/')[5].split('_')[0]\n",
    "EXP_P=pathP.split('/')[4].split('-')[1]\n",
    "EXP_file=file"
   ]
  },
  {
   "cell_type": "markdown",
   "metadata": {},
   "source": [
    "## <font color=blue> List::  <font color=red> **Data Details** </font>  "
   ]
  },
  {
   "cell_type": "code",
   "execution_count": null,
   "metadata": {},
   "outputs": [],
   "source": [
    "d_ncG=xr.open_dataset(pathG+file);  \n",
    "d_ncP=xr.open_dataset(pathP+file);\n",
    "# d_ncP"
   ]
  },
  {
   "cell_type": "code",
   "execution_count": null,
   "metadata": {},
   "outputs": [],
   "source": [
    "# Find the common locations\n",
    "idx=0\n",
    "# latG=np.round(d_ncG['lat'][idx].values,4); lonG=np.round(d_ncG['lon'][idx].values,4)\n",
    "latG=d_ncG['lat'][idx].values; lonG=d_ncG['lon'][idx].values\n",
    "latP=d_ncP['lat'][idx].values; lonP=d_ncP['lon'][idx].values\n",
    "print('lonP=',lonP,'latP=',latP,)\n",
    "print('lonG=',lonG,'latG=',latG,)\n",
    "print( '\\n' )\n",
    "print('d_ncG=',d_ncG[var].shape)\n",
    "print('d_ncP=',d_ncP[var].shape)\n",
    "print( '\\n' )"
   ]
  },
  {
   "cell_type": "code",
   "execution_count": null,
   "metadata": {},
   "outputs": [],
   "source": [
    "print('G years  '+str(d_ncG['years'].values)+'\\n')\n",
    "print('P years  '+str(d_ncP['years'].values)+'\\n')"
   ]
  },
  {
   "cell_type": "markdown",
   "metadata": {},
   "source": [
    "## <font color=blue> Xtract:: </font>  "
   ]
  },
  {
   "cell_type": "markdown",
   "metadata": {},
   "source": [
    "### <font color=blue> YEAR:: <font color=red> **index** </font>"
   ]
  },
  {
   "cell_type": "code",
   "execution_count": null,
   "metadata": {},
   "outputs": [],
   "source": [
    "yrST=2020; yrEN=2150\n",
    "yr=np.arange(yrST, yrEN+1, 10)\n",
    "print('Years to select='+str(yr)+'\\n')\n",
    "\n",
    "yrIDX_G=np.searchsorted(d_ncG['years'].values, yr)\n",
    "yrIDX_P=np.searchsorted(d_ncP['years'].values, yr)\n",
    "\n",
    "print('Idx G year'+str(d_ncG['years'][yrIDX_G].values)+'\\n')\n",
    "print('Idx P year'+str(d_ncP['years'][yrIDX_P].values)+'\\n')"
   ]
  },
  {
   "cell_type": "markdown",
   "metadata": {},
   "source": [
    "### <font color=blue> Percentile:: <font color=red> **index** </font>"
   ]
  },
  {
   "cell_type": "code",
   "execution_count": null,
   "metadata": {},
   "outputs": [],
   "source": [
    "ptile=[5,17,50,83,95]\n",
    "\n",
    "ptileIDX_G=np.searchsorted(d_ncG['quantiles'].values*100, ptile)\n",
    "ptileIDX_P=np.searchsorted(d_ncP['quantiles'].values*100, ptile)\n",
    "\n",
    "# DUM1=ptileIDX_G; DUM2=d_ncG['quantiles'][ptileIDX_G].values*100\n",
    "# for pid, pt in zip(DUM1, DUM2):\n",
    "#     print(f\"index {pid} has percentile value {pt}\")"
   ]
  },
  {
   "cell_type": "markdown",
   "metadata": {},
   "source": [
    "### <font color=blue> PLOT:: <font color=red> **1D Slice** </font>"
   ]
  },
  {
   "cell_type": "code",
   "execution_count": null,
   "metadata": {},
   "outputs": [],
   "source": [
    "loc=200 #Location:: choose from 0 to 7434           \n",
    "latP=d_ncP['lat'][loc].values\n",
    "lonP=d_ncP['lon'][loc].values\n",
    "\n",
    "# Get plot Variables\n",
    "slcG=d_ncG[var][ptileIDX_G, yrIDX_G, loc]\n",
    "slcP=d_ncP[var][ptileIDX_P, yrIDX_P, loc]\n",
    "diff=slcG-slcP\n",
    "\n",
    "xx=d_ncG['years'][yrIDX_G].values\n",
    "\n",
    "fig, axs = plt.subplots(nrows=2, ncols=3, figsize=(12, 5))\n",
    "\n",
    "for i, pp in enumerate(ptileIDX_G):\n",
    "    \n",
    "    row, col = divmod(i, 3)\n",
    "    ax = axs[row, col]\n",
    "    \n",
    "    yy1=diff[i,:]\n",
    "    ax.plot(xx, yy1, label='Diff')\n",
    "    \n",
    "    ax.set_xlim(2020, 2150); ax.set_xticks(range(2020, 2160, 10))\n",
    "    ax.tick_params(axis='x', labelrotation=45,labelsize=7)\n",
    "    ax.tick_params(axis='y', labelsize=7)\n",
    "    ax.grid(alpha=0.5)\n",
    "    ax.set_ylabel('diff (mm)'); #ax.set_xlabel('Years')\n",
    "    \n",
    "    LAT=str(np.round(latP,2)); LON=str(np.round(lonP,2))\n",
    "    QUANT=str(d_ncP['quantiles'][pp].values*100)\n",
    "    ax.set_title(QUANT+' Quantile Difference plot for \\n'+'Location:: '+LAT+' and '+LON,fontsize=8)\n",
    "    ax.legend(fontsize=6)\n",
    "\n",
    "ax.text(1.2, .5, 'Data:: '+EXP_file, fontsize=10, color='red', transform=ax.transAxes, ha='left', va='center')\n",
    "ax.text(1.2, .25, 'Diff:: '+EXP_G+' - '+ EXP_P, fontsize=10, color='red', transform=ax.transAxes, ha='left', va='center')\n",
    "axs[1, 2].remove()\n",
    "\n",
    "plt.subplots_adjust(wspace=0.5, hspace=0.7)\n",
    "plt.show()"
   ]
  },
  {
   "cell_type": "markdown",
   "metadata": {},
   "source": [
    "### <font color=blue> PLOT:: <font color=red> **2D Slice** </font>"
   ]
  },
  {
   "cell_type": "code",
   "execution_count": null,
   "metadata": {},
   "outputs": [],
   "source": [
    "# # Difference\n",
    "# slcG2D=d_ncG[var][:, yrIDX_G, loc].values\n",
    "# slcP2D=d_ncP[var][:, yrIDX_P, loc].values\n",
    "# diff2D=slcG2D - slcP2D\n",
    "\n",
    "# # Get plot Variables\n",
    "# xx=d_ncP['years'][yrIDX_P].values\n",
    "# yy=d_ncP['quantiles'].values*100\n",
    "# zz=diff2D\n",
    "\n",
    "# # Colors for the colormap\n",
    "# bounds=[np.min(diff2D), -0.1, 0.1, np.max(diff2D)]\n",
    "# colors=['blue', 'white', 'red']\n",
    "# cmap=ListedColormap(colors)\n",
    "# norm=BoundaryNorm(bounds, len(colors))\n",
    "\n",
    "# fig, ax=plt.subplots(figsize=(12,5))\n",
    "# im=ax.imshow(zz, extent=[xx.min(), xx.max(), yy.min(), yy.max()], cmap=cmap, norm=norm)\n",
    "# # im=ax.imshow(zz, extent=[xx.min(), xx.max(), yy.min(), yy.max()], cmap='coolwarm',vmin=np.min(diff2D), vmax=np.max(diff2D))\n",
    "\n",
    "\n",
    "# cbar=ax.figure.colorbar(im, ax=ax)\n",
    "# # cbar.ax.set_ylabel('Diff (mm)', rotation=-90, va=\"bottom\")\n",
    "\n",
    "# ax.set_aspect(0.9)\n",
    "# # ax.set_xlim(2020, 2150); #ax.set_xticks(range(2020, 2160, 10))\n",
    "# # ax.tick_params(axis='x', labelrotation=45,labelsize=7)\n",
    "# # ax.set_ylabel('Percentile');  ax.tick_params(axis='y', labelsize=7)\n",
    "# ax.grid(alpha=0.5)\n",
    "# ax.set_title('Difference plot for  '+LAT+' and '+LON,fontsize=10)\n",
    "\n",
    "# for val in ptile:\n",
    "#     plt.axhline(y=val, color = 'k', linestyle = '-', linewidth=0.5)\n",
    "# plt.yticks(ptile)\n",
    "\n",
    "# ax.text(0.4, -.2, 'Data:: '+EXP_file, fontsize=10, color='red', transform=ax.transAxes, ha='left', va='center')\n",
    "# ax.text(-0.1, -.2, 'Diff:: '+EXP_G+' - '+ EXP_P, fontsize=10, color='red', transform=ax.transAxes, ha='left', va='center')\n",
    "\n",
    "# plt.show()"
   ]
  },
  {
   "cell_type": "markdown",
   "metadata": {},
   "source": [
    "### <font color=blue> PLOT:: <font color=red> **3D Slice** </font>"
   ]
  },
  {
   "cell_type": "code",
   "execution_count": null,
   "metadata": {},
   "outputs": [],
   "source": [
    "stn= np.arange(0,4000);  stn= np.arange(0,d_ncG[var].shape[2])\n",
    "loc=0           #loc\n",
    "\n",
    "# Calculate the Diff\n",
    "slcG3D=d_ncG[var][ptileIDX_G, yrIDX_G, stn].values\n",
    "slcP3D=d_ncP[var][ptileIDX_P, yrIDX_P, stn].values\n",
    "diff3D = slcG3D - slcP3D\n",
    "\n",
    "# Get plot Variables\n",
    "XX=d_ncG['quantiles'][ptileIDX_G].values*100\n",
    "YY=d_ncG['years'][yrIDX_G].values\n",
    "ZZ=np.arange(diff3D.shape[2])\n",
    "VAR=diff3D\n",
    "\n",
    "x, y, z = np.meshgrid(XX, YY, ZZ)\n",
    "\n",
    "# Colors for the colormap\n",
    "bounds=[np.min(diff3D), -0.1, 0.1, np.max(diff3D)]\n",
    "colors=['blue', 'white', 'red']\n",
    "cmap=ListedColormap(colors)\n",
    "norm=BoundaryNorm(bounds, len(colors))\n",
    "\n",
    "fig = plt.figure(figsize=(10, 10))\n",
    "ax = fig.add_subplot(111, projection='3d')\n",
    "\n",
    "PP=ax.scatter3D(x.flatten(), y.flatten(), z.flatten(), c=VAR.flatten(), cmap=cmap, norm=norm)\n",
    "ax.set_xlabel('Percentile')\n",
    "ax.set_ylabel('Year'); #ax.set_yticks(rotation=90)\n",
    "ax.set_zlabel('Station')\n",
    "# ax.set_xticks(data_ptile)\n",
    "# fig.colorbar(PP)\n",
    "cbar=plt.colorbar(PP,fraction=0.026, pad=0.14)\n",
    "# plt.show()\n",
    "cbar.set_label('Diff', rotation=270)"
   ]
  }
 ],
 "metadata": {
  "kernelspec": {
   "display_name": "Python [conda env:plot] *",
   "language": "python",
   "name": "conda-env-plot-py"
  },
  "language_info": {
   "codemirror_mode": {
    "name": "ipython",
    "version": 3
   },
   "file_extension": ".py",
   "mimetype": "text/x-python",
   "name": "python",
   "nbconvert_exporter": "python",
   "pygments_lexer": "ipython3",
   "version": "3.9.15"
  }
 },
 "nbformat": 4,
 "nbformat_minor": 2
}
