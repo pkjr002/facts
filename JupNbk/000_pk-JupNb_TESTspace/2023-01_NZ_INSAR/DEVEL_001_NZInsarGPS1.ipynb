{
 "cells": [
  {
   "cell_type": "markdown",
   "metadata": {},
   "source": [
    "### <font color=black> GET:: <font color=blue> **path** </font> of current ipynb</font>"
   ]
  },
  {
   "cell_type": "code",
   "execution_count": null,
   "metadata": {},
   "outputs": [],
   "source": [
    "# import os\n",
    "# from ipykernel import get_connection_file\n",
    "\n",
    "# # Get the name and location of the current Jupyter notebook\n",
    "# notebook_path = os.path.dirname(get_connection_file())\n",
    "\n",
    "# # Print the name and location of the current Jupyter notebook\n",
    "# print(\"Notebook name:\", os.path.basename(notebook_path))\n",
    "# print(\"Notebook location:\", notebook_path)"
   ]
  },
  {
   "cell_type": "markdown",
   "metadata": {},
   "source": [
    "### <font color=black> IMPORT:: <font color=blue> **py modules** </font> </font>"
   ]
  },
  {
   "cell_type": "code",
   "execution_count": 1,
   "metadata": {},
   "outputs": [
    {
     "data": {
      "text/plain": [
       "'/scratch/pk695/FACTS/002_fork/facts/JupNbk/000_pk-JupNb_TESTspace/2023-01_NZ_INSAR'"
      ]
     },
     "execution_count": 1,
     "metadata": {},
     "output_type": "execute_result"
    }
   ],
   "source": [
    "import numpy as np\n",
    "import pandas as pd\n",
    "import xarray as xr\n",
    "from mpl_toolkits.basemap import Basemap\n",
    "import glob\n",
    "import os\n",
    "import shutil\n",
    "import re\n",
    "import cartopy\n",
    "import matplotlib.ticker as mticker\n",
    "import matplotlib.pyplot as plt\n",
    "%matplotlib inline\n",
    "#\n",
    "PD=os.getcwd(); PD\n"
   ]
  },
  {
   "cell_type": "markdown",
   "metadata": {},
   "source": [
    "### <font color=black> **====================================================================** </font>\n",
    "### <font size=5 color=\"black\"><b>FACTS EXP::</b></font> <font size=5 color=\"blue\"><b>NZrerun1</b></font> <font size=2> [ NZ module with Ian's updated Insar dataset ]</font>\n"
   ]
  },
  {
   "cell_type": "code",
   "execution_count": null,
   "metadata": {},
   "outputs": [],
   "source": [
    "#path='/scratch/pk695/FACTS/002_fork/facts/experiments-pkjr002/NZrerun/'\n",
    "#fnames = glob.glob(path+'output_set_*')\n",
    "#fnames\n",
    "# wf_id = [fname.split('_')[0] for fname in fnames]\n",
    "# wf_id"
   ]
  },
  {
   "cell_type": "markdown",
   "metadata": {},
   "source": [
    "##### <font size=5 color=\"black\"> FETCH:: </font> <font size=5 color=\"blue\"><b> EXP files</b></font> "
   ]
  },
  {
   "cell_type": "code",
   "execution_count": 2,
   "metadata": {},
   "outputs": [
    {
     "name": "stdout",
     "output_type": "stream",
     "text": [
      "['NZrerun.ssp119', 'NZrerun.ssp126', 'NZrerun.ssp245', 'NZrerun.ssp370', 'NZrerun.ssp585']\n"
     ]
    }
   ],
   "source": [
    "path='/scratch/pk695/FACTS/002_fork/facts/experiments-pkjr002/NZrerun/000_TEST_NZInsarGPS/'\n",
    "expnames=[d for d in os.listdir(path) if os.path.isdir(os.path.join(path, d)) and re.match(r'^NZrerun.ssp\\d{3}$', d)]\n",
    "expnames=sorted(expnames); print(expnames)"
   ]
  },
  {
   "cell_type": "markdown",
   "metadata": {},
   "source": [
    "### <font color=black> GET output sub-folder list <font color=blue> (e.g., output_0.txt, output_1.txt ...) </font>  </font>"
   ]
  },
  {
   "cell_type": "code",
   "execution_count": 3,
   "metadata": {},
   "outputs": [
    {
     "name": "stdout",
     "output_type": "stream",
     "text": [
      "['output_0.txt', 'output_1.txt', 'output_2.txt', 'output_3.txt', 'output_4.txt', 'output_5.txt', 'output_6.txt', 'output_7.txt', 'output_8.txt', 'output_9.txt', 'output_10.txt', 'output_11.txt', 'output_12.txt', 'output_13.txt', 'output_14.txt']\n"
     ]
    }
   ],
   "source": [
    "exp='NZrerun.ssp585'\n",
    "exppath=path+exp\n",
    "#\n",
    "if (exp=='NZrerun.ssp585') or (exp=='NZrerun.ssp370'):\n",
    "    OPloopdir = [d for d in os.listdir(exppath) if os.path.isdir(os.path.join(exppath, d)) and re.match(r'^output_\\d+\\.txt$', d)]\n",
    "    OPloopdir.sort(key=lambda x: int(x.split('_')[1].split('.')[0]))\n",
    "else:\n",
    "    OPloopdir = [d for d in os.listdir(exppath) if os.path.isdir(os.path.join(exppath, d)) and re.match(r'^output_set_\\d', d)]\n",
    "    OPloopdir.sort(key=lambda x: int(x.split('_')[2]))\n",
    "print(OPloopdir)"
   ]
  },
  {
   "cell_type": "markdown",
   "metadata": {},
   "source": [
    "### <font color=black> GET <font color=blue> *.nc file NAMES </font> to merge </font>"
   ]
  },
  {
   "cell_type": "code",
   "execution_count": 4,
   "metadata": {},
   "outputs": [
    {
     "data": {
      "text/plain": [
       "['NZrerun.ssp585.GrIS1f.FittedISMIP.GrIS_GIS_localsl.nc',\n",
       " 'NZrerun.ssp585.NZInsarGPS.NZInsarGPS.verticallandmotion_localsl.nc',\n",
       " 'NZrerun.ssp585.ar5AIS.ipccar5.icesheets_EAIS_localsl.nc',\n",
       " 'NZrerun.ssp585.ar5AIS.ipccar5.icesheets_WAIS_localsl.nc',\n",
       " 'NZrerun.ssp585.ar5glaciers.ipccar5.glaciers_localsl.nc',\n",
       " 'NZrerun.ssp585.bamber19.bamber19.icesheets_AIS_localsl.nc',\n",
       " 'NZrerun.ssp585.bamber19.bamber19.icesheets_EAIS_localsl.nc',\n",
       " 'NZrerun.ssp585.bamber19.bamber19.icesheets_GIS_localsl.nc',\n",
       " 'NZrerun.ssp585.bamber19.bamber19.icesheets_WAIS_localsl.nc',\n",
       " 'NZrerun.ssp585.deconto21.deconto21.AIS_AIS_localsl.nc',\n",
       " 'NZrerun.ssp585.deconto21.deconto21.AIS_EAIS_localsl.nc',\n",
       " 'NZrerun.ssp585.deconto21.deconto21.AIS_WAIS_localsl.nc',\n",
       " 'NZrerun.ssp585.emuAIS.emulandice.AIS_EAIS_localsl.nc',\n",
       " 'NZrerun.ssp585.emuAIS.emulandice.AIS_WAIS_localsl.nc',\n",
       " 'NZrerun.ssp585.emuAIS.emulandice.AIS_localsl.nc',\n",
       " 'NZrerun.ssp585.emuGrIS.emulandice.GrIS_localsl.nc',\n",
       " 'NZrerun.ssp585.emuglaciers.emulandice.glaciers_localsl.nc',\n",
       " 'NZrerun.ssp585.larmip.larmip.AIS_EAIS_localsl.nc',\n",
       " 'NZrerun.ssp585.larmip.larmip.AIS_WAIS_localsl.nc',\n",
       " 'NZrerun.ssp585.larmip.larmip.AIS_localsl.nc',\n",
       " 'NZrerun.ssp585.lws.ssp.landwaterstorage_localsl.nc',\n",
       " 'NZrerun.ssp585.ocean.tlm.sterodynamics_localsl.nc',\n",
       " 'NZrerun.ssp585.total.workflow.wf1e.local.nc',\n",
       " 'NZrerun.ssp585.total.workflow.wf1f.local.nc',\n",
       " 'NZrerun.ssp585.total.workflow.wf2e.local.nc',\n",
       " 'NZrerun.ssp585.total.workflow.wf2f.local.nc',\n",
       " 'NZrerun.ssp585.total.workflow.wf3e.local.nc',\n",
       " 'NZrerun.ssp585.total.workflow.wf3f.local.nc',\n",
       " 'NZrerun.ssp585.total.workflow.wf4.local.nc']"
      ]
     },
     "execution_count": 4,
     "metadata": {},
     "output_type": "execute_result"
    }
   ],
   "source": [
    "# Get all the *.nc file names (can use OPloopdir[n])\n",
    "nclist=os.listdir(path+exp+'/'+OPloopdir[0]+'/');  nclist=sorted(nclist)\n",
    "nclist_local=[]\n",
    "for ncname in nclist:\n",
    "    if 'local' in ncname:\n",
    "        nclist_local.append(ncname) \n",
    "nclist_local"
   ]
  },
  {
   "cell_type": "markdown",
   "metadata": {},
   "source": [
    "### <font color=black> **====================================================================** </font>\n",
    "### <font color=black> LoopOver <font color=blue> **OPdir** </font> to merge each *.nc file</font>"
   ]
  },
  {
   "cell_type": "code",
   "execution_count": 13,
   "metadata": {
    "scrolled": true
   },
   "outputs": [
    {
     "name": "stdout",
     "output_type": "stream",
     "text": [
      "['NZrerun1.ssp119', 'NZrerun1.ssp126', 'NZrerun1.ssp245', 'NZrerun1.ssp370', 'NZrerun1.ssp585']\n"
     ]
    }
   ],
   "source": [
    "# Fetch EXP files\n",
    "#path='/scratch/pk695/FACTS/002_fork/facts/experiments-pkjr002/NZrerun/000_TEST_NZInsarGPS/'\n",
    "#expnames=[d for d in os.listdir(path) if os.path.isdir(os.path.join(path, d)) and re.match(r'^NZrerun.ssp\\d{3}$', d)]\n",
    "path='/scratch/pk695/FACTS/002_fork/facts/experiments-pkjr002/NZrerun/'\n",
    "expnames=[d for d in os.listdir(path) if os.path.isdir(os.path.join(path, d)) and re.match(r'^NZrerun1.ssp\\d{3}$', d)]\n",
    "expnames=sorted(expnames); print(expnames)\n",
    "\n",
    "# Loop over each EXP\n",
    "for x_exp,exp in enumerate(expnames):\n",
    "    #\n",
    "    # List the OP folder files\n",
    "    OPloopdir=[]\n",
    "    OPloopdir = [d for d in os.listdir(path+exp) if os.path.isdir(os.path.join(path+exp, d)) and re.match(r'^output_set_\\d+', d)]\n",
    "    OPloopdir.sort(key=lambda x: int(x.split('_')[2]))\n",
    "    #print(OPloopdir)\n",
    "    #\n",
    "    # Make OP folders to save the new merged .nc files\n",
    "    stackfolderLocal=path + exp + '/' + 'output_local_' + exp.split('.')[1]\n",
    "    stackfolderGlobal=path + exp + '/' + 'output_global_' + exp.split('.')[1]\n",
    "    # If the directory already exists, remove it and its contents\n",
    "    if os.path.exists(stackfolderLocal):   shutil.rmtree(stackfolderLocal)\n",
    "    os.makedirs(stackfolderLocal)\n",
    "    if os.path.exists(stackfolderGlobal):  shutil.rmtree(stackfolderGlobal); \n",
    "    os.makedirs(stackfolderGlobal)\n",
    "    #\n",
    "    # Get all the *.nc file names within each output directory (can use OPloopdir[n] as default)\n",
    "    nclist=os.listdir(path+exp+'/'+OPloopdir[0]+'/');  nclist=sorted(nclist)\n",
    "    nclist_local=[]; nclist_global=[]\n",
    "    for ncname in nclist:\n",
    "        if 'local' in ncname:\n",
    "            nclist_local.append(ncname) \n",
    "        elif 'global' in ncname:\n",
    "            nclist_global.append(ncname)\n",
    "    #nclist_local; #nclist_global\n",
    "    \n",
    "    # Stack the local files from each output set within single EXP (i.e. ssp)\n",
    "    stackNC(nclist_local,stackfolderLocal,OPloopdir)\n",
    "    \n",
    "    # Global doesent loop over OPloopdir\n",
    "    src_dir = path+exp+'/'+OPloopdir[0]+'/'\n",
    "    # Destination directory\n",
    "    dst_dir = stackfolderGlobal+'/'\n",
    "    # Loop through the list of files and copy them to the destination directory\n",
    "    for file in nclist_global:\n",
    "        src_path = src_dir + file\n",
    "        dst_path = dst_dir + file\n",
    "        shutil.copy(src_path, dst_path)\n",
    "    \n",
    "    "
   ]
  },
  {
   "cell_type": "code",
   "execution_count": 12,
   "metadata": {},
   "outputs": [
    {
     "data": {
      "text/plain": [
       "'/scratch/pk695/FACTS/002_fork/facts/experiments-pkjr002/NZrerun/NZrerun1.ssp119/output_global_ssp119/NZrerun1.ssp119c.GrIS1f.FittedISMIP.GrIS_GIS_globalsl.nc'"
      ]
     },
     "execution_count": 12,
     "metadata": {},
     "output_type": "execute_result"
    }
   ],
   "source": [
    "dst_path = dst_dir + file\n",
    "dst_path"
   ]
  },
  {
   "cell_type": "code",
   "execution_count": 6,
   "metadata": {},
   "outputs": [],
   "source": [
    "def stackNC(filein,stackfolder,OPLOOPDIR):\n",
    "    for x_ncfile,ncfile in enumerate(filein):\n",
    "        file1=ncfile\n",
    "        #\n",
    "        #loop through output folders\n",
    "        ds1_list=[]  \n",
    "        for x_op,op in enumerate(OPLOOPDIR):\n",
    "            ds1=xr.open_dataset(path+exp+'/'+op+'/'+file1)\n",
    "            ds1_list.append(ds1)      \n",
    "        merged=xr.concat(ds1_list, dim='locations')\n",
    "        # \n",
    "        opfilename=file1\n",
    "        output_path=stackfolder +'/'+opfilename\n",
    "        # Save the merged dataset to a new NetCDF file\n",
    "        merged.to_netcdf(output_path)"
   ]
  }
 ],
 "metadata": {
  "kernelspec": {
   "display_name": "Python 3 (ipykernel)",
   "language": "python",
   "name": "python3"
  },
  "language_info": {
   "codemirror_mode": {
    "name": "ipython",
    "version": 3
   },
   "file_extension": ".py",
   "mimetype": "text/x-python",
   "name": "python",
   "nbconvert_exporter": "python",
   "pygments_lexer": "ipython3",
   "version": "3.9.15"
  },
  "vscode": {
   "interpreter": {
    "hash": "adc634733d73b0796380be3dda2ecd8c29414439860d566d764cbd379022a65e"
   }
  }
 },
 "nbformat": 4,
 "nbformat_minor": 2
}
