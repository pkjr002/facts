{
 "cells": [
  {
   "cell_type": "markdown",
   "metadata": {},
   "source": [
    "### <font color=black> IMPORT:: <font color=blue> **py modules** </font> </font>"
   ]
  },
  {
   "cell_type": "code",
   "execution_count": 1,
   "metadata": {},
   "outputs": [
    {
     "data": {
      "text/plain": [
       "'/scratch/pk695/FACTS/002_fork/facts/JupNbk/000_pk-JupNb_TESTspace/2023-01_NZ_INSAR'"
      ]
     },
     "execution_count": 1,
     "metadata": {},
     "output_type": "execute_result"
    }
   ],
   "source": [
    "import numpy as np\n",
    "import pandas as pd\n",
    "import xarray as xr\n",
    "from mpl_toolkits.basemap import Basemap\n",
    "import glob\n",
    "import os\n",
    "import shutil\n",
    "import re\n",
    "import cartopy\n",
    "import matplotlib.ticker as mticker\n",
    "import matplotlib.pyplot as plt\n",
    "%matplotlib inline\n",
    "#\n",
    "PD=os.getcwd(); PD\n"
   ]
  },
  {
   "cell_type": "markdown",
   "metadata": {},
   "source": [
    "### <font color=black> **====================================================================** </font>"
   ]
  },
  {
   "cell_type": "code",
   "execution_count": null,
   "metadata": {},
   "outputs": [],
   "source": [
    "# Low Confidence.\n",
    "confL='low_confidence/'\n",
    "sspL=['ssp126','ssp585']\n",
    "\n",
    "# Medium Confidence.\n",
    "confM='medium_confidence/'\n",
    "sspM=['ssp119','ssp126','ssp245','ssp370','ssp585']\n",
    "SSP=0\n",
    "\n",
    "fileNAME='total_ssp126_low_confidence_values.nc'"
   ]
  },
  {
   "cell_type": "markdown",
   "metadata": {},
   "source": [
    "##### <font color=black> DATA:: <font color=blue> local_pk695 </font>"
   ]
  },
  {
   "cell_type": "code",
   "execution_count": null,
   "metadata": {
    "scrolled": true
   },
   "outputs": [],
   "source": [
    "# Path to the confidence_output_files.\n",
    "path1='/scratch/pk695/FACTS/NZrerun-pk695/local-pk695/006_confidence_output_files/'\n",
    "\n",
    "# FILE PATHs\n",
    "path1L=path1+confL+sspL[SSP]\n",
    "path1M=path1+confM+sspM[SSP]\n",
    "\n",
    "# # List the files.\n",
    "# ! ls $path1L\n",
    "# print('---------------------- \\n')\n",
    "# ! ls $path1M\n",
    "# print('---------------------- \\n')\n",
    "\n",
    "# List the nc details.\n",
    "d_nc1L=xr.open_dataset(path1L+'/'+fileNAME)\n",
    "d_nc1L"
   ]
  },
  {
   "cell_type": "markdown",
   "metadata": {},
   "source": [
    "##### <font color=black> DATA:: <font color=blue> 2021 GREG NZ </font>"
   ]
  },
  {
   "cell_type": "code",
   "execution_count": null,
   "metadata": {},
   "outputs": [],
   "source": [
    "# Path to the confidence_output_files.\n",
    "path2='/projects/kopp/ggg46/nz_projections/regional/confidence_output_files/'\n",
    "path2=path1\n",
    "\n",
    "# FILE PATHs\n",
    "path2L=path2+confL+sspL[SSP]\n",
    "path2M=path2+confM+sspM[SSP]\n",
    "\n",
    "# # List the files.\n",
    "# ! ls $path2L\n",
    "# print('---------------------- \\n')\n",
    "# ! ls $path2M\n",
    "# print('---------------------- \\n')\n",
    "\n",
    "# List the nc details.\n",
    "d_nc2L=xr.open_dataset(path2L+'/'+fileNAME)\n",
    "d_nc2L"
   ]
  },
  {
   "cell_type": "markdown",
   "metadata": {},
   "source": [
    "### <font color=black> **====================================================================** </font>\n",
    "### <font color=black> PLOT:: <font color=blue> DIFF </font>"
   ]
  },
  {
   "cell_type": "code",
   "execution_count": null,
   "metadata": {},
   "outputs": [],
   "source": [
    "d_nc2L.intersect(d_nc1L)\n",
    "# # Find the intersection of the latitude and longitude coordinates between the two datasets\n",
    "# intersect_ds = d_nc2L.intersect(d_nc1L)\n",
    "\n",
    "# # Get the values of the common latitude and longitude coordinates\n",
    "# common_lat = intersect_ds['latitude'].values\n",
    "# common_lon = intersect_ds['longitude'].values\n",
    "\n",
    "# # Print the values of the common latitude and longitude coordinates\n",
    "# print('Common latitude:', common_lat)\n",
    "# print('Common longitude:', common_lon)\n"
   ]
  },
  {
   "cell_type": "code",
   "execution_count": null,
   "metadata": {},
   "outputs": [],
   "source": [
    "diff = d_nc1L.sea_level_change_rate - d_nc2L.sea_level_change_rate"
   ]
  },
  {
   "cell_type": "code",
   "execution_count": null,
   "metadata": {
    "scrolled": true
   },
   "outputs": [],
   "source": [
    "dataY=d_nc2L.sea_level_change_rate[:,0,0]\n",
    "# dataY=diff[:,0,0]\n",
    "dataX=d_nc1L.quantiles\n",
    "plt.plot(dataX,dataY, linestyle = 'dotted')\n",
    "plt.show()"
   ]
  },
  {
   "cell_type": "code",
   "execution_count": 50,
   "metadata": {},
   "outputs": [
    {
     "ename": "ValueError",
     "evalue": "all the input array dimensions for the concatenation axis must match exactly, but along dimension 0, the array at index 0 has size 1 and the array at index 1 has size 30",
     "output_type": "error",
     "traceback": [
      "\u001b[0;31m---------------------------------------------------------------------------\u001b[0m",
      "\u001b[0;31mValueError\u001b[0m                                Traceback (most recent call last)",
      "Cell \u001b[0;32mIn [50], line 19\u001b[0m\n\u001b[1;32m     14\u001b[0m         \u001b[38;5;28;01mcontinue\u001b[39;00m \u001b[38;5;66;03m#break loop if it exceeds window.\u001b[39;00m\n\u001b[1;32m     15\u001b[0m     \u001b[38;5;28;01melse\u001b[39;00m:\n\u001b[1;32m     16\u001b[0m \u001b[38;5;66;03m#         diff1.append(xx[0+ii:ii+step,:] - yy[0+ii:ii+step,:])\u001b[39;00m\n\u001b[1;32m     17\u001b[0m \u001b[38;5;66;03m#         diff=xx[0+ii:ii+step,:] - yy[0+ii:ii+step,:]\u001b[39;00m\n\u001b[1;32m     18\u001b[0m \u001b[38;5;66;03m#         np.append(diff1,diff, axis=2)\u001b[39;00m\n\u001b[0;32m---> 19\u001b[0m         \u001b[43mnp\u001b[49m\u001b[38;5;241;43m.\u001b[39;49m\u001b[43mdstack\u001b[49m\u001b[43m(\u001b[49m\u001b[43m(\u001b[49m\u001b[43mdiff1\u001b[49m\u001b[43m,\u001b[49m\u001b[43mdiff\u001b[49m\u001b[43m)\u001b[49m\u001b[43m)\u001b[49m\u001b[38;5;241m.\u001b[39mshape\n\u001b[1;32m     22\u001b[0m \u001b[38;5;66;03m# diff1 = np.array(diff1) \u001b[39;00m\n\u001b[1;32m     23\u001b[0m \u001b[38;5;66;03m# diff1 = diff1.reshape(-1, xx.shape[1])\u001b[39;00m\n",
      "File \u001b[0;32m<__array_function__ internals>:180\u001b[0m, in \u001b[0;36mdstack\u001b[0;34m(*args, **kwargs)\u001b[0m\n",
      "File \u001b[0;32m~/000_swre/miniconda/envs/plot/lib/python3.9/site-packages/numpy/lib/shape_base.py:723\u001b[0m, in \u001b[0;36mdstack\u001b[0;34m(tup)\u001b[0m\n\u001b[1;32m    721\u001b[0m \u001b[38;5;28;01mif\u001b[39;00m \u001b[38;5;129;01mnot\u001b[39;00m \u001b[38;5;28misinstance\u001b[39m(arrs, \u001b[38;5;28mlist\u001b[39m):\n\u001b[1;32m    722\u001b[0m     arrs \u001b[38;5;241m=\u001b[39m [arrs]\n\u001b[0;32m--> 723\u001b[0m \u001b[38;5;28;01mreturn\u001b[39;00m \u001b[43m_nx\u001b[49m\u001b[38;5;241;43m.\u001b[39;49m\u001b[43mconcatenate\u001b[49m\u001b[43m(\u001b[49m\u001b[43marrs\u001b[49m\u001b[43m,\u001b[49m\u001b[43m \u001b[49m\u001b[38;5;241;43m2\u001b[39;49m\u001b[43m)\u001b[49m\n",
      "File \u001b[0;32m<__array_function__ internals>:180\u001b[0m, in \u001b[0;36mconcatenate\u001b[0;34m(*args, **kwargs)\u001b[0m\n",
      "\u001b[0;31mValueError\u001b[0m: all the input array dimensions for the concatenation axis must match exactly, but along dimension 0, the array at index 0 has size 1 and the array at index 1 has size 30"
     ]
    }
   ],
   "source": [
    "# Dummy var\n",
    "xx = np.random.randint(1, 101, size=(120, 120))\n",
    "yy = np.random.randint(1, 101, size=(120, 120))\n",
    "step=30\n",
    "tot_len=len(xx[0])\n",
    "\n",
    "# diff1=[] # initialize diff1 as an empty array\n",
    "# diff1 = np.array([]) \n",
    "diff1 = np.empty((1,120,1))\n",
    "\n",
    "# for ii in range(tot_len):\n",
    "for ii in range(5):\n",
    "    if ii == (tot_len - step):\n",
    "        continue #break loop if it exceeds window.\n",
    "    else:\n",
    "#         diff1.append(xx[0+ii:ii+step,:] - yy[0+ii:ii+step,:])\n",
    "#         diff=xx[0+ii:ii+step,:] - yy[0+ii:ii+step,:]\n",
    "#         np.append(diff1,diff, axis=2)\n",
    "        np.dstack((diff1,diff)).shape\n",
    "        \n",
    "   \n",
    "# diff1 = np.array(diff1) \n",
    "# diff1 = diff1.reshape(-1, xx.shape[1])"
   ]
  },
  {
   "cell_type": "code",
   "execution_count": 4,
   "metadata": {},
   "outputs": [
    {
     "name": "stdout",
     "output_type": "stream",
     "text": [
      "(5, 30, 120)\n"
     ]
    }
   ],
   "source": [
    "# Dummy var\n",
    "xx = np.random.randint(1, 101, size=(120, 120))\n",
    "yy = np.random.randint(1, 101, size=(120, 120))\n",
    "step=30\n",
    "tot_len=len(xx[0])\n",
    "\n",
    "diff1=[]\n",
    "# for ii in range(tot_len):\n",
    "for ii in range(5):\n",
    "    if ii == (tot_len - step):\n",
    "        continue #break loop if it exceeds window.\n",
    "    else:\n",
    "        diff=xx[0+ii:ii+step,:] - yy[0+ii:ii+step,:]\n",
    "        diff1.append(diff[None,:] )\n",
    "\n",
    "#stack all at once\n",
    "diff2 = np.vstack(diff1)\n",
    "\n",
    "print(diff2.shape)        "
   ]
  },
  {
   "cell_type": "code",
   "execution_count": 44,
   "metadata": {},
   "outputs": [
    {
     "data": {
      "text/plain": [
       "[array([[-11, -65,  42, ...,  46,  14,  65],\n",
       "        [  6,  -7,  17, ...,  -7, -48, -44],\n",
       "        [ 41, -47, -13, ...,  47,   1,  11],\n",
       "        ...,\n",
       "        [-74, -14,  44, ...,  25,  16,  84],\n",
       "        [ -5, -85, -18, ...,  41,  70, -22],\n",
       "        [-33, -11,  38, ...,  14,  23,  22]])]"
      ]
     },
     "execution_count": 44,
     "metadata": {},
     "output_type": "execute_result"
    }
   ],
   "source": [
    "# diff1 = np.empty((1,120))\n",
    "# del diff1\n",
    "# diff1 = np.empty((1,120))\n",
    "\n",
    "# len(diff1[0])\n",
    "diff1\n"
   ]
  },
  {
   "cell_type": "code",
   "execution_count": null,
   "metadata": {},
   "outputs": [],
   "source": [
    "import numpy as np\n",
    "\n",
    "all_feats = []\n",
    "for i in range(5):\n",
    "    #create features    \n",
    "    features_from_one_file = np.random.randn(96,64)\n",
    "    #append Broadcasting first to have dimension 1x96x64\n",
    "    all_feats.append(features_from_one_file[None,:] )\n",
    "\n",
    "#stack all at once\n",
    "features_allfiles = np.vstack(all_feats)\n",
    "\n",
    "print(features_allfiles.shape)"
   ]
  }
 ],
 "metadata": {
  "kernelspec": {
   "display_name": "plot",
   "language": "python",
   "name": "python3"
  },
  "language_info": {
   "codemirror_mode": {
    "name": "ipython",
    "version": 3
   },
   "file_extension": ".py",
   "mimetype": "text/x-python",
   "name": "python",
   "nbconvert_exporter": "python",
   "pygments_lexer": "ipython3",
   "version": "3.9.15"
  }
 },
 "nbformat": 4,
 "nbformat_minor": 2
}
