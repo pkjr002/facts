{
 "cells": [
  {
   "cell_type": "markdown",
   "metadata": {},
   "source": [
    "### <font color=black> IMPORT:: <font color=blue> **py modules** </font> </font>"
   ]
  },
  {
   "cell_type": "code",
   "execution_count": 1,
   "metadata": {},
   "outputs": [
    {
     "data": {
      "text/plain": [
       "'/scratch/pk695/FACTS/002_fork/facts/JupNbk/000_pk-JupNb_TESTspace/2023-01_NZ_INSAR'"
      ]
     },
     "execution_count": 1,
     "metadata": {},
     "output_type": "execute_result"
    }
   ],
   "source": [
    "import numpy as np\n",
    "import pandas as pd\n",
    "import xarray as xr\n",
    "from mpl_toolkits.basemap import Basemap\n",
    "import glob\n",
    "import os\n",
    "import shutil\n",
    "import re\n",
    "import cartopy\n",
    "import matplotlib.ticker as mticker\n",
    "import matplotlib.pyplot as plt\n",
    "%matplotlib inline\n",
    "#\n",
    "PD=os.getcwd(); PD\n"
   ]
  },
  {
   "cell_type": "markdown",
   "metadata": {},
   "source": [
    "### <font color=black> **====================================================================** </font>\n",
    "### <font size=5 color=\"black\"><b>FACTS EXP::</b></font> <font size=5 color=\"blue\"><b>nzOG</b></font> <font size=2> [ nzOG EXP run with OLD Insar dataset ]</font>\n"
   ]
  },
  {
   "cell_type": "markdown",
   "metadata": {},
   "source": [
    "##### <font size=5 color=\"black\"> FETCH:: </font> <font size=5 color=\"blue\"><b> EXP folder names (each ssp)</b></font> "
   ]
  },
  {
   "cell_type": "code",
   "execution_count": 2,
   "metadata": {},
   "outputs": [
    {
     "name": "stdout",
     "output_type": "stream",
     "text": [
      "['nzOG.ssp119', 'nzOG.ssp126', 'nzOG.ssp245', 'nzOG.ssp370', 'nzOG.ssp585']\n"
     ]
    }
   ],
   "source": [
    "exp0=\"experimentsNZ\"\n",
    "exp1=\"nzOG\"  \n",
    "#\n",
    "path='/scratch/pk695/FACTS/002_fork/facts/{arg0}/{arg1}'.format(arg0=exp0,arg1=exp1)\n",
    "expnames=[d for d in os.listdir(path) if os.path.isdir(os.path.join(path, d)) and re.match(fr'^{exp1}.ssp\\d{{3}}$', d)]\n",
    "expnames=sorted(expnames); print(expnames)"
   ]
  },
  {
   "cell_type": "code",
   "execution_count": 3,
   "metadata": {},
   "outputs": [],
   "source": [
    "#create the output path\n",
    "\n",
    "dir_comp='/scratch/pk695/FACTS/{arg0}-pk695/local-pk695/000_full_sample_components'.format(arg0=exp1)\n",
    "if os.path.exists(dir_comp):   shutil.rmtree(dir_comp)\n",
    "os.makedirs(dir_comp)\n",
    "\n",
    "dir_wf='/scratch/pk695/FACTS/{arg0}-pk695/local-pk695/000_Workflows'.format(arg0=exp1)\n",
    "if os.path.exists(dir_wf):   shutil.rmtree(dir_wf)\n",
    "os.makedirs(dir_wf)\n",
    "\n",
    "\n",
    "for x_exp,exp in enumerate(expnames):\n",
    "\n",
    "    src_dir=path+'/'+exp+'/'+'output_local_'+exp.split('.')[1];   #print(path1)\n",
    "\n",
    "    # Create AIS (WAIS+EAIS)\n",
    "    file1=\"{arg0}.ar5AIS.ipccar5.icesheets_EAIS_localsl.nc\".format(arg0=exp)\n",
    "    file2=\"{arg0}.ar5AIS.ipccar5.icesheets_WAIS_localsl.nc\".format(arg0=exp)\n",
    "    d_nc1=xr.open_dataset(src_dir+'/'+file1);  \n",
    "    d_nc2=xr.open_dataset(src_dir+'/'+file2)\n",
    "    # Extract the variable to add.\n",
    "    slr = d_nc1['sea_level_change'] + d_nc2['sea_level_change']\n",
    "    # Create a copy of the old dataset (for attr/coord)\n",
    "    d_nc_new = d_nc1.copy(deep=True)\n",
    "    # Modify the variable you want to change\n",
    "    d_nc_new['sea_level_change'] = slr\n",
    "    # Save the merged dataset to a new netCDF file\n",
    "    d_nc_new.to_netcdf(src_dir+'/'+'{arg0}.ar5AIS.ipccar5.icesheets_AIS_localsl.nc'.format(arg0=exp))\n",
    "    \n",
    "    # Grab all the files int h current dir\n",
    "    files = os.listdir(src_dir)\n",
    "\n",
    "    # Copy component Files\n",
    "    f_comp=[]; f_wf=[]\n",
    "    for f in files:\n",
    "    \n",
    "        if 'total' in f: \n",
    "            f_wf.append(f) \n",
    "        else: \n",
    "            f_comp.append(f) \n",
    "    \n",
    "        dst_file=os.path.join(dir_comp, f); src_file=os.path.join(src_dir, f); shutil.copy(src_file, dst_file)\n",
    "        dst_file=os.path.join(dir_wf, f); src_file=os.path.join(src_dir, f); shutil.copy(src_file, dst_file)\n",
    "        \n",
    "\n",
    "\n",
    "    \n",
    "\n"
   ]
  },
  {
   "cell_type": "code",
   "execution_count": 2,
   "metadata": {},
   "outputs": [
    {
     "name": "stdout",
     "output_type": "stream",
     "text": [
      "WF 1e\n",
      "WF 1f\n",
      "WF 2e\n",
      "WF 2f\n",
      "WF 3e\n",
      "WF 3f\n",
      "WF 4\n"
     ]
    }
   ],
   "source": [
    "! source /scratch/pk695/FACTS/nzOG-pk695/scripts__pk695/scripts/001_copy_files_to_full_sample_workflows/copy_files_to_workflows.sh"
   ]
  }
 ],
 "metadata": {
  "kernelspec": {
   "display_name": "Python 3 (ipykernel)",
   "language": "python",
   "name": "python3"
  },
  "language_info": {
   "codemirror_mode": {
    "name": "ipython",
    "version": 3
   },
   "file_extension": ".py",
   "mimetype": "text/x-python",
   "name": "python",
   "nbconvert_exporter": "python",
   "pygments_lexer": "ipython3",
   "version": "3.9.15"
  }
 },
 "nbformat": 4,
 "nbformat_minor": 2
}
