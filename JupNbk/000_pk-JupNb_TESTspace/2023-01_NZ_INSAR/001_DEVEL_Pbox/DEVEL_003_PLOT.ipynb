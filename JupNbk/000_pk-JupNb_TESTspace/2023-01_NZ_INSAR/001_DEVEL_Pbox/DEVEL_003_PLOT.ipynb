{
 "cells": [
  {
   "attachments": {},
   "cell_type": "markdown",
   "metadata": {},
   "source": [
    "### <font color=black> IMPORT:: <font color=blue> **py modules** </font> </font>"
   ]
  },
  {
   "cell_type": "code",
   "execution_count": 4,
   "metadata": {},
   "outputs": [],
   "source": [
    "import numpy as np\n",
    "import pandas as pd\n",
    "import xarray as xr\n",
    "import netCDF4 as nc\n",
    "from mpl_toolkits.basemap import Basemap\n",
    "import glob\n",
    "import os\n",
    "import shutil\n",
    "import re\n",
    "import cartopy\n",
    "import matplotlib.ticker as mticker\n",
    "import matplotlib.pyplot as plt\n",
    "import fnmatch\n",
    "#\n",
    "PD=os.getcwd(); #PD\n",
    "#\n",
    "import fun_pbox as fn"
   ]
  },
  {
   "attachments": {},
   "cell_type": "markdown",
   "metadata": {},
   "source": [
    "---\n",
    "## <font color=red> IP:: Load Data  </font>\n",
    "---"
   ]
  },
  {
   "cell_type": "code",
   "execution_count": 5,
   "metadata": {},
   "outputs": [
    {
     "data": {
      "text/plain": [
       "<Figure size 640x480 with 0 Axes>"
      ]
     },
     "execution_count": 5,
     "metadata": {},
     "output_type": "execute_result"
    },
    {
     "data": {
      "text/plain": [
       "<Figure size 640x480 with 0 Axes>"
      ]
     },
     "metadata": {},
     "output_type": "display_data"
    }
   ],
   "source": [
    "color_SSP119 = np.array([0, 173, 207]) / 255\n",
    "color_SSP126 = np.array([23, 60, 102]) / 255\n",
    "color_SSP245 = np.array([247, 148, 32]) / 255\n",
    "color_SSP370 = np.array([231, 29, 37]) / 255\n",
    "color_SSP585 = np.array([149, 27, 30]) / 255\n",
    "\n",
    "loc=0\n",
    "#\n",
    "sspDIR = ['/scratch/pk695/FACTS/002_fork/facts/JupNbk/000_pk-JupNb_TESTspace/2023-01_NZ_INSAR/001_DEVEL_Pbox/004_CI_files/medium_confidence/ssp126/',\n",
    "           '/scratch/pk695/FACTS/002_fork/facts/JupNbk/000_pk-JupNb_TESTspace/2023-01_NZ_INSAR/001_DEVEL_Pbox/004_CI_files/medium_confidence/ssp585/'];\n",
    "#\n",
    "# doscens = ['ssp126', 'ssp585']\n",
    "scentitles = ['SSP1-2.6', 'SSP5-8.5']\n",
    "#\n",
    "plt.figure()"
   ]
  },
  {
   "cell_type": "code",
   "execution_count": 6,
   "metadata": {},
   "outputs": [
    {
     "data": {
      "image/png": "[encoded data removed]",
      "text/plain": [
       "<Figure size 640x480 with 2 Axes>"
      ]
     },
     "metadata": {},
     "output_type": "display_data"
    }
   ],
   "source": [
    "for ss0,ss1 in enumerate(sspDIR):\n",
    "    files = glob.glob(sspDIR[ss0] + '/*.nc')\n",
    "    sls = np.empty((0, 0))\n",
    "    for fn0,fn1 in enumerate(files):\n",
    "        dataset = xr.open_dataset(fn1)\n",
    "        time = dataset['years'].values\n",
    "        subt = np.where(time == 2100)[0][0]\n",
    "        quant=dataset['quantiles'].values\n",
    "        subq = np.where(np.isin(quant, [0.17,0.83]))[0]\n",
    "        #\n",
    "        # sl = dataset['sea_level_change'].values[subq,subt,loc].T\n",
    "        sl = dataset['sea_level_change'].values[:,subt,loc].T\n",
    "        if sls.size == 0: sls = sl\n",
    "        else: sls=np.vstack((sls,sl))\n",
    "\n",
    "    # # qlevs = np.arange(0.01, 1.0, 0.01).reshape(1, -1)\n",
    "    # # qvals = np.quantile(sls, qlevs)\n",
    "    # # subq = np.where(np.isin(qlevs, [0.17, 0.83]))\n",
    "\n",
    "    colrs=['color_SSP119','color_SSP126','color_SSP245','color_SSP585']\n",
    "    lws = [2, 2, 1, 1] * 2\n",
    "    \n",
    "    ax1 = plt.subplot(2, 2, 1 + (ss0 ) * 2)\n",
    "    \n",
    "    for sss in range(4):\n",
    "        xx=sls[sss,:]/1000\n",
    "        xx1=sls[sss,subq]/1000\n",
    "        yy=dataset['quantiles'].values\n",
    "        yy1 = [-0.05 * sss] * 2\n",
    "        ax1.plot(xx, yy, color=eval(f'{colrs[sss]}'), linewidth=lws[sss])\n",
    "        ax1.plot(xx1,yy1,color=eval(f'{colrs[sss]}'), linewidth=lws[sss])\n",
    "\n",
    "plt.show()"
   ]
  },
  {
   "cell_type": "code",
   "execution_count": null,
   "metadata": {},
   "outputs": [],
   "source": [
    "dataset"
   ]
  },
  {
   "attachments": {},
   "cell_type": "markdown",
   "metadata": {},
   "source": [
    "#\n",
    "---"
   ]
  },
  {
   "cell_type": "code",
   "execution_count": null,
   "metadata": {},
   "outputs": [],
   "source": [
    "for dd0,dd1 in enumerate(doscens):\n",
    "    files = glob.glob(doscens[dd0] + '/*.nc')\n",
    "    sls = []\n",
    "    #\n",
    "    for fn0,fn1 in enumerate(files):\n",
    "        dataset = xr.open_dataset(fn1)\n",
    "        time = dataset['years'].values\n",
    "        \n",
    "        sl = dataset['sea_level_change'].values\n",
    "        subt = np.where((time >= 2020) & (time <= 2100))[0][0]\n",
    "        sls=np.vstack((sls,sl[subt]))\n",
    "    \n",
    "    qlevs = np.arange(0.01:.01:.99)\n",
    "    qvals = np.quantile(sls, qlevs)\n",
    "    subq = np.where(np.isin(qlevs, [0.17, 0.83]))\n",
    "\n",
    "    colrs = [color_SSP119, color_SSP126, color_SSP245, color_SSP585]\n",
    "    lws = [2, 2, 1, 1] * 2\n",
    "\n",
    "    ax1 = plt.subplot(2, 2, 1 + (dddd - 1) * 2)\n",
    "    for sss in range(4):\n",
    "        ax1.plot(qvals[:, sss] / 1000, qlevs, color=colrs[sss], linewidth=lws[sss])\n",
    "        ax1.plot(qvals[subq, sss] / 1000, [-0.05 * sss] * 2, color=colrs[sss], linewidth=lws[sss])\n",
    "    ax1.plot([0, 4], [0, 0], 'k-')\n",
    "    ax1.set_xlim([0, 3.5])\n",
    "    ax1.set_ylim([-0.25, 1])\n",
    "    ax1.set_yticks(np.arange(0, 1.2, 0.2))\n",
    "    ax1.set_yticklabels(['0.0', '0.2', '0.4', '0.6', '0.8', '1.0'])\n",
    "    ax1.set_title(scentitles[dddd] + ' - Distributions')\n",
    "    ax1.legend(['ISMIP6', 'LARMIP', 'MICI', 'SEJ'], loc='lower right')\n",
    "    ax1.set_xlabel('GMSL (m)')\n",
    "    ax1.set_ylabel('quantile')\n",
    "\n",
    "    pbox1l = np.min(qvals[:, 0:2], axis=1)\n",
    "    pbox1h = np.max(qvals[:, 0:2], axis=1)\n",
    "    pbox2l = np.min(qvals, axis=1)\n",
    "    pbox2h = np.max(qvals, axis=1)\n",
    "\n",
    "    ax2 = plt.subplot(2, 2, 2 + (dddd - 1) * 2)\n",
    "    ax2.fill_betweenx(qlevs, pbox2l / 1000, pbox2h[::-1] / 1000, facecolor=[0.8, 0.8, 1])\n",
    "    ax2.fill_betweenx(qlevs, pbox1l / 1000, pbox1h[::-1] / 1000, facecolor=[0.4, 0.4, 1])\n",
    "    ax2.plot([pbox2l[subq[0]] / 1000, pbox2h[subq[1]] / 1000], [-0.1] * 2, color=[0.8, 0.8, 1], linewidth=6)\n",
    "    ax2.plot([pbox1l[subq[0]] / 1000, pbox1h[subq[1]] / 1000], [-0.1] * 2, color=[0.4, 0.4, 1], linewidth=6)\n",
    "    ax2.plot([0, 4], [0, 0], 'k-')\n",
    "    ax2.set_xlim([0, 3.5])\n",
    "    ax2.set_ylim([-0.25, 1])\n",
    "    ax2.legend(['Med. conf.', 'Low conf.'], loc='lower right')\n",
    "    ax2.set_xlabel('GMSL (m)')\n",
    "    ax2.set_title(scentitles[dddd] + ' - P-Boxes')\n",
    "    ax2.set_yticks(np.arange(0, 1.2, 0.2))\n",
    "    ax2.set_ylabel('quantile')\n",
    "\n",
    "plt.savefig('pboxes.pdf')\n",
    "plt.show()\n",
    "\n",
    "plt.figure()\n",
    "\n",
    "for dddd in range(len(doscens)):\n",
    "    files = glob.glob(doscens[dddd] + '/*.nc')\n",
    "    sls = []\n",
    "\n",
    "    for fn in files:\n",
    "        # print(fn)\n",
    "        dataset = xr.open_dataset(fn)\n",
    "        time = dataset['years'].values\n",
    "        sl = dataset['sea_level_change'].values\n",
    "        subt = np.where(time == 2100)[0][0]\n",
    "        sls.append(sl[subt])\n",
    "\n",
    "    qlevs = np.arange(0.005, 1, 0.005)\n",
    "    qvals = np.quantile(sls, qlevs)\n",
    "    subq = np.where(np.isin(qlevs, [0.17, 0.83]))\n",
    "\n",
    "    colrs = [color_SSP119, color_SSP126, color_SSP245, color_SSP585]\n",
    "    lws = [2, 2, 1, 1] * 2\n",
    "\n",
    "    binwidth = 50\n",
    "    ax1 = plt.subplot(3, 2, dddd + 1)\n",
    "    for sss in range(4):\n",
    "        n, edges = np.histogram(sls[sss], bins=np.arange(0, 4000 + binwidth, binwidth))\n",
    "        n = n / sum(n) / (binwidth / 1000)\n",
    "        ax1.plot(0.5 * (edges[1:] + edges[:-1]) / 1000, n, color=colrs[sss], linewidth=lws[sss] / 2)\n",
    "    ax1.set_xlim([0, 3.5])\n",
    "    ax1.set_yticklabels([])\n",
    "    ax1.set_xticklabels([])\n",
    "    ax1.set_title(scentitles[dddd])\n",
    "    if dddd == 0:\n",
    "        ax1.legend(['ISMIP6', 'LARMIP', 'MICI', 'SEJ'], loc='lower right')\n",
    "    if dddd == 0:\n",
    "        ax1.set_ylabel('Probability density')\n",
    "\n",
    "    ax2 = plt.subplot(3, 2, 2 + dddd)\n",
    "    for sss in range(4):\n",
    "        ax2.plot(qvals[sss] / 1000, qlevs, color=colrs[sss], linewidth=lws[sss])\n",
    "        ax2.plot(qvals[subq, sss] / 1000, -0.05 * (sss + 1) * np.ones(2), color=colrs[sss], linewidth=lws[sss])\n",
    "    ax2.plot([0, 4], [0, 0], 'k-')\n",
    "    ax2.set_xlim([0, 3.5])\n",
    "    ax2.set_ylim([-0.25, 1])\n",
    "    ax2.set_yticks(np.arange(0, 1.2, 0.2))\n",
    "    ax2.set_xticklabels([])\n",
    "    if dddd == 0:\n",
    "        ax2.text(3.2, -0.15, '17th-83rd percentile ranges', horizontalalignment='right', fontangle='italic')\n",
    "    if dddd == 0:\n",
    "        ax2.set_ylabel('CDF quantile')\n",
    "    if dddd == 1:\n",
    "        ax2.yaxis.set_label_position(\"right\")\n",
    "\n",
    "    pbox1l = np.min(qvals[:, :2], axis=1)\n",
    "    pbox1h = np.max(qvals[:, :2], axis=1)\n",
    "    pbox2l = np.min(qvals, axis=1)\n",
    "    pbox2h = np.max(qvals, axis=1)\n",
    "\n",
    "    ax3 = plt.subplot(3, 2, 4 + dddd)\n",
    "    ax3.fill_betweenx(qlevs, pbox2l / 1000, pbox2h[::-1] / 1000, facecolor=[0.8, 0.8, 1])\n",
    "    ax3.fill_betweenx(qlevs, pbox1l / 1000, pbox1h[::-1] / 1000, facecolor=[0.4, 0.4, 1])\n",
    "    ax3.plot([pbox2l[subq[0]] / 1000, pbox2h[subq[1]] / 1000], [-0.1] * 2, color=[0.8, 0.8, 1], linewidth=6)\n",
    "    ax3.plot([pbox1l[subq[0]] / 1000, pbox1h[subq[1]] / 1000], [-0.1] * 2, color=[0.4, 0.4, 1], linewidth=6)\n",
    "    ax3.plot([0, 4], [0, 0], 'k-')\n",
    "    ax3.set_xlim([0, 3.5])\n",
    "    ax3.set_ylim([-0.25, 1])\n",
    "    if dddd == 0:\n",
    "        ax3.legend(['Med. conf.', 'Low conf.'], loc='lower right')\n",
    "    if dddd == 0:\n",
    "        ax3.set_ylabel('p-box quantile')\n",
    "    if dddd == 1:\n",
    "        ax3.yaxis.set_label_position(\"right\")\n",
    "    ax3.set_xlabel('GMSL rise in 2100 (m)')\n",
    "\n",
    "plt.savefig('pboxesB.pdf')\n",
    "plt.show()\n"
   ]
  },
  {
   "attachments": {},
   "cell_type": "markdown",
   "metadata": {},
   "source": [
    "---\n",
    "## <font color=red> PLT:: PB  </font>\n",
    "---"
   ]
  },
  {
   "cell_type": "code",
   "execution_count": null,
   "metadata": {},
   "outputs": [],
   "source": [
    "%matplotlib inline"
   ]
  }
 ],
 "metadata": {
  "kernelspec": {
   "display_name": "plot",
   "language": "python",
   "name": "python3"
  },
  "language_info": {
   "codemirror_mode": {
    "name": "ipython",
    "version": 3
   },
   "file_extension": ".py",
   "mimetype": "text/x-python",
   "name": "python",
   "nbconvert_exporter": "python",
   "pygments_lexer": "ipython3",
   "version": "3.9.15"
  }
 },
 "nbformat": 4,
 "nbformat_minor": 2
}
