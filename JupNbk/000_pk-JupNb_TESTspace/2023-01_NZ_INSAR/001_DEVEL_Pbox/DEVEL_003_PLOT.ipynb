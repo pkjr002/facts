{
 "cells": [
  {
   "attachments": {},
   "cell_type": "markdown",
   "metadata": {},
   "source": [
    "### <font color=black> IMPORT:: <font color=blue> **py modules** </font> </font>"
   ]
  },
  {
   "cell_type": "code",
   "execution_count": 1,
   "metadata": {},
   "outputs": [],
   "source": [
    "import numpy as np\n",
    "import pandas as pd\n",
    "import xarray as xr\n",
    "import netCDF4 as nc\n",
    "from mpl_toolkits.basemap import Basemap\n",
    "import glob\n",
    "import os\n",
    "import shutil\n",
    "import re\n",
    "import cartopy\n",
    "import matplotlib.ticker as mticker\n",
    "import matplotlib.pyplot as plt\n",
    "%matplotlib inline\n",
    "import fnmatch\n",
    "#\n",
    "PD=os.getcwd(); #PD\n",
    "#\n",
    "import fun_pbox as fn"
   ]
  },
  {
   "attachments": {},
   "cell_type": "markdown",
   "metadata": {},
   "source": [
    "---\n",
    "## <font color=red> IP:: Load Data  </font>\n",
    "---"
   ]
  },
  {
   "cell_type": "code",
   "execution_count": 12,
   "metadata": {},
   "outputs": [
    {
     "data": {
      "text/plain": [
       "[array([12., 20., 23., 30., 36., 44., 51., 51., 57.], dtype=float32)]"
      ]
     },
     "execution_count": 12,
     "metadata": {},
     "output_type": "execute_result"
    }
   ],
   "source": [
    "dataset = xr.open_dataset(fn)\n",
    "time = dataset['years'].values      \n",
    "sl = np.squeeze(dataset['sea_level_change'].values)\n",
    "subt = np.where(time == 2100)[0][0]\n",
    "sls = []\n",
    "sls.append(sl[subt])\n",
    "sls"
   ]
  },
  {
   "cell_type": "code",
   "execution_count": 6,
   "metadata": {},
   "outputs": [
    {
     "name": "stderr",
     "output_type": "stream",
     "text": [
      "/tmp/ipykernel_50236/2394012491.py:29: VisibleDeprecationWarning: Creating an ndarray from ragged nested sequences (which is a list-or-tuple of lists-or-tuples-or ndarrays with different lengths or shapes) is deprecated. If you meant to do this, you must specify 'dtype=object' when creating the ndarray.\n",
      "  sls=np.array(sls)\n"
     ]
    },
    {
     "ename": "ValueError",
     "evalue": "operands could not be broadcast together with shapes (15,1) (9,1) ",
     "output_type": "error",
     "traceback": [
      "\u001b[0;31m---------------------------------------------------------------------------\u001b[0m",
      "\u001b[0;31mValueError\u001b[0m                                Traceback (most recent call last)",
      "\u001b[1;32m/scratch/pk695/FACTS/002_fork/facts/JupNbk/000_pk-JupNb_TESTspace/2023-01_NZ_INSAR/001_DEVEL_Pbox/DEVEL_003_PLOT.ipynb Cell 5\u001b[0m in \u001b[0;36m3\n\u001b[1;32m     <a href='vscode-notebook-cell://ssh-remote%2Bpk695/scratch/pk695/FACTS/002_fork/facts/JupNbk/000_pk-JupNb_TESTspace/2023-01_NZ_INSAR/001_DEVEL_Pbox/DEVEL_003_PLOT.ipynb#W4sdnNjb2RlLXJlbW90ZQ%3D%3D?line=28'>29</a>\u001b[0m sls\u001b[39m=\u001b[39mnp\u001b[39m.\u001b[39marray(sls)\n\u001b[1;32m     <a href='vscode-notebook-cell://ssh-remote%2Bpk695/scratch/pk695/FACTS/002_fork/facts/JupNbk/000_pk-JupNb_TESTspace/2023-01_NZ_INSAR/001_DEVEL_Pbox/DEVEL_003_PLOT.ipynb#W4sdnNjb2RlLXJlbW90ZQ%3D%3D?line=29'>30</a>\u001b[0m qlevs \u001b[39m=\u001b[39m np\u001b[39m.\u001b[39marange(\u001b[39m0.01\u001b[39m, \u001b[39m1\u001b[39m, \u001b[39m0.01\u001b[39m)\n\u001b[0;32m---> <a href='vscode-notebook-cell://ssh-remote%2Bpk695/scratch/pk695/FACTS/002_fork/facts/JupNbk/000_pk-JupNb_TESTspace/2023-01_NZ_INSAR/001_DEVEL_Pbox/DEVEL_003_PLOT.ipynb#W4sdnNjb2RlLXJlbW90ZQ%3D%3D?line=30'>31</a>\u001b[0m qvals \u001b[39m=\u001b[39m np\u001b[39m.\u001b[39;49mquantile(sls, qlevs)\n\u001b[1;32m     <a href='vscode-notebook-cell://ssh-remote%2Bpk695/scratch/pk695/FACTS/002_fork/facts/JupNbk/000_pk-JupNb_TESTspace/2023-01_NZ_INSAR/001_DEVEL_Pbox/DEVEL_003_PLOT.ipynb#W4sdnNjb2RlLXJlbW90ZQ%3D%3D?line=31'>32</a>\u001b[0m subq \u001b[39m=\u001b[39m np\u001b[39m.\u001b[39mwhere(np\u001b[39m.\u001b[39misin(qlevs, [\u001b[39m0.17\u001b[39m, \u001b[39m0.83\u001b[39m]))\n\u001b[1;32m     <a href='vscode-notebook-cell://ssh-remote%2Bpk695/scratch/pk695/FACTS/002_fork/facts/JupNbk/000_pk-JupNb_TESTspace/2023-01_NZ_INSAR/001_DEVEL_Pbox/DEVEL_003_PLOT.ipynb#W4sdnNjb2RlLXJlbW90ZQ%3D%3D?line=33'>34</a>\u001b[0m colrs \u001b[39m=\u001b[39m [color_SSP119, color_SSP126, color_SSP245, color_SSP585]\n",
      "File \u001b[0;32m<__array_function__ internals>:180\u001b[0m, in \u001b[0;36mquantile\u001b[0;34m(*args, **kwargs)\u001b[0m\n",
      "File \u001b[0;32m~/000_swre/miniconda/envs/plot/lib/python3.9/site-packages/numpy/lib/function_base.py:4412\u001b[0m, in \u001b[0;36mquantile\u001b[0;34m(a, q, axis, out, overwrite_input, method, keepdims, interpolation)\u001b[0m\n\u001b[1;32m   4410\u001b[0m \u001b[39mif\u001b[39;00m \u001b[39mnot\u001b[39;00m _quantile_is_valid(q):\n\u001b[1;32m   4411\u001b[0m     \u001b[39mraise\u001b[39;00m \u001b[39mValueError\u001b[39;00m(\u001b[39m\"\u001b[39m\u001b[39mQuantiles must be in the range [0, 1]\u001b[39m\u001b[39m\"\u001b[39m)\n\u001b[0;32m-> 4412\u001b[0m \u001b[39mreturn\u001b[39;00m _quantile_unchecked(\n\u001b[1;32m   4413\u001b[0m     a, q, axis, out, overwrite_input, method, keepdims)\n",
      "File \u001b[0;32m~/000_swre/miniconda/envs/plot/lib/python3.9/site-packages/numpy/lib/function_base.py:4424\u001b[0m, in \u001b[0;36m_quantile_unchecked\u001b[0;34m(a, q, axis, out, overwrite_input, method, keepdims)\u001b[0m\n\u001b[1;32m   4416\u001b[0m \u001b[39mdef\u001b[39;00m \u001b[39m_quantile_unchecked\u001b[39m(a,\n\u001b[1;32m   4417\u001b[0m                         q,\n\u001b[1;32m   4418\u001b[0m                         axis\u001b[39m=\u001b[39m\u001b[39mNone\u001b[39;00m,\n\u001b[0;32m   (...)\u001b[0m\n\u001b[1;32m   4421\u001b[0m                         method\u001b[39m=\u001b[39m\u001b[39m\"\u001b[39m\u001b[39mlinear\u001b[39m\u001b[39m\"\u001b[39m,\n\u001b[1;32m   4422\u001b[0m                         keepdims\u001b[39m=\u001b[39m\u001b[39mFalse\u001b[39;00m):\n\u001b[1;32m   4423\u001b[0m     \u001b[39m\"\"\"Assumes that q is in [0, 1], and is an ndarray\"\"\"\u001b[39;00m\n\u001b[0;32m-> 4424\u001b[0m     r, k \u001b[39m=\u001b[39m _ureduce(a,\n\u001b[1;32m   4425\u001b[0m                     func\u001b[39m=\u001b[39;49m_quantile_ureduce_func,\n\u001b[1;32m   4426\u001b[0m                     q\u001b[39m=\u001b[39;49mq,\n\u001b[1;32m   4427\u001b[0m                     axis\u001b[39m=\u001b[39;49maxis,\n\u001b[1;32m   4428\u001b[0m                     out\u001b[39m=\u001b[39;49mout,\n\u001b[1;32m   4429\u001b[0m                     overwrite_input\u001b[39m=\u001b[39;49moverwrite_input,\n\u001b[1;32m   4430\u001b[0m                     method\u001b[39m=\u001b[39;49mmethod)\n\u001b[1;32m   4431\u001b[0m     \u001b[39mif\u001b[39;00m keepdims:\n\u001b[1;32m   4432\u001b[0m         \u001b[39mreturn\u001b[39;00m r\u001b[39m.\u001b[39mreshape(q\u001b[39m.\u001b[39mshape \u001b[39m+\u001b[39m k)\n",
      "File \u001b[0;32m~/000_swre/miniconda/envs/plot/lib/python3.9/site-packages/numpy/lib/function_base.py:3725\u001b[0m, in \u001b[0;36m_ureduce\u001b[0;34m(a, func, **kwargs)\u001b[0m\n\u001b[1;32m   3722\u001b[0m \u001b[39melse\u001b[39;00m:\n\u001b[1;32m   3723\u001b[0m     keepdim \u001b[39m=\u001b[39m (\u001b[39m1\u001b[39m,) \u001b[39m*\u001b[39m a\u001b[39m.\u001b[39mndim\n\u001b[0;32m-> 3725\u001b[0m r \u001b[39m=\u001b[39m func(a, \u001b[39m*\u001b[39;49m\u001b[39m*\u001b[39;49mkwargs)\n\u001b[1;32m   3726\u001b[0m \u001b[39mreturn\u001b[39;00m r, keepdim\n",
      "File \u001b[0;32m~/000_swre/miniconda/envs/plot/lib/python3.9/site-packages/numpy/lib/function_base.py:4593\u001b[0m, in \u001b[0;36m_quantile_ureduce_func\u001b[0;34m(a, q, axis, out, overwrite_input, method)\u001b[0m\n\u001b[1;32m   4591\u001b[0m     \u001b[39melse\u001b[39;00m:\n\u001b[1;32m   4592\u001b[0m         arr \u001b[39m=\u001b[39m a\u001b[39m.\u001b[39mcopy()\n\u001b[0;32m-> 4593\u001b[0m result \u001b[39m=\u001b[39m _quantile(arr,\n\u001b[1;32m   4594\u001b[0m                    quantiles\u001b[39m=\u001b[39;49mq,\n\u001b[1;32m   4595\u001b[0m                    axis\u001b[39m=\u001b[39;49maxis,\n\u001b[1;32m   4596\u001b[0m                    method\u001b[39m=\u001b[39;49mmethod,\n\u001b[1;32m   4597\u001b[0m                    out\u001b[39m=\u001b[39;49mout)\n\u001b[1;32m   4598\u001b[0m \u001b[39mreturn\u001b[39;00m result\n",
      "File \u001b[0;32m~/000_swre/miniconda/envs/plot/lib/python3.9/site-packages/numpy/lib/function_base.py:4691\u001b[0m, in \u001b[0;36m_quantile\u001b[0;34m(arr, quantiles, axis, method, out)\u001b[0m\n\u001b[1;32m   4687\u001b[0m previous_indexes, next_indexes \u001b[39m=\u001b[39m _get_indexes(arr,\n\u001b[1;32m   4688\u001b[0m                                               virtual_indexes,\n\u001b[1;32m   4689\u001b[0m                                               values_count)\n\u001b[1;32m   4690\u001b[0m \u001b[39m# --- Sorting\u001b[39;00m\n\u001b[0;32m-> 4691\u001b[0m arr\u001b[39m.\u001b[39;49mpartition(\n\u001b[1;32m   4692\u001b[0m     np\u001b[39m.\u001b[39;49munique(np\u001b[39m.\u001b[39;49mconcatenate(([\u001b[39m0\u001b[39;49m, \u001b[39m-\u001b[39;49m\u001b[39m1\u001b[39;49m],\n\u001b[1;32m   4693\u001b[0m                               previous_indexes\u001b[39m.\u001b[39;49mravel(),\n\u001b[1;32m   4694\u001b[0m                               next_indexes\u001b[39m.\u001b[39;49mravel(),\n\u001b[1;32m   4695\u001b[0m                               ))),\n\u001b[1;32m   4696\u001b[0m     axis\u001b[39m=\u001b[39;49mDATA_AXIS)\n\u001b[1;32m   4697\u001b[0m \u001b[39mif\u001b[39;00m np\u001b[39m.\u001b[39missubdtype(arr\u001b[39m.\u001b[39mdtype, np\u001b[39m.\u001b[39minexact):\n\u001b[1;32m   4698\u001b[0m     slices_having_nans \u001b[39m=\u001b[39m np\u001b[39m.\u001b[39misnan(\n\u001b[1;32m   4699\u001b[0m         take(arr, indices\u001b[39m=\u001b[39m\u001b[39m-\u001b[39m\u001b[39m1\u001b[39m, axis\u001b[39m=\u001b[39mDATA_AXIS)\n\u001b[1;32m   4700\u001b[0m     )\n",
      "\u001b[0;31mValueError\u001b[0m: operands could not be broadcast together with shapes (15,1) (9,1) "
     ]
    },
    {
     "data": {
      "text/plain": [
       "<Figure size 640x480 with 0 Axes>"
      ]
     },
     "metadata": {},
     "output_type": "display_data"
    }
   ],
   "source": [
    "import matplotlib.pyplot as plt\n",
    "import numpy as np\n",
    "\n",
    "color_SSP119 = np.array([0, 173, 207]) / 255\n",
    "color_SSP126 = np.array([23, 60, 102]) / 255\n",
    "color_SSP245 = np.array([247, 148, 32]) / 255\n",
    "color_SSP370 = np.array([231, 29, 37]) / 255\n",
    "color_SSP585 = np.array([149, 27, 30]) / 255\n",
    "\n",
    "doscens = ['/scratch/pk695/FACTS/002_fork/facts/JupNbk/000_pk-JupNb_TESTspace/2023-01_NZ_INSAR/001_DEVEL_Pbox/004_CI_files/medium_confidence/ssp126/',\n",
    "            '/scratch/pk695/FACTS/002_fork/facts/JupNbk/000_pk-JupNb_TESTspace/2023-01_NZ_INSAR/001_DEVEL_Pbox/004_CI_files/medium_confidence/ssp585/'];\n",
    "\n",
    "# doscens = ['ssp126', 'ssp585']\n",
    "scentitles = ['SSP1-2.6', 'SSP5-8.5']\n",
    "\n",
    "plt.figure()\n",
    "\n",
    "for dddd in range(len(doscens)):\n",
    "    files = glob.glob(doscens[dddd] + '/*.nc')\n",
    "    sls = []\n",
    "\n",
    "    for fn in files:\n",
    "        # print(fn)\n",
    "        dataset = xr.open_dataset(fn)\n",
    "        time = dataset['years'].values\n",
    "        sl = dataset['sea_level_change'].values\n",
    "        subt = np.where(time == 2100)[0][0]\n",
    "        # sls.append(sl[subt])\n",
    "        sls=np.hstack((sls,(sl[subt])))\n",
    "    sls=np.array(sls)\n",
    "    qlevs = np.arange(0.01, 1, 0.01)\n",
    "    qvals = np.quantile(sls, qlevs)\n",
    "    subq = np.where(np.isin(qlevs, [0.17, 0.83]))\n",
    "\n",
    "    colrs = [color_SSP119, color_SSP126, color_SSP245, color_SSP585]\n",
    "    lws = [2, 2, 1, 1] * 2\n",
    "\n",
    "    ax1 = plt.subplot(2, 2, 1 + (dddd - 1) * 2)\n",
    "    for sss in range(4):\n",
    "        ax1.plot(qvals[:, sss] / 1000, qlevs, color=colrs[sss], linewidth=lws[sss])\n",
    "        ax1.plot(qvals[subq, sss] / 1000, [-0.05 * sss] * 2, color=colrs[sss], linewidth=lws[sss])\n",
    "    ax1.plot([0, 4], [0, 0], 'k-')\n",
    "    ax1.set_xlim([0, 3.5])\n",
    "    ax1.set_ylim([-0.25, 1])\n",
    "    ax1.set_yticks(np.arange(0, 1.2, 0.2))\n",
    "    ax1.set_yticklabels(['0.0', '0.2', '0.4', '0.6', '0.8', '1.0'])\n",
    "    ax1.set_title(scentitles[dddd] + ' - Distributions')\n",
    "    ax1.legend(['ISMIP6', 'LARMIP', 'MICI', 'SEJ'], loc='lower right')\n",
    "    ax1.set_xlabel('GMSL (m)')\n",
    "    ax1.set_ylabel('quantile')\n",
    "\n",
    "    pbox1l = np.min(qvals[:, 0:2], axis=1)\n",
    "    pbox1h = np.max(qvals[:, 0:2], axis=1)\n",
    "    pbox2l = np.min(qvals, axis=1)\n",
    "    pbox2h = np.max(qvals, axis=1)\n",
    "\n",
    "    ax2 = plt.subplot(2, 2, 2 + (dddd - 1) * 2)\n",
    "    ax2.fill_betweenx(qlevs, pbox2l / 1000, pbox2h[::-1] / 1000, facecolor=[0.8, 0.8, 1])\n",
    "    ax2.fill_betweenx(qlevs, pbox1l / 1000, pbox1h[::-1] / 1000, facecolor=[0.4, 0.4, 1])\n",
    "    ax2.plot([pbox2l[subq[0]] / 1000, pbox2h[subq[1]] / 1000], [-0.1] * 2, color=[0.8, 0.8, 1], linewidth=6)\n",
    "    ax2.plot([pbox1l[subq[0]] / 1000, pbox1h[subq[1]] / 1000], [-0.1] * 2, color=[0.4, 0.4, 1], linewidth=6)\n",
    "    ax2.plot([0, 4], [0, 0], 'k-')\n",
    "    ax2.set_xlim([0, 3.5])\n",
    "    ax2.set_ylim([-0.25, 1])\n",
    "    ax2.legend(['Med. conf.', 'Low conf.'], loc='lower right')\n",
    "    ax2.set_xlabel('GMSL (m)')\n",
    "    ax2.set_title(scentitles[dddd] + ' - P-Boxes')\n",
    "    ax2.set_yticks(np.arange(0, 1.2, 0.2))\n",
    "    ax2.set_ylabel('quantile')\n",
    "\n",
    "plt.savefig('pboxes.pdf')\n",
    "plt.show()\n",
    "\n",
    "plt.figure()\n",
    "\n",
    "for dddd in range(len(doscens)):\n",
    "    files = glob.glob(doscens[dddd] + '/*.nc')\n",
    "    sls = []\n",
    "\n",
    "    for fn in files:\n",
    "        # print(fn)\n",
    "        dataset = xr.open_dataset(fn)\n",
    "        time = dataset['years'].values\n",
    "        sl = dataset['sea_level_change'].values\n",
    "        subt = np.where(time == 2100)[0][0]\n",
    "        sls.append(sl[subt])\n",
    "\n",
    "    qlevs = np.arange(0.005, 1, 0.005)\n",
    "    qvals = np.quantile(sls, qlevs)\n",
    "    subq = np.where(np.isin(qlevs, [0.17, 0.83]))\n",
    "\n",
    "    colrs = [color_SSP119, color_SSP126, color_SSP245, color_SSP585]\n",
    "    lws = [2, 2, 1, 1] * 2\n",
    "\n",
    "    binwidth = 50\n",
    "    ax1 = plt.subplot(3, 2, dddd + 1)\n",
    "    for sss in range(4):\n",
    "        n, edges = np.histogram(sls[sss], bins=np.arange(0, 4000 + binwidth, binwidth))\n",
    "        n = n / sum(n) / (binwidth / 1000)\n",
    "        ax1.plot(0.5 * (edges[1:] + edges[:-1]) / 1000, n, color=colrs[sss], linewidth=lws[sss] / 2)\n",
    "    ax1.set_xlim([0, 3.5])\n",
    "    ax1.set_yticklabels([])\n",
    "    ax1.set_xticklabels([])\n",
    "    ax1.set_title(scentitles[dddd])\n",
    "    if dddd == 0:\n",
    "        ax1.legend(['ISMIP6', 'LARMIP', 'MICI', 'SEJ'], loc='lower right')\n",
    "    if dddd == 0:\n",
    "        ax1.set_ylabel('Probability density')\n",
    "\n",
    "    ax2 = plt.subplot(3, 2, 2 + dddd)\n",
    "    for sss in range(4):\n",
    "        ax2.plot(qvals[sss] / 1000, qlevs, color=colrs[sss], linewidth=lws[sss])\n",
    "        ax2.plot(qvals[subq, sss] / 1000, -0.05 * (sss + 1) * np.ones(2), color=colrs[sss], linewidth=lws[sss])\n",
    "    ax2.plot([0, 4], [0, 0], 'k-')\n",
    "    ax2.set_xlim([0, 3.5])\n",
    "    ax2.set_ylim([-0.25, 1])\n",
    "    ax2.set_yticks(np.arange(0, 1.2, 0.2))\n",
    "    ax2.set_xticklabels([])\n",
    "    if dddd == 0:\n",
    "        ax2.text(3.2, -0.15, '17th-83rd percentile ranges', horizontalalignment='right', fontangle='italic')\n",
    "    if dddd == 0:\n",
    "        ax2.set_ylabel('CDF quantile')\n",
    "    if dddd == 1:\n",
    "        ax2.yaxis.set_label_position(\"right\")\n",
    "\n",
    "    pbox1l = np.min(qvals[:, :2], axis=1)\n",
    "    pbox1h = np.max(qvals[:, :2], axis=1)\n",
    "    pbox2l = np.min(qvals, axis=1)\n",
    "    pbox2h = np.max(qvals, axis=1)\n",
    "\n",
    "    ax3 = plt.subplot(3, 2, 4 + dddd)\n",
    "    ax3.fill_betweenx(qlevs, pbox2l / 1000, pbox2h[::-1] / 1000, facecolor=[0.8, 0.8, 1])\n",
    "    ax3.fill_betweenx(qlevs, pbox1l / 1000, pbox1h[::-1] / 1000, facecolor=[0.4, 0.4, 1])\n",
    "    ax3.plot([pbox2l[subq[0]] / 1000, pbox2h[subq[1]] / 1000], [-0.1] * 2, color=[0.8, 0.8, 1], linewidth=6)\n",
    "    ax3.plot([pbox1l[subq[0]] / 1000, pbox1h[subq[1]] / 1000], [-0.1] * 2, color=[0.4, 0.4, 1], linewidth=6)\n",
    "    ax3.plot([0, 4], [0, 0], 'k-')\n",
    "    ax3.set_xlim([0, 3.5])\n",
    "    ax3.set_ylim([-0.25, 1])\n",
    "    if dddd == 0:\n",
    "        ax3.legend(['Med. conf.', 'Low conf.'], loc='lower right')\n",
    "    if dddd == 0:\n",
    "        ax3.set_ylabel('p-box quantile')\n",
    "    if dddd == 1:\n",
    "        ax3.yaxis.set_label_position(\"right\")\n",
    "    ax3.set_xlabel('GMSL rise in 2100 (m)')\n",
    "\n",
    "plt.savefig('pboxesB.pdf')\n",
    "plt.show()\n"
   ]
  },
  {
   "attachments": {},
   "cell_type": "markdown",
   "metadata": {},
   "source": [
    "---\n",
    "## <font color=red> PLT:: PB  </font>\n",
    "---"
   ]
  }
 ],
 "metadata": {
  "kernelspec": {
   "display_name": "plot",
   "language": "python",
   "name": "python3"
  },
  "language_info": {
   "codemirror_mode": {
    "name": "ipython",
    "version": 3
   },
   "file_extension": ".py",
   "mimetype": "text/x-python",
   "name": "python",
   "nbconvert_exporter": "python",
   "pygments_lexer": "ipython3",
   "version": "3.9.15"
  }
 },
 "nbformat": 4,
 "nbformat_minor": 2
}
