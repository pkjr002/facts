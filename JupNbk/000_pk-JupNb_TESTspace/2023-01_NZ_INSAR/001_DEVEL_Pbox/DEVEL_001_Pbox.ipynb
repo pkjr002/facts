{
 "cells": [
  {
   "attachments": {},
   "cell_type": "markdown",
   "metadata": {},
   "source": [
    "### <font color=black> IMPORT:: <font color=blue> **py modules** </font> </font>"
   ]
  },
  {
   "cell_type": "code",
   "execution_count": 1,
   "metadata": {},
   "outputs": [
    {
     "data": {
      "text/plain": [
       "'/scratch/pk695/FACTS/002_fork/facts/JupNbk/000_pk-JupNb_TESTspace/2023-01_NZ_INSAR/001_DEVEL_Pbox'"
      ]
     },
     "execution_count": 1,
     "metadata": {},
     "output_type": "execute_result"
    }
   ],
   "source": [
    "import numpy as np\n",
    "import pandas as pd\n",
    "import xarray as xr\n",
    "from mpl_toolkits.basemap import Basemap\n",
    "import glob\n",
    "import os\n",
    "import shutil\n",
    "import re\n",
    "import cartopy\n",
    "import matplotlib.ticker as mticker\n",
    "import matplotlib.pyplot as plt\n",
    "%matplotlib inline\n",
    "#\n",
    "PD=os.getcwd(); PD\n"
   ]
  },
  {
   "attachments": {},
   "cell_type": "markdown",
   "metadata": {},
   "source": [
    "### <font color=black> **====================================================================** </font>\n",
    "### <font size=5 color=\"black\"><b>001_copy_files_to_full_sample_workflows::</font>\n"
   ]
  },
  {
   "cell_type": "code",
   "execution_count": null,
   "metadata": {},
   "outputs": [],
   "source": [
    "ipdir=PROJDIR=\"/scratch/pk695/FACTS/nzOG-pk695/local-pk695/000_full_sample_components\"\n",
    "opdir=PROJDIRW=os.makedirs(\"/scratch/pk695/FACTS/nzOG-pk695/local-pk695/000_Workflows\", exist_ok=True)  # opdir=PROJDIRW=\"/scratch/pk695/FACTS/nzOG-pk695/local-pk695/000_Workflows\"\n",
    "\n",
    "new_directory = \"new_folder\"\n",
    "new_directory_path = os.path.join(parent_directory, new_directory)\n",
    "os.makedirs(new_directory_path, exist_ok=True)\n",
    "\n",
    "\n",
    "\n",
    "\n",
    "\n",
    "\n",
    "\n",
    "\n",
    "\n",
    "\n",
    "\n",
    "\n",
    "os.makedirs('wf_1e', exist_ok=True)#mkdir -p /scratch/pk695/FACTS/nzOG-pk695/local-pk695/001_full_sample_workflows/wf_1e\n",
    "WFDIR=\"/scratch/pk695/FACTS/nzOG-pk695/local-pk695/001_full_sample_workflows/wf_1e\"\n",
    "\n",
    "# Go to the workflow directory\n",
    "cd ${WFDIR}\n",
    "\n",
    "# Remove the old files\n",
    "mkdir -p ssp119\n",
    "rm -f ./ssp119/*.nc\n",
    "\n",
    "# Copy the new ones\n",
    "cp ${PROJDIR}/nzOG.ssp119.emuglaciers.emulandice.glaciers_localsl.nc ./ssp119/\n",
    "cp ${PROJDIR}/nzOG.ssp119.emuGrIS.emulandice.GrIS_localsl.nc ./ssp119/\n",
    "cp ${PROJDIR}/nzOG.ssp119.emuAIS.emulandice.AIS_localsl.nc ./ssp119/\n",
    "cp ${PROJDIR}/nzOG.ssp119.ocean.tlm.sterodynamics_localsl.nc ./ssp119/\n",
    "cp ${PROJDIR}/nzOG.ssp119.lws.ssp.landwaterstorage_localsl.nc ./ssp119/\n",
    "cp ${PROJDIR}/nzOG.ssp119.NZInsarGPS.NZInsarGPS.verticallandmotion_localsl.nc ./ssp119/\n",
    "cp ${PROJDIRW}/nzOG.ssp119.total.workflow.wf1e.local.nc ./ssp119/\n",
    "\n",
    "# Remove the old files\n",
    "mkdir -p ssp126\n",
    "rm -f ./ssp126/*.nc\n",
    "\n",
    "# Copy the new ones\n",
    "cp ${PROJDIR}/nzOG.ssp126.emuglaciers.emulandice.glaciers_localsl.nc ./ssp126/\n",
    "cp ${PROJDIR}/nzOG.ssp126.emuGrIS.emulandice.GrIS_localsl.nc ./ssp126/\n",
    "cp ${PROJDIR}/nzOG.ssp126.emuAIS.emulandice.AIS_localsl.nc ./ssp126/\n",
    "cp ${PROJDIR}/nzOG.ssp126.ocean.tlm.sterodynamics_localsl.nc ./ssp126/\n",
    "cp ${PROJDIR}/nzOG.ssp126.lws.ssp.landwaterstorage_localsl.nc ./ssp126/\n",
    "cp ${PROJDIR}/nzOG.ssp126.NZInsarGPS.NZInsarGPS.verticallandmotion_localsl.nc ./ssp126/\n",
    "cp ${PROJDIRW}/nzOG.ssp126.total.workflow.wf1e.local.nc ./ssp126/\n",
    "\n",
    "\n",
    "# Remove the old files\n",
    "mkdir -p ssp245\n",
    "rm -f ./ssp245/*.nc\n",
    "\n",
    "# Copy the new ones\n",
    "cp ${PROJDIR}/nzOG.ssp245.emuglaciers.emulandice.glaciers_localsl.nc ./ssp245/\n",
    "cp ${PROJDIR}/nzOG.ssp245.emuGrIS.emulandice.GrIS_localsl.nc ./ssp245/\n",
    "cp ${PROJDIR}/nzOG.ssp245.emuAIS.emulandice.AIS_localsl.nc ./ssp245/\n",
    "cp ${PROJDIR}/nzOG.ssp245.ocean.tlm.sterodynamics_localsl.nc ./ssp245/\n",
    "cp ${PROJDIR}/nzOG.ssp245.lws.ssp.landwaterstorage_localsl.nc ./ssp245/\n",
    "cp ${PROJDIR}/nzOG.ssp245.NZInsarGPS.NZInsarGPS.verticallandmotion_localsl.nc ./ssp245/\n",
    "cp ${PROJDIRW}/nzOG.ssp245.total.workflow.wf1e.local.nc ./ssp245/\n",
    "\n",
    "\n",
    "# Remove the old files\n",
    "mkdir -p ssp370\n",
    "rm -f ./ssp370/*.nc\n",
    "\n",
    "# Copy the new ones\n",
    "cp ${PROJDIR}/nzOG.ssp370.emuglaciers.emulandice.glaciers_localsl.nc ./ssp370/\n",
    "cp ${PROJDIR}/nzOG.ssp370.emuGrIS.emulandice.GrIS_localsl.nc ./ssp370/\n",
    "cp ${PROJDIR}/nzOG.ssp370.emuAIS.emulandice.AIS_localsl.nc ./ssp370/\n",
    "cp ${PROJDIR}/nzOG.ssp370.ocean.tlm.sterodynamics_localsl.nc ./ssp370/\n",
    "cp ${PROJDIR}/nzOG.ssp370.lws.ssp.landwaterstorage_localsl.nc ./ssp370/\n",
    "cp ${PROJDIR}/nzOG.ssp370.NZInsarGPS.NZInsarGPS.verticallandmotion_localsl.nc ./ssp370/\n",
    "cp ${PROJDIRW}/nzOG.ssp370.total.workflow.wf1e.local.nc ./ssp370/\n",
    "\n",
    "# Remove the old files\n",
    "mkdir -p ssp585\n",
    "rm -f ./ssp585/*.nc\n",
    "\n",
    "# Copy the new ones\n",
    "cp ${PROJDIR}/nzOG.ssp585.emuglaciers.emulandice.glaciers_localsl.nc ./ssp585/\n",
    "cp ${PROJDIR}/nzOG.ssp585.emuGrIS.emulandice.GrIS_localsl.nc ./ssp585/\n",
    "cp ${PROJDIR}/nzOG.ssp585.emuAIS.emulandice.AIS_localsl.nc ./ssp585/\n",
    "cp ${PROJDIR}/nzOG.ssp585.ocean.tlm.sterodynamics_localsl.nc ./ssp585/\n",
    "cp ${PROJDIR}/nzOG.ssp585.lws.ssp.landwaterstorage_localsl.nc ./ssp585/\n",
    "cp ${PROJDIR}/nzOG.ssp585.NZInsarGPS.NZInsarGPS.verticallandmotion_localsl.nc ./ssp585/\n",
    "cp ${PROJDIRW}/nzOG.ssp585.total.workflow.wf1e.local.nc ./ssp585/"
   ]
  },
  {
   "attachments": {},
   "cell_type": "markdown",
   "metadata": {},
   "source": [
    "### <font color=black> **====================================================================** </font>\n",
    "### <font size=5 color=\"black\"><b>::OLD CELLS::</font>\n"
   ]
  },
  {
   "cell_type": "code",
   "execution_count": 2,
   "metadata": {},
   "outputs": [
    {
     "name": "stdout",
     "output_type": "stream",
     "text": [
      "['nzOG.ssp119', 'nzOG.ssp126', 'nzOG.ssp245', 'nzOG.ssp370', 'nzOG.ssp585']\n"
     ]
    }
   ],
   "source": [
    "exp0=\"experimentsNZ\"\n",
    "exp1=\"nzOG\"  \n",
    "#\n",
    "path='/scratch/pk695/FACTS/002_fork/facts/{arg0}/{arg1}'.format(arg0=exp0,arg1=exp1)\n",
    "expnames=[d for d in os.listdir(path) if os.path.isdir(os.path.join(path, d)) and re.match(fr'^{exp1}.ssp\\d{{3}}$', d)]\n",
    "expnames=sorted(expnames); print(expnames)"
   ]
  },
  {
   "attachments": {},
   "cell_type": "markdown",
   "metadata": {},
   "source": [
    "### <font color=black> GET output sub-folder list <font color=blue> (e.g., output_0.txt, output_1.txt ...) </font>  </font>"
   ]
  },
  {
   "cell_type": "code",
   "execution_count": 7,
   "metadata": {},
   "outputs": [
    {
     "name": "stdout",
     "output_type": "stream",
     "text": [
      "['output_set_0', 'output_set_1', 'output_set_2', 'output_set_3', 'output_set_4', 'output_set_5', 'output_set_6', 'output_set_7', 'output_set_8', 'output_set_9', 'output_set_10', 'output_set_11', 'output_set_12', 'output_set_13', 'output_set_14']\n"
     ]
    }
   ],
   "source": [
    "exp2='nzOG.ssp585'\n",
    "exppath=path+'/'+exp2\n",
    "exppath\n",
    "#\n",
    "OPloopdir = [d for d in os.listdir(exppath) if os.path.isdir(os.path.join(exppath, d)) and re.match(r'^output_set_\\d', d)]\n",
    "OPloopdir.sort(key=lambda x: int(x.split('_')[2]))\n",
    "print(OPloopdir)"
   ]
  },
  {
   "attachments": {},
   "cell_type": "markdown",
   "metadata": {},
   "source": [
    "### <font color=black> GET <font color=blue> *.nc file NAMES </font> to merge </font>"
   ]
  },
  {
   "cell_type": "code",
   "execution_count": 13,
   "metadata": {},
   "outputs": [
    {
     "data": {
      "text/plain": [
       "['nzOG.ssp585.GrIS1f.FittedISMIP.GrIS_GIS_localsl.nc',\n",
       " 'nzOG.ssp585.NZInsarGPS.NZInsarGPS.verticallandmotion_localsl.nc',\n",
       " 'nzOG.ssp585.ar5AIS.ipccar5.icesheets_EAIS_localsl.nc',\n",
       " 'nzOG.ssp585.ar5AIS.ipccar5.icesheets_WAIS_localsl.nc',\n",
       " 'nzOG.ssp585.ar5glaciers.ipccar5.glaciers_localsl.nc',\n",
       " 'nzOG.ssp585.bamber19.bamber19.icesheets_AIS_localsl.nc',\n",
       " 'nzOG.ssp585.bamber19.bamber19.icesheets_EAIS_localsl.nc',\n",
       " 'nzOG.ssp585.bamber19.bamber19.icesheets_GIS_localsl.nc',\n",
       " 'nzOG.ssp585.bamber19.bamber19.icesheets_WAIS_localsl.nc',\n",
       " 'nzOG.ssp585.deconto21.deconto21.AIS_AIS_localsl.nc',\n",
       " 'nzOG.ssp585.deconto21.deconto21.AIS_EAIS_localsl.nc',\n",
       " 'nzOG.ssp585.deconto21.deconto21.AIS_WAIS_localsl.nc',\n",
       " 'nzOG.ssp585.emuAIS.emulandice.AIS_EAIS_localsl.nc',\n",
       " 'nzOG.ssp585.emuAIS.emulandice.AIS_WAIS_localsl.nc',\n",
       " 'nzOG.ssp585.emuAIS.emulandice.AIS_localsl.nc',\n",
       " 'nzOG.ssp585.emuGrIS.emulandice.GrIS_localsl.nc',\n",
       " 'nzOG.ssp585.emuglaciers.emulandice.glaciers_localsl.nc',\n",
       " 'nzOG.ssp585.larmip.larmip.AIS_EAIS_localsl.nc',\n",
       " 'nzOG.ssp585.larmip.larmip.AIS_WAIS_localsl.nc',\n",
       " 'nzOG.ssp585.larmip.larmip.AIS_localsl.nc',\n",
       " 'nzOG.ssp585.lws.ssp.landwaterstorage_localsl.nc',\n",
       " 'nzOG.ssp585.ocean.tlm.sterodynamics_localsl.nc',\n",
       " 'nzOG.ssp585.total.workflow.wf1e.local.nc',\n",
       " 'nzOG.ssp585.total.workflow.wf1f.local.nc',\n",
       " 'nzOG.ssp585.total.workflow.wf2e.local.nc',\n",
       " 'nzOG.ssp585.total.workflow.wf2f.local.nc',\n",
       " 'nzOG.ssp585.total.workflow.wf3e.local.nc',\n",
       " 'nzOG.ssp585.total.workflow.wf3f.local.nc',\n",
       " 'nzOG.ssp585.total.workflow.wf4.local.nc']"
      ]
     },
     "execution_count": 13,
     "metadata": {},
     "output_type": "execute_result"
    }
   ],
   "source": [
    "# Get all the *.nc file names (can use OPloopdir[n])\n",
    "nclist=os.listdir(path+'/'+exp2+'/'+OPloopdir[0]+'/');  nclist=sorted(nclist)\n",
    "nclist_local=[]\n",
    "for ncname in nclist:\n",
    "    if 'local' in ncname:\n",
    "        nclist_local.append(ncname) \n",
    "nclist_local"
   ]
  },
  {
   "attachments": {},
   "cell_type": "markdown",
   "metadata": {},
   "source": [
    "### <font color=black> **====================================================================** </font>\n",
    "### <font color=black> LoopOver <font color=blue> **OPdir** </font> to merge each *.nc file</font>"
   ]
  },
  {
   "cell_type": "code",
   "execution_count": 27,
   "metadata": {
    "scrolled": true
   },
   "outputs": [
    {
     "name": "stdout",
     "output_type": "stream",
     "text": [
      "['nzOG.ssp119', 'nzOG.ssp126', 'nzOG.ssp245', 'nzOG.ssp370', 'nzOG.ssp585']\n"
     ]
    }
   ],
   "source": [
    "exp0=\"experimentsNZ\"\n",
    "exp1=\"nzOG\"  \n",
    "#\n",
    "path='/scratch/pk695/FACTS/002_fork/facts/{arg0}/{arg1}'.format(arg0=exp0,arg1=exp1)\n",
    "expnames=[d for d in os.listdir(path) if os.path.isdir(os.path.join(path, d)) and re.match(fr'^{exp1}.ssp\\d{{3}}$', d)]\n",
    "expnames=sorted(expnames); print(expnames)\n",
    "\n",
    "# Loop over each EXP\n",
    "for x_exp,exp in enumerate(expnames):\n",
    "    #\n",
    "    # List the OP folder files\n",
    "    OPloopdir=[]\n",
    "    OPloopdir = [d for d in os.listdir(path+ '/'+exp+'/') if os.path.isdir(os.path.join(path+ '/'+exp+'/', d)) and re.match(r'^output_set_\\d+', d)]\n",
    "    OPloopdir.sort(key=lambda x: int(x.split('_')[2]))\n",
    "    #print(OPloopdir)\n",
    "    #\n",
    "    # Make OP folders to save the new merged .nc files\n",
    "    stackfolderLocal=path + '/'+ exp + '/' + 'output_local_' + exp.split('.')[1]\n",
    "    stackfolderGlobal=path + '/'+ exp + '/' + 'output_global_' + exp.split('.')[1]\n",
    "    # If the directory already exists, remove it and its contents\n",
    "    if os.path.exists(stackfolderLocal):   shutil.rmtree(stackfolderLocal)\n",
    "    os.makedirs(stackfolderLocal)\n",
    "    if os.path.exists(stackfolderGlobal):  shutil.rmtree(stackfolderGlobal); \n",
    "    os.makedirs(stackfolderGlobal)\n",
    "    #\n",
    "    # Get all the *.nc file names within each output directory (can use OPloopdir[n] as default)\n",
    "    nclist=os.listdir(path+ '/'+exp+'/'+OPloopdir[0]+'/');  nclist=sorted(nclist)\n",
    "    nclist_local=[]; nclist_global=[]\n",
    "    for ncname in nclist:\n",
    "        if 'local' in ncname:\n",
    "            nclist_local.append(ncname) \n",
    "        elif 'global' in ncname:\n",
    "            nclist_global.append(ncname)\n",
    "    #nclist_local; #nclist_global\n",
    "    \n",
    "    # Stack the local files from each output set within single EXP (i.e. ssp)\n",
    "    stackNC(nclist_local,stackfolderLocal,OPloopdir)\n",
    "    \n",
    "    # Global doesent loop over OPloopdir\n",
    "    src_dir = path+ '/'+exp+'/'+OPloopdir[0]+'/'\n",
    "    # Destination directory\n",
    "    dst_dir = stackfolderGlobal+'/'\n",
    "    # Loop through the list of files and copy them to the destination directory\n",
    "    for file in nclist_global:\n",
    "        src_path = src_dir + file\n",
    "        dst_path = dst_dir + file\n",
    "        shutil.copy(src_path, dst_path)\n",
    "    \n",
    "    #takes about ~20min"
   ]
  },
  {
   "cell_type": "code",
   "execution_count": 26,
   "metadata": {},
   "outputs": [],
   "source": [
    "def stackNC(filein,stackfolder,OPLOOPDIR):\n",
    "    for x_ncfile,ncfile in enumerate(filein):\n",
    "        file1=ncfile\n",
    "        #\n",
    "        #loop through output folders\n",
    "        ds1_list=[]  \n",
    "        for x_op,op in enumerate(OPLOOPDIR):\n",
    "            ds1=xr.open_dataset(path+'/'+exp+'/'+op+'/'+file1)\n",
    "            ds1_list.append(ds1)      \n",
    "        merged=xr.concat(ds1_list, dim='locations')\n",
    "        # \n",
    "        opfilename=file1\n",
    "        output_path=stackfolder +'/'+opfilename\n",
    "        # Save the merged dataset to a new NetCDF file\n",
    "        merged.to_netcdf(output_path)"
   ]
  }
 ],
 "metadata": {
  "kernelspec": {
   "display_name": "plot",
   "language": "python",
   "name": "python3"
  },
  "language_info": {
   "codemirror_mode": {
    "name": "ipython",
    "version": 3
   },
   "file_extension": ".py",
   "mimetype": "text/x-python",
   "name": "python",
   "nbconvert_exporter": "python",
   "pygments_lexer": "ipython3",
   "version": "3.9.15"
  }
 },
 "nbformat": 4,
 "nbformat_minor": 2
}
