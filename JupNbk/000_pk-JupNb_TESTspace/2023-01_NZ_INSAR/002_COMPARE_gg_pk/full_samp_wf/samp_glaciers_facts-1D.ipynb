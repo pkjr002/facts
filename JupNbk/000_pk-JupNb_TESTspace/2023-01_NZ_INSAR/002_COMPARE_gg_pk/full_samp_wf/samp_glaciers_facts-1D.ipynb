{
 "cells": [
  {
   "cell_type": "code",
   "execution_count": null,
   "metadata": {},
   "outputs": [],
   "source": [
    "import numpy as np\n",
    "import pandas as pd\n",
    "import xarray as xr\n",
    "from mpl_toolkits.basemap import Basemap\n",
    "import glob\n",
    "import os\n",
    "import shutil\n",
    "import re\n",
    "import cartopy\n",
    "import matplotlib.ticker as mticker\n",
    "import matplotlib.pyplot as plt\n",
    "#\n",
    "%matplotlib inline\n",
    "# %matplotlib notebook\n",
    "#\n",
    "from mpl_toolkits.mplot3d import Axes3D\n",
    "from matplotlib.colors import ListedColormap, BoundaryNorm\n",
    "#\n",
    "# PD=os.getcwd(); PD\n",
    "\n",
    "import fn_plot_full_samp_wf as FN "
   ]
  },
  {
   "attachments": {},
   "cell_type": "markdown",
   "metadata": {},
   "source": [
    "### \n",
    "### ==>\n",
    "### <font color=black> PLOT <b>glaciers</b>:: <font color=blue> SSP126 </font> </font>"
   ]
  },
  {
   "cell_type": "code",
   "execution_count": null,
   "metadata": {},
   "outputs": [],
   "source": [
    "ssp='ssp126';       \n",
    "folder='full_sample_workflows'\n",
    "samp=[170,1050,1999,17,50,83] # you can choose 6 nos. Have to be below 2k. \n",
    "component=\"glaciers\"\n",
    "loc=np.arange(0,7434) #Location:: choose from 0 to 7434  \n",
    "\n",
    "FN.plot_full_samp_wf(ssp,folder,samp,component,loc)"
   ]
  },
  {
   "attachments": {},
   "cell_type": "markdown",
   "metadata": {},
   "source": [
    "### \n",
    "### ==>\n",
    "### <font color=black> PLOT <b>glaciers</b>:: <font color=blue> SSP585 </font> </font>"
   ]
  },
  {
   "cell_type": "code",
   "execution_count": null,
   "metadata": {},
   "outputs": [],
   "source": [
    "ssp='ssp585';       \n",
    "folder='full_sample_workflows'\n",
    "samp=[170,1050,1999,17,50,83] # you can choose 6 nos. Have to be below 2k. \n",
    "component=\"glaciers\"\n",
    "loc=np.arange(0,7434) #Location:: choose from 0 to 7434  \n",
    "\n",
    "FN.plot_full_samp_wf(ssp,folder,samp,component,loc)"
   ]
  },
  {
   "attachments": {},
   "cell_type": "markdown",
   "metadata": {},
   "source": [
    "### \n",
    "### ==>\n",
    "### <font color=black> PLOT <b>glaciers</b>:: <font color=blue> SSP245 </font> </font>"
   ]
  },
  {
   "cell_type": "code",
   "execution_count": null,
   "metadata": {},
   "outputs": [],
   "source": [
    "ssp='ssp245';       \n",
    "folder='full_sample_workflows'\n",
    "samp=[170,1050,1999,17,50,83] # you can choose 6 nos. Have to be below 2k. \n",
    "component=\"glaciers\"\n",
    "loc=np.arange(0,7434) #Location:: choose from 0 to 7434  \n",
    "\n",
    "FN.plot_full_samp_wf(ssp,folder,samp,component,loc)"
   ]
  },
  {
   "attachments": {},
   "cell_type": "markdown",
   "metadata": {},
   "source": [
    "### \n",
    "### ==>\n",
    "### <font color=black> PLOT <b>glaciers</b>:: <font color=blue> SSP119 </font> </font>"
   ]
  },
  {
   "cell_type": "code",
   "execution_count": null,
   "metadata": {},
   "outputs": [],
   "source": [
    "ssp='ssp119';       \n",
    "folder='full_sample_workflows'\n",
    "samp=[170,1050,1999,17,50,83] # you can choose 6 nos. Have to be below 2k. \n",
    "component=\"glaciers\"\n",
    "loc=np.arange(0,7434) #Location:: choose from 0 to 7434  \n",
    "\n",
    "FN.plot_full_samp_wf(ssp,folder,samp,component,loc)"
   ]
  },
  {
   "attachments": {},
   "cell_type": "markdown",
   "metadata": {},
   "source": [
    "### \n",
    "### ==>\n",
    "### <font color=black> PLOT <b>glaciers</b>:: <font color=blue> SSP370 </font> </font>"
   ]
  },
  {
   "cell_type": "code",
   "execution_count": null,
   "metadata": {},
   "outputs": [],
   "source": [
    "ssp='ssp370';       \n",
    "folder='full_sample_workflows'\n",
    "samp=[170,1050,1999,17,50,83] # you can choose 6 nos. Have to be below 2k. \n",
    "component=\"glaciers\"\n",
    "loc=np.arange(0,7434) #Location:: choose from 0 to 7434  \n",
    "\n",
    "FN.plot_full_samp_wf(ssp,folder,samp,component,loc)"
   ]
  }
 ],
 "metadata": {
  "kernelspec": {
   "display_name": "Python 3 (ipykernel)",
   "language": "python",
   "name": "python3"
  },
  "language_info": {
   "codemirror_mode": {
    "name": "ipython",
    "version": 3
   },
   "file_extension": ".py",
   "mimetype": "text/x-python",
   "name": "python",
   "nbconvert_exporter": "python",
   "pygments_lexer": "ipython3",
   "version": "3.9.15"
  }
 },
 "nbformat": 4,
 "nbformat_minor": 2
}
