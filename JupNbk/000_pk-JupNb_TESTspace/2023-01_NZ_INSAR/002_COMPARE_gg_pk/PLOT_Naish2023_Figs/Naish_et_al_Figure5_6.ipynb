{
 "cells": [
  {
   "attachments": {},
   "cell_type": "markdown",
   "metadata": {},
   "source": [
    "<div style=\"border: 1px solid black; padding: 10px;\">\n",
    "    <h1 style=\"color: blue;\">\n",
    "        <span style=\"color: black;\">\n",
    "            <b>PLOT::</b> Figures from <i>Naish et al. (2023)</i>\n",
    "            <a href=\"https://www.authorea.com/doi/full/10.1002/essoar.10511878.1\"><u><i> https://</i></u></a>\n",
    "        </span>\n",
    "    </h1>\n",
    "</div>"
   ]
  },
  {
   "attachments": {},
   "cell_type": "markdown",
   "metadata": {},
   "source": [
    "<p style=\"font-size: 24px; color: orange\">\n",
    "  <span style=\"font-size: 18pt;\">Import data/plot functions and specify axis details :</span><br>\n",
    "</p>"
   ]
  },
  {
   "cell_type": "code",
   "execution_count": null,
   "metadata": {},
   "outputs": [],
   "source": [
    "import numpy as np; \n",
    "import fun_nz_ppr_fig as fn\n",
    "#\n",
    "ssp = ['ssp126', 'ssp245', 'ssp370', 'ssp585']\n",
    "options = {\n",
    "    'ylab': 'Sea Level Rise (m)',\n",
    "    'x_min': 2020, 'x_max': 2150,  'x_ticks': np.arange(2020, 2151, 10),\n",
    "    'y_min': -0.6, 'y_max': 3.3,   'y_ticks': np.arange(-0.6, 3.4, 0.3)}\n",
    "#"
   ]
  },
  {
   "attachments": {},
   "cell_type": "markdown",
   "metadata": {},
   "source": [
    "---\n",
    "<p style=\"font-size: 24px; color: red\">\n",
    "  <span style=\"font-size: 24pt;\"> <b><i>PLOT:: Figure 5 A: </b></i></span><br>\n",
    "</p>"
   ]
  },
  {
   "cell_type": "code",
   "execution_count": null,
   "metadata": {},
   "outputs": [],
   "source": [
    "station = 1863; name = 'Ohinepanea'\n",
    "fn.project_SL(station, name, ssp, options)"
   ]
  },
  {
   "attachments": {},
   "cell_type": "markdown",
   "metadata": {},
   "source": [
    "---\n",
    "<p style=\"font-size: 24px; color: red\">\n",
    "  <span style=\"font-size: 24pt;\">PLOT:: <b><i>Figure 5 B :</b></i></span><br>\n",
    "</p>"
   ]
  },
  {
   "cell_type": "code",
   "execution_count": null,
   "metadata": {},
   "outputs": [],
   "source": [
    "station = 2439;  name = 'Tora Oroi Stream'\n",
    "fn.project_SL(station, name, ssp, options)"
   ]
  },
  {
   "attachments": {},
   "cell_type": "markdown",
   "metadata": {},
   "source": [
    "---\n",
    "<p style=\"font-size: 24px; color: red\">\n",
    "  <span style=\"font-size: 24pt;\">PLOT:: <b><i>Figure 6 A:</b></i></span><br>\n",
    "</p>"
   ]
  },
  {
   "cell_type": "code",
   "execution_count": null,
   "metadata": {},
   "outputs": [],
   "source": [
    "options = {'ylab': 'Sea Level Rise (m)','x_min': 2020, 'x_max': 2150,  'x_ticks': np.arange(2020, 2151, 10),'y_min': -0.3, 'y_max': 2.7,   'y_ticks': np.arange(-0.3, 2.8, 0.3)}"
   ]
  },
  {
   "cell_type": "code",
   "execution_count": null,
   "metadata": {},
   "outputs": [],
   "source": [
    "station = 1233;  name = 'Auckland Tide Gauge'\n",
    "fn.project_SL(station, name, ssp, options)"
   ]
  },
  {
   "cell_type": "code",
   "execution_count": null,
   "metadata": {},
   "outputs": [],
   "source": [
    "station = 1830;  name = 'Moturiki Tide Gauge'\n",
    "fn.project_SL(station, name, ssp, options)"
   ]
  },
  {
   "cell_type": "code",
   "execution_count": null,
   "metadata": {},
   "outputs": [],
   "source": [
    "station = 2502;  name = 'Wellington Tide Gauge'\n",
    "fn.project_SL(station, name, ssp, options)"
   ]
  },
  {
   "cell_type": "code",
   "execution_count": null,
   "metadata": {},
   "outputs": [],
   "source": [
    "station = 4333;  name = 'Lyttleton Tide Gauge'\n",
    "fn.project_SL(station, name, ssp, options)"
   ]
  },
  {
   "cell_type": "code",
   "execution_count": null,
   "metadata": {},
   "outputs": [],
   "source": [
    "station = 4722;  name = 'Dunedin Tide Gauge'\n",
    "fn.project_SL(station, name, ssp, options)"
   ]
  }
 ],
 "metadata": {
  "kernelspec": {
   "display_name": "plot",
   "language": "python",
   "name": "python3"
  },
  "language_info": {
   "codemirror_mode": {
    "name": "ipython",
    "version": 3
   },
   "file_extension": ".py",
   "mimetype": "text/x-python",
   "name": "python",
   "nbconvert_exporter": "python",
   "pygments_lexer": "ipython3",
   "version": "3.9.15"
  },
  "orig_nbformat": 4
 },
 "nbformat": 4,
 "nbformat_minor": 2
}
