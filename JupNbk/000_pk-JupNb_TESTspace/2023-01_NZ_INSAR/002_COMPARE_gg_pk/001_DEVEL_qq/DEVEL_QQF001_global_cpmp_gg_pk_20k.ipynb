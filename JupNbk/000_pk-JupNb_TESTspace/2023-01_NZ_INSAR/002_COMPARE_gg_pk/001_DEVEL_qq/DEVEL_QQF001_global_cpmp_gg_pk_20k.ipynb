{
 "cells": [
  {
   "cell_type": "code",
   "execution_count": 1,
   "metadata": {},
   "outputs": [],
   "source": [
    "import numpy as np\n",
    "import pandas as pd\n",
    "import xarray as xr\n",
    "import glob\n",
    "import os\n",
    "import shutil\n",
    "import re\n",
    "import matplotlib.pyplot as plt\n",
    "import statsmodels.api as sm\n",
    "from matplotlib.colors import ListedColormap, BoundaryNorm\n",
    "#\n",
    "PD=os.getcwd(); PD\n",
    "#\n",
    "import fun_qq as fn \n"
   ]
  },
  {
   "attachments": {},
   "cell_type": "markdown",
   "metadata": {},
   "source": [
    "---"
   ]
  },
  {
   "cell_type": "code",
   "execution_count": 2,
   "metadata": {},
   "outputs": [],
   "source": [
    "path20k = '/scratch/pk695/FACTS/002_fork/facts/experimentsNZ.230608/nzOG/nzOG.ssp585.500loc/output/'\n",
    "# path2k = '/scratch/pk695/FACTS/002_fork/facts/experimentsNZ/nzOG/nzOG.ssp585/output_global_ssp585/'\n",
    "path2k=pathG='/projects/kopp/ggg46/nz_projections/global/full_sample_components/'\n",
    "loc=0"
   ]
  },
  {
   "attachments": {},
   "cell_type": "markdown",
   "metadata": {},
   "source": [
    "---"
   ]
  },
  {
   "cell_type": "code",
   "execution_count": 3,
   "metadata": {},
   "outputs": [
    {
     "ename": "IndexError",
     "evalue": "index 30 is out of bounds for axis 0 with size 1",
     "output_type": "error",
     "traceback": [
      "\u001b[0;31m---------------------------------------------------------------------------\u001b[0m",
      "\u001b[0;31mIndexError\u001b[0m                                Traceback (most recent call last)",
      "\u001b[1;32m/scratch/pk695/FACTS/002_fork/facts/JupNbk/000_pk-JupNb_TESTspace/2023-01_NZ_INSAR/002_COMPARE_gg_pk/001_DEVEL_qq/DEVEL_QQF001_global_cpmp_gg_pk_20k.ipynb Cell 5\u001b[0m in \u001b[0;36m2\n\u001b[1;32m      <a href='vscode-notebook-cell://ssh-remote%2Bpk695/scratch/pk695/FACTS/002_fork/facts/JupNbk/000_pk-JupNb_TESTspace/2023-01_NZ_INSAR/002_COMPARE_gg_pk/001_DEVEL_qq/DEVEL_QQF001_global_cpmp_gg_pk_20k.ipynb#X25sdnNjb2RlLXJlbW90ZQ%3D%3D?line=0'>1</a>\u001b[0m \u001b[39m# VIZ loc spatial point\u001b[39;00m\n\u001b[0;32m----> <a href='vscode-notebook-cell://ssh-remote%2Bpk695/scratch/pk695/FACTS/002_fork/facts/JupNbk/000_pk-JupNb_TESTspace/2023-01_NZ_INSAR/002_COMPARE_gg_pk/001_DEVEL_qq/DEVEL_QQF001_global_cpmp_gg_pk_20k.ipynb#X25sdnNjb2RlLXJlbW90ZQ%3D%3D?line=1'>2</a>\u001b[0m fn\u001b[39m.\u001b[39;49mplot([\u001b[39m'\u001b[39;49m\u001b[39memuAIS.emulandice.AIS_globalsl.nc\u001b[39;49m\u001b[39m'\u001b[39;49m],path20k,[\u001b[39m'\u001b[39;49m\u001b[39micesheets-ipccar6-ismipemuicesheet-ssp585_AIS_globalsl.nc\u001b[39;49m\u001b[39m'\u001b[39;49m],path2k,loc,\u001b[39m1\u001b[39;49m)\n",
      "File \u001b[0;32m/scratch/pk695/FACTS/002_fork/facts/JupNbk/000_pk-JupNb_TESTspace/2023-01_NZ_INSAR/002_COMPARE_gg_pk/001_DEVEL_qq/fun_qq.py:31\u001b[0m, in \u001b[0;36mplot\u001b[0;34m(search_terms1, path20k, search_terms2, path2k, loc, worldmap)\u001b[0m\n\u001b[1;32m     28\u001b[0m data2k \u001b[39m=\u001b[39m fileNAME(path2k, search_terms2)\n\u001b[1;32m     30\u001b[0m \u001b[39m# Extract SL variables for specific time\u001b[39;00m\n\u001b[0;32m---> 31\u001b[0m d20k \u001b[39m=\u001b[39m xtract_data_4m_nc((path20k \u001b[39m+\u001b[39;49m data20k), \u001b[39m'\u001b[39;49m\u001b[39msea_level_change\u001b[39;49m\u001b[39m'\u001b[39;49m, loc, \u001b[39m2020\u001b[39;49m, \u001b[39m2100\u001b[39;49m)\n\u001b[1;32m     32\u001b[0m slc20k \u001b[39m=\u001b[39m d20k[\u001b[39m'\u001b[39m\u001b[39mslc\u001b[39m\u001b[39m'\u001b[39m]\n\u001b[1;32m     33\u001b[0m time20k \u001b[39m=\u001b[39m d20k[\u001b[39m'\u001b[39m\u001b[39mtime\u001b[39m\u001b[39m'\u001b[39m]\n",
      "File \u001b[0;32m/scratch/pk695/FACTS/002_fork/facts/JupNbk/000_pk-JupNb_TESTspace/2023-01_NZ_INSAR/002_COMPARE_gg_pk/001_DEVEL_qq/fun_qq.py:169\u001b[0m, in \u001b[0;36mxtract_data_4m_nc\u001b[0;34m(dataNC, var, loc, yrST, yrEN)\u001b[0m\n\u001b[1;32m    167\u001b[0m time\u001b[39m=\u001b[39mtime_data[idx_year]\n\u001b[1;32m    168\u001b[0m \u001b[39m#\u001b[39;00m\n\u001b[0;32m--> 169\u001b[0m slc \u001b[39m=\u001b[39m data[var][:,idx_year,loc]\u001b[39m.\u001b[39mvalues\n\u001b[1;32m    170\u001b[0m lat \u001b[39m=\u001b[39m np\u001b[39m.\u001b[39maround(data[\u001b[39m'\u001b[39m\u001b[39mlat\u001b[39m\u001b[39m'\u001b[39m][loc]\u001b[39m.\u001b[39mvalues, decimals\u001b[39m=\u001b[39m\u001b[39m2\u001b[39m)\n\u001b[1;32m    171\u001b[0m lon \u001b[39m=\u001b[39m np\u001b[39m.\u001b[39maround(data[\u001b[39m'\u001b[39m\u001b[39mlon\u001b[39m\u001b[39m'\u001b[39m][loc]\u001b[39m.\u001b[39mvalues, decimals\u001b[39m=\u001b[39m\u001b[39m2\u001b[39m)\n",
      "File \u001b[0;32m~/000_swre/miniconda/envs/plot/lib/python3.9/site-packages/xarray/core/dataarray.py:816\u001b[0m, in \u001b[0;36mDataArray.__getitem__\u001b[0;34m(self, key)\u001b[0m\n\u001b[1;32m    813\u001b[0m     \u001b[39mreturn\u001b[39;00m \u001b[39mself\u001b[39m\u001b[39m.\u001b[39m_getitem_coord(key)\n\u001b[1;32m    814\u001b[0m \u001b[39melse\u001b[39;00m:\n\u001b[1;32m    815\u001b[0m     \u001b[39m# xarray-style array indexing\u001b[39;00m\n\u001b[0;32m--> 816\u001b[0m     \u001b[39mreturn\u001b[39;00m \u001b[39mself\u001b[39;49m\u001b[39m.\u001b[39;49misel(indexers\u001b[39m=\u001b[39;49m\u001b[39mself\u001b[39;49m\u001b[39m.\u001b[39;49m_item_key_to_dict(key))\n",
      "File \u001b[0;32m~/000_swre/miniconda/envs/plot/lib/python3.9/site-packages/xarray/core/dataarray.py:1395\u001b[0m, in \u001b[0;36mDataArray.isel\u001b[0;34m(self, indexers, drop, missing_dims, **indexers_kwargs)\u001b[0m\n\u001b[1;32m   1390\u001b[0m     \u001b[39mreturn\u001b[39;00m \u001b[39mself\u001b[39m\u001b[39m.\u001b[39m_from_temp_dataset(ds)\n\u001b[1;32m   1392\u001b[0m \u001b[39m# Much faster algorithm for when all indexers are ints, slices, one-dimensional\u001b[39;00m\n\u001b[1;32m   1393\u001b[0m \u001b[39m# lists, or zero or one-dimensional np.ndarray's\u001b[39;00m\n\u001b[0;32m-> 1395\u001b[0m variable \u001b[39m=\u001b[39m \u001b[39mself\u001b[39;49m\u001b[39m.\u001b[39;49m_variable\u001b[39m.\u001b[39;49misel(indexers, missing_dims\u001b[39m=\u001b[39;49mmissing_dims)\n\u001b[1;32m   1396\u001b[0m indexes, index_variables \u001b[39m=\u001b[39m isel_indexes(\u001b[39mself\u001b[39m\u001b[39m.\u001b[39mxindexes, indexers)\n\u001b[1;32m   1398\u001b[0m coords \u001b[39m=\u001b[39m {}\n",
      "File \u001b[0;32m~/000_swre/miniconda/envs/plot/lib/python3.9/site-packages/xarray/core/variable.py:1328\u001b[0m, in \u001b[0;36mVariable.isel\u001b[0;34m(self, indexers, missing_dims, **indexers_kwargs)\u001b[0m\n\u001b[1;32m   1325\u001b[0m indexers \u001b[39m=\u001b[39m drop_dims_from_indexers(indexers, \u001b[39mself\u001b[39m\u001b[39m.\u001b[39mdims, missing_dims)\n\u001b[1;32m   1327\u001b[0m key \u001b[39m=\u001b[39m \u001b[39mtuple\u001b[39m(indexers\u001b[39m.\u001b[39mget(dim, \u001b[39mslice\u001b[39m(\u001b[39mNone\u001b[39;00m)) \u001b[39mfor\u001b[39;00m dim \u001b[39min\u001b[39;00m \u001b[39mself\u001b[39m\u001b[39m.\u001b[39mdims)\n\u001b[0;32m-> 1328\u001b[0m \u001b[39mreturn\u001b[39;00m \u001b[39mself\u001b[39;49m[key]\n",
      "File \u001b[0;32m~/000_swre/miniconda/envs/plot/lib/python3.9/site-packages/xarray/core/variable.py:876\u001b[0m, in \u001b[0;36mVariable.__getitem__\u001b[0;34m(self, key)\u001b[0m\n\u001b[1;32m    863\u001b[0m \u001b[39m\"\"\"Return a new Variable object whose contents are consistent with\u001b[39;00m\n\u001b[1;32m    864\u001b[0m \u001b[39mgetting the provided key from the underlying data.\u001b[39;00m\n\u001b[1;32m    865\u001b[0m \n\u001b[0;32m   (...)\u001b[0m\n\u001b[1;32m    873\u001b[0m \u001b[39marray `x.values` directly.\u001b[39;00m\n\u001b[1;32m    874\u001b[0m \u001b[39m\"\"\"\u001b[39;00m\n\u001b[1;32m    875\u001b[0m dims, indexer, new_order \u001b[39m=\u001b[39m \u001b[39mself\u001b[39m\u001b[39m.\u001b[39m_broadcast_indexes(key)\n\u001b[0;32m--> 876\u001b[0m data \u001b[39m=\u001b[39m as_indexable(\u001b[39mself\u001b[39;49m\u001b[39m.\u001b[39;49m_data)[indexer]\n\u001b[1;32m    877\u001b[0m \u001b[39mif\u001b[39;00m new_order:\n\u001b[1;32m    878\u001b[0m     data \u001b[39m=\u001b[39m np\u001b[39m.\u001b[39mmoveaxis(data, \u001b[39mrange\u001b[39m(\u001b[39mlen\u001b[39m(new_order)), new_order)\n",
      "File \u001b[0;32m~/000_swre/miniconda/envs/plot/lib/python3.9/site-packages/xarray/core/indexing.py:668\u001b[0m, in \u001b[0;36mMemoryCachedArray.__getitem__\u001b[0;34m(self, key)\u001b[0m\n\u001b[1;32m    667\u001b[0m \u001b[39mdef\u001b[39;00m \u001b[39m__getitem__\u001b[39m(\u001b[39mself\u001b[39m, key):\n\u001b[0;32m--> 668\u001b[0m     \u001b[39mreturn\u001b[39;00m \u001b[39mtype\u001b[39m(\u001b[39mself\u001b[39m)(_wrap_numpy_scalars(\u001b[39mself\u001b[39;49m\u001b[39m.\u001b[39;49marray[key]))\n",
      "File \u001b[0;32m~/000_swre/miniconda/envs/plot/lib/python3.9/site-packages/xarray/core/indexing.py:637\u001b[0m, in \u001b[0;36mCopyOnWriteArray.__getitem__\u001b[0;34m(self, key)\u001b[0m\n\u001b[1;32m    636\u001b[0m \u001b[39mdef\u001b[39;00m \u001b[39m__getitem__\u001b[39m(\u001b[39mself\u001b[39m, key):\n\u001b[0;32m--> 637\u001b[0m     \u001b[39mreturn\u001b[39;00m \u001b[39mtype\u001b[39m(\u001b[39mself\u001b[39m)(_wrap_numpy_scalars(\u001b[39mself\u001b[39;49m\u001b[39m.\u001b[39;49marray[key]))\n",
      "File \u001b[0;32m~/000_swre/miniconda/envs/plot/lib/python3.9/site-packages/xarray/core/indexing.py:544\u001b[0m, in \u001b[0;36mLazilyIndexedArray.__getitem__\u001b[0;34m(self, indexer)\u001b[0m\n\u001b[1;32m    542\u001b[0m     array \u001b[39m=\u001b[39m LazilyVectorizedIndexedArray(\u001b[39mself\u001b[39m\u001b[39m.\u001b[39marray, \u001b[39mself\u001b[39m\u001b[39m.\u001b[39mkey)\n\u001b[1;32m    543\u001b[0m     \u001b[39mreturn\u001b[39;00m array[indexer]\n\u001b[0;32m--> 544\u001b[0m \u001b[39mreturn\u001b[39;00m \u001b[39mtype\u001b[39m(\u001b[39mself\u001b[39m)(\u001b[39mself\u001b[39m\u001b[39m.\u001b[39marray, \u001b[39mself\u001b[39;49m\u001b[39m.\u001b[39;49m_updated_key(indexer))\n",
      "File \u001b[0;32m~/000_swre/miniconda/envs/plot/lib/python3.9/site-packages/xarray/core/indexing.py:516\u001b[0m, in \u001b[0;36mLazilyIndexedArray._updated_key\u001b[0;34m(self, new_key)\u001b[0m\n\u001b[1;32m    514\u001b[0m         full_key\u001b[39m.\u001b[39mappend(k)\n\u001b[1;32m    515\u001b[0m     \u001b[39melse\u001b[39;00m:\n\u001b[0;32m--> 516\u001b[0m         full_key\u001b[39m.\u001b[39mappend(_index_indexer_1d(k, \u001b[39mnext\u001b[39;49m(iter_new_key), size))\n\u001b[1;32m    517\u001b[0m full_key \u001b[39m=\u001b[39m \u001b[39mtuple\u001b[39m(full_key)\n\u001b[1;32m    519\u001b[0m \u001b[39mif\u001b[39;00m \u001b[39mall\u001b[39m(\u001b[39misinstance\u001b[39m(k, integer_types \u001b[39m+\u001b[39m (\u001b[39mslice\u001b[39m,)) \u001b[39mfor\u001b[39;00m k \u001b[39min\u001b[39;00m full_key):\n",
      "File \u001b[0;32m~/000_swre/miniconda/envs/plot/lib/python3.9/site-packages/xarray/core/indexing.py:283\u001b[0m, in \u001b[0;36m_index_indexer_1d\u001b[0;34m(old_indexer, applied_indexer, size)\u001b[0m\n\u001b[1;32m    281\u001b[0m         indexer \u001b[39m=\u001b[39m slice_slice(old_indexer, applied_indexer, size)\n\u001b[1;32m    282\u001b[0m     \u001b[39melse\u001b[39;00m:\n\u001b[0;32m--> 283\u001b[0m         indexer \u001b[39m=\u001b[39m _expand_slice(old_indexer, size)[applied_indexer]\n\u001b[1;32m    284\u001b[0m \u001b[39melse\u001b[39;00m:\n\u001b[1;32m    285\u001b[0m     indexer \u001b[39m=\u001b[39m old_indexer[applied_indexer]\n",
      "\u001b[0;31mIndexError\u001b[0m: index 30 is out of bounds for axis 0 with size 1"
     ]
    }
   ],
   "source": [
    "# VIZ loc spatial point\n",
    "fn.plot(['emuAIS.emulandice.AIS_globalsl.nc'],path20k,['icesheets-ipccar6-ismipemuicesheet-ssp585_AIS_globalsl.nc'],path2k,loc,1)"
   ]
  },
  {
   "attachments": {},
   "cell_type": "markdown",
   "metadata": {},
   "source": [
    "---"
   ]
  },
  {
   "cell_type": "code",
   "execution_count": null,
   "metadata": {},
   "outputs": [],
   "source": [
    "fn.plot(['emuAIS.emulandice.AIS_globalsl.nc'],path20k,['icesheets-ipccar6-ismipemuicesheet-ssp585_AIS_globalsl.nc'],path2k,loc)\n",
    "fn.plot(['larmip.larmip.AIS_globalsl'],path20k,['icesheets-ipccar6-larmipicesheet-ssp585_AIS_globalsl.nc'],path2k,loc)\n",
    "fn.plot(['deconto21.deconto21.AIS_AIS_globalsl.nc'],path20k,['icesheets-dp20-icesheet-ssp585_AIS_globalsl.nc'],path2k,loc)\n",
    "fn.plot(['bamber19.bamber19.icesheets_AIS_globalsl.nc'],path20k,['icesheets-ipccar6-bambericesheet-ssp585_AIS_globalsl.nc'],path2k,loc)\n",
    "fn.plot(['ar5AIS.ipccar5.icesheets_WAIS_globalsl.nc'],path20k,['icesheets-ar5-icesheets-ssp585_WAIS_globalsl.nc'],path2k,loc)\n",
    "fn.plot(['ar5AIS.ipccar5.icesheets_EAIS_globalsl.nc'],path20k,['icesheets-ar5-icesheets-ssp585_EAIS_globalsl.nc'],path2k,loc)"
   ]
  },
  {
   "attachments": {},
   "cell_type": "markdown",
   "metadata": {},
   "source": [
    "❄️❄️❄️❄️❄️❄️❄️❄️❄️❄️❄️❄️❄️❄️❄️❄️❄️❄️❄️❄️❄️❄️❄️❄️❄️❄️❄️❄️❄️❄️❄️❄️❄️❄️❄️❄️❄️❄️❄️❄️❄️❄️❄️❄️❄️❄️❄️❄️❄️❄️❄️❄️❄️❄️❄️❄️❄️❄️❄️❄️❄️❄️❄️❄️❄️❄️"
   ]
  },
  {
   "attachments": {},
   "cell_type": "markdown",
   "metadata": {},
   "source": [
    "---"
   ]
  },
  {
   "cell_type": "code",
   "execution_count": null,
   "metadata": {},
   "outputs": [],
   "source": [
    "fn.plot(['emuGrIS.emulandice.GrIS_globalsl.nc'],path20k,['icesheets-ipccar6-ismipemuicesheet-ssp585_GIS_globalsl.nc'],path2k,loc)\n",
    "fn.plot(['GrIS1f.FittedISMIP.GrIS_GIS_globalsl'],path20k,['icesheets-FittedISMIP-icesheets-ssp585_GIS_globalsl.nc'],path2k,loc)\n",
    "fn.plot(['bamber19.bamber19.icesheets_GIS_globalsl.nc'],path20k,['icesheets-ipccar6-bambericesheet-ssp585_GIS_globalsl.nc'],path2k,loc)"
   ]
  },
  {
   "attachments": {},
   "cell_type": "markdown",
   "metadata": {},
   "source": [
    "❄️❄️❄️❄️❄️❄️❄️❄️❄️❄️❄️❄️❄️❄️❄️❄️❄️❄️❄️❄️❄️❄️❄️❄️❄️❄️❄️❄️❄️❄️❄️❄️❄️❄️❄️❄️❄️❄️❄️❄️❄️❄️❄️❄️❄️❄️❄️❄️❄️❄️❄️❄️❄️❄️❄️❄️❄️❄️❄️❄️❄️❄️❄️❄️❄️❄️"
   ]
  },
  {
   "attachments": {},
   "cell_type": "markdown",
   "metadata": {},
   "source": [
    "---"
   ]
  },
  {
   "cell_type": "code",
   "execution_count": null,
   "metadata": {},
   "outputs": [],
   "source": [
    "fn.plot(['emuglaciers.emulandice.glaciers_globalsl.nc'],path20k,['glaciers-ipccar6-gmipemuglaciers-ssp585_globalsl.nc'],path2k,loc)\n",
    "fn.plot(['ar5glaciers.ipccar5.glaciers_globalsl.nc'],path20k,['glaciers-ar5-glaciersgmip2-ssp585_globalsl.nc'],path2k,loc)"
   ]
  },
  {
   "attachments": {},
   "cell_type": "markdown",
   "metadata": {},
   "source": [
    "🧊🧊🧊🧊🧊🧊🧊🧊🧊🧊🧊🧊🧊🧊🧊🧊🧊🧊🧊🧊🧊🧊🧊🧊🧊🧊🧊🧊🧊🧊🧊🧊🧊🧊🧊🧊🧊🧊🧊🧊🧊🧊🧊🧊🧊🧊🧊🧊🧊🧊🧊🧊🧊🧊"
   ]
  },
  {
   "attachments": {},
   "cell_type": "markdown",
   "metadata": {},
   "source": [
    "<hr style=\"border: 0; border-top: 1px solid; width: 100%;\">"
   ]
  },
  {
   "cell_type": "code",
   "execution_count": null,
   "metadata": {},
   "outputs": [],
   "source": [
    "fn.plot(['sterodynamics_globalsl.nc'],path20k,['oceandynamics-tlm-oceandynamics-ssp585_globalsl.nc'],path2k,loc)\n",
    "# # fn.plot('verticallandmotion_localsl.nc',path20k,path2k,loc)\n",
    "fn.plot(['lws.ssp.landwaterstorage_globalsl.nc'],path20k,['landwaterstorage-ssp-landwaterstorage-ssp585_globalsl.nc'],path2k,loc)"
   ]
  },
  {
   "attachments": {},
   "cell_type": "markdown",
   "metadata": {},
   "source": [
    "☕️☕️☕️☕️☕️☕️☕️☕️☕️☕️☕️☕️☕️☕️☕️☕️"
   ]
  },
  {
   "attachments": {},
   "cell_type": "markdown",
   "metadata": {},
   "source": [
    "---"
   ]
  },
  {
   "cell_type": "code",
   "execution_count": null,
   "metadata": {},
   "outputs": [],
   "source": [
    "wf=['wf1e','wf1f','wf2e','wf2f','wf3e','wf3f','wf4']\n",
    "for ww0,ww1 in enumerate(wf):\n",
    "    fn.plot([f'total.workflow.{ww1}.global.nc'],path20k,['total-workflow.nc'],f'/projects/kopp/ggg46/nz_projections/global/full_sample_workflows/wf_{ww1[2:]}/ssp585/')\n",
    "\n"
   ]
  },
  {
   "attachments": {},
   "cell_type": "markdown",
   "metadata": {},
   "source": [
    "☕️☕️☕️☕️☕️☕️☕️☕️☕️☕️☕️☕️☕️☕️☕️☕️"
   ]
  },
  {
   "attachments": {},
   "cell_type": "markdown",
   "metadata": {},
   "source": [
    "---"
   ]
  }
 ],
 "metadata": {
  "kernelspec": {
   "display_name": "Python 3 (ipykernel)",
   "language": "python",
   "name": "python3"
  },
  "language_info": {
   "codemirror_mode": {
    "name": "ipython",
    "version": 3
   },
   "file_extension": ".py",
   "mimetype": "text/x-python",
   "name": "python",
   "nbconvert_exporter": "python",
   "pygments_lexer": "ipython3",
   "version": "3.9.15"
  }
 },
 "nbformat": 4,
 "nbformat_minor": 2
}
