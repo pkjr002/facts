{
 "cells": [
  {
   "cell_type": "code",
   "execution_count": 1,
   "metadata": {},
   "outputs": [],
   "source": [
    "import numpy as np\n",
    "import pandas as pd\n",
    "import xarray as xr\n",
    "import glob\n",
    "import os\n",
    "import shutil\n",
    "import re\n",
    "import matplotlib.pyplot as plt\n",
    "import statsmodels.api as sm\n",
    "from matplotlib.colors import ListedColormap, BoundaryNorm\n",
    "#\n",
    "PD=os.getcwd(); PD\n",
    "#\n",
    "import fun_qq as fn \n"
   ]
  },
  {
   "cell_type": "code",
   "execution_count": null,
   "metadata": {},
   "outputs": [],
   "source": [
    "# def fileNAME(folder_path, search_terms):\n",
    "#     matching_files = []\n",
    "#     for file_path in glob.glob(f\"{folder_path}/*\"):\n",
    "#         file_name = os.path.basename(file_path)\n",
    "#         if all(term in file_name for term in search_terms):\n",
    "#             matching_files.append(file_path)\n",
    "#     if len(matching_files) > 1:\n",
    "#         raise ValueError(\"There are 2 or more files with the same keyword\")\n",
    "#     fnme = os.path.basename(matching_files[0])\n",
    "#     return fnme"
   ]
  },
  {
   "cell_type": "code",
   "execution_count": 2,
   "metadata": {},
   "outputs": [
    {
     "ename": "ValueError",
     "evalue": "There are 2 files with same keyword",
     "output_type": "error",
     "traceback": [
      "\u001b[0;31m---------------------------------------------------------------------------\u001b[0m",
      "\u001b[0;31mValueError\u001b[0m                                Traceback (most recent call last)",
      "\u001b[1;32m/scratch/pk695/FACTS/002_fork/facts/JupNbk/000_pk-JupNb_TESTspace/2023-01_NZ_INSAR/002_COMPARE_gg_pk/001_DEVEL_qq/DEVEL_QQF001_global_cpmp_gg_pk_20k.ipynb Cell 3\u001b[0m in \u001b[0;36m3\n\u001b[1;32m      <a href='vscode-notebook-cell://ssh-remote%2Bpk695/scratch/pk695/FACTS/002_fork/facts/JupNbk/000_pk-JupNb_TESTspace/2023-01_NZ_INSAR/002_COMPARE_gg_pk/001_DEVEL_qq/DEVEL_QQF001_global_cpmp_gg_pk_20k.ipynb#X34sdnNjb2RlLXJlbW90ZQ%3D%3D?line=0'>1</a>\u001b[0m path20k \u001b[39m=\u001b[39m \u001b[39m'\u001b[39m\u001b[39m/scratch/pk695/FACTS/002_fork/facts/experimentsNZ.230608/nzOG/nzOG.ssp585.500loc/output/\u001b[39m\u001b[39m'\u001b[39m\n\u001b[1;32m      <a href='vscode-notebook-cell://ssh-remote%2Bpk695/scratch/pk695/FACTS/002_fork/facts/JupNbk/000_pk-JupNb_TESTspace/2023-01_NZ_INSAR/002_COMPARE_gg_pk/001_DEVEL_qq/DEVEL_QQF001_global_cpmp_gg_pk_20k.ipynb#X34sdnNjb2RlLXJlbW90ZQ%3D%3D?line=1'>2</a>\u001b[0m search_terms \u001b[39m=\u001b[39m [\u001b[39m'\u001b[39m\u001b[39memulandice.AIS_globalsl.nc\u001b[39m\u001b[39m'\u001b[39m,\u001b[39m'\u001b[39m\u001b[39m585\u001b[39m\u001b[39m'\u001b[39m]\n\u001b[0;32m----> <a href='vscode-notebook-cell://ssh-remote%2Bpk695/scratch/pk695/FACTS/002_fork/facts/JupNbk/000_pk-JupNb_TESTspace/2023-01_NZ_INSAR/002_COMPARE_gg_pk/001_DEVEL_qq/DEVEL_QQF001_global_cpmp_gg_pk_20k.ipynb#X34sdnNjb2RlLXJlbW90ZQ%3D%3D?line=2'>3</a>\u001b[0m data20k \u001b[39m=\u001b[39m fn\u001b[39m.\u001b[39;49mfileNAME(path20k,search_terms)\n",
      "File \u001b[0;32m/scratch/pk695/FACTS/002_fork/facts/JupNbk/000_pk-JupNb_TESTspace/2023-01_NZ_INSAR/002_COMPARE_gg_pk/001_DEVEL_qq/fun_qq.py:160\u001b[0m, in \u001b[0;36mfileNAME\u001b[0;34m(patH, name)\u001b[0m\n\u001b[1;32m    158\u001b[0m matching_files \u001b[39m=\u001b[39m glob\u001b[39m.\u001b[39mglob(file_pattern)\n\u001b[1;32m    159\u001b[0m \u001b[39mif\u001b[39;00m \u001b[39mlen\u001b[39m(matching_files)\u001b[39m>\u001b[39m\u001b[39m1\u001b[39m: \n\u001b[0;32m--> 160\u001b[0m     \u001b[39mraise\u001b[39;00m \u001b[39mValueError\u001b[39;00m(\u001b[39m\"\u001b[39m\u001b[39mThere are 2 files with same keyword\u001b[39m\u001b[39m\"\u001b[39m)\n\u001b[1;32m    161\u001b[0m fnme \u001b[39m=\u001b[39m os\u001b[39m.\u001b[39mpath\u001b[39m.\u001b[39mbasename(matching_files[\u001b[39m0\u001b[39m])\n\u001b[1;32m    162\u001b[0m \u001b[39mreturn\u001b[39;00m fnme\n",
      "\u001b[0;31mValueError\u001b[0m: There are 2 files with same keyword"
     ]
    }
   ],
   "source": [
    "path20k = '/scratch/pk695/FACTS/002_fork/facts/experimentsNZ.230608/nzOG/nzOG.ssp585.500loc/output/'\n",
    "search_terms = ['emulandice.AIS_globalsl.nc','585']\n",
    "data20k = fn.fileNAME(path20k,search_terms)"
   ]
  },
  {
   "attachments": {},
   "cell_type": "markdown",
   "metadata": {},
   "source": [
    "---"
   ]
  },
  {
   "cell_type": "code",
   "execution_count": null,
   "metadata": {},
   "outputs": [],
   "source": [
    "path20k = '/scratch/pk695/FACTS/002_fork/facts/experimentsNZ.230608/nzOG/nzOG.ssp585.500loc/output/'\n",
    "# path2k = '/scratch/pk695/FACTS/002_fork/facts/experimentsNZ/nzOG/nzOG.ssp585/output_global_ssp585/'\n",
    "path2k=pathG='/projects/kopp/ggg46/nz_projections/global/full_sample_components/'"
   ]
  },
  {
   "attachments": {},
   "cell_type": "markdown",
   "metadata": {},
   "source": [
    "---"
   ]
  },
  {
   "cell_type": "code",
   "execution_count": null,
   "metadata": {},
   "outputs": [],
   "source": [
    "fn.plot(['ssp585','emulandice.AIS_globalsl.nc'],path20k,path2k)\n",
    "# fn.plot('larmip.larmip.AIS_globalsl',path20k,path2k)\n",
    "# fn.plot('deconto21.deconto21.AIS_AIS_globalsl.nc',path20k,path2k)\n",
    "# fn.plot('bamber19.bamber19.icesheets_AIS_globalsl.nc',path20k,path2k)\n",
    "# fn.plot('ar5AIS.ipccar5.icesheets_WAIS_globalsl.nc',path20k,path2k)\n",
    "# fn.plot('ar5AIS.ipccar5.icesheets_EAIS_globalsl.nc',path20k,path2k)"
   ]
  },
  {
   "attachments": {},
   "cell_type": "markdown",
   "metadata": {},
   "source": [
    "❄️❄️❄️❄️❄️❄️❄️❄️❄️❄️❄️❄️❄️❄️❄️❄️❄️❄️❄️❄️❄️❄️❄️❄️❄️❄️❄️❄️❄️❄️❄️❄️❄️❄️❄️❄️❄️❄️❄️❄️❄️❄️❄️❄️❄️❄️❄️❄️❄️❄️❄️❄️❄️❄️❄️❄️❄️❄️❄️❄️❄️❄️❄️❄️❄️❄️"
   ]
  },
  {
   "attachments": {},
   "cell_type": "markdown",
   "metadata": {},
   "source": [
    "---"
   ]
  },
  {
   "cell_type": "code",
   "execution_count": null,
   "metadata": {},
   "outputs": [],
   "source": [
    "fn.plot('emuGrIS.emulandice.GrIS_globalsl.nc',path20k,path2k)\n",
    "fn.plot('GrIS1f.FittedISMIP.GrIS_GIS_globalsl',path20k,path2k)\n",
    "fn.plot('bamber19.bamber19.icesheets_GIS_globalsl.nc',path20k,path2k)"
   ]
  },
  {
   "attachments": {},
   "cell_type": "markdown",
   "metadata": {},
   "source": [
    "❄️❄️❄️❄️❄️❄️❄️❄️❄️❄️❄️❄️❄️❄️❄️❄️❄️❄️❄️❄️❄️❄️❄️❄️❄️❄️❄️❄️❄️❄️❄️❄️❄️❄️❄️❄️❄️❄️❄️❄️❄️❄️❄️❄️❄️❄️❄️❄️❄️❄️❄️❄️❄️❄️❄️❄️❄️❄️❄️❄️❄️❄️❄️❄️❄️❄️"
   ]
  },
  {
   "attachments": {},
   "cell_type": "markdown",
   "metadata": {},
   "source": [
    "---"
   ]
  },
  {
   "cell_type": "code",
   "execution_count": null,
   "metadata": {},
   "outputs": [],
   "source": [
    "fn.plot('emuglaciers.emulandice.glaciers_globalsl.nc',path20k,path2k)\n",
    "fn.plot('ar5glaciers.ipccar5.glaciers_globalsl.nc',path20k,path2k)"
   ]
  },
  {
   "attachments": {},
   "cell_type": "markdown",
   "metadata": {},
   "source": [
    "🧊🧊🧊🧊🧊🧊🧊🧊🧊🧊🧊🧊🧊🧊🧊🧊🧊🧊🧊🧊🧊🧊🧊🧊🧊🧊🧊🧊🧊🧊🧊🧊🧊🧊🧊🧊🧊🧊🧊🧊🧊🧊🧊🧊🧊🧊🧊🧊🧊🧊🧊🧊🧊🧊"
   ]
  },
  {
   "attachments": {},
   "cell_type": "markdown",
   "metadata": {},
   "source": [
    "<hr style=\"border: 0; border-top: 1px solid; width: 100%;\">"
   ]
  },
  {
   "cell_type": "code",
   "execution_count": null,
   "metadata": {},
   "outputs": [],
   "source": [
    "fn.plot('sterodynamics_globalsl.nc',path20k,path2k)\n",
    "# fn.plot('verticallandmotion_localsl.nc',path20k,path2k)\n",
    "fn.plot('lws.ssp.landwaterstorage_globalsl.nc',path20k,path2k)"
   ]
  },
  {
   "attachments": {},
   "cell_type": "markdown",
   "metadata": {},
   "source": [
    "☕️☕️☕️☕️☕️☕️☕️☕️☕️☕️☕️☕️☕️☕️☕️☕️"
   ]
  },
  {
   "attachments": {},
   "cell_type": "markdown",
   "metadata": {},
   "source": [
    "---"
   ]
  },
  {
   "cell_type": "code",
   "execution_count": null,
   "metadata": {},
   "outputs": [],
   "source": [
    "fn.plot('total.workflow.wf1e.global.nc',path20k,path2k)\n",
    "fn.plot('total.workflow.wf1f.global.nc',path20k,path2k)\n",
    "fn.plot('total.workflow.wf2e.global.nc',path20k,path2k)\n",
    "fn.plot('total.workflow.wf2f.global.nc',path20k,path2k)\n",
    "fn.plot('total.workflow.wf3e.global.nc',path20k,path2k)\n",
    "fn.plot('total.workflow.wf3f.global.nc',path20k,path2k)\n",
    "fn.plot('total.workflow.wf4.global.nc',path20k,path2k)"
   ]
  },
  {
   "attachments": {},
   "cell_type": "markdown",
   "metadata": {},
   "source": [
    "☕️☕️☕️☕️☕️☕️☕️☕️☕️☕️☕️☕️☕️☕️☕️☕️"
   ]
  },
  {
   "attachments": {},
   "cell_type": "markdown",
   "metadata": {},
   "source": [
    "---"
   ]
  }
 ],
 "metadata": {
  "kernelspec": {
   "display_name": "Python 3 (ipykernel)",
   "language": "python",
   "name": "python3"
  },
  "language_info": {
   "codemirror_mode": {
    "name": "ipython",
    "version": 3
   },
   "file_extension": ".py",
   "mimetype": "text/x-python",
   "name": "python",
   "nbconvert_exporter": "python",
   "pygments_lexer": "ipython3",
   "version": "3.9.15"
  }
 },
 "nbformat": 4,
 "nbformat_minor": 2
}
