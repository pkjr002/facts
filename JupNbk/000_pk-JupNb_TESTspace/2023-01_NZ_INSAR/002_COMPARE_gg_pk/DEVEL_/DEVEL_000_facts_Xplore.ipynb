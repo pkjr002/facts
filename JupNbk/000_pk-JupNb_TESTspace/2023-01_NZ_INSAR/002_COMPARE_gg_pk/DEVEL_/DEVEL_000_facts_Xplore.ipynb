{
 "cells": [
  {
   "cell_type": "code",
   "execution_count": null,
   "metadata": {},
   "outputs": [],
   "source": [
    "import numpy as np\n",
    "import pandas as pd\n",
    "import xarray as xr\n",
    "from mpl_toolkits.basemap import Basemap\n",
    "import glob\n",
    "import os\n",
    "import shutil\n",
    "import re\n",
    "import cartopy\n",
    "import matplotlib.ticker as mticker\n",
    "import matplotlib.pyplot as plt\n",
    "#\n",
    "%matplotlib inline\n",
    "# %matplotlib notebook\n",
    "#\n",
    "from mpl_toolkits.mplot3d import Axes3D\n",
    "from matplotlib.colors import ListedColormap, BoundaryNorm\n",
    "#\n",
    "# PD=os.getcwd(); PD\n",
    "\n",
    "# ++++++++++++++++++++++++++++++++++++\n",
    "def fileNAME(patH,name):\n",
    "    import glob\n",
    "    folder_path = patH\n",
    "    search_term = name   # \"glaciers\"  # replace with the word you want to search for\n",
    "    file_pattern = f\"{folder_path}/*{search_term}*\"  # create a pattern to match files containing the search term\n",
    "    matching_files = glob.glob(file_pattern)\n",
    "    if len(matching_files)>1: \n",
    "        raise ValueError(\"There are 2 files with same keyword\")\n",
    "    fnme = os.path.basename(matching_files[0])\n",
    "    return fnme\n"
   ]
  },
  {
   "cell_type": "code",
   "execution_count": null,
   "metadata": {},
   "outputs": [],
   "source": [
    "# matching_files\n",
    "\n",
    "ssp='ssp585'\n",
    "\n",
    "#\n",
    "if ssp=='ssp126' or ssp=='ssp585':\n",
    "    WF=['wf_1e','wf_1f','wf_2e','wf_2f','wf_3e','wf_3f','wf_4']\n",
    "elif ssp=='ssp119' or ssp=='ssp245':    \n",
    "    WF=['wf_1e','wf_1f','wf_2e','wf_2f','wf_3e','wf_3f']\n",
    "elif ssp=='ssp370':\n",
    "    WF=['wf_1e','wf_1f','wf_2e','wf_2f']\n",
    "    \n",
    "#\n",
    "for i, wf in enumerate(WF):\n",
    "    folder='dist_workflows'\n",
    "    pathG='/projects/kopp/ggg46/nz_projections/regional/{arg0}/{arg1}/{arg2}/'.format(arg0=folder,arg1=wf,arg2=ssp)\n",
    "    pathP='/scratch/pk695/FACTS/nzOG-pk695/local-pk695/002_{arg0}/{arg1}/{arg2}/'.format(arg0=folder,arg1=wf,arg2=ssp)\n",
    "    \n",
    "#     print(\"begin ... \"+str(i)+\" - \"+wf)\n",
    "#     !ls $pathG\n",
    "#     print(\"-xXx-xXx-\")\n",
    "#     !ls $pathP\n",
    "#     print(\"-____-___-\")"
   ]
  }
 ],
 "metadata": {
  "kernelspec": {
   "display_name": "Python 3 (ipykernel)",
   "language": "python",
   "name": "python3"
  },
  "language_info": {
   "codemirror_mode": {
    "name": "ipython",
    "version": 3
   },
   "file_extension": ".py",
   "mimetype": "text/x-python",
   "name": "python",
   "nbconvert_exporter": "python",
   "pygments_lexer": "ipython3",
   "version": "3.9.15"
  }
 },
 "nbformat": 4,
 "nbformat_minor": 2
}
