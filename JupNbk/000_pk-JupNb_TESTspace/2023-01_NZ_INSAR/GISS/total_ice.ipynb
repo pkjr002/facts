{
 "cells": [
  {
   "cell_type": "markdown",
   "metadata": {},
   "source": [
    "<span style=\"font-size: 22pt; color: blue; font-family: 'Times New Roman';\">\n",
    "Get the total Ice component for AIS and GrIS\n",
    "</span>"
   ]
  },
  {
   "cell_type": "code",
   "execution_count": null,
   "metadata": {},
   "outputs": [],
   "source": []
  }
 ],
 "metadata": {
  "language_info": {
   "name": "python"
  },
  "orig_nbformat": 4
 },
 "nbformat": 4,
 "nbformat_minor": 2
}
