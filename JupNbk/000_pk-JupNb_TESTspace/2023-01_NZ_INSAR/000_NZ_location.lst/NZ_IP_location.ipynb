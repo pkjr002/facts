{
 "cells": [
  {
   "cell_type": "code",
   "execution_count": null,
   "metadata": {},
   "outputs": [],
   "source": [
    "import NZ_IP_location_FN as fn"
   ]
  },
  {
   "cell_type": "markdown",
   "metadata": {},
   "source": [
    "<p style=\"font-size: 16pt; color: blue; font-family: 'Times New Roman';\"> \n",
    "        IP data in \n",
    "        <span style=\"font-family: 'Times New Roman'; color:red; font-weight: bold; font-style: italic;\">NZInsarGPS module</span> \n",
    "</p>"
   ]
  },
  {
   "cell_type": "code",
   "execution_count": null,
   "metadata": {},
   "outputs": [],
   "source": [
    "path='./001_OG_loc_data';   filename='NZ_2km.txt'\n",
    "#\n",
    "Lon_GG,Lat_GG = fn.latlon_head(path,filename,lonIDX=0,latIDX=1)\n",
    "#\n",
    "fn.readTXT_head(path,filename)"
   ]
  },
  {
   "cell_type": "markdown",
   "metadata": {},
   "source": [
    "<p style=\"font-size: 16pt; color: blue; font-family: 'Times New Roman';\"> \n",
    "    Ian's new data \n",
    "    <span style=\"font-family: 'Times New Roman'; color:red; font-weight: bold; font-style: italic;\"> NZ_with_islands_VLM-v2.txt </span>\n",
    "</p>"
   ]
  },
  {
   "cell_type": "code",
   "execution_count": null,
   "metadata": {},
   "outputs": [],
   "source": [
    "path='./002_newGPSdata_4m_Ian';   filename='NZ_with_islands_VLM-v2.txt'\n",
    "#\n",
    "Lon_v2,Lat_v2 = fn.latlon_head(path,filename,lonIDX=1,latIDX=2)\n",
    "#\n",
    "fn.readTXT_head(path,filename)"
   ]
  },
  {
   "cell_type": "markdown",
   "metadata": {},
   "source": [
    "<p style=\"font-size: 16pt; color: blue; font-family: 'Times New Roman';\"> \n",
    "    Ian's new data \n",
    "    <span style=\"font-family: 'Times New Roman'; color:red; font-weight: bold; font-style: italic;\"> NZ_with_islands_VLM-v3-Aug23.txt </span>\n",
    "</p>"
   ]
  },
  {
   "cell_type": "code",
   "execution_count": null,
   "metadata": {},
   "outputs": [],
   "source": [
    "path='./002_newGPSdata_4m_Ian';   filename='NZ_with_islands_VLM-v3-Aug23.txt'\n",
    "#\n",
    "Lon_v3,Lat_v3 = fn.latlon_csv(path,filename)\n",
    "#\n",
    "fn.readTXT_csv(path,filename)"
   ]
  },
  {
   "cell_type": "markdown",
   "metadata": {},
   "source": [
    "<p style=\"font-size: 16pt; color: blue; font-family: 'Times New Roman';\">\n",
    "    <span style=\" border: 2px solid black; padding: 2px;\"> PLOT ::  </span> &nbsp\n",
    "    <span style=\"background-color: yellow;\" > Lat </span>\n",
    "</p>"
   ]
  },
  {
   "cell_type": "code",
   "execution_count": null,
   "metadata": {},
   "outputs": [],
   "source": [
    "import matplotlib.pyplot as plt\n",
    "\n",
    "fig, axes = plt.subplots(1, 1, figsize=(20, 5))\n",
    "plt.subplots_adjust(wspace=0.4, hspace=0.2)\n",
    "\n",
    "label = {'title': 'LAT'}\n",
    "\n",
    "colors = ['blue', 'red', 'black']\n",
    "data = [Lat_GG, Lat_v2, Lat_v3]\n",
    "lgds = ['GG', 'Ian_v2', 'Ian_v3']\n",
    "mkszs=[.25,5,.25]\n",
    "\n",
    "for lat_data, color, lgd, mksz in zip(data, colors,lgds,mkszs):\n",
    "    linPARAM = {'clr': color, 'lab': lgd, 'mrkr': '.', 'mrkrsz': mksz}\n",
    "    fn.plot(axes, lat_data, linPARAM, label)\n",
    "\n",
    "plt.show()"
   ]
  },
  {
   "cell_type": "code",
   "execution_count": null,
   "metadata": {},
   "outputs": [],
   "source": [
    "import matplotlib.pyplot as plt\n",
    "\n",
    "fig, axes = plt.subplots(1, 1, figsize=(20, 5))\n",
    "\n",
    "label = {'title': 'Lon'}\n",
    "\n",
    "colors = ['blue', 'red', 'green']\n",
    "data = [Lon_GG, Lon_v2, Lon_v3]\n",
    "lgds = ['GG', 'Ian_v2', 'Ian_v3']\n",
    "mkszs=[1,5,1]\n",
    "\n",
    "for lat_data, color, lgd, mksz in zip(data, colors,lgds,mkszs):\n",
    "    linPARAM = {'clr': color, 'lab': lgd, 'mrkr': '.', 'mrkrsz': mksz}\n",
    "    fn.plot(axes, lat_data, linPARAM, label)\n",
    "\n",
    "plt.show()"
   ]
  }
 ],
 "metadata": {
  "kernelspec": {
   "display_name": "Python 3 (ipykernel)",
   "language": "python",
   "name": "python3"
  },
  "language_info": {
   "codemirror_mode": {
    "name": "ipython",
    "version": 3
   },
   "file_extension": ".py",
   "mimetype": "text/x-python",
   "name": "python",
   "nbconvert_exporter": "python",
   "pygments_lexer": "ipython3",
   "version": "3.9.16"
  },
  "vscode": {
   "interpreter": {
    "hash": "adc634733d73b0796380be3dda2ecd8c29414439860d566d764cbd379022a65e"
   }
  }
 },
 "nbformat": 4,
 "nbformat_minor": 2
}
