{
 "cells": [
  {
   "cell_type": "markdown",
   "metadata": {},
   "source": [
    "<p style=\"font-size: 12pt; color: blue; font-family: 'Comic Sans MS';\"> \n",
    "        IP data in \n",
    "        <span style=\"font-family: 'Times New Roman'; color:red; font-weight: bold; font-style: italic;\">NZInsarGPS module</span> \n",
    "</p>"
   ]
  },
  {
   "cell_type": "code",
   "execution_count": 1,
   "metadata": {},
   "outputs": [
    {
     "name": "stdout",
     "output_type": "stream",
     "text": [
      "Lon, Lat, Vertical land motion rate (mm/yr), BOP corrected rate (mm/yr), 1-sigma (mm/yr), quality factor (1-best, 5-worst)\n",
      "173.117510 -34.740926 -1.320000 -1.320000 0.040000 5.000000\n",
      "173.127726 -34.756665 -1.320000 -1.320000 0.040000 5.000000\n",
      "173.143557 -34.768840 -1.320000 -1.320000 0.040000 5.000000\n",
      "173.154531 -34.767581 -1.320000 -1.320000 0.040000 5.000000\n",
      "173.147358 -34.775750 -1.320000 -1.320000 0.040000 5.000000\n",
      "173.157763 -34.788285 -1.320000 -1.320000 0.040000 5.000000\n",
      "173.168738 -34.794005 -1.320000 -1.320000 0.040000 5.000000\n",
      "173.174094 -34.804621 -1.320000 -1.320000 0.040000 5.000000\n",
      "173.163676 -34.810595 -1.320000 -1.320000 0.040000 5.000000\n"
     ]
    }
   ],
   "source": [
    "path='/scratch/pk695/FACTS/002_fork/facts/JupNbk/000_pk-JupNb_TESTspace/2023-01_NZ_INSAR/000_NZ_location.lst/001_OG_loc_data/'\n",
    "with open(f'{path}/NZ_2km.txt', 'r') as file:\n",
    "    for i, line in enumerate(file):\n",
    "        if i < 10:\n",
    "            print(line.strip())\n",
    "del file, i, line"
   ]
  },
  {
   "cell_type": "code",
   "execution_count": null,
   "metadata": {},
   "outputs": [],
   "source": [
    "import pandas as pd\n",
    "from io import StringIO\n",
    "\n",
    "with open(f'{path}/NZ_2km.txt', 'r') as f: lns = f.readlines()\n",
    "col_nme = lns[0].strip().split(', ')\n",
    "data    = \"\\n\".join(lne.strip() for lne in lns[1:])\n",
    "df      = pd.read_csv(StringIO(data), delim_whitespace=True, names=col_nme, dtype=str)\n",
    "array   = df.to_numpy()\n",
    "#\n",
    "Lon = array[:,0].astype(float)\n",
    "Lat = array[:,1].astype(float)"
   ]
  },
  {
   "cell_type": "code",
   "execution_count": null,
   "metadata": {},
   "outputs": [],
   "source": [
    "import matplotlib.pyplot as plt\n",
    "plt.plot(lat_Idxed,color='blue')"
   ]
  },
  {
   "cell_type": "markdown",
   "metadata": {},
   "source": [
    "<p style=\"font-size: 12pt; color: blue; font-family: 'Comic Sans MS';\"> \n",
    "    Ian's new data \n",
    "    <span style=\"font-family: 'Times New Roman'; color:red; font-weight: bold; font-style: italic;\"> NZ_with_islands_VLM-v2.txt </span>\n",
    "</p>"
   ]
  },
  {
   "cell_type": "code",
   "execution_count": 2,
   "metadata": {},
   "outputs": [
    {
     "name": "stdout",
     "output_type": "stream",
     "text": [
      "ids, lon, lat, rate (mm/yr), 1-sig error (mm/yr), Number of points, quality, mean distance (km)\n",
      "0 173.117500 -34.740900 -1.320000 16.087437 1.000000 4.333333 39.249533\n",
      "1 173.127700 -34.756700 -1.320000 15.140021 1.000000 4.000000 37.269781\n",
      "2 173.143600 -34.768800 -1.320000 14.636633 1.000000 4.000000 35.501677\n",
      "3 173.154500 -34.767600 -1.320000 14.693462 1.000000 4.000000 35.309727\n",
      "4 173.147400 -34.775800 -1.320000 14.317932 1.000000 4.000000 34.649830\n",
      "5 173.157800 -34.788300 -1.320000 13.495062 1.000000 4.000000 33.022251\n",
      "6 173.168700 -34.794000 -1.320000 13.304415 1.000000 4.000000 32.110605\n",
      "7 173.174100 -34.804600 -1.320000 12.791684 1.000000 4.000000 30.835303\n",
      "8 173.163700 -34.810600 -1.320000 12.855698 1.000000 4.000000 30.494038\n"
     ]
    }
   ],
   "source": [
    "path ='/scratch/pk695/FACTS/002_fork/facts/JupNbk/000_pk-JupNb_TESTspace/2023-01_NZ_INSAR/000_NZ_location.lst/002_newGPSdata_4m_Ian'\n",
    "with open(f'{path}/NZ_with_islands_VLM-v2.txt', 'r') as file:\n",
    "    for i, line in enumerate(file):\n",
    "        if i < 10:\n",
    "            print(line.strip())\n",
    "del file, i, line"
   ]
  },
  {
   "cell_type": "markdown",
   "metadata": {},
   "source": [
    "<p style=\"font-size: 12pt; color: blue; font-family: 'Comic Sans MS';\"> \n",
    "    Ian's new data \n",
    "    <span style=\"font-family: 'Times New Roman'; color:red; font-weight: bold; font-style: italic;\"> NZ_with_islands_VLM-v3-Aug23.txt </span>\n",
    "</p>"
   ]
  },
  {
   "cell_type": "code",
   "execution_count": 4,
   "metadata": {},
   "outputs": [
    {
     "name": "stdout",
     "output_type": "stream",
     "text": [
      "1 173.117510 -34.740926  -1.320000  -1.320000  15.485643   1.000000   4.333333  39.246499\n",
      "2 173.127726 -34.756665  -1.320000  -1.320000  14.613627   1.000000   4.333333  37.272582\n",
      "3 173.143557 -34.768840  -1.320000  -1.320000  14.319939   1.000000   4.333333  35.498780\n",
      "4 173.154531 -34.767581  -1.320000  -1.320000  14.277605   1.000000   4.333333  35.310875\n",
      "5 173.147358 -34.775750  -1.320000  -1.320000  14.047993   1.000000   4.333333  34.656364\n",
      "6 173.157763 -34.788285  -1.320000  -1.320000  13.183032   1.000000   4.333333  33.024915\n",
      "7 173.168738 -34.794005  -1.320000  -1.320000  12.850512   1.000000   4.333333  32.109042\n",
      "8 173.174094 -34.804621  -1.320000  -1.320000  12.303296   1.000000   4.333333  30.833224\n",
      "9 173.163676 -34.810595  -1.320000  -1.320000  12.212250   1.000000   4.333333  30.495283\n",
      "10 173.169554 -34.823438  -1.320000  -1.320000  11.890113   1.000000   4.333333  28.965849\n"
     ]
    }
   ],
   "source": [
    "import csv\n",
    "path ='/scratch/pk695/FACTS/002_fork/facts/JupNbk/000_pk-JupNb_TESTspace/2023-01_NZ_INSAR/000_NZ_location.lst/002_newGPSdata_4m_Ian'\n",
    "with open(f'{path}/NZ_with_islands_VLM-v3-Aug23.txt', 'r') as file:\n",
    "    reader = csv.reader(file, delimiter='\\t')\n",
    "    for i, row in enumerate(reader):\n",
    "        if i < 10:\n",
    "            print(\" \".join(row))\n",
    "del file, i, row, reader"
   ]
  }
 ],
 "metadata": {
  "kernelspec": {
   "display_name": "Python 3 (ipykernel)",
   "language": "python",
   "name": "python3"
  },
  "language_info": {
   "codemirror_mode": {
    "name": "ipython",
    "version": 3
   },
   "file_extension": ".py",
   "mimetype": "text/x-python",
   "name": "python",
   "nbconvert_exporter": "python",
   "pygments_lexer": "ipython3",
   "version": "3.9.15"
  },
  "vscode": {
   "interpreter": {
    "hash": "adc634733d73b0796380be3dda2ecd8c29414439860d566d764cbd379022a65e"
   }
  }
 },
 "nbformat": 4,
 "nbformat_minor": 2
}
