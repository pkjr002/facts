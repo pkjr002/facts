{
 "cells": [
  {
   "cell_type": "markdown",
   "metadata": {},
   "source": [
    "<p style=\"font-size: 14pt; color: blue;\">Extract the contents of NZInsarGPS_verticallandmotion_preprocess_data.tgz to this location.</p>"
   ]
  },
  {
   "cell_type": "code",
   "execution_count": 1,
   "metadata": {},
   "outputs": [
    {
     "name": "stdout",
     "output_type": "stream",
     "text": [
      "./NZ_2km.txt\n"
     ]
    }
   ],
   "source": [
    "import tarfile\n",
    "import shutil\n",
    "\n",
    "file_path = '/projects/kopp/facts-dev/modules-data/NZInsarGPS_verticallandmotion_preprocess_data.tgz' \n",
    "\n",
    "# Get a list of all files and dir in the tar file\n",
    "with tarfile.open(file_path, 'r') as tar:\n",
    "    members = tar.getmembers()\n",
    "    for member in members:\n",
    "        print(member.name)\n",
    "\n",
    "# Extract the files. \n",
    "with tarfile.open(file_path, 'r') as tar:\n",
    "    tar.extractall()"
   ]
  },
  {
   "cell_type": "markdown",
   "metadata": {},
   "source": [
    "<p style=\"font-size: 14pt; color: blue;\">This is the data that gets used for the <b style=\"color: red;\">NZInsarGPS module</b></p>\n"
   ]
  },
  {
   "cell_type": "code",
   "execution_count": 2,
   "metadata": {},
   "outputs": [
    {
     "name": "stdout",
     "output_type": "stream",
     "text": [
      "Lon, Lat, Vertical land motion rate (mm/yr), BOP corrected rate (mm/yr), 1-sigma (mm/yr), quality factor (1-best, 5-worst)\n",
      "173.117510 -34.740926 -1.320000 -1.320000 0.040000 5.000000\n",
      "173.127726 -34.756665 -1.320000 -1.320000 0.040000 5.000000\n",
      "173.143557 -34.768840 -1.320000 -1.320000 0.040000 5.000000\n",
      "173.154531 -34.767581 -1.320000 -1.320000 0.040000 5.000000\n",
      "173.147358 -34.775750 -1.320000 -1.320000 0.040000 5.000000\n",
      "173.157763 -34.788285 -1.320000 -1.320000 0.040000 5.000000\n",
      "173.168738 -34.794005 -1.320000 -1.320000 0.040000 5.000000\n",
      "173.174094 -34.804621 -1.320000 -1.320000 0.040000 5.000000\n",
      "173.163676 -34.810595 -1.320000 -1.320000 0.040000 5.000000\n"
     ]
    }
   ],
   "source": [
    "from itertools import islice\n",
    "file_path = f'{member.name}'\n",
    "#\n",
    "with open(file_path, 'r') as file: \n",
    "    first_10_lines = list(islice(file, 10))\n",
    "for line in first_10_lines: \n",
    "    print(line.strip())  "
   ]
  },
  {
   "cell_type": "markdown",
   "metadata": {},
   "source": [
    "---\n",
    "<p style=\"font-size: 14pt; color: blue;\"> Ians data</p>"
   ]
  },
  {
   "cell_type": "code",
   "execution_count": null,
   "metadata": {},
   "outputs": [],
   "source": []
  }
 ],
 "metadata": {
  "kernelspec": {
   "display_name": "Python 3 (ipykernel)",
   "language": "python",
   "name": "python3"
  },
  "language_info": {
   "codemirror_mode": {
    "name": "ipython",
    "version": 3
   },
   "file_extension": ".py",
   "mimetype": "text/x-python",
   "name": "python",
   "nbconvert_exporter": "python",
   "pygments_lexer": "ipython3",
   "version": "3.9.15"
  },
  "vscode": {
   "interpreter": {
    "hash": "adc634733d73b0796380be3dda2ecd8c29414439860d566d764cbd379022a65e"
   }
  }
 },
 "nbformat": 4,
 "nbformat_minor": 2
}
