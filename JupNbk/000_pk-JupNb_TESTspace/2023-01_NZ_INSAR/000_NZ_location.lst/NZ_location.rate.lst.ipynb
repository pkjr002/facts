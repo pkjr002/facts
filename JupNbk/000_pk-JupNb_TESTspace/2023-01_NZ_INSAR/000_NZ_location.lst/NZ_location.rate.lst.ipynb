{
 "cells": [
  {
   "cell_type": "markdown",
   "metadata": {},
   "source": [
    "<p style=\"font-size: 16pt; color: blue;\"> Extract the contents of NZInsarGPS_verticallandmotion_preprocess_data.tgz to this location.</p>\n",
    "<p style=\"font-size: 12pt; color: black;\"> Data:: NZinsar module (amarel, facts-dev)\n",
    "    <ol>\n",
    "        <li> Copy the .tar file to this folder. </li>\n",
    "        <li> Extract contents. </li>      \n",
    "    <ol> \n",
    "</p>"
   ]
  },
  {
   "cell_type": "code",
   "execution_count": 1,
   "metadata": {},
   "outputs": [],
   "source": [
    "import os\n",
    "import tarfile\n",
    "import shutil\n",
    "\n",
    "PD=os.getcwd()\n",
    "tmpF='___temp'; \n",
    "if os.path.exists(tmpF): shutil.rmtree(tmpF)\n",
    "os.mkdir(tmpF)\n",
    "cp2PATH=PD+'/'+tmpF\n",
    "#\n",
    "file_path = '/projects/kopp/facts-dev/modules-data/NZInsarGPS_verticallandmotion_preprocess_data.tgz' "
   ]
  },
  {
   "cell_type": "code",
   "execution_count": 2,
   "metadata": {},
   "outputs": [
    {
     "name": "stdout",
     "output_type": "stream",
     "text": [
      "The files within the *tar file are\n",
      "./NZ_2km.txt\n"
     ]
    }
   ],
   "source": [
    "print('The files within the *tar file are')\n",
    "with tarfile.open(file_path, 'r') as tar:\n",
    "    members = tar.getmembers()\n",
    "    for member in members:\n",
    "        print(member.name)"
   ]
  },
  {
   "cell_type": "code",
   "execution_count": 3,
   "metadata": {},
   "outputs": [
    {
     "name": "stdout",
     "output_type": "stream",
     "text": [
      "files extracted to /scratch/pk695/FACTS/002_fork/facts/JupNbk/000_pk-JupNb_TESTspace/2023-01_NZ_INSAR/000_NZ_location.lst/___temp\n"
     ]
    }
   ],
   "source": [
    "# Extract the files. \n",
    "with tarfile.open(file_path, 'r:gz') as tar:\n",
    "    tar.extractall(path=cp2PATH)\n",
    "    print(f'files extracted to {cp2PATH}')"
   ]
  },
  {
   "cell_type": "markdown",
   "metadata": {},
   "source": [
    "<style>\n",
    "    .myPara     {font-size: 12pt; color: blue; font-family: 'Comic Sans MS';}\n",
    "    .highlight  {background-color: yellow;}\n",
    "    .imp        {font-family: 'Times New Roman'; color:red; font-weight: bold; font-style: italic;}\n",
    "    .boxed      {border: 2px solid black; padding: 5px;}\n",
    "</style>\n",
    "\n",
    "<p class=\"myPara\"> \n",
    "    <span class=\"highlight\"> \n",
    "        This is the data that gets used for the \n",
    "        <span class=\"imp\">NZInsarGPS module</span> \n",
    "        and running facts SLURM (ggg).\n",
    "    </span>\n",
    "</p>"
   ]
  },
  {
   "cell_type": "code",
   "execution_count": 4,
   "metadata": {},
   "outputs": [
    {
     "name": "stdout",
     "output_type": "stream",
     "text": [
      "Lon, Lat, Vertical land motion rate (mm/yr), BOP corrected rate (mm/yr), 1-sigma (mm/yr), quality factor (1-best, 5-worst)\n",
      "173.117510 -34.740926 -1.320000 -1.320000 0.040000 5.000000\n",
      "173.127726 -34.756665 -1.320000 -1.320000 0.040000 5.000000\n",
      "173.143557 -34.768840 -1.320000 -1.320000 0.040000 5.000000\n",
      "173.154531 -34.767581 -1.320000 -1.320000 0.040000 5.000000\n",
      "173.147358 -34.775750 -1.320000 -1.320000 0.040000 5.000000\n",
      "173.157763 -34.788285 -1.320000 -1.320000 0.040000 5.000000\n",
      "173.168738 -34.794005 -1.320000 -1.320000 0.040000 5.000000\n",
      "173.174094 -34.804621 -1.320000 -1.320000 0.040000 5.000000\n",
      "173.163676 -34.810595 -1.320000 -1.320000 0.040000 5.000000\n"
     ]
    }
   ],
   "source": [
    "with open(f'{cp2PATH}/NZ_2km.txt', 'r') as file:\n",
    "    for i, line in enumerate(file):\n",
    "        if i < 10:\n",
    "            print(line.strip())"
   ]
  },
  {
   "cell_type": "markdown",
   "metadata": {},
   "source": [
    "<style>\n",
    "    .myPara     {font-size: 12pt; color: blue; font-family: 'Comic Sans MS';}\n",
    "    .hl         {background-color: yellow;}\n",
    "    .imp        {font-family: 'Times New Roman'; color:red; font-weight: bold; font-style: italic;}\n",
    "    .boxed      {border: 2px solid black; padding: 5px;}\n",
    "    .bulet li   {font-family: 'Times New Roman'; color:black; font-style: italic; font-size: 12pt;}\n",
    "</style>\n",
    "\n",
    "<p class=\"myPara\"> \n",
    "    Since the GPS file (used to create the ip  <span class=\"imp\"> NZInsarGPS .tgz) </span> was not processed by me, I am not 100% on what the format of <span class=\"imp\"> Ian's original</span> input data was at the time the module was created. \n",
    "    <ul class=\"bulet\"> \n",
    "        <li> <span class=hl> As you can see below, the new data provided by Ian has a slightly diffrent structure than the one above.</span></li>\n",
    "    </ul>\n",
    "</p>\n",
    "\n",
    "<p class=\"myPara\"> \n",
    "    Ian's new data <span class=\"imp\"> NZ_with_islands_VLM-v2.txt </span>\n",
    "</p>"
   ]
  },
  {
   "cell_type": "code",
   "execution_count": 5,
   "metadata": {},
   "outputs": [
    {
     "name": "stdout",
     "output_type": "stream",
     "text": [
      "ids, lon, lat, rate (mm/yr), 1-sig error (mm/yr), Number of points, quality, mean distance (km)\n",
      "0 173.117500 -34.740900 -1.320000 16.087437 1.000000 4.333333 39.249533\n",
      "1 173.127700 -34.756700 -1.320000 15.140021 1.000000 4.000000 37.269781\n",
      "2 173.143600 -34.768800 -1.320000 14.636633 1.000000 4.000000 35.501677\n",
      "3 173.154500 -34.767600 -1.320000 14.693462 1.000000 4.000000 35.309727\n",
      "4 173.147400 -34.775800 -1.320000 14.317932 1.000000 4.000000 34.649830\n",
      "5 173.157800 -34.788300 -1.320000 13.495062 1.000000 4.000000 33.022251\n",
      "6 173.168700 -34.794000 -1.320000 13.304415 1.000000 4.000000 32.110605\n",
      "7 173.174100 -34.804600 -1.320000 12.791684 1.000000 4.000000 30.835303\n",
      "8 173.163700 -34.810600 -1.320000 12.855698 1.000000 4.000000 30.494038\n"
     ]
    }
   ],
   "source": [
    "file_path_new ='/scratch/pk695/FACTS/002_fork/facts/JupNbk/000_pk-JupNb_TESTspace/2023-01_NZ_INSAR/000_NZ_location.lst/002_newGPSdata_4m_Ian/NZ_with_islands_VLM-v2.txt'\n",
    "with open(file_path_new, 'r') as file:\n",
    "    for i, line in enumerate(file):\n",
    "        if i < 10:\n",
    "            print(line.strip())"
   ]
  },
  {
   "cell_type": "code",
   "execution_count": 6,
   "metadata": {},
   "outputs": [
    {
     "name": "stdout",
     "output_type": "stream",
     "text": [
      "The files within the *tar file are\n",
      "newGPS\n",
      "newGPS/NZInsarGPS1_verticallandmotion_preprocess_data.tgz\n",
      "newGPS/._.DS_Store\n",
      "newGPS/.DS_Store\n",
      "newGPS/._NZ_2km.txt\n",
      "newGPS/NZ_2km.txt\n",
      "newGPS/._NZ_with_islands_VLM-v2.txt\n",
      "newGPS/NZ_with_islands_VLM-v2.txt\n",
      "newGPS/cre8DATA.sh\n"
     ]
    }
   ],
   "source": [
    "print('The files within the *tar file are')\n",
    "temp_file_path='/scratch/pk695/FACTS/002_fork/facts/JupNbk/000_pk-JupNb_TESTspace/2023-01_NZ_INSAR/000_NZ_location.lst/003_New_loc_data/newGPS.tar.gz'\n",
    "with tarfile.open(temp_file_path, 'r') as tar:\n",
    "    members = tar.getmembers()\n",
    "    for member in members:\n",
    "        print(member.name)"
   ]
  },
  {
   "cell_type": "markdown",
   "metadata": {},
   "source": [
    "---\n",
    "<p style=\"font-size: 14pt; color: blue;\"> GGG output</p>"
   ]
  },
  {
   "cell_type": "code",
   "execution_count": 7,
   "metadata": {},
   "outputs": [],
   "source": [
    "\n",
    "import xarray as xr\n",
    "file_ggg='/projects/kopp/pk695/NZ_ReRun/FACTS_NZ_ggg/medium_confidence/ssp585/total_ssp585_medium_confidence_values.nc'\n",
    "d_ggg=xr.open_dataset(file_ggg)\n",
    "# d_ggg"
   ]
  },
  {
   "cell_type": "code",
   "execution_count": 8,
   "metadata": {},
   "outputs": [
    {
     "data": {
      "text/plain": [
       "array([   0,    1,    2, ..., 7432, 7433, 7434], dtype=int32)"
      ]
     },
     "execution_count": 8,
     "metadata": {},
     "output_type": "execute_result"
    }
   ],
   "source": [
    "d_ggg['locations'].values"
   ]
  }
 ],
 "metadata": {
  "kernelspec": {
   "display_name": "Python 3 (ipykernel)",
   "language": "python",
   "name": "python3"
  },
  "language_info": {
   "codemirror_mode": {
    "name": "ipython",
    "version": 3
   },
   "file_extension": ".py",
   "mimetype": "text/x-python",
   "name": "python",
   "nbconvert_exporter": "python",
   "pygments_lexer": "ipython3",
   "version": "3.9.15"
  },
  "vscode": {
   "interpreter": {
    "hash": "adc634733d73b0796380be3dda2ecd8c29414439860d566d764cbd379022a65e"
   }
  }
 },
 "nbformat": 4,
 "nbformat_minor": 2
}
