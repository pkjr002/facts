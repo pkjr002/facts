{
 "cells": [
  {
   "cell_type": "markdown",
   "metadata": {},
   "source": [
    "<style>\n",
    "    .myHead     {font-size: 16pt; color: blue; font-family: 'Comic Sans MS';font-weight: bold;}\n",
    "    .myPara     {font-size: 12pt; color: blue; font-family: 'Times New Roman';line-height: 1.5;}\n",
    "    .hl         {background-color: yellow;}\n",
    "    .imp        {font-family: 'Times New Roman'; color:red; font-weight: bold; font-style: italic;}\n",
    "    .boxed      {border: 2px solid black; padding: 1px;}\n",
    "    .bulet      {font-family: 'Times New Roman'; color:black; font-style: italic; font-size: 12pt;line-height: 1.5;}\n",
    "</style>\n",
    "\n",
    "<p class=\"myHead\">  Extract the contents of \n",
    "<span class=\"imp boxed hl\"> NZInsarGPS_verticallandmotion_preprocess_data.tgz</span> to this location.\n",
    "</p>\n",
    "\n",
    "<section style=\"padding-left: 50px;\">\n",
    "    <p class=\"myPara\"> \n",
    "        Data:: NZinsar module (amarel, facts-dev)\n",
    "        <ol class=\"bulet\">\n",
    "            <li> make <span class=\"boxed\"> 001_OG_loc_data folder</span> </li>\n",
    "            <li> Copy the <span class=\"hl\">.tar</span> file to <span class=\"hl\">001_OG_loc_data folder</span> </li>\n",
    "            <li>  Extract contents. </li>      \n",
    "        </ol> \n",
    "    </p>\n",
    "</section>"
   ]
  },
  {
   "cell_type": "markdown",
   "metadata": {},
   "source": [
    "<style>\n",
    "    .hl         {background-color: yellow;}\n",
    "    .imp        {font-size: 14pt;font-family: 'Times New Roman'; color:red; font-weight: bold; font-style: italic;}\n",
    "    .boxed      {border: 2px solid black; padding: 1px;}\n",
    "</style>\n",
    "\n",
    "<p class=\"imp\">Create the  <span class=\"boxed\"> 001_OG_loc_data</span> &nbsp; folder</p>"
   ]
  },
  {
   "cell_type": "code",
   "execution_count": 1,
   "metadata": {},
   "outputs": [],
   "source": [
    "import os; import tarfile; import shutil\n",
    "#\n",
    "PD=os.getcwd()\n",
    "#\n",
    "OG_locFOLDER='001_OG_loc_data'; \n",
    "if os.path.exists(OG_locFOLDER): shutil.rmtree(OG_locFOLDER)\n",
    "os.mkdir(OG_locFOLDER)\n",
    "#\n",
    "cp2PATH=PD+'/'+OG_locFOLDER\n",
    "#\n",
    "tar_file_path = '/projects/kopp/facts-dev/modules-data/NZInsarGPS_verticallandmotion_preprocess_data.tgz' "
   ]
  },
  {
   "cell_type": "code",
   "execution_count": 2,
   "metadata": {},
   "outputs": [
    {
     "name": "stdout",
     "output_type": "stream",
     "text": [
      "The files within the *tar file are\n",
      "./NZ_2km.txt\n"
     ]
    }
   ],
   "source": [
    "print('The files within the *tar file are')\n",
    "with tarfile.open(tar_file_path, 'r') as tar:\n",
    "    members = tar.getmembers()\n",
    "    for member in members:\n",
    "        print(member.name)\n",
    "del members, member"
   ]
  },
  {
   "cell_type": "code",
   "execution_count": 3,
   "metadata": {},
   "outputs": [
    {
     "name": "stdout",
     "output_type": "stream",
     "text": [
      "files extracted to /scratch/pk695/FACTS/002_fork/facts/JupNbk/000_pk-JupNb_TESTspace/2023-01_NZ_INSAR/000_NZ_location.lst/001_OG_loc_data\n"
     ]
    }
   ],
   "source": [
    "# Extract the files. \n",
    "with tarfile.open(tar_file_path, 'r:gz') as tar:\n",
    "    tar.extractall(path=cp2PATH)\n",
    "    print(f'files extracted to {cp2PATH}')"
   ]
  },
  {
   "cell_type": "markdown",
   "metadata": {},
   "source": [
    "<style>\n",
    "    .myPara     {font-size: 12pt; color: blue; font-family: 'Comic Sans MS';}\n",
    "    .highlight  {background-color: yellow;}\n",
    "    .imp        {font-family: 'Times New Roman'; color:red; font-weight: bold; font-style: italic;}\n",
    "    .boxed      {border: 2px solid black; padding: 5px;}\n",
    "</style>\n",
    "\n",
    "<p class=\"myPara\"> \n",
    "    <span class=\"highlight\"> \n",
    "        This is the data that gets used for the \n",
    "        <span class=\"imp\">NZInsarGPS module</span> \n",
    "        and running facts SLURM (ggg).\n",
    "    </span>\n",
    "</p>"
   ]
  },
  {
   "cell_type": "code",
   "execution_count": 4,
   "metadata": {},
   "outputs": [
    {
     "name": "stdout",
     "output_type": "stream",
     "text": [
      "Lon, Lat, Vertical land motion rate (mm/yr), BOP corrected rate (mm/yr), 1-sigma (mm/yr), quality factor (1-best, 5-worst)\n",
      "173.117510 -34.740926 -1.320000 -1.320000 0.040000 5.000000\n",
      "173.127726 -34.756665 -1.320000 -1.320000 0.040000 5.000000\n",
      "173.143557 -34.768840 -1.320000 -1.320000 0.040000 5.000000\n",
      "173.154531 -34.767581 -1.320000 -1.320000 0.040000 5.000000\n",
      "173.147358 -34.775750 -1.320000 -1.320000 0.040000 5.000000\n",
      "173.157763 -34.788285 -1.320000 -1.320000 0.040000 5.000000\n",
      "173.168738 -34.794005 -1.320000 -1.320000 0.040000 5.000000\n",
      "173.174094 -34.804621 -1.320000 -1.320000 0.040000 5.000000\n",
      "173.163676 -34.810595 -1.320000 -1.320000 0.040000 5.000000\n"
     ]
    }
   ],
   "source": [
    "with open(f'{cp2PATH}/NZ_2km.txt', 'r') as file:\n",
    "    for i, line in enumerate(file):\n",
    "        if i < 10:\n",
    "            print(line.strip())\n",
    "del file, i, line"
   ]
  },
  {
   "cell_type": "markdown",
   "metadata": {},
   "source": [
    "<style>\n",
    "    .myPara     {font-size: 12pt; color: blue; font-family: 'Comic Sans MS';}\n",
    "    .hl         {background-color: yellow;}\n",
    "    .imp        {font-family: 'Times New Roman'; color:red; font-weight: bold; font-style: italic;}\n",
    "    .boxed      {border: 2px solid black; padding: 5px;}\n",
    "    .bulet li   {font-family: 'Times New Roman'; color:black; font-style: italic; font-size: 12pt;}\n",
    "</style>\n",
    "\n",
    "<p class=\"myPara\"> \n",
    "    Since the GPS file (used to create the ip  <span class=\"imp\"> NZInsarGPS .tgz) </span> was not processed by me, I am not 100% on what the format of <span class=\"imp\"> Ian's original</span> input data was at the time the module was created. \n",
    "    <ul class=\"bulet\"> \n",
    "        <li> <span class=hl> As you can see below, the new data provided by Ian has a slightly diffrent structure than the one above.</span></li>\n",
    "    </ul>\n",
    "</p>\n",
    "\n",
    "<p class=\"myPara\"> \n",
    "    Ian's new data <span class=\"imp\"> NZ_with_islands_VLM-v2.txt </span>\n",
    "</p>"
   ]
  },
  {
   "cell_type": "code",
   "execution_count": 5,
   "metadata": {},
   "outputs": [
    {
     "name": "stdout",
     "output_type": "stream",
     "text": [
      "ids, lon, lat, rate (mm/yr), 1-sig error (mm/yr), Number of points, quality, mean distance (km)\n",
      "0 173.117500 -34.740900 -1.320000 16.087437 1.000000 4.333333 39.249533\n",
      "1 173.127700 -34.756700 -1.320000 15.140021 1.000000 4.000000 37.269781\n",
      "2 173.143600 -34.768800 -1.320000 14.636633 1.000000 4.000000 35.501677\n",
      "3 173.154500 -34.767600 -1.320000 14.693462 1.000000 4.000000 35.309727\n",
      "4 173.147400 -34.775800 -1.320000 14.317932 1.000000 4.000000 34.649830\n",
      "5 173.157800 -34.788300 -1.320000 13.495062 1.000000 4.000000 33.022251\n",
      "6 173.168700 -34.794000 -1.320000 13.304415 1.000000 4.000000 32.110605\n",
      "7 173.174100 -34.804600 -1.320000 12.791684 1.000000 4.000000 30.835303\n",
      "8 173.163700 -34.810600 -1.320000 12.855698 1.000000 4.000000 30.494038\n"
     ]
    }
   ],
   "source": [
    "file_path_new ='/scratch/pk695/FACTS/002_fork/facts/JupNbk/000_pk-JupNb_TESTspace/2023-01_NZ_INSAR/000_NZ_location.lst/002_newGPSdata_4m_Ian/NZ_with_islands_VLM-v2.txt'\n",
    "with open(file_path_new, 'r') as file:\n",
    "    for i, line in enumerate(file):\n",
    "        if i < 10:\n",
    "            print(line.strip())\n",
    "del file, i, line"
   ]
  },
  {
   "cell_type": "code",
   "execution_count": 6,
   "metadata": {},
   "outputs": [
    {
     "name": "stdout",
     "output_type": "stream",
     "text": [
      "The files within the *tar file are\n",
      "newGPS\n",
      "newGPS/NZInsarGPS1_verticallandmotion_preprocess_data.tgz\n",
      "newGPS/._.DS_Store\n",
      "newGPS/.DS_Store\n",
      "newGPS/._NZ_2km.txt\n",
      "newGPS/NZ_2km.txt\n",
      "newGPS/._NZ_with_islands_VLM-v2.txt\n",
      "newGPS/NZ_with_islands_VLM-v2.txt\n",
      "newGPS/cre8DATA.sh\n"
     ]
    }
   ],
   "source": [
    "print('The files within the *tar file are')\n",
    "temp_file_path='/scratch/pk695/FACTS/002_fork/facts/JupNbk/000_pk-JupNb_TESTspace/2023-01_NZ_INSAR/000_NZ_location.lst/003_New_loc_data/newGPS.tar.gz'\n",
    "with tarfile.open(temp_file_path, 'r') as tar:\n",
    "    members = tar.getmembers()\n",
    "    for member in members:\n",
    "        print(member.name)\n",
    "del tar, members, member"
   ]
  },
  {
   "cell_type": "markdown",
   "metadata": {},
   "source": [
    "<p style=\"font-size: 12pt; color: black; font-family: Comic Sans MS\";> \n",
    "The above folder and all its contents need to be <hl style=\"background-color: red;\"> <b>deleted</b> </hl> from the folder structure. <br>\n",
    "The OG location.lst should be created within JnB. \n",
    "</p>"
   ]
  },
  {
   "cell_type": "markdown",
   "metadata": {},
   "source": [
    "---\n",
    "<style>\n",
    "    .myPara     {font-size: 12pt; color: blue; font-family: 'Comic Sans MS';}\n",
    "    .imp        {font-family: 'Times New Roman'; color:red; font-weight: bold; font-style: italic;}\n",
    "    .boxed      {border: 2px solid black; padding: 1px;}\n",
    "</style>\n",
    "\n",
    "<p class=\"myPara\"> \n",
    "    Get <span class=\"imp boxed\">GGG</span> NZ run foder contents.    \n",
    "</p>"
   ]
  },
  {
   "cell_type": "code",
   "execution_count": 7,
   "metadata": {},
   "outputs": [
    {
     "data": {
      "text/plain": [
       "['regional', 'regional_novlm', 'global', 'scripts']"
      ]
     },
     "execution_count": 7,
     "metadata": {},
     "output_type": "execute_result"
    }
   ],
   "source": [
    "import os\n",
    "#\n",
    "ggg_NZ_projPATH = '/projects/kopp/ggg46/nz_projections/'\n",
    "os.listdir(ggg_NZ_projPATH)"
   ]
  },
  {
   "cell_type": "markdown",
   "metadata": {},
   "source": [
    "<style>\n",
    "    .myPara     {font-size: 16pt; color: blue; font-family: 'Comic Sans MS';}\n",
    "    .imp        {font-family: 'Times New Roman'; color:red; font-weight: bold; font-style: italic;}\n",
    "    .boxed      {border: 2px solid black; padding: 1px;}\n",
    "</style>\n",
    "\n",
    "<p class=myPara> \n",
    "    <span class=\"imp\"><span class=\"boxed\"> Save </span> &nbsp;&nbsp</span>   lat,lon,location\n",
    "</p>"
   ]
  },
  {
   "cell_type": "code",
   "execution_count": 8,
   "metadata": {},
   "outputs": [],
   "source": [
    "import numpy as np; import xarray as xr\n",
    "#\n",
    "ggg_NZ_projFILE='regional/confidence_output_files/medium_confidence/ssp585/total_ssp585_medium_confidence_values.nc'\n",
    "ggg_NZ_data = xr.open_dataset(ggg_NZ_projPATH+ggg_NZ_projFILE)\n",
    "#\n",
    "ggg_NZ_loc  = ggg_NZ_data['locations'].values\n",
    "ggg_NZ_lat  = ggg_NZ_data['lat'].values\n",
    "ggg_NZ_lon  = ggg_NZ_data['lon'].values\n",
    "#\n",
    "ggg_NZ_lat=ggg_NZ_lat.astype(np.float64)\n",
    "ggg_NZ_lon=ggg_NZ_lon.astype(np.float64)\n",
    "#\n",
    "ggg_NZ_lat  = np.round(ggg_NZ_lat,6)\n",
    "ggg_NZ_lon  = np.round(ggg_NZ_lon,6)"
   ]
  },
  {
   "cell_type": "code",
   "execution_count": 9,
   "metadata": {},
   "outputs": [
    {
     "data": {
      "text/plain": [
       "array([   0,    1,    2, ..., 7432, 7433, 7434], dtype=int32)"
      ]
     },
     "execution_count": 9,
     "metadata": {},
     "output_type": "execute_result"
    }
   ],
   "source": [
    "ggg_NZ_loc"
   ]
  },
  {
   "cell_type": "markdown",
   "metadata": {},
   "source": [
    "<style>\n",
    "    .myPara     {font-size: 12pt; color: blue; font-family: 'Comic Sans MS';}\n",
    "    .hl         {background-color: yellow;}\n",
    "    .imp1       {font-family: 'Times New Roman'; color:red; font-weight: bold; font-size: 16pt;}\n",
    "    .boxed      {border: 2px solid black; padding: 1px;}\n",
    "    .clr        {color:blue;}\n",
    "</style>\n",
    "\n",
    "<p class=\"myPara\"> \n",
    "    <span class=\"imp1 boxed hl\">The output confid lev files that GGG produced have <span class=\"clr\">\" id \"</span> in them. \n",
    "</p>"
   ]
  },
  {
   "cell_type": "markdown",
   "metadata": {},
   "source": [
    "<div style=\"border:2px solid black; padding:2px\">\n",
    "    <br>\n",
    "    <p style=\"font-size: 12pt; color: blue; font-family: Comic Sans MS\"> \n",
    "        This is what may be the issue. \n",
    "        <br>\n",
    "        <section style=\"padding-left: 50px;font-size: 12pt; color: blue; font-family: Comic Sans MS\">    \n",
    "            The OG ip tgz file does not have any ID's. \n",
    "            <hl style=\"background-color: yellow;\">May help to confirm with Ian if this is the case</hl> \n",
    "            <br>\n",
    "            <i> - seen from the <b>NZInsarGPS_preprocess_verticallandmotion.py</b> file line 28.</i> \n",
    "            <br><br>\n",
    "            However, it appears that the <clr style=\"color:red\"><b>location.lst</b></clr> would have had to have had the ID's as this is an IP for <br>\n",
    "            <b>NZInsarGPS_postprocess_verticallandmotion.py</b> read in as site_ids (line 95)\n",
    "        </section> \n",
    "    </p>\n",
    "    <p style=\"font-size: 14pt; color: black; font-family: Times New Roman\">\n",
    "        Including the IDs in the location.lst instead of the \"200000000 ..etc\" placeholders, will enable final nc op, the location cttribute to have ids\n",
    "    </p>\n",
    "</div>"
   ]
  },
  {
   "cell_type": "markdown",
   "metadata": {},
   "source": [
    "<br><br><br>\n",
    "<style>\n",
    "    .myPara     {font-size: 16pt; color: blue; font-family: 'Times New Roman';}\n",
    "    .hl         {background-color: yellow;}\n",
    "    .imp        {font-family: 'Times New Roman'; color:red; font-weight: bold; font-style: bold;}\n",
    "    .boxed      {border: 2px solid black; padding: 1px;}\n",
    "</style>\n",
    "\n",
    "<p class=myPara>\n",
    "    Get the <span class=\"imp hl\">lat/lon</span> from the \n",
    "    <span class=\"boxed\"> NZInsarGPS_verticallandmotion_preprocess_data.tgz</span> file\n",
    "</p>"
   ]
  },
  {
   "cell_type": "code",
   "execution_count": 10,
   "metadata": {},
   "outputs": [],
   "source": [
    "# import pandas as pd; from io import StringIO\n",
    "# #\n",
    "# with open(f'{cp2PATH}/NZ_2km.txt', 'r') as f:\n",
    "#     lns = f.readlines()\n",
    "#     #    \n",
    "# col_nme = lns[0].strip().split(', ')\n",
    "# data    = \"\\n\".join(lne.strip() for lne in lns[1:])\n",
    "# df      = pd.read_csv(StringIO(data), delim_whitespace=True, names=col_nme)\n",
    "# array   = df.to_numpy()\n",
    "# #\n",
    "# LatLon_tar=array[:,:2]"
   ]
  },
  {
   "cell_type": "code",
   "execution_count": 11,
   "metadata": {},
   "outputs": [],
   "source": [
    "import pandas as pd\n",
    "from io import StringIO\n",
    "\n",
    "with open(f'{cp2PATH}/NZ_2km.txt', 'r') as f:\n",
    "    lns = f.readlines()\n",
    "\n",
    "col_nme = lns[0].strip().split(', ')\n",
    "data    = \"\\n\".join(lne.strip() for lne in lns[1:])\n",
    "df      = pd.read_csv(StringIO(data), delim_whitespace=True, names=col_nme, dtype=str)\n",
    "array   = df.to_numpy()\n",
    "# this contains string to preserve the 0's\n",
    "LatLon_tar_str=array[:,:2]\n",
    "LatLon_tar = array[:,:2].astype(float)"
   ]
  },
  {
   "cell_type": "markdown",
   "metadata": {},
   "source": [
    "<style>\n",
    "    .myPara     {font-size: 16pt; color: blue; font-family: 'Times New Roman';}\n",
    "    .hl         {background-color: yellow;}\n",
    "    .imp        {font-family: 'Times New Roman'; color:red; font-weight: bold; font-style: bold;}\n",
    "    .boxed      {border: 2px solid black; padding: 1px;}\n",
    "</style>\n",
    "\n",
    "<p class=myPara>\n",
    "    Check if the <span class=\"imp\"> lat/lon </span> from the <span class=\"imp boxed hl\"> tar </span> &nbsp; file match the order of that in <span class=\"imp boxed hl\"> ggg </span> \n",
    "</p>"
   ]
  },
  {
   "cell_type": "code",
   "execution_count": 12,
   "metadata": {},
   "outputs": [],
   "source": [
    "import numpy as np\n",
    "def comp(data1,data2,lt): \n",
    "    idx_unmatch =[]\n",
    "    for i in range(len(data1)):\n",
    "        if np.abs(data1[i] - data2[i]) > lt:\n",
    "            idx_unmatch.append(i)\n",
    "    if idx_unmatch == []: print('data are the same')\n",
    "    else: print('data are different')\n",
    "    return idx_unmatch"
   ]
  },
  {
   "cell_type": "code",
   "execution_count": 13,
   "metadata": {},
   "outputs": [
    {
     "name": "stdout",
     "output_type": "stream",
     "text": [
      "data are the same\n"
     ]
    }
   ],
   "source": [
    "lat1=LatLon_tar[:,1];                 \n",
    "lat2=ggg_NZ_lat;\n",
    "#\n",
    "# idx_unmatch_lat=comp(lat1,lat2,0.000020)\n",
    "idx_unmatch_lat=comp(lat1,lat2,0.000003)"
   ]
  },
  {
   "cell_type": "code",
   "execution_count": 14,
   "metadata": {},
   "outputs": [
    {
     "name": "stdout",
     "output_type": "stream",
     "text": [
      "data are the same\n"
     ]
    }
   ],
   "source": [
    "lon1=LatLon_tar[:,0];   \n",
    "lon2=ggg_NZ_lon;\n",
    "#\n",
    "idx_unmatch_lon=comp(lon1,lon2,0.000009)\n",
    "# idx_unmatch_lon=comp(lon1,lon2,0.000020)      # idx_unmatch_lon=comp(lon1,lon2,0.000008) #101 vals are diff"
   ]
  },
  {
   "cell_type": "markdown",
   "metadata": {},
   "source": [
    "<style>\n",
    "    .myPara     {font-size: 16pt; color: blue; font-family: 'Times New Roman';}\n",
    "    .hl         {background-color: yellow;}\n",
    "    .imp        {font-family: 'Times New Roman'; color:red; font-weight: bold; font-style: bold;}\n",
    "    .boxed      {border: 2px solid black; padding: 1px;}\n",
    "</style>\n",
    "\n",
    "<p class=\"myPara\">\n",
    "    <span class=\"boxed\"> Create a location.lst based on tar data</span>\n",
    "</p>"
   ]
  },
  {
   "cell_type": "code",
   "execution_count": 15,
   "metadata": {},
   "outputs": [],
   "source": [
    "latitude = LatLon_tar_str[:,1]\n",
    "longitude = LatLon_tar_str[:,0]\n",
    "count = 0   #2000000000\n",
    "# with open(\"latlon_basedON_gregNZ_OP_.txt\", \"w\") as file:\n",
    "with open(f'{cp2PATH}/latlon_basedON_tar_.txt', \"w\") as file:\n",
    "    for i, (lat, lon) in enumerate(zip(latitude, longitude)):\n",
    "        #\n",
    "        grid_lat_lon = f\"grid_{lat}_{lon}\"\n",
    "        file.write(f\"{grid_lat_lon}\\t{count}\\t{lat}\\t{lon}\\n\")\n",
    "        #\n",
    "        if i == len(latitude) - 1: break \n",
    "        count += 1 #10"
   ]
  }
 ],
 "metadata": {
  "kernelspec": {
   "display_name": "Python 3 (ipykernel)",
   "language": "python",
   "name": "python3"
  },
  "language_info": {
   "codemirror_mode": {
    "name": "ipython",
    "version": 3
   },
   "file_extension": ".py",
   "mimetype": "text/x-python",
   "name": "python",
   "nbconvert_exporter": "python",
   "pygments_lexer": "ipython3",
   "version": "3.9.15"
  },
  "vscode": {
   "interpreter": {
    "hash": "adc634733d73b0796380be3dda2ecd8c29414439860d566d764cbd379022a65e"
   }
  }
 },
 "nbformat": 4,
 "nbformat_minor": 2
}
