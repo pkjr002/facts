{
 "cells": [
  {
   "attachments": {},
   "cell_type": "markdown",
   "metadata": {},
   "source": [
    "<div style=\"border: 1px solid black; padding: 10px;\">\n",
    "    <h1 style=\"color: blue;\">\n",
    "        <span style=\"color: black;\">\n",
    "            <b>PLOT::</b> Figures from <i>Naish et al. (2023)</i>\n",
    "            <a href=\"https://www.authorea.com/doi/full/10.1002/essoar.10511878.1\"><u><i> https://</i></u></a>\n",
    "        </span>\n",
    "    </h1>\n",
    "</div>"
   ]
  },
  {
   "attachments": {},
   "cell_type": "markdown",
   "metadata": {},
   "source": [
    "<p style=\"font-size: 24px; color: orange\">\n",
    "  <span style=\"font-size: 18pt;\">Import data/plot functions and specify axis details :</span><br>\n",
    "</p>"
   ]
  },
  {
   "cell_type": "code",
   "execution_count": 1,
   "metadata": {},
   "outputs": [],
   "source": [
    "import numpy as np; \n",
    "import fun_nz_ppr_fig_Naish_et_al_Figure5 as fn\n",
    "#\n",
    "ssp = ['ssp126', 'ssp245', 'ssp370', 'ssp585']\n",
    "options = {\n",
    "    'ylab': 'Sea Level Rise (m)',\n",
    "    'x_min': 2020, 'x_max': 2150,  'x_ticks': np.arange(2020, 2151, 10),\n",
    "    'y_min': -0.6, 'y_max': 3.3,   'y_ticks': np.around(np.arange(-0.6, 3.31, 0.3), decimals=1)}\n",
    "#"
   ]
  },
  {
   "cell_type": "code",
   "execution_count": 2,
   "metadata": {},
   "outputs": [],
   "source": [
    "# import numpy as np; \n",
    "# import fun_nz_ppr_fig_Naish_et_al_Figure4 as fn\n",
    "# #\n",
    "# ssp = ['ssp126', 'ssp245', 'ssp370', 'ssp585']\n",
    "# options = {\n",
    "#     'ylab': 'GMSL rise (m; rel 1995-2014)',\n",
    "#     'x_min': 2020, 'x_max': 2150,  'x_ticks': np.arange(2020, 2151, 10),\n",
    "#     'y_min': 0, 'y_max': 2.2,   'y_ticks': np.around(np.arange(0, 2.3, 0.2), decimals=1)}\n",
    "# #"
   ]
  },
  {
   "attachments": {},
   "cell_type": "markdown",
   "metadata": {},
   "source": [
    "<p style=\"font-size: 24px; color: red\">\n",
    "  <span style=\"font-size: 24pt;\"> <b><i>PLOT:: Figure 5 A: </b></i></span><br>\n",
    "</p>"
   ]
  },
  {
   "cell_type": "code",
   "execution_count": 3,
   "metadata": {},
   "outputs": [
    {
     "ename": "TypeError",
     "evalue": "project_SL() takes 4 positional arguments but 5 were given",
     "output_type": "error",
     "traceback": [
      "\u001b[0;31m---------------------------------------------------------------------------\u001b[0m",
      "\u001b[0;31mTypeError\u001b[0m                                 Traceback (most recent call last)",
      "Cell \u001b[0;32mIn[3], line 3\u001b[0m\n\u001b[1;32m      1\u001b[0m station \u001b[39m=\u001b[39m \u001b[39m0\u001b[39m; name \u001b[39m=\u001b[39m \u001b[39m'\u001b[39m\u001b[39mGlobal\u001b[39m\u001b[39m'\u001b[39m\n\u001b[1;32m      2\u001b[0m folder \u001b[39m=\u001b[39m [\u001b[39m'\u001b[39m\u001b[39m../003_Public/NZ_ReRun_2307/global/FACTS_1.0_NZ_pk_updatedVLM/medium_confidence\u001b[39m\u001b[39m'\u001b[39m]\n\u001b[0;32m----> 3\u001b[0m fn\u001b[39m.\u001b[39;49mproject_SL(folder,station, name, ssp, options)\n",
      "\u001b[0;31mTypeError\u001b[0m: project_SL() takes 4 positional arguments but 5 were given"
     ]
    }
   ],
   "source": [
    "station = 0; name = 'Global'\n",
    "folder = ['../003_Public/NZ_ReRun_2307/global/FACTS_1.0_NZ_pk/medium_confidence']\n",
    "fn.project_SL(folder,station, name, ssp, options)"
   ]
  }
 ],
 "metadata": {
  "kernelspec": {
   "display_name": "plot",
   "language": "python",
   "name": "python3"
  },
  "language_info": {
   "codemirror_mode": {
    "name": "ipython",
    "version": 3
   },
   "file_extension": ".py",
   "mimetype": "text/x-python",
   "name": "python",
   "nbconvert_exporter": "python",
   "pygments_lexer": "ipython3",
   "version": "3.9.16"
  },
  "orig_nbformat": 4
 },
 "nbformat": 4,
 "nbformat_minor": 2
}
