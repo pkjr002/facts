{
 "cells": [
  {
   "cell_type": "markdown",
   "metadata": {},
   "source": [
    "<p style=\"font-size: 24px; color: orange\">\n",
    "  <span style=\"font-size: 18pt;\">Import data/plot functions and specify axis details :</span><br>\n",
    "</p>"
   ]
  },
  {
   "cell_type": "code",
   "execution_count": 1,
   "metadata": {},
   "outputs": [],
   "source": [
    "import numpy as np; \n",
    "import fun_larmip_ar6larmip_ggg_comparison as fn\n",
    "# import fun_larmip_ar6larmip_ggg_comparison_DYN as fn\n",
    "#\n",
    "# ssp = ['ssp126', 'ssp245', 'ssp370', 'ssp585']\n",
    "ssp = ['ssp585']\n",
    "options = {\n",
    "    'ylab': 'Sea Level Rise (m)',\n",
    "    'x_min': 2020, 'x_max': 2150,  'x_ticks': np.arange(2020, 2151, 10),\n",
    "    'y_min': -0.6, 'y_max': 3.3,   'y_ticks': np.around(np.arange(-0.6, 3.31, 0.3), decimals=1)}\n",
    "#"
   ]
  },
  {
   "cell_type": "code",
   "execution_count": null,
   "metadata": {},
   "outputs": [],
   "source": [
    "station = 1863; name = 'Ohinepanea'\n",
    "path=['/scratch/pk695/FACTS/002_fork/facts/JupNbk/000_pk-JupNb_TESTspace/2023-01_NZ_INSAR/2307_Run/Pbox_ssp585.LarmipOG',\n",
    "      '/scratch/pk695/FACTS/002_fork/facts/JupNbk/000_pk-JupNb_TESTspace/2023-01_NZ_INSAR/2307_Run/Pbox_ssp585.LarmipCY',\n",
    "      '/scratch/pk695/FACTS/002_fork/facts/JupNbk/000_pk-JupNb_TESTspace/2023-01_NZ_INSAR/2307_Run/Pbox_ssp585.LarmipOG']\n",
    "fn.project_SL(station, name, ssp, path,options)"
   ]
  },
  {
   "cell_type": "code",
   "execution_count": null,
   "metadata": {},
   "outputs": [],
   "source": [
    "station = 1863; name = 'Ohinepanea'\n",
    "path=['/scratch/pk695/FACTS/002_fork/facts/JupNbk/000_pk-JupNb_TESTspace/2023-01_NZ_INSAR/2307_Run/Pbox_ssp585.ar6LarmipOG',\n",
    "      '/scratch/pk695/FACTS/002_fork/facts/JupNbk/000_pk-JupNb_TESTspace/2023-01_NZ_INSAR/2307_Run/Pbox_ssp585.ar6LarmipCY',\n",
    "      '/scratch/pk695/FACTS/002_fork/facts/JupNbk/000_pk-JupNb_TESTspace/2023-01_NZ_INSAR/2307_Run/Pbox_ssp585.ar6LarmipOG']\n",
    "fn.project_SL(station, name, ssp, path,options)"
   ]
  },
  {
   "cell_type": "markdown",
   "metadata": {},
   "source": [
    "---\n",
    "<p style=\"font-size: 24px; color: red\">\n",
    "  <span style=\"font-size: 24pt;\">PLOT:: <b><i>Figure 6 A:</b></i></span><br>\n",
    "</p>"
   ]
  },
  {
   "cell_type": "code",
   "execution_count": null,
   "metadata": {},
   "outputs": [],
   "source": [
    "# options = {'ylab': 'Sea Level Rise (m)','x_min': 2020, 'x_max': 2150,  'x_ticks': np.arange(2020, 2151, 10),'y_min': -0.3, 'y_max': 2.7,   'y_ticks': np.around(np.arange(-0.3, 2.8, 0.3), decimals=1)}"
   ]
  },
  {
   "cell_type": "code",
   "execution_count": null,
   "metadata": {},
   "outputs": [],
   "source": [
    "# station = 1233;  name = 'Auckland Tide Gauge'\n",
    "# fn.project_SL(station, name, ssp, options)"
   ]
  }
 ],
 "metadata": {
  "kernelspec": {
   "display_name": "Python 3 (ipykernel)",
   "language": "python",
   "name": "python3"
  },
  "language_info": {
   "codemirror_mode": {
    "name": "ipython",
    "version": 3
   },
   "file_extension": ".py",
   "mimetype": "text/x-python",
   "name": "python",
   "nbconvert_exporter": "python",
   "pygments_lexer": "ipython3",
   "version": "3.9.15"
  }
 },
 "nbformat": 4,
 "nbformat_minor": 2
}
