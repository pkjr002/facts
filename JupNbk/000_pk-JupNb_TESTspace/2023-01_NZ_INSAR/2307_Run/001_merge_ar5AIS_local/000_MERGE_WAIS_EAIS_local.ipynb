{
 "cells": [
  {
   "cell_type": "code",
   "execution_count": 1,
   "metadata": {},
   "outputs": [],
   "source": [
    "import xarray as xr"
   ]
  },
  {
   "cell_type": "markdown",
   "metadata": {},
   "source": [
    "<p style=\"font-size: 24pt; color: blue; font-family: 'Comic Sans MS'\">\n",
    "    Merge WAIS and EAIS\n",
    "</p>"
   ]
  },
  {
   "cell_type": "code",
   "execution_count": 2,
   "metadata": {},
   "outputs": [],
   "source": [
    "exp2 = 'ssp585NOVLM';       exp1 = 'nzOG.2307';         exp0 = 'experimentsNZ'\n",
    "#\n",
    "path=f'/scratch/pk695/FACTS/002_fork/facts/{exp0}/{exp1}/{exp2}/output/'\n",
    "# ==========================================================================================================\n",
    "# Create AIS (WAIS+EAIS)\n",
    "file1=f'{exp2}.ar5AIS.ipccar5.icesheets_EAIS_localsl.nc'\n",
    "file2=f'{exp2}.ar5AIS.ipccar5.icesheets_WAIS_localsl.nc'\n",
    "d_nc1=xr.open_dataset(path+file1);  \n",
    "d_nc2=xr.open_dataset(path+file2)\n",
    "# Extract the variable to add.\n",
    "slr = d_nc1['sea_level_change'] + d_nc2['sea_level_change']\n",
    "# Create a copy of the old dataset (for attr/coord)\n",
    "d_nc_new = d_nc1.copy(deep=True)\n",
    "# Modify the variable you want to change\n",
    "d_nc_new['sea_level_change'] = slr\n",
    "# Save the merged dataset to a new netCDF file\n",
    "d_nc_new.to_netcdf(path+f'{exp2}.ar5AIS.ipccar5.icesheets_AIS_localsl.nc')"
   ]
  },
  {
   "cell_type": "code",
   "execution_count": 2,
   "metadata": {},
   "outputs": [],
   "source": [
    "exp2 = 'ssp585.OGlarmip';       exp1 = 'nzOG.2307';         exp0 = 'experimentsNZ'\n",
    "#\n",
    "path=f'/scratch/pk695/FACTS/002_fork/facts/{exp0}/{exp1}/{exp2}/output/'\n",
    "# ==========================================================================================================\n",
    "# Create AIS (WAIS+EAIS)\n",
    "file1=f'{exp2}.ar5AIS.ipccar5.icesheets_EAIS_localsl.nc'\n",
    "file2=f'{exp2}.ar5AIS.ipccar5.icesheets_WAIS_localsl.nc'\n",
    "d_nc1=xr.open_dataset(path+file1);  \n",
    "d_nc2=xr.open_dataset(path+file2)\n",
    "# Extract the variable to add.\n",
    "slr = d_nc1['sea_level_change'] + d_nc2['sea_level_change']\n",
    "# Create a copy of the old dataset (for attr/coord)\n",
    "d_nc_new = d_nc1.copy(deep=True)\n",
    "# Modify the variable you want to change\n",
    "d_nc_new['sea_level_change'] = slr\n",
    "# Save the merged dataset to a new netCDF file\n",
    "d_nc_new.to_netcdf(path+f'{exp2}.ar5AIS.ipccar5.icesheets_AIS_localsl.nc')"
   ]
  },
  {
   "cell_type": "code",
   "execution_count": 3,
   "metadata": {},
   "outputs": [],
   "source": [
    "exp2 = 'ssp585ar6Larmip';       exp1 = 'nzOG.2307';         exp0 = 'experimentsNZ'\n",
    "#\n",
    "path=f'/scratch/pk695/FACTS/002_fork/facts/{exp0}/{exp1}/{exp2}/output/'\n",
    "# ==========================================================================================================\n",
    "# Create AIS (WAIS+EAIS)\n",
    "file1=f'{exp2}.ar5AIS.ipccar5.icesheets_EAIS_localsl.nc'\n",
    "file2=f'{exp2}.ar5AIS.ipccar5.icesheets_WAIS_localsl.nc'\n",
    "d_nc1=xr.open_dataset(path+file1);  \n",
    "d_nc2=xr.open_dataset(path+file2)\n",
    "# Extract the variable to add.\n",
    "slr = d_nc1['sea_level_change'] + d_nc2['sea_level_change']\n",
    "# Create a copy of the old dataset (for attr/coord)\n",
    "d_nc_new = d_nc1.copy(deep=True)\n",
    "# Modify the variable you want to change\n",
    "d_nc_new['sea_level_change'] = slr\n",
    "# Save the merged dataset to a new netCDF file\n",
    "d_nc_new.to_netcdf(path+f'{exp2}.ar5AIS.ipccar5.icesheets_AIS_localsl.nc')"
   ]
  }
 ],
 "metadata": {
  "kernelspec": {
   "display_name": "Python 3 (ipykernel)",
   "language": "python",
   "name": "python3"
  },
  "language_info": {
   "codemirror_mode": {
    "name": "ipython",
    "version": 3
   },
   "file_extension": ".py",
   "mimetype": "text/x-python",
   "name": "python",
   "nbconvert_exporter": "python",
   "pygments_lexer": "ipython3",
   "version": "3.9.15"
  }
 },
 "nbformat": 4,
 "nbformat_minor": 2
}
