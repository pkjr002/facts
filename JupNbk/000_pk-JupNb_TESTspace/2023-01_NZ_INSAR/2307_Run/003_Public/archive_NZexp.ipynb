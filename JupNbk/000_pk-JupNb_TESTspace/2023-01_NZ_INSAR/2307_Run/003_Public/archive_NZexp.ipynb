{
 "cells": [
  {
   "cell_type": "markdown",
   "metadata": {},
   "source": [
    "<p style=\"border: 5px solid black; padding: 20px; font-size: 24pt; color: blue; font-family: 'Times New Roman';background-color: yellow;\">\n",
    "    Create a &nbsp\n",
    "            <span style=\"color: black;\"><b>*.tgz</b></span> &nbsp  \n",
    "            archive for &nbsp\n",
    "                <span style=\"background-color: blue;color: white;\"> NZ RE-run </span> &nbsp \n",
    "    Experiments\n",
    "</p>"
   ]
  },
  {
   "cell_type": "markdown",
   "metadata": {},
   "source": [
    "\n",
    "<p style=\"font-size: 14pt; color: blue; font-family: 'Times New Roman';\">\n",
    "    This JnB takes the output from the Pbox, ie the conficence level files and adds them to a tar archive. In this case there are 3 experiments. \n",
    "    <ol style=\"font-style: italic; font-family: Consolas, \"Courier New\", monospace;\">\n",
    "      <li>FACTS_1.0_NZ_pk</li>\n",
    "      <li>FACTS_1.0_NZ_pk_updatedVLM</li>\n",
    "      <li>FACTS_NZ_ggg</li>\n",
    "    </ol>\n",
    "</p>\n"
   ]
  },
  {
   "cell_type": "markdown",
   "metadata": {},
   "source": [
    "<p style=\"font-size: 16pt;font-family: 'Times New Roman'; color:blue;\">\n",
    "    <b>CREATE::</b> &nbsp within this directory a  \n",
    "    <span style=\"border: 2px solid black; padding: 1px;\"> \n",
    "    main folder\n",
    "    </span> &nbsp; that will be archived\n",
    "</p>"
   ]
  },
  {
   "cell_type": "code",
   "execution_count": 1,
   "metadata": {},
   "outputs": [],
   "source": [
    "import shutil \n",
    "import os\n",
    "#\n",
    "PD=os. getcwd() "
   ]
  },
  {
   "cell_type": "code",
   "execution_count": 2,
   "metadata": {},
   "outputs": [],
   "source": [
    "# Create the Main EXP Output folder.\n",
    "folderEXP0 = f'{PD}/NZ_ReRun_2307' \n",
    "#\n",
    "if os.path.exists(folderEXP0): \n",
    "    shutil.rmtree(folderEXP0)\n",
    "os.makedirs(folderEXP0)"
   ]
  },
  {
   "cell_type": "markdown",
   "metadata": {},
   "source": [
    "<p style=\"font-size: 16pt;font-family: 'Times New Roman'; color:blue;\">\n",
    "    <b>CREATE::</b> &nbsp  \n",
    "    <span style=\"border: 2px solid black; padding: 1px;\"> \n",
    "    destination PATHs \n",
    "    </span> \n",
    "</p>"
   ]
  },
  {
   "cell_type": "code",
   "execution_count": 3,
   "metadata": {},
   "outputs": [],
   "source": [
    "# Global / Regional folders.\n",
    "folderEXP_Glb = f'{folderEXP0}/global' \n",
    "folderEXP_Loc = f'{folderEXP0}/regional'\n",
    "os.makedirs(folderEXP_Glb) \n",
    "os.makedirs(folderEXP_Loc) "
   ]
  },
  {
   "cell_type": "code",
   "execution_count": 4,
   "metadata": {},
   "outputs": [],
   "source": [
    "# Create the NoVLM folders\n",
    "folderEXP_LocNOVLM = f'{folderEXP0}/regional_NOVLM'\n",
    "os.makedirs(folderEXP_LocNOVLM) "
   ]
  },
  {
   "cell_type": "code",
   "execution_count": 5,
   "metadata": {},
   "outputs": [],
   "source": [
    "# create the subfolders within to store the Conf Level Files\n",
    "#\n",
    "nzOG_Glb = f'{folderEXP_Glb}/FACTS_1.0_NZ_pk'\n",
    "nzOG_Loc = f'{folderEXP_Loc}/FACTS_1.0_NZ_pk'\n",
    "#\n",
    "nzRE_Glb = f'{folderEXP_Glb}/FACTS_1.0_NZ_pk_updatedVLM'\n",
    "nzRE_Loc = f'{folderEXP_Loc}/FACTS_1.0_NZ_pk_updatedVLM'\n",
    "#\n",
    "nzGG_Glb = f'{folderEXP_Glb}/FACTS_NZ_ggg'\n",
    "nzGG_Loc = f'{folderEXP_Loc}/FACTS_NZ_ggg'\n",
    "#\n",
    "nzOG_LocNOVLM = f'{folderEXP_LocNOVLM}/FACTS_1.0_NZ_pk'\n",
    "nzRE_LocNOVLM = f'{folderEXP_LocNOVLM}/FACTS_1.0_NZ_pk_updatedVLM'"
   ]
  },
  {
   "cell_type": "markdown",
   "metadata": {},
   "source": [
    "<p style=\"font-size: 16pt;font-family: 'Times New Roman'; color:blue;\">\n",
    "    <b>SPECIFY::</b> &nbsp  \n",
    "    <span style=\"border: 2px solid black; padding: 1px;\"> \n",
    "    source PATH  \n",
    "    </span>\n",
    "</p>"
   ]
  },
  {
   "cell_type": "code",
   "execution_count": 6,
   "metadata": {},
   "outputs": [],
   "source": [
    "nzOG_Loc_src = '/scratch/pk695/FACTS/002_fork/facts/JupNbk/000_pk-JupNb_TESTspace/2023-01_NZ_INSAR/2307_Run/002_Pbox_nzOG/4_confidence_level_files'\n",
    "nzRE_Loc_src = '/scratch/pk695/FACTS/002_fork/facts/JupNbk/000_pk-JupNb_TESTspace/2023-01_NZ_INSAR/2307_Run/002_Pbox_nzRE/4_confidence_level_files'\n",
    "#\n",
    "nzOG_Glb_src = '/scratch/pk695/FACTS/002_fork/facts/JupNbk/000_pk-JupNb_TESTspace/2023-01_NZ_INSAR/2307_Run/002_Pbox_nzOG_global/4_confidence_level_files'\n",
    "nzRE_Glb_src = '/scratch/pk695/FACTS/002_fork/facts/JupNbk/000_pk-JupNb_TESTspace/2023-01_NZ_INSAR/2307_Run/002_Pbox_nzRE_global/4_confidence_level_files'\n",
    "#\n",
    "nzGG_Loc_src = '/projects/kopp/ggg46/nz_projections/regional/confidence_output_files'\n",
    "#\n",
    "nzOG_LocNOVLM_src = '/scratch/pk695/FACTS/002_fork/facts/JupNbk/000_pk-JupNb_TESTspace/2023-01_NZ_INSAR/2307_Run/002_Pbox_nzOG_NOVLM/4_confidence_level_files'\n",
    "nzRE_LocNOVLM_src = '/scratch/pk695/FACTS/002_fork/facts/JupNbk/000_pk-JupNb_TESTspace/2023-01_NZ_INSAR/2307_Run/002_Pbox_nzRE_NOVLM/4_confidence_level_files'"
   ]
  },
  {
   "cell_type": "markdown",
   "metadata": {},
   "source": [
    "<p style=\"font-size: 16pt;font-family: 'Times New Roman'; color:blue;\">\n",
    "    <b>CP::</b> &nbsp  \n",
    "    <span style=\"border: 2px solid black; padding: 1px;\"> \n",
    "    contents of CL (med and low) \n",
    "    </span> &nbsp; file from source ==> destination\n",
    "</p>"
   ]
  },
  {
   "cell_type": "code",
   "execution_count": 7,
   "metadata": {},
   "outputs": [],
   "source": [
    "shutil.copytree(nzOG_Loc_src, nzOG_Loc)\n",
    "shutil.copytree(nzRE_Loc_src, nzRE_Loc)\n",
    "shutil.copytree(nzGG_Loc_src, nzGG_Loc)\n",
    "#\n",
    "shutil.copytree(nzOG_Glb_src, nzOG_Glb)\n",
    "shutil.copytree(nzRE_Glb_src, nzRE_Glb)\n",
    "#\n",
    "shutil.copytree(nzOG_LocNOVLM_src, nzOG_LocNOVLM)\n",
    "shutil.copytree(nzRE_LocNOVLM_src, nzRE_LocNOVLM)\n",
    "# ----------------------------------------------------------------------\n",
    "# Remove the tar present in ggg that got coppied from /proj/kopp/... \n",
    "rm_tar=f'{nzGG_Loc}/nz_projections_confidence_levels.tgz'\n",
    "if os.path.isfile(rm_tar): os.remove(rm_tar)"
   ]
  },
  {
   "cell_type": "markdown",
   "metadata": {},
   "source": [
    "<p style=\"font-size: 16pt;font-family: 'Times New Roman'; color:blue;\">\n",
    "    <b>Create::</b> &nbsp  \n",
    "    <span style=\"border: 2px solid black; padding: 1px;\"> \n",
    "    *.tgz\n",
    "    </span> &nbsp; file\n",
    "</p>"
   ]
  },
  {
   "cell_type": "code",
   "execution_count": 8,
   "metadata": {},
   "outputs": [],
   "source": [
    "import os; import tarfile; import shutil\n",
    "tar_file=f'{PD}/{os.path.basename(folderEXP0)}.tgz'\n",
    "if os.path.isfile(rm_tar): os.remove(tar_file)\n",
    "#\n",
    "with tarfile.open(tar_file, 'w:gz') as tar:\n",
    "    tar.add(folderEXP0,arcname=os.path.basename(folderEXP0))\n",
    "# remove the folder that was just archived.    \n",
    "# shutil.rmtree(folderEXP0)"
   ]
  },
  {
   "cell_type": "markdown",
   "metadata": {},
   "source": [
    "<p style=\"font-size: 16pt;font-family: 'Times New Roman'; color:blue;\">\n",
    "    <b>un-TAR::</b> &nbsp  \n",
    "    <span style=\"border: 2px solid black; padding: 1px;\"> \n",
    "    contents of *.tgz\n",
    "    </span> &nbsp; file\n",
    "</p>"
   ]
  },
  {
   "cell_type": "code",
   "execution_count": 9,
   "metadata": {},
   "outputs": [],
   "source": [
    "# # Extract the files. \n",
    "# with tarfile.open(tar_file, 'r:gz') as tar:\n",
    "#     tar.extractall(path=PD)"
   ]
  }
 ],
 "metadata": {
  "kernelspec": {
   "display_name": "Python 3 (ipykernel)",
   "language": "python",
   "name": "python3"
  },
  "language_info": {
   "codemirror_mode": {
    "name": "ipython",
    "version": 3
   },
   "file_extension": ".py",
   "mimetype": "text/x-python",
   "name": "python",
   "nbconvert_exporter": "python",
   "pygments_lexer": "ipython3",
   "version": "3.9.15"
  },
  "vscode": {
   "interpreter": {
    "hash": "adc634733d73b0796380be3dda2ecd8c29414439860d566d764cbd379022a65e"
   }
  }
 },
 "nbformat": 4,
 "nbformat_minor": 2
}
