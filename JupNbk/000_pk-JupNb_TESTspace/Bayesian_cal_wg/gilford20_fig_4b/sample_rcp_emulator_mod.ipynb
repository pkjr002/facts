{
 "cells": [
  {
   "cell_type": "markdown",
   "metadata": {},
   "source": [
    "# Goal"
   ]
  },
  {
   "cell_type": "markdown",
   "metadata": {},
   "source": [
    "We've developed an ice-sheet model emulator for both the RCP8.5 scenario and the LIG scenario in **construct_rcp_emulator.ipynb** and **construct_lig_emulator.ipynb** respectively.\n",
    "\n",
    "The purpose of sampling from the LIG emulator is to inform our sampling of the RCP8.5 emulator, and for that we need LIG observational constraints. In this code we develop posterior distributions of CREVLIQ and CLIFVMAX, illustrating how assumptions about the shape and magnitude of the LIG observational record influences those posteriors.\n",
    "\n",
    "The specific LIG constraint distributions are drawn from the results of **sample_lig_emulator.ipynb**. We explore the following constraint distributions:\n",
    "\n",
    "- Unconstrained: Distribution with uniform equal weights across all parameters\n",
    "- D20-U: DeConto et al. (2020) Uniform distribution\n",
    "- D20-N: DeConto et al. (2020) distribution Assumed Gaussian\n",
    "- E19-U: Edwards et al. (2020) Uniform distribution based on DeConto and Pollard (2016)\n",
    "- K09-125ka: Kopp et al. (2009) GP Distribution Time Slice at 125ka\n",
    "- K09-Max-3kyrSmooth: Kopp et al. (2009) GP Distribution Maximums of Samples (smoothed over 3kyr)\n",
    "\n",
    "We also explore the effects of two sets of hypothetical LIG constraints:\n",
    "\n",
    "- High and low distributions: Assuming LIG AIS>6 m and LIG AIS<3.5 m, respectively\n",
    "- Narrower D20-U: Sensitivity to reduced uncertainties in LIG estimates\n",
    "\n",
    "Additionally, we compute RCP8.5 distributions as a function of (conditional on) LIG sea level contributions."
   ]
  },
  {
   "cell_type": "markdown",
   "metadata": {},
   "source": [
    "# Setup"
   ]
  },
  {
   "cell_type": "code",
   "execution_count": 1,
   "metadata": {},
   "outputs": [],
   "source": [
    "# import the relevant packages\n",
    "import numpy as np\n",
    "import matplotlib.pyplot as plt\n",
    "import pickle\n",
    "import scipy"
   ]
  },
  {
   "cell_type": "code",
   "execution_count": 2,
   "metadata": {},
   "outputs": [
    {
     "data": {
      "text/plain": [
       "<Figure size 432x288 with 0 Axes>"
      ]
     },
     "metadata": {},
     "output_type": "display_data"
    }
   ],
   "source": [
    "# define the colormap\n",
    "plt.set_cmap('viridis')\n",
    "# define the save path for our plots\n",
    "save_path='./figures/'\n",
    "# import a series of colors for the prior vs. constraints plot\n",
    "from lig_utilities import call_scm_cmap, uniform_cmap_slices\n",
    "cmap=call_scm_cmap('roma')\n",
    "cols=uniform_cmap_slices(cmap,5,col_range=[0,1.0])[::-1]\n",
    "# import the rectangle feature\n",
    "import matplotlib.patches as patches\n",
    "# set the default grid style\n",
    "plt.rcParams['grid.color'] = 'k'\n",
    "plt.rcParams['grid.linestyle'] = ':'\n",
    "plt.rcParams['grid.linewidth'] = 0.5"
   ]
  },
  {
   "cell_type": "code",
   "execution_count": 3,
   "metadata": {},
   "outputs": [],
   "source": [
    "# import the GPflow package to load the GP model and sample\n",
    "import gpflow\n",
    "from lig_utilities import normalize, denormalize\n",
    "# load the modules to compute the statistics\n",
    "from lig_utilities import posterior_densities_rcp85, find_quantile_i, find_quantile_ts\n",
    "# import tensorflow so we can restore the trained model\n",
    "import tensorflow as tf"
   ]
  },
  {
   "cell_type": "markdown",
   "metadata": {},
   "source": [
    "# Data and Model"
   ]
  },
  {
   "cell_type": "markdown",
   "metadata": {},
   "source": [
    "Restore the trained GPflow model for RCP8.5 from which to sample."
   ]
  },
  {
   "cell_type": "markdown",
   "metadata": {},
   "source": [
    "### Load the Training Data (to reconstruct the GP model)"
   ]
  },
  {
   "cell_type": "code",
   "execution_count": 4,
   "metadata": {},
   "outputs": [
    {
     "data": {
      "text/plain": [
       "dict_keys(['clifvmax', 'Y_train', 'model_name', 'kernel_code', 'crevliq', 'time', 'X_train'])"
      ]
     },
     "execution_count": 4,
     "metadata": {},
     "output_type": "execute_result"
    }
   ],
   "source": [
    "# load the training data from the pickle and print its keys\n",
    "train_dat=pickle.load(open( \"./models/rcp_model_traindata.pk1\", \"rb\" ) )\n",
    "train_dat.keys()"
   ]
  },
  {
   "cell_type": "markdown",
   "metadata": {},
   "source": [
    "### Restore the Trained GP model"
   ]
  },
  {
   "cell_type": "code",
   "execution_count": 5,
   "metadata": {
    "scrolled": false
   },
   "outputs": [
    {
     "name": "stderr",
     "output_type": "stream",
     "text": [
      "WARNING:gpflow.logdensities:Shape of x must be 2D at computation.\n"
     ]
    },
    {
     "name": "stdout",
     "output_type": "stream",
     "text": [
      "INFO:tensorflow:Restoring parameters from ./models/rcp_model.ckpt\n"
     ]
    },
    {
     "name": "stderr",
     "output_type": "stream",
     "text": [
      "INFO:tensorflow:Restoring parameters from ./models/rcp_model.ckpt\n"
     ]
    },
    {
     "name": "stdout",
     "output_type": "stream",
     "text": [
      "Model loaded from path: None\n"
     ]
    }
   ],
   "source": [
    "# reconstruct the GP model\n",
    "with gpflow.defer_build():\n",
    "    \n",
    "    # define the kernel\n",
    "    k = eval(train_dat['kernel_code'])\n",
    "\n",
    "    # create the model\n",
    "    m = gpflow.models.GPR(train_dat['X_train'], \\\n",
    "        train_dat['Y_train'].reshape(np.size(train_dat['Y_train']),1), kern=k, name=train_dat['model_name'])\n",
    "    \n",
    "    # Fix the nugget term\n",
    "    m.likelihood.variance = 1e-06\n",
    "    m.likelihood.trainable=False\n",
    "  \n",
    "# construct and compile the tensorflow session\n",
    "tf.global_variables_initializer()\n",
    "tf_graph = m.enquire_graph()\n",
    "tf_session = m.enquire_session()\n",
    "m.compile( tf_session )\n",
    "\n",
    "# create the saver object and load the archived model object\n",
    "saver = tf.train.Saver()\n",
    "save_path = saver.restore(tf_session, \"./models/rcp_model.ckpt\")\n",
    "print(\"Model loaded from path: %s\" % save_path)\n",
    "\n",
    "# anchor the model to restore optimized hyperparameters\n",
    "m.anchor(tf_session)"
   ]
  },
  {
   "cell_type": "code",
   "execution_count": 6,
   "metadata": {},
   "outputs": [
    {
     "data": {
      "text/html": [
       "<div>\n",
       "<table border=\"1\" class=\"dataframe\">\n",
       "  <thead>\n",
       "    <tr style=\"text-align: right;\">\n",
       "      <th></th>\n",
       "      <th>class</th>\n",
       "      <th>prior</th>\n",
       "      <th>transform</th>\n",
       "      <th>trainable</th>\n",
       "      <th>shape</th>\n",
       "      <th>fixed_shape</th>\n",
       "      <th>value</th>\n",
       "    </tr>\n",
       "  </thead>\n",
       "  <tbody>\n",
       "    <tr>\n",
       "      <th>rcp_model/kern/kernels/0/kernels/0/lengthscales</th>\n",
       "      <td>Parameter</td>\n",
       "      <td>None</td>\n",
       "      <td>+ve</td>\n",
       "      <td>True</td>\n",
       "      <td>()</td>\n",
       "      <td>True</td>\n",
       "      <td>0.5012107704313864</td>\n",
       "    </tr>\n",
       "    <tr>\n",
       "      <th>rcp_model/kern/kernels/0/kernels/0/variance</th>\n",
       "      <td>Parameter</td>\n",
       "      <td>None</td>\n",
       "      <td>+ve</td>\n",
       "      <td>True</td>\n",
       "      <td>()</td>\n",
       "      <td>True</td>\n",
       "      <td>1.830591620175421</td>\n",
       "    </tr>\n",
       "    <tr>\n",
       "      <th>rcp_model/kern/kernels/0/kernels/1/lengthscales</th>\n",
       "      <td>Parameter</td>\n",
       "      <td>None</td>\n",
       "      <td>+ve</td>\n",
       "      <td>True</td>\n",
       "      <td>()</td>\n",
       "      <td>True</td>\n",
       "      <td>0.4548666355127329</td>\n",
       "    </tr>\n",
       "    <tr>\n",
       "      <th>rcp_model/kern/kernels/0/kernels/1/variance</th>\n",
       "      <td>Parameter</td>\n",
       "      <td>None</td>\n",
       "      <td>+ve</td>\n",
       "      <td>True</td>\n",
       "      <td>()</td>\n",
       "      <td>True</td>\n",
       "      <td>1.8310064734237486</td>\n",
       "    </tr>\n",
       "    <tr>\n",
       "      <th>rcp_model/kern/kernels/1/lengthscales</th>\n",
       "      <td>Parameter</td>\n",
       "      <td>None</td>\n",
       "      <td>+ve</td>\n",
       "      <td>True</td>\n",
       "      <td>()</td>\n",
       "      <td>True</td>\n",
       "      <td>2.7567453807220614</td>\n",
       "    </tr>\n",
       "    <tr>\n",
       "      <th>rcp_model/kern/kernels/1/variance</th>\n",
       "      <td>Parameter</td>\n",
       "      <td>None</td>\n",
       "      <td>+ve</td>\n",
       "      <td>True</td>\n",
       "      <td>()</td>\n",
       "      <td>True</td>\n",
       "      <td>2731.897366783309</td>\n",
       "    </tr>\n",
       "    <tr>\n",
       "      <th>rcp_model/likelihood/variance</th>\n",
       "      <td>Parameter</td>\n",
       "      <td>None</td>\n",
       "      <td>+ve</td>\n",
       "      <td>False</td>\n",
       "      <td>()</td>\n",
       "      <td>True</td>\n",
       "      <td>1e-06</td>\n",
       "    </tr>\n",
       "  </tbody>\n",
       "</table>\n",
       "</div>"
      ],
      "text/plain": [
       "                                                     class prior transform  \\\n",
       "rcp_model/kern/kernels/0/kernels/0/lengthscales  Parameter  None       +ve   \n",
       "rcp_model/kern/kernels/0/kernels/0/variance      Parameter  None       +ve   \n",
       "rcp_model/kern/kernels/0/kernels/1/lengthscales  Parameter  None       +ve   \n",
       "rcp_model/kern/kernels/0/kernels/1/variance      Parameter  None       +ve   \n",
       "rcp_model/kern/kernels/1/lengthscales            Parameter  None       +ve   \n",
       "rcp_model/kern/kernels/1/variance                Parameter  None       +ve   \n",
       "rcp_model/likelihood/variance                    Parameter  None       +ve   \n",
       "\n",
       "                                                trainable shape fixed_shape  \\\n",
       "rcp_model/kern/kernels/0/kernels/0/lengthscales      True    ()        True   \n",
       "rcp_model/kern/kernels/0/kernels/0/variance          True    ()        True   \n",
       "rcp_model/kern/kernels/0/kernels/1/lengthscales      True    ()        True   \n",
       "rcp_model/kern/kernels/0/kernels/1/variance          True    ()        True   \n",
       "rcp_model/kern/kernels/1/lengthscales                True    ()        True   \n",
       "rcp_model/kern/kernels/1/variance                    True    ()        True   \n",
       "rcp_model/likelihood/variance                       False    ()        True   \n",
       "\n",
       "                                                              value  \n",
       "rcp_model/kern/kernels/0/kernels/0/lengthscales  0.5012107704313864  \n",
       "rcp_model/kern/kernels/0/kernels/0/variance       1.830591620175421  \n",
       "rcp_model/kern/kernels/0/kernels/1/lengthscales  0.4548666355127329  \n",
       "rcp_model/kern/kernels/0/kernels/1/variance      1.8310064734237486  \n",
       "rcp_model/kern/kernels/1/lengthscales            2.7567453807220614  \n",
       "rcp_model/kern/kernels/1/variance                 2731.897366783309  \n",
       "rcp_model/likelihood/variance                                 1e-06  "
      ]
     },
     "execution_count": 6,
     "metadata": {},
     "output_type": "execute_result"
    }
   ],
   "source": [
    "# uncomment to verify the hyperparameters are correctly restored\n",
    "m.as_pandas_table()"
   ]
  },
  {
   "cell_type": "markdown",
   "metadata": {},
   "source": [
    "### Load the LHC Design"
   ]
  },
  {
   "cell_type": "code",
   "execution_count": 8,
   "metadata": {},
   "outputs": [],
   "source": [
    "# load the design from pickle\n",
    "lhd=pickle.load(open( \"./models/lig_lhc_design_10000.pk1\", \"rb\" ) )\n",
    "n_samples=len(lhd)"
   ]
  },
  {
   "cell_type": "markdown",
   "metadata": {},
   "source": [
    "### Define Normalized Time grid for Sampling"
   ]
  },
  {
   "cell_type": "code",
   "execution_count": 9,
   "metadata": {},
   "outputs": [
    {
     "name": "stdout",
     "output_type": "stream",
     "text": [
      "[ 1990.  2000.  2010.  2020.  2030.  2040.  2050.  2060.  2070.  2080.\n",
      "  2090.  2100.  2110.  2120.  2130.  2140.  2150.  2160.  2170.  2180.\n",
      "  2190.  2200.]\n"
     ]
    }
   ],
   "source": [
    "# define the normalized time grid, every ten years from 1995 to 2200\n",
    "sample_time=np.linspace(0,1.0,22)\n",
    "#denorm_time=denormalize(sample_time,np.max(train_dat['time']),np.min(train_dat['time']))\n",
    "denorm_time=denormalize(sample_time,2200,1990)\n",
    "print(denorm_time)"
   ]
  },
  {
   "cell_type": "markdown",
   "metadata": {},
   "source": [
    "Note that the emulator will be truncated at 2150 in our analyses to reduce edge effects in the GP model emulator."
   ]
  },
  {
   "cell_type": "markdown",
   "metadata": {},
   "source": [
    "# Sampling and Results"
   ]
  },
  {
   "cell_type": "markdown",
   "metadata": {},
   "source": [
    "With the data loaded in, and the GP model restored, we now sample from the model, weighting the samples according to the CREVLIQ/CLIFVMAX set likelihoods associated with each set of different LIG constraints (developed and saved out in **sample_lig_emulator.ipynb**). \n",
    "\n",
    "We find posterior distributions of the sea level samples and plot their timeseries."
   ]
  },
  {
   "cell_type": "markdown",
   "metadata": {},
   "source": [
    "## Prior RCP8.5 Distribution"
   ]
  },
  {
   "cell_type": "markdown",
   "metadata": {},
   "source": [
    "The \"prior\" is given by assuming that all CREVLIQ/CLIFVMAX contributions are equally likely, i.e. the emulator is unconstrained over the parameter range of the training ensemble.\n",
    "\n",
    "In the process of finding the prior below, we use the modules needed to condition our posteriors and plot the PDFs of sea level contributions from AIS through time."
   ]
  },
  {
   "cell_type": "code",
   "execution_count": 10,
   "metadata": {
    "scrolled": true
   },
   "outputs": [],
   "source": [
    "# create the sample grid with the LHC design (at each time point)\n",
    "X_sample=np.empty((len(lhd)*len(sample_time),3),dtype='float')\n",
    "for t in range(len(sample_time)):\n",
    "    \n",
    "    # index in array creation\n",
    "    t_first=t*len(lhd)\n",
    "    t_last=t_first+len(lhd)\n",
    "    \n",
    "    # fill an array with out time period\n",
    "    t_fill=np.empty(len(lhd))\n",
    "    t_fill.fill(sample_time[t])\n",
    "    \n",
    "    # fill the sample grid array\n",
    "    X_sample[t_first:t_last,:]=np.vstack((np.vstack((t_fill[:],lhd[:,0])),lhd[:,1])).T"
   ]
  },
  {
   "cell_type": "code",
   "execution_count": 11,
   "metadata": {},
   "outputs": [],
   "source": [
    "# sample from the model\n",
    "sample_mean,sample_var=np.squeeze(m.predict_y(X_sample))\n",
    "\n",
    "# reshape into the prior\n",
    "prior_mean=sample_mean.reshape(len(sample_time),len(lhd))\n",
    "prior_var=sample_var.reshape(len(sample_time),len(lhd))"
   ]
  },
  {
   "cell_type": "code",
   "execution_count": 13,
   "metadata": {},
   "outputs": [],
   "source": [
    "# get the time location for thge plot\n",
    "ind2100=np.where(denorm_time==2100)\n",
    "ind2150=np.where(denorm_time==2150)"
   ]
  },
  {
   "cell_type": "markdown",
   "metadata": {},
   "source": [
    "### Calculate and Visualize the Prior"
   ]
  },
  {
   "cell_type": "code",
   "execution_count": 17,
   "metadata": {},
   "outputs": [],
   "source": [
    "# import the scipy packages needed to define distrubutions\n",
    "from scipy.stats import norm\n",
    "\n",
    "# define the prior pdf from the GP emulator, note that its properties/methods (e.g. \"pdf\")\n",
    "# will have shape (ntime,nsamples) (i.e. or the same as \"prior_mean\"/\"prior_var\")\n",
    "prior_norm=norm(loc=prior_mean,scale=np.sqrt(prior_var))\n",
    "\n",
    "# create the bins to perform our density estimation\n",
    "sl_step=1e-03\n",
    "min_val,max_val=-0.5,9.5\n",
    "step_locs=np.arange(min_val,max_val+sl_step,step=sl_step)"
   ]
  },
  {
   "cell_type": "markdown",
   "metadata": {},
   "source": [
    "# Posterior Probability Distributions at specific times"
   ]
  },
  {
   "cell_type": "markdown",
   "metadata": {},
   "source": [
    "To show the value of LIG constraints for informing future projections, we plot the posterior probability distribution functions associated with each LIG constraint distribution specified above. These PDFs are simply timeslices of the above timeseries in 2100 and 2150."
   ]
  },
  {
   "cell_type": "markdown",
   "metadata": {},
   "source": [
    "## 2100 PDFs"
   ]
  },
  {
   "cell_type": "code",
   "execution_count": 39,
   "metadata": {},
   "outputs": [
    {
     "data": {
      "text/plain": [
       "array([ 1990.,  2000.,  2010.,  2020.,  2030.,  2040.,  2050.,  2060.,\n",
       "        2070.,  2080.,  2090.,  2100.,  2110.,  2120.,  2130.,  2140.,\n",
       "        2150.,  2160.,  2170.,  2180.,  2190.,  2200.])"
      ]
     },
     "execution_count": 39,
     "metadata": {},
     "output_type": "execute_result"
    }
   ],
   "source": [
    "denorm_time"
   ]
  },
  {
   "cell_type": "code",
   "execution_count": 42,
   "metadata": {},
   "outputs": [],
   "source": [
    "minval_2100,maxval_2100=-0.5,1.5\n",
    "hist_bins=np.arange(minval_2100,maxval_2100+sl_step*1e01,step=sl_step*1e01)"
   ]
  },
  {
   "cell_type": "markdown",
   "metadata": {},
   "source": [
    "## RCP8.5 Conditional Probability Distributions as a function of the LIG"
   ]
  },
  {
   "cell_type": "markdown",
   "metadata": {},
   "source": [
    "Here we explore what very narrow constraints on the LIG distribution---i.e., assuming that changes during the LIG were known to within 10cm---would mean for the distribution of the RCP8.5 projections. This approach to find the conditional probabilities is both generalized and useful in specific ways, e.g. one can integrate over the distributions shown here with weightings from specific constraints to recover the associated posterior of the RCP8.5 distribution.\n",
    "\n",
    "For every 10-cm-wide constraint (which is considered a uniform distribution of 10cm width, see **sample_lig_emulator.ipynb**), there is a likelihood of CREVLIQ/CLIFVMAX values at each sample location. Using those likelihoods, we determine the RCP8.5 distribution conditional on the LIG."
   ]
  },
  {
   "cell_type": "markdown",
   "metadata": {},
   "source": [
    "### Load data for conditional probability analyses:"
   ]
  },
  {
   "cell_type": "code",
   "execution_count": 58,
   "metadata": {
    "scrolled": true
   },
   "outputs": [
    {
     "name": "stdout",
     "output_type": "stream",
     "text": [
      "51\n"
     ]
    }
   ],
   "source": [
    "# load the idealized array data dictionary\n",
    "idealized_dat=pickle.load(open( \"./models/lig_posteriors.pk1\", \"rb\" ) )\n",
    "# get the number of bins\n",
    "n_bins=len(idealized_dat['lig_posteriors'])\n",
    "print(n_bins)"
   ]
  },
  {
   "cell_type": "markdown",
   "metadata": {},
   "source": [
    "### Sample the LIG and RCP8.5 emulators with the weights associated with each 10-cm-wide bin"
   ]
  },
  {
   "cell_type": "code",
   "execution_count": 59,
   "metadata": {},
   "outputs": [],
   "source": [
    "# limit the distributions to just 2100 and 2150, by building a new (limited over to these two times) prior:\n",
    "index_nums = [ind2100,ind2150]\n",
    "prior_mean_slice = np.squeeze([prior_mean[val,:] for val in index_nums])\n",
    "prior_var_slice  = np.squeeze([prior_var[val,:] for val in index_nums])\n",
    "denorm_time_slice= np.squeeze([denorm_time[val] for val in index_nums])\n",
    "prior_norm_slice=norm(loc=prior_mean_slice,scale=np.sqrt(prior_var_slice))"
   ]
  },
  {
   "cell_type": "code",
   "execution_count": 60,
   "metadata": {},
   "outputs": [],
   "source": [
    "# define the LIG bins to perform the idealized density estimation\n",
    "slid_step=1e-02\n",
    "idealized_step_locs=np.arange(min_val,max_val+slid_step,step=slid_step)\n",
    "# define the RCP85 to perform the idealized density estimation\n",
    "step_locs_2100=idealized_step_locs\n",
    "step_locs_2150=np.arange(min_val,max_val+slid_step*1e1,step=slid_step*1e1)"
   ]
  },
  {
   "cell_type": "code",
   "execution_count": 61,
   "metadata": {},
   "outputs": [
    {
     "name": "stdout",
     "output_type": "stream",
     "text": [
      "0\n",
      "1\n",
      "2\n",
      "3\n",
      "4\n",
      "5\n",
      "6\n",
      "7\n",
      "8\n",
      "9\n",
      "10\n",
      "11\n",
      "12\n",
      "13\n",
      "14\n",
      "15\n",
      "16\n",
      "17\n",
      "18\n",
      "19\n",
      "20\n",
      "21\n",
      "22\n",
      "23\n",
      "24\n",
      "25\n",
      "26\n",
      "27\n",
      "28\n",
      "29\n",
      "30\n",
      "31\n",
      "32\n",
      "33\n",
      "34\n",
      "35\n",
      "36\n",
      "37\n",
      "38\n",
      "39\n",
      "40\n",
      "41\n",
      "42\n",
      "43\n",
      "44\n",
      "45\n",
      "46\n",
      "47\n",
      "48\n",
      "49\n",
      "50\n"
     ]
    }
   ],
   "source": [
    "# create the array that we need for storing analysis\n",
    "posterior_pdfs_2100=np.empty((n_bins,len(step_locs_2100)),dtype='float')\n",
    "posterior_pdfs_2150=np.empty((n_bins,len(step_locs_2150)),dtype='float')\n",
    "\n",
    "# loop over bins to find the posterior quantiles\n",
    "for b in range(n_bins):\n",
    "    \n",
    "    # find the posterior RCP for this bin\n",
    "    post_bin_2100=posterior_densities_rcp85(step_locs_2100,denorm_time_slice,prior_norm_slice,idealized_dat['lig_posteriors'][b]['param_density'])\n",
    "    post_bin_2150=posterior_densities_rcp85(step_locs_2150,denorm_time_slice,prior_norm_slice,idealized_dat['lig_posteriors'][b]['param_density'])\n",
    "    \n",
    "    # store the RCP samples at 2100 and 2150\n",
    "    posterior_pdfs_2100[b,:]=np.squeeze(post_bin_2100['posterior_ts'][:,0])\n",
    "    posterior_pdfs_2150[b,:]=np.squeeze(post_bin_2150['posterior_ts'][:,1])\n",
    "    \n",
    "    # normalize the result in each column\n",
    "    posterior_pdfs_2100[b,:]=posterior_pdfs_2100[b,:]/np.sum(posterior_pdfs_2100[b,:])\n",
    "    posterior_pdfs_2150[b,:]=posterior_pdfs_2150[b,:]/np.sum(posterior_pdfs_2150[b,:])\n",
    "    \n",
    "    # tell the user where we are\n",
    "    print(b)\n",
    "    \n",
    "    # delete things before starting a new loop\n",
    "    del post_bin_2100\n",
    "    del post_bin_2150"
   ]
  },
  {
   "cell_type": "markdown",
   "metadata": {},
   "source": [
    "### Plot the Results in 2100 and 2150"
   ]
  },
  {
   "cell_type": "code",
   "execution_count": 62,
   "metadata": {},
   "outputs": [],
   "source": [
    "# color levels necessary for the contouring\n",
    "clevels=np.linspace(np.log(1e-3),np.log(0.3),11)\n",
    "clabels=np.round(np.exp(clevels),decimals=3).astype('str')"
   ]
  },
  {
   "cell_type": "markdown",
   "metadata": {},
   "source": [
    "<style>\n",
    "    .sm     {font-size: 14pt; color: black; font-family: 'Times New Roman';}\n",
    "</style>\n",
    "\n",
    "<ol style=\"font-size: 34pt; color: red;\">\n",
    "<li> idealized_dat <p class=sm><b>cell 58 </b>idealized_dat=pickle.load(open( \"./models/lig_posteriors.pk1\", \"rb\" ) )</li></p>\n",
    "<li style=\"color: green;\">> idealized_step_locs </li>  \n",
    "<p class=sm> <span style=\"color: green;\"> <b>cell 60</b> idealized_step_locs=np.arange(min_val,max_val+slid_step,step=slid_step) <br></style>\n",
    "    > min_val,max_val+slid_step are prescribed in <b>cell 17</b></p>\n",
    "<li> np.log(posterior_pdfs_2100.T) </li> \n",
    "    <p class=sm> <span style=\"color: green;\"> <b>cell 61</b> posterior_pdfs_2100=np.empty((n_bins,len(step_locs_2100)),dtype='float')\n",
    "</ol>"
   ]
  },
  {
   "cell_type": "code",
   "execution_count": 63,
   "metadata": {},
   "outputs": [
    {
     "name": "stderr",
     "output_type": "stream",
     "text": [
      "/home/dmg370/.local/lib/python3.5/site-packages/ipykernel_launcher.py:4: RuntimeWarning: divide by zero encountered in log\n",
      "  after removing the cwd from sys.path.\n"
     ]
    },
    {
     "data": {
      "text/plain": [
       "<Figure size 432x288 with 0 Axes>"
      ]
     },
     "metadata": {},
     "output_type": "display_data"
    },
    {
     "data": {
      "image/png": "[encoded data removed]",
      "text/plain": [
       "<Figure size 576x576 with 2 Axes>"
      ]
     },
     "metadata": {},
     "output_type": "display_data"
    }
   ],
   "source": [
    "# plot the result for 2100\n",
    "plt.set_cmap('GnBu')\n",
    "lig_rcp_jointpdf_2100_fig=plt.figure(figsize=(8,8))\n",
    "c1=plt.contourf(idealized_dat['idealized_mid_steps'],idealized_step_locs,np.log(posterior_pdfs_2100.T),clevels)\n",
    "cbar=plt.colorbar(c1,ticks=clevels,orientation='horizontal',pad=0.1)\n",
    "cbar.set_ticklabels(clabels)\n",
    "cbar.ax.tick_params(labelsize=12)\n",
    "plt.xticks(idealized_dat['idealized_mid_steps'][::3],fontsize=12)\n",
    "plt.yticks(np.linspace(0.,1.0,11),fontsize=14)\n",
    "plt.ylim([0,1.0])\n",
    "plt.xlim([2.,7.0])\n",
    "plt.title('(b) Posterior RCP8.5 Densities in 2100 as a function of LIG',fontsize=16)\n",
    "plt.xlabel('LIG Sea Level Equivalent (m)',fontsize=14)\n",
    "plt.ylabel('RCP8.5 SLE in 2100 (m)',fontsize=14)\n",
    "plt.grid()\n",
    "plt.show()"
   ]
  },
  {
   "cell_type": "code",
   "execution_count": 64,
   "metadata": {},
   "outputs": [],
   "source": [
    "# save the plot out\n",
    "savename='Fig4b.pdf'\n",
    "lig_rcp_jointpdf_2100_fig.savefig(save_path+savename)"
   ]
  },
  {
   "cell_type": "markdown",
   "metadata": {},
   "source": [
    "## Save out Data"
   ]
  },
  {
   "cell_type": "code",
   "execution_count": 71,
   "metadata": {},
   "outputs": [],
   "source": [
    "# store and save the data from the conditional calculations\n",
    "output_dat={'conditional_dat':idealized_dat, 'posterior_2100':posterior_pdfs_2100, 'posterior_2150':posterior_pdfs_2150,'step_locs_2100':step_locs_2100,'step_locs_2150':step_locs_2150}\n",
    "pickle.dump(output_dat, open( \"./models/conditional_data.pk1\", \"wb\" ) )"
   ]
  },
  {
   "cell_type": "markdown",
   "metadata": {},
   "source": [
    "## Table of Quantiles"
   ]
  },
  {
   "cell_type": "markdown",
   "metadata": {},
   "source": [
    "Here we print the quantiles that we found above in 2100 and 2150, in meters."
   ]
  },
  {
   "cell_type": "code",
   "execution_count": 73,
   "metadata": {},
   "outputs": [],
   "source": [
    "import pandas as pd\n",
    "ind2100=np.where(denorm_time==2100)\n",
    "ind2150=np.where(denorm_time==2150)\n",
    "stack_2100=np.hstack((quants_prior[:,ind2100],quants_D20_U[:,ind2100],quants_D20_N[:,ind2100], \\\n",
    "                                    quants_e19_U[:,ind2100],quants_k09_125[:,ind2100], \\\n",
    "                                    quants_k09_max_3kyr[:,ind2100]))\n",
    "stack_2150=np.hstack((quants_prior[:,ind2150],quants_D20_U[:,ind2150],quants_D20_N[:,ind2150], \\\n",
    "                                    quants_e19_U[:,ind2150],quants_k09_125[:,ind2150], \\\n",
    "                                    quants_k09_max_3kyr[:,ind2150]))\n",
    "frame_2100=pd.DataFrame(np.squeeze(stack_2100),columns=['Prior','D20-U','D20-N','E19-U','K09-125ka','K09-Max-3kyrSmooth'],index=q)\n",
    "frame_2150=pd.DataFrame(np.squeeze(stack_2150),columns=['Prior','D20-U','D20-N','E19-U','K09-125ka','K09-Max-3kyrSmooth'],index=q)"
   ]
  },
  {
   "cell_type": "code",
   "execution_count": 74,
   "metadata": {},
   "outputs": [],
   "source": [
    "# change the number of precision digits to show in Pandas\n",
    "pd.set_option('precision', 2)"
   ]
  },
  {
   "cell_type": "code",
   "execution_count": 75,
   "metadata": {},
   "outputs": [
    {
     "data": {
      "text/html": [
       "<div>\n",
       "<table border=\"1\" class=\"dataframe\">\n",
       "  <thead>\n",
       "    <tr style=\"text-align: right;\">\n",
       "      <th></th>\n",
       "      <th>Prior</th>\n",
       "      <th>D20-U</th>\n",
       "      <th>D20-N</th>\n",
       "      <th>E19-U</th>\n",
       "      <th>K09-125ka</th>\n",
       "      <th>K09-Max-3kyrSmooth</th>\n",
       "    </tr>\n",
       "  </thead>\n",
       "  <tbody>\n",
       "    <tr>\n",
       "      <th>5</th>\n",
       "      <td>0.07</td>\n",
       "      <td>0.07</td>\n",
       "      <td>0.07</td>\n",
       "      <td>0.07</td>\n",
       "      <td>0.07</td>\n",
       "      <td>0.09</td>\n",
       "    </tr>\n",
       "    <tr>\n",
       "      <th>25</th>\n",
       "      <td>0.20</td>\n",
       "      <td>0.20</td>\n",
       "      <td>0.23</td>\n",
       "      <td>0.23</td>\n",
       "      <td>0.22</td>\n",
       "      <td>0.32</td>\n",
       "    </tr>\n",
       "    <tr>\n",
       "      <th>50</th>\n",
       "      <td>0.42</td>\n",
       "      <td>0.40</td>\n",
       "      <td>0.40</td>\n",
       "      <td>0.44</td>\n",
       "      <td>0.43</td>\n",
       "      <td>0.53</td>\n",
       "    </tr>\n",
       "    <tr>\n",
       "      <th>75</th>\n",
       "      <td>0.64</td>\n",
       "      <td>0.61</td>\n",
       "      <td>0.58</td>\n",
       "      <td>0.65</td>\n",
       "      <td>0.64</td>\n",
       "      <td>0.72</td>\n",
       "    </tr>\n",
       "    <tr>\n",
       "      <th>95</th>\n",
       "      <td>0.85</td>\n",
       "      <td>0.83</td>\n",
       "      <td>0.78</td>\n",
       "      <td>0.85</td>\n",
       "      <td>0.85</td>\n",
       "      <td>0.88</td>\n",
       "    </tr>\n",
       "  </tbody>\n",
       "</table>\n",
       "</div>"
      ],
      "text/plain": [
       "    Prior  D20-U  D20-N  E19-U  K09-125ka  K09-Max-3kyrSmooth\n",
       "5    0.07   0.07   0.07   0.07       0.07                0.09\n",
       "25   0.20   0.20   0.23   0.23       0.22                0.32\n",
       "50   0.42   0.40   0.40   0.44       0.43                0.53\n",
       "75   0.64   0.61   0.58   0.65       0.64                0.72\n",
       "95   0.85   0.83   0.78   0.85       0.85                0.88"
      ]
     },
     "execution_count": 75,
     "metadata": {},
     "output_type": "execute_result"
    }
   ],
   "source": [
    "frame_2100"
   ]
  },
  {
   "cell_type": "code",
   "execution_count": 76,
   "metadata": {},
   "outputs": [
    {
     "data": {
      "text/html": [
       "<div>\n",
       "<table border=\"1\" class=\"dataframe\">\n",
       "  <thead>\n",
       "    <tr style=\"text-align: right;\">\n",
       "      <th></th>\n",
       "      <th>Prior</th>\n",
       "      <th>D20-U</th>\n",
       "      <th>D20-N</th>\n",
       "      <th>E19-U</th>\n",
       "      <th>K09-125ka</th>\n",
       "      <th>K09-Max-3kyrSmooth</th>\n",
       "    </tr>\n",
       "  </thead>\n",
       "  <tbody>\n",
       "    <tr>\n",
       "      <th>5</th>\n",
       "      <td>0.44</td>\n",
       "      <td>0.44</td>\n",
       "      <td>0.51</td>\n",
       "      <td>0.52</td>\n",
       "      <td>0.46</td>\n",
       "      <td>0.65</td>\n",
       "    </tr>\n",
       "    <tr>\n",
       "      <th>25</th>\n",
       "      <td>1.21</td>\n",
       "      <td>1.17</td>\n",
       "      <td>1.23</td>\n",
       "      <td>1.30</td>\n",
       "      <td>1.25</td>\n",
       "      <td>1.65</td>\n",
       "    </tr>\n",
       "    <tr>\n",
       "      <th>50</th>\n",
       "      <td>2.31</td>\n",
       "      <td>2.21</td>\n",
       "      <td>2.18</td>\n",
       "      <td>2.39</td>\n",
       "      <td>2.34</td>\n",
       "      <td>2.84</td>\n",
       "    </tr>\n",
       "    <tr>\n",
       "      <th>75</th>\n",
       "      <td>3.54</td>\n",
       "      <td>3.38</td>\n",
       "      <td>3.22</td>\n",
       "      <td>3.58</td>\n",
       "      <td>3.55</td>\n",
       "      <td>3.91</td>\n",
       "    </tr>\n",
       "    <tr>\n",
       "      <th>95</th>\n",
       "      <td>4.65</td>\n",
       "      <td>4.56</td>\n",
       "      <td>4.38</td>\n",
       "      <td>4.66</td>\n",
       "      <td>4.64</td>\n",
       "      <td>4.80</td>\n",
       "    </tr>\n",
       "  </tbody>\n",
       "</table>\n",
       "</div>"
      ],
      "text/plain": [
       "    Prior  D20-U  D20-N  E19-U  K09-125ka  K09-Max-3kyrSmooth\n",
       "5    0.44   0.44   0.51   0.52       0.46                0.65\n",
       "25   1.21   1.17   1.23   1.30       1.25                1.65\n",
       "50   2.31   2.21   2.18   2.39       2.34                2.84\n",
       "75   3.54   3.38   3.22   3.58       3.55                3.91\n",
       "95   4.65   4.56   4.38   4.66       4.64                4.80"
      ]
     },
     "execution_count": 76,
     "metadata": {},
     "output_type": "execute_result"
    }
   ],
   "source": [
    "frame_2150"
   ]
  },
  {
   "cell_type": "code",
   "execution_count": null,
   "metadata": {},
   "outputs": [],
   "source": []
  }
 ],
 "metadata": {
  "kernelspec": {
   "display_name": "Python 3",
   "language": "python",
   "name": "python3"
  },
  "language_info": {
   "codemirror_mode": {
    "name": "ipython",
    "version": 3
   },
   "file_extension": ".py",
   "mimetype": "text/x-python",
   "name": "python",
   "nbconvert_exporter": "python",
   "pygments_lexer": "ipython3",
   "version": "3.5.2"
  }
 },
 "nbformat": 4,
 "nbformat_minor": 2
}
