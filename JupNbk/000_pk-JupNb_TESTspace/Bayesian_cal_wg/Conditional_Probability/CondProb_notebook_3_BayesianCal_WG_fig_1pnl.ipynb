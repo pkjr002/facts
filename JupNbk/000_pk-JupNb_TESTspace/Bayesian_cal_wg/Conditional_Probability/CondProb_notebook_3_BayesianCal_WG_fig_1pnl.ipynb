{
 "cells": [
  {
   "cell_type": "code",
   "execution_count": null,
   "metadata": {},
   "outputs": [],
   "source": [
    "from IPython.display import display, Image, HTML, Video"
   ]
  },
  {
   "cell_type": "markdown",
   "metadata": {},
   "source": [
    "<p style=\"font-size: 22pt; color: green; font-family: 'Times New Roman';\">\n",
    " FACTS \n",
    " <span style=\"font-size: 14pt; color: black;\"> produces <span style=\"font-size: 22pt; color: green;\">Total SL projections </span>, <br>\n",
    " calculated by aggregating component probability distributions into probability distributions for total GMSL and RSL change </span>\n",
    "  \n",
    "</p>"
   ]
  },
  {
   "cell_type": "code",
   "execution_count": null,
   "metadata": {},
   "outputs": [],
   "source": [
    "display(Image('./TotSL.png'))"
   ]
  },
  {
   "cell_type": "markdown",
   "metadata": {},
   "source": [
    "<nb>"
   ]
  },
  {
   "cell_type": "markdown",
   "metadata": {},
   "source": [
    "<hr style=\"border: none; height: 2px; background-color: black; border-style: dotted;\">\n",
    "<span style=\"font-family: 'Times New Roman'; font-size: 22pt; color: green;\">\n",
    "    Also check\n",
    "</span>\n",
    "<br>\n",
    "<a href=\"https://sealevel.nasa.gov/understanding-sea-level/regional-sea-level/overview/\">Regional Relative Sea-Level Change</a>"
   ]
  },
  {
   "cell_type": "code",
   "execution_count": null,
   "metadata": {},
   "outputs": [],
   "source": [
    "display(Image('./proj_Compop.png'))"
   ]
  },
  {
   "cell_type": "markdown",
   "metadata": {},
   "source": [
    "Background "
   ]
  },
  {
   "cell_type": "markdown",
   "metadata": {},
   "source": [
    "<p style=\"font-size: 22pt; color: green; font-family: 'Times New Roman';\">\n",
    " FACTS workflow description \n",
    "</p>"
   ]
  },
  {
   "cell_type": "code",
   "execution_count": null,
   "metadata": {},
   "outputs": [],
   "source": [
    "display(Image('./wf_F.png'))"
   ]
  },
  {
   "cell_type": "markdown",
   "metadata": {},
   "source": [
    "<p style=\"font-size: 22pt; color: green; font-family: 'Times New Roman';\">\n",
    " Import Modules necessary for running this notebook \n",
    "</p>"
   ]
  },
  {
   "cell_type": "code",
   "execution_count": null,
   "metadata": {},
   "outputs": [],
   "source": [
    "import seaborn as sns\n",
    "import matplotlib.pyplot as plt\n",
    "import matplotlib.gridspec as gridspec\n",
    "import numpy as np\n",
    "import pandas as pd\n",
    "import os\n",
    "\n",
    "import fun_CondProb as fn"
   ]
  },
  {
   "cell_type": "markdown",
   "metadata": {},
   "source": [
    "<span style=\"font-size: 22px; color: green;\"> LIST :: FACTS 1.1.1 run datasets</span> \n",
    "    "
   ]
  },
  {
   "cell_type": "code",
   "execution_count": null,
   "metadata": {},
   "outputs": [],
   "source": [
    "ssp='ssp245'\n",
    "# path = f'/projects/kopp/ar2208/factsv1.1.1/coupling.{ssp}/output/'\n",
    "# path = os.path.expanduser(f'~/werk/2022_09_FACTS/0000_facts-OPdata/amarel/ar2208/factsv1.1.1/coupling.{ssp}/output/')\n",
    "path = os.path.expanduser(f'~/werk.M2/0000_facts-OPdata.M2/amarel/ar2208/factsv1.1.1/coupling.{ssp}/output/')\n",
    "files=fn.list_files_with_names(path, [\"global\"])\n",
    "#\n",
    "df = pd.DataFrame(files, columns=['File Name']).reset_index().rename(columns={'index': 'Index'})\n",
    "print(df.to_string(index=False))"
   ]
  },
  {
   "cell_type": "markdown",
   "metadata": {},
   "source": [
    "### T0 Edit for final-sih.\n",
    "- Check notability for the notes\n",
    "- Chk bin-width grid-int\n",
    "- Marking of the 83/17th percentiles on the violin\n",
    "- Figure axis percentiles"
   ]
  },
  {
   "cell_type": "markdown",
   "metadata": {},
   "source": [
    "<hr style=\"border: none; height: 2px; background-color: black; border-style: dotted;\">\n",
    "<span style=\"font-family: 'Times New Roman'; font-size: 22pt; color: green;\">\n",
    "    Bayesian Paper Figures\n",
    "</span>\n",
    "<br>\n",
    "<span style=\"font-family: 'Times New Roman'; font-size: 14pt; color: green;\"> Web Links:</span>\n",
    "<ol>\n",
    "    <li>Latest draft <span style=\"font-size: 17px; color: red;\">&#10145;</span> \n",
    "    <a href=\"https://docs.google.com/document/d/12eSfhWnAeoUkK7Thtg2Uu3TRNPoc01nZvtP-wd8_gMo/edit\">Felikson et al, 2024</a>\n",
    "    </li>\n",
    "    <li>Google Drive<a href=\"https://drive.google.com/drive/u/1/folders/1-TLNuYqtY_WAgig2PP9dFavE7MPFToIU\"> (LINK) </a></li>\n",
    "    <li>OLD: Outline and group paper:<a href=\"https://docs.google.com/document/d/12m-c9fadnrJwwsSBS3rPiVQBRuusdT6O-bqZ-HCNwsU/edit\">draft</a></li>\n",
    "    <li>Synopsis framework for Nature Reviews Earth & Environment: <a href=\"https://docs.google.com/document/d/12eSfhWnAeoUkK7Thtg2Uu3TRNPoc01nZvtP-wd8_gMo/edit\">link</a></li>\n",
    "    <li>PK/Bob section on Total sea level <a href=\"https://docs.google.com/document/d/1f2_aIJQ9_wR_prMBrcS7PoP4TXC4e97Uiikg8Rs_8xA/edit\">googleDoc</a></li>\n",
    "\n",
    "\n",
    "     \n",
    "</ol>\n",
    "\n",
    "\n",
    "\n",
    "\n",
    "<br><br><br>"
   ]
  },
  {
   "cell_type": "code",
   "execution_count": null,
   "metadata": {},
   "outputs": [],
   "source": [
    "ssps = ['ssp119', 'ssp126','ssp245','ssp370', 'ssp585']\n",
    "#\n",
    "station=0; \n",
    "#\n",
    "start_year=2020; end_year=2100; unit='cm'; \n",
    "#\n",
    "# Base path of data folder (all ssp).\n",
    "base_path = os.path.expanduser(f'~/werk.M2/0000_facts-OPdata.M2/amarel/ar2208/factsv1.1.1')\n",
    "#\n",
    "# Dictionary of filenames\n",
    "file_names = {\n",
    "    'GMSL_1f': 'total.workflow.wf1f.global.nc',                          'NYC-RSL_1f': 'total.workflow.wf1f.local.nc',\n",
    "    'AIS_ar5_global': 'ar5AIS.ipccar5.icesheets_AIS_globalsl.nc',           'AIS_ar5_local': 'ar5AIS.ipccar5.icesheets_AIS_globalsl.nc', \n",
    "\n",
    "    'GMSL_2f': 'total.workflow.wf2f.global.nc',                          'NYC-RSL_2f': 'total.workflow.wf2f.local.nc',\n",
    "    'AIS_larmip_global' : 'larmip.larmip.AIS_globalsl.nc',                  'AIS_larmip_local' : 'larmip.larmip.AIS_localsl.nc',\n",
    "\n",
    "    'GMSL_3f': 'total.workflow.wf3f.global.nc',                          'NYC-RSL_3f': 'total.workflow.wf3f.local.nc',\n",
    "    'AIS_d21_global' : 'deconto21.deconto21.AIS_AIS_globalsl.nc',           'AIS_d21_local' : 'deconto21.deconto21.AIS_AIS_localsl.nc',\n",
    "\n",
    "    'GMSL_4': 'total.workflow.wf4.global.nc',                            'NYC-RSL_4': 'total.workflow.wf4.local.nc',\n",
    "    'AIS_b19_global' : 'bamber19.bamber19.icesheets_AIS_globalsl.nc',       'AIS_b19_local' : 'bamber19.bamber19.icesheets_AIS_localsl.nc',\n",
    "    \n",
    "    \n",
    "    'TE'  : 'ocean.tlm.sterodynamics_globalsl.nc',                          'SD'  : 'ocean.tlm.sterodynamics_localsl.nc', \n",
    "}\n",
    "#\n",
    "# Dictionary to store the results\n",
    "all_ssp = {key: {} for key in file_names}\n",
    "\n",
    "# Loop over each SSP scenario\n",
    "for ssp in ssps:\n",
    "    for key, filename in file_names.items():\n",
    "        file_path = f'{base_path}/coupling.{ssp}/output/coupling.{ssp}.{filename}'\n",
    "        dat, slc, time, lat, lon = fn.extract_nc_info(file_path, station, unit, start_year, end_year)\n",
    "        all_ssp[key][ssp] = {'dat': dat, 'slc': slc, 'time': time, 'lat': lat, 'lon': lon, 'path': file_path, 'filename': filename}\n",
    "del dat, slc, time, lat, lon, ssp, file_path, key, file_names, filename"
   ]
  },
  {
   "cell_type": "markdown",
   "metadata": {},
   "source": [
    "<hr style=\"border: none; height: 2px; background-color: blue; border-style: dotted;\">\n",
    "<span style=\"font-family: 'Times New Roman'; font-size: 16pt; color: blue;\">\n",
    "    Plot Params \n",
    "</span>\n"
   ]
  },
  {
   "cell_type": "code",
   "execution_count": null,
   "metadata": {},
   "outputs": [],
   "source": [
    "# currently only 1 ssp allowed\n",
    "plotOPT = {\n",
    "    'ssps' : 'ssp245', \n",
    "    'plt_og' : 'NO', 'fix_ax_lim' : 'YES',\n",
    "    'plt_scatter' : 'NO',\n",
    "    'val' : 'none',\n",
    "    'plotCBAR':'YES', 'cmap':'Reds', 'c_bar_min': 0.001, 'c_bar_max': 0.252,\n",
    "    'kernel' : 'gaussian', 'bw_kde':10, 'kde_grid_int' : 100, 'grid' : 'Fixed',\n",
    "    'sns_kde':'NO',\n",
    "    'y_ax_min' : 0, 'y_ax_max' : 150, \n",
    "    'plt_overlay' : 'none',  'num_violins' : 10,\n",
    "    'mark_ax_ptile' : 'NO', 'ptile_table' :'NO',\n",
    "}"
   ]
  },
  {
   "cell_type": "markdown",
   "metadata": {},
   "source": [
    "<hr style=\"border: none; height: 2px; background-color: red; border-style: dotted;\">\n",
    "<span style=\"font-family: 'Times New Roman'; font-size: 16pt; color: red;\">\n",
    "    Posterior NYC total SL Densities in 2100 conditional on\n",
    "</span>\n",
    "<ol style=\"font-family: 'Times New Roman'; font-size: 16pt; color: red;\">\n",
    "    <li>2030 GMSL observations TOTAL </li>\n",
    "    <li>2030 RSL observation TOTAL </li>\n",
    "    <li>2030 Thermal Expansion</li>\n",
    "    <li>2030 Sterodynamic observations</li>\n",
    "    <li>2030 AIS component</li>\n",
    "</ol>"
   ]
  },
  {
   "cell_type": "code",
   "execution_count": null,
   "metadata": {},
   "outputs": [],
   "source": [
    "# wf, aiscomp = '1f', 'ar5'  \n",
    "wf, aiscomp = '2f', 'larmip'  \n",
    "# wf, aiscomp = '3f', 'd21'  \n",
    "# wf, aiscomp = '4', 'b19'  "
   ]
  },
  {
   "cell_type": "code",
   "execution_count": null,
   "metadata": {},
   "outputs": [],
   "source": [
    "time_pairs = [(2030, 2100)]  # [(2030, 2050), (2030, 2100), (2050, 2100)]\n",
    "for T1, T2 in time_pairs:\n",
    "    plot_params = {\n",
    "        0: {'var1': all_ssp[f'NYC-RSL_{wf}'], 't1': T1,            'var2': all_ssp[f'NYC-RSL_{wf}'], 't2': T2},\n",
    "        1: {'var1': all_ssp[f'GMSL_{wf}'], 't1': T1,               'var2': all_ssp[f'NYC-RSL_{wf}'], 't2': T2},\n",
    "        2: {'var1': all_ssp['TE'], 't1': T1,                    'var2': all_ssp[f'NYC-RSL_{wf}'], 't2': T2},\n",
    "        3: {'var1': all_ssp['SD'], 't1': T1,                    'var2': all_ssp[f'NYC-RSL_{wf}'], 't2': T2},\n",
    "        4: {'var1': all_ssp[f'AIS_{aiscomp}_global'], 't1': T1,     'var2': all_ssp[f'NYC-RSL_{wf}'], 't2': T2},\n",
    "    }"
   ]
  },
  {
   "cell_type": "code",
   "execution_count": null,
   "metadata": {},
   "outputs": [],
   "source": [
    "# for T1, T2 in time_pairs:\n",
    "#     plotOPT.update({\n",
    "#         'plt_og': 'YES', 'plt_scatter': 'NO', 'ptile_table' :'NO',\n",
    "#         'val': 'none',\n",
    "#         'YaxLab_disp': 'NO',\n",
    "#         'sns_kde':'NO'})\n",
    "#     fn.plot_ConditionalProb_panel(all_ssp,plot_params,plotOPT)"
   ]
  },
  {
   "cell_type": "code",
   "execution_count": null,
   "metadata": {},
   "outputs": [],
   "source": [
    "# for T1, T2 in time_pairs:\n",
    "#     plotOPT.update({\n",
    "#         'plt_og': 'NO', 'plt_scatter': 'YES', 'mark_ax_ptile': 'YES', 'ptile_table' :'YES',    \n",
    "#         'val': 'none',\n",
    "#         'sns_kde':'NO'})\n",
    "    \n",
    "#     print(f\"{T2} 'vs' {T1}\")\n",
    "#     fn.plot_ConditionalProb_panel(all_ssp,plot_params,plotOPT)"
   ]
  },
  {
   "cell_type": "code",
   "execution_count": null,
   "metadata": {},
   "outputs": [],
   "source": [
    "for T1, T2 in time_pairs:\n",
    "    plotOPT.update({\n",
    "        'plt_og': 'NO', 'plt_scatter': 'NO', 'sns_kde':'NO',\n",
    "        'grid' : 'data_MaxMin',#'grid' : 'Fixed',\n",
    "        'val': 'density_values_Normalized', 'bw_kde':1,'kde_grid_int' : 100, 'c_bar_max': 200.1, 'c_bar_int': 6,\n",
    "        'y_ax_max' : 300 if T2 > 2050 else 100,\n",
    "        'plotCBAR' : 'YES_1',\n",
    "    })\n",
    "    print(f\"{T2} 'vs' {T1}\") \n",
    "    plot_output = fn.plot_ConditionalProb_panel(all_ssp,plot_params,plotOPT)"
   ]
  },
  {
   "cell_type": "code",
   "execution_count": null,
   "metadata": {},
   "outputs": [],
   "source": [
    "result = np.sum(plot_output, axis=1, keepdims=True)"
   ]
  },
  {
   "cell_type": "code",
   "execution_count": null,
   "metadata": {},
   "outputs": [],
   "source": [
    "# for T1, T2 in time_pairs:\n",
    "#     plotOPT.update({\n",
    "#         'plt_og': 'NO', 'plt_scatter': 'NO', 'sns_kde':'NO',\n",
    "#         'grid' : 'data_MaxMin',#'grid' : 'Fixed',\n",
    "#         'val': 'density_values_Normalized', 'bw_kde':'auto','kde_grid_int' : 100, 'c_bar_max': 0.2, 'c_bar_int': 6,\n",
    "#         'y_ax_max' : 300 if T2 > 2050 else 100,\n",
    "#         'plotCBAR' : 'YES_1',\n",
    "#     })\n",
    "#     print(f\"{T2} 'vs' {T1}\")\n",
    "#     fn.plot_ConditionalProb_panel(all_ssp,plot_params,plotOPT)"
   ]
  },
  {
   "cell_type": "code",
   "execution_count": null,
   "metadata": {},
   "outputs": [],
   "source": []
  },
  {
   "cell_type": "code",
   "execution_count": 1,
   "metadata": {},
   "outputs": [],
   "source": [
    "import os\n",
    "import numpy as np\n",
    "import xarray as xr\n",
    "\n",
    "path = os.path.expanduser(f'~/werk.M2/0000_facts-OPdata.M2/amarel/ar2208/factsv1.1.1/coupling.ssp245/output/')\n",
    "\n",
    "dat1='coupling.ssp245.total.workflow.wf2f.global.nc'\n",
    "dat2='coupling.ssp245.total.workflow.wf2f.global.nc' #different time.\n",
    "# dat2='coupling.ssp245.total.workflow.wf2f.local.nc'\n",
    "\n",
    "var1 = xr.open_dataset(f'{path}{dat1}', engine='netcdf4')\n",
    "var2 = xr.open_dataset(f'{path}{dat2}', engine='netcdf4')\n",
    "\n",
    "xaxVAR=var1['sea_level_change'][:, np.where(var1['years']==2030)[0][0]]\n",
    "yaxVAR=var2['sea_level_change'][:, np.where(var2['years']==2100)[0][0]] \n",
    "\n",
    "xaxVAR=xaxVAR/10\n",
    "yaxVAR=yaxVAR/10\n",
    "\n",
    "INdata = np.column_stack((xaxVAR, yaxVAR))"
   ]
  },
  {
   "cell_type": "code",
   "execution_count": 7,
   "metadata": {},
   "outputs": [
    {
     "data": {
      "text/plain": [
       "(-10.0, 246.0)"
      ]
     },
     "execution_count": 7,
     "metadata": {},
     "output_type": "execute_result"
    },
    {
     "data": {
      "image/png": "[encoded data removed]",
      "text/plain": [
       "<Figure size 2000x400 with 5 Axes>"
      ]
     },
     "metadata": {},
     "output_type": "display_data"
    }
   ],
   "source": [
    "import matplotlib.pyplot as plt\n",
    "# fig, ax = plt.subplots(figsize=(20, 4))\n",
    "fig, axs = plt.subplots(1, 4, figsize=(20, 4))\n",
    "\n",
    "ax=axs[0]\n",
    "numbers = np.linspace(1, 2000, 2000)    \n",
    "x_min, x_max = np.floor(np.min(numbers)), np.ceil(np.max(numbers)) \n",
    "#\n",
    "color = 'tab:blue'\n",
    "ax.set_xlabel('')\n",
    "ax.set_ylabel('', color=color)\n",
    "ax.plot(numbers,INdata[:, 0], 'o', linestyle='none', color=color)\n",
    "ax.tick_params(axis='y', labelcolor=color)\n",
    "#\n",
    "ax2 = ax.twinx()  \n",
    "color = 'tab:orange'\n",
    "ax2.set_ylabel('', color=color)\n",
    "ax2.plot(numbers,INdata[:, 1], 'x', linestyle='none', color=color)\n",
    "ax2.tick_params(axis='y', labelcolor=color)\n",
    "\n",
    "ax.set_ylim(-10, np.ceil(np.max(INdata[:, 1])))\n",
    "ax2.set_ylim(-10, np.ceil(np.max(INdata[:, 1])))"
   ]
  },
  {
   "cell_type": "code",
   "execution_count": 8,
   "metadata": {},
   "outputs": [
    {
     "name": "stdout",
     "output_type": "stream",
     "text": [
      "Optimal bandwidth: 1.62\n"
     ]
    }
   ],
   "source": [
    "from sklearn.model_selection import GridSearchCV\n",
    "from sklearn.neighbors import KernelDensity\n",
    "\n",
    "data = INdata\n",
    "#print(\"Data shape:\", data.shape)\n",
    "# Grid of bandwidth values to test\n",
    "bandwidths = np.linspace(0.1, 10, 40)  \n",
    "# Setup the grid search with cross-validation\n",
    "grid = GridSearchCV(KernelDensity(kernel='gaussian'),\n",
    "                   {'bandwidth': bandwidths},\n",
    "                   cv=5)  # 5-fold cross-validation\n",
    "# Fit grid search\n",
    "grid.fit(data)\n",
    "# Best bandwidth\n",
    "best_bw = np.round(grid.best_params_['bandwidth'],2)\n",
    "print(\"Optimal bandwidth:\", best_bw)\n",
    "bw_kde=best_bw"
   ]
  },
  {
   "cell_type": "code",
   "execution_count": null,
   "metadata": {},
   "outputs": [],
   "source": []
  },
  {
   "cell_type": "code",
   "execution_count": null,
   "metadata": {},
   "outputs": [],
   "source": []
  },
  {
   "cell_type": "code",
   "execution_count": null,
   "metadata": {},
   "outputs": [],
   "source": []
  },
  {
   "cell_type": "code",
   "execution_count": null,
   "metadata": {},
   "outputs": [],
   "source": []
  },
  {
   "cell_type": "markdown",
   "metadata": {},
   "source": [
    "<div style=\"position: relative; width: 100%;\">\n",
    "    <hr style=\"position: absolute; left: 0; width: 50%; border: none; height: 2px; background-color: yellow; border-style: dotted;\">\n",
    "</div>\n",
    "<span style=\"font-size: 12pt; color: blue; font-family: 'Times New Roman';\"> SCRATCH </span>  "
   ]
  },
  {
   "cell_type": "markdown",
   "metadata": {},
   "source": [
    "<hr style=\"border: none; height: 2px; background-color: blue; border-style: dotted;\">\n",
    "<span style=\"font-family: 'Times New Roman'; font-size: 16pt; color: blue;\">\n",
    "    2050/2100 NYC projections conditional on GMSL contribution of AIS Component\n",
    "</span>\n",
    "<ol style=\"font-family: 'Times New Roman'; font-size: 16pt; color: blue;\">\n",
    "    <li>2030 AR5</li>\n",
    "    <li>2030 larmip</li>\n",
    "    <li>2030 d21</li>\n",
    "    <li>2030 b19</li>\n",
    "</ol>"
   ]
  },
  {
   "cell_type": "code",
   "execution_count": null,
   "metadata": {},
   "outputs": [],
   "source": [
    "time_pairs = [(2030, 2100)]  # [(2030, 2050), (2030, 2100), (2050, 2100)]\n",
    "for T1, T2 in time_pairs:\n",
    "    plot_params = {\n",
    "        0: {'var1': all_ssp['AIS_ar5_global'], 't1': T1,        'var2': all_ssp['NYC-RSL_1f'], 't2': T2},\n",
    "        1: {'var1': all_ssp['AIS_larmip_global'], 't1': T1,     'var2': all_ssp['NYC-RSL_2f'], 't2': T2},\n",
    "        2: {'var1': all_ssp['AIS_d21_global'], 't1': T1,        'var2': all_ssp['NYC-RSL_3f'], 't2': T2},\n",
    "        3: {'var1': all_ssp['AIS_b19_global'], 't1': T1,        'var2': all_ssp['NYC-RSL_4'], 't2': T2}\n",
    "    }"
   ]
  },
  {
   "cell_type": "code",
   "execution_count": null,
   "metadata": {},
   "outputs": [],
   "source": [
    "for T1, T2 in time_pairs:\n",
    "    plotOPT.update({\n",
    "        'plt_og': 'NO', 'plt_scatter': 'NO', 'sns_kde':'NO',\n",
    "        'grid' : 'data_MaxMin',#'grid' : 'Fixed',\n",
    "        'val': 'density_values_Normalized', 'bw_kde':'auto','kde_grid_int' : 100, 'c_bar_max': 0.2, 'c_bar_int': 6,\n",
    "        'y_ax_max' : 300 if T2 > 2050 else 100,\n",
    "        'plotCBAR' : 'YES_1',\n",
    "    })\n",
    "    print(f\"{T2} 'vs' {T1}\")\n",
    "    fn.plot_ConditionalProb_panel(all_ssp,plot_params,plotOPT)\n"
   ]
  },
  {
   "cell_type": "markdown",
   "metadata": {},
   "source": [
    "<hr style=\"border: none; height: 2px; background-color: black; border-style: dotted;\">\n",
    "<span style=\"font-family: 'Times New Roman'; font-size: 16pt; color: black;\">\n",
    "    TOTAL GMSL (WF) projections conditional on AIS Component\n",
    "</span>\n",
    "<ol style=\"font-family: 'Times New Roman'; font-size: 16pt; color: black;\">\n",
    "    <li>2030 AIS ar5    <b>global</b> </li>\n",
    "    <li>2030 AIS larmp  <b>global</b> </li>\n",
    "    <li>2030 AIS d21    <b>global</b> </li>\n",
    "    <li>2030 AIS b19    <b>global</b> </li>\n",
    "</ol>"
   ]
  },
  {
   "cell_type": "code",
   "execution_count": null,
   "metadata": {},
   "outputs": [],
   "source": [
    "# time_pairs = [(2030, 2050), (2030, 2100), (2050, 2100)]  # Example pairs\n",
    "time_pairs = [(2030, 2050)]\n",
    "for T1, T2 in time_pairs:\n",
    "    plot_params = {\n",
    "        0: {'var1': all_ssp['AIS_ar5_global'], 't1': T1,           'var2': all_ssp['GMSL_1f'], 't2': T2},\n",
    "        1: {'var1': all_ssp['AIS_larmip_global'], 't1': T1,        'var2': all_ssp['GMSL_2f'], 't2': T2},\n",
    "        2: {'var1': all_ssp['AIS_d21_global'], 't1': T1,           'var2': all_ssp['GMSL_3f'], 't2': T2},\n",
    "        3: {'var1': all_ssp['AIS_b19_global'], 't1': T1,           'var2': all_ssp['GMSL_4'], 't2': T2},\n",
    "        4: {'var1': all_ssp['TE'], 't1': T1,           'var2': all_ssp['GMSL_2f'], 't2': T2}\n",
    "    }\n",
    "    plotOPT.update({'num_violins': 2, 'plotCBAR': 'YES_1', 'y_ax_max' : 200 if T2 > 2050 else 100})\n",
    "    print(f\"{T2} 'vs' {T1}\")\n",
    "    fn.plot_ConditionalProb_panel(all_ssp,plot_params,plotOPT)"
   ]
  },
  {
   "cell_type": "code",
   "execution_count": null,
   "metadata": {},
   "outputs": [],
   "source": [
    "# time_pairs = [(2030, 2050), (2030, 2100), (2050, 2100)]  # Example pairs\n",
    "time_pairs = [(2030, 2050)]\n",
    "for T1, T2 in time_pairs:\n",
    "    plot_params = {\n",
    "        0: {'var1': all_ssp['TE'], 't1': T1,           'var2': all_ssp['GMSL_1f'], 't2': T2},\n",
    "        1: {'var1': all_ssp['TE'], 't1': T1,        'var2': all_ssp['GMSL_2f'], 't2': T2},\n",
    "        2: {'var1': all_ssp['TE'], 't1': T1,           'var2': all_ssp['GMSL_3f'], 't2': T2},\n",
    "        3: {'var1': all_ssp['TE'], 't1': T1,           'var2': all_ssp['GMSL_4'], 't2': T2},\n",
    "    }\n",
    "    plotOPT.update({'num_violins': 2, 'plotCBAR': 'YES_1', 'y_ax_max' : 200 if T2 > 2050 else 100})\n",
    "    print(f\"{T2} 'vs' {T1}\")\n",
    "    fn.plot_ConditionalProb_panel(all_ssp,plot_params,plotOPT)"
   ]
  },
  {
   "cell_type": "markdown",
   "metadata": {},
   "source": [
    "<hr style=\"border: none; height: 2px; background-color: black; border-style: dotted;\">\n",
    "<span style=\"font-family: 'Times New Roman'; font-size: 16pt; color: black;\">\n",
    "    TOTAL NYC-WF-SL projections conditional on TOTAL GLOBAL \n",
    "</span>\n",
    "<ol style=\"font-family: 'Times New Roman'; font-size: 16pt; color: black;\">\n",
    "    <li>2030 GMSL-WF (AR5)</li>\n",
    "    <li>2030 GMSL-WF (larmip)</li>\n",
    "    <li>2030 GMSL-WF (d21)</li>\n",
    "    <li>2030 GMSL-WF (b19)</li>\n",
    "</ol>"
   ]
  },
  {
   "cell_type": "code",
   "execution_count": null,
   "metadata": {},
   "outputs": [],
   "source": [
    "# time_pairs = [(2030, 2050), (2030, 2100), (2050, 2100)]  # Example pairs\n",
    "# for T1, T2 in time_pairs:\n",
    "#     plot_params = {\n",
    "#         0: {'var1': all_ssp['GMSL_1f'], 't1': T1,       'var2': all_ssp['NYC-RSL_1f'], 't2': T2},\n",
    "#         1: {'var1': all_ssp['GMSL_2f'], 't1': T1,       'var2': all_ssp['NYC-RSL_2f'], 't2': T2},\n",
    "#         2: {'var1': all_ssp['GMSL_3f'], 't1': T1,       'var2': all_ssp['NYC-RSL_3f'], 't2': T2},\n",
    "#         3: {'var1': all_ssp['GMSL_4'], 't1': T1,        'var2': all_ssp['NYC-RSL_4'], 't2': T2}\n",
    "#     }\n",
    "#     plotOPT.update({'num_violins': 10, 'plotCBAR': 'YES_1', 'y_ax_max' : 200 if T2 > 2050 else 100})\n",
    "#     print(f\"{T2} 'vs' {T1}\")\n",
    "#     fn.plot_ConditionalProb_panel(all_ssp,plot_params,plotOPT)"
   ]
  }
 ],
 "metadata": {
  "kernelspec": {
   "display_name": "plot_M2",
   "language": "python",
   "name": "python3"
  },
  "language_info": {
   "codemirror_mode": {
    "name": "ipython",
    "version": 3
   },
   "file_extension": ".py",
   "mimetype": "text/x-python",
   "name": "python",
   "nbconvert_exporter": "python",
   "pygments_lexer": "ipython3",
   "version": "3.9.18"
  }
 },
 "nbformat": 4,
 "nbformat_minor": 4
}
