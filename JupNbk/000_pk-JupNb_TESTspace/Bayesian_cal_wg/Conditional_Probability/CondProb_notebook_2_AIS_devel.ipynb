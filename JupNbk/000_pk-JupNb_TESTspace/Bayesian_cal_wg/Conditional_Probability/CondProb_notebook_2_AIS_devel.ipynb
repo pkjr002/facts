{
 "cells": [
  {
   "cell_type": "markdown",
   "metadata": {},
   "source": [
    "<p style=\"font-size: 22pt; color: green; font-family: 'Times New Roman';\">\n",
    " Import Modules necessary for running this notebook \n",
    "</p>"
   ]
  },
  {
   "cell_type": "code",
   "execution_count": 1,
   "metadata": {},
   "outputs": [],
   "source": [
    "import seaborn as sns\n",
    "import matplotlib.pyplot as plt\n",
    "import matplotlib.gridspec as gridspec\n",
    "import numpy as np\n",
    "import pandas as pd"
   ]
  },
  {
   "cell_type": "markdown",
   "metadata": {},
   "source": [
    "<p style=\"font-size: 22pt; color: green; font-family: 'Times New Roman';\">\n",
    " Import function file necessary for running this notebook \n",
    "</p>"
   ]
  },
  {
   "cell_type": "code",
   "execution_count": 2,
   "metadata": {},
   "outputs": [],
   "source": [
    "import fun_CondProb as fn"
   ]
  },
  {
   "cell_type": "markdown",
   "metadata": {},
   "source": [
    "<span style=\"font-family: 'Times New Roman'; font-size: 32px; color: red;\"> List available FACTS Data:: <br>\n",
    "    <span style=\"font-size: 22px; color: green;\"> :: FACTS 1.0 run</span>\n",
    "</span>"
   ]
  },
  {
   "cell_type": "code",
   "execution_count": 3,
   "metadata": {},
   "outputs": [
    {
     "name": "stdout",
     "output_type": "stream",
     "text": [
      " Index                                                    File Name\n",
      "     0     coupling.ssp585.ar5AIS.ipccar5.icesheets_AIS_globalsl.nc\n",
      "     1    coupling.ssp585.ar5AIS.ipccar5.icesheets_EAIS_globalsl.nc\n",
      "     2    coupling.ssp585.ar5AIS.ipccar5.icesheets_WAIS_globalsl.nc\n",
      "     3  coupling.ssp585.bamber19.bamber19.icesheets_AIS_globalsl.nc\n",
      "     4 coupling.ssp585.bamber19.bamber19.icesheets_EAIS_globalsl.nc\n",
      "     5 coupling.ssp585.bamber19.bamber19.icesheets_WAIS_globalsl.nc\n",
      "     6      coupling.ssp585.deconto21.deconto21.AIS_AIS_globalsl.nc\n",
      "     7     coupling.ssp585.deconto21.deconto21.AIS_EAIS_globalsl.nc\n",
      "     8     coupling.ssp585.deconto21.deconto21.AIS_WAIS_globalsl.nc\n",
      "     9       coupling.ssp585.emuAIS.emulandice.AIS_EAIS_globalsl.nc\n",
      "    10        coupling.ssp585.emuAIS.emulandice.AIS_PEN_globalsl.nc\n",
      "    11       coupling.ssp585.emuAIS.emulandice.AIS_WAIS_globalsl.nc\n",
      "    12            coupling.ssp585.emuAIS.emulandice.AIS_globalsl.nc\n",
      "    13           coupling.ssp585.larmip.larmip.AIS_EAIS_globalsl.nc\n",
      "    14            coupling.ssp585.larmip.larmip.AIS_PEN_globalsl.nc\n",
      "    15            coupling.ssp585.larmip.larmip.AIS_SMB_globalsl.nc\n",
      "    16           coupling.ssp585.larmip.larmip.AIS_WAIS_globalsl.nc\n",
      "    17                coupling.ssp585.larmip.larmip.AIS_globalsl.nc\n"
     ]
    }
   ],
   "source": [
    "ssp='ssp585'\n",
    "path = f'/projects/kopp/facts-experiments/221217/coupling.{ssp}/output/'\n",
    "files=fn.list_files_with_names(path, [\"global\", \"AIS\"])\n",
    "#\n",
    "df = pd.DataFrame(files, columns=['File Name']).reset_index().rename(columns={'index': 'Index'})\n",
    "print(df.to_string(index=False))"
   ]
  },
  {
   "cell_type": "markdown",
   "metadata": {},
   "source": [
    "<hr style=\"border: none; height: 2px; background-color: none; border-style: dotted;\">\n",
    "<p style=\"font-size: 32px; color: green;\">&#10145; Choose <span style=\"color: blue;\">AIS</span> data file.</p>"
   ]
  },
  {
   "cell_type": "code",
   "execution_count": 4,
   "metadata": {},
   "outputs": [],
   "source": [
    "#\n",
    "start_year=2020; end_year=2100; unit='cm'; station=0\n",
    "\n",
    "\n",
    "# AIS from Emulator module.\n",
    "AIS_emu_path=f'{path}/coupling.ssp585.emuAIS.emulandice.AIS_globalsl.nc'\n",
    "var = 'emu'; exec(f\"{var}_dat, {var}_slc, {var}_time, {var}_lat, {var}_lon = fn.extract_nc_info(AIS_{var}_path, station, unit, start_year, end_year)\")\n",
    "\n",
    "# AIS from Larmip module.\n",
    "AIS_lar_path=f'{path}/coupling.ssp585.larmip.larmip.AIS_globalsl.nc'\n",
    "var = 'lar'; exec(f\"{var}_dat, {var}_slc, {var}_time, {var}_lat, {var}_lon = fn.extract_nc_info(AIS_{var}_path, station, unit, start_year, end_year)\")\n",
    "\n",
    "\n",
    "# AIS from the IPCC AR5 module.\n",
    "AIS_ar5_path=f'{path}/coupling.ssp585.ar5AIS.ipccar5.icesheets_AIS_globalsl.nc'\n",
    "var = 'ar5'; exec(f\"{var}_dat, {var}_slc, {var}_time, {var}_lat, {var}_lon = fn.extract_nc_info(AIS_{var}_path, station, unit, start_year, end_year)\")\n",
    "\n",
    "# AIS from the IPCC Deconto_21 module.\n",
    "AIS_d21_path=f'{path}/coupling.ssp585.deconto21.deconto21.AIS_AIS_globalsl.nc'\n",
    "var = 'd21'; exec(f\"{var}_dat, {var}_slc, {var}_time, {var}_lat, {var}_lon = fn.extract_nc_info(AIS_{var}_path, station, unit, start_year, end_year)\")\n",
    "\n",
    "# AIS from the Bamber 19 module.\n",
    "AIS_b19_path=f'{path}/coupling.ssp585.bamber19.bamber19.icesheets_AIS_globalsl.nc'\n",
    "var = 'b19'; exec(f\"{var}_dat, {var}_slc, {var}_time, {var}_lat, {var}_lon = fn.extract_nc_info(AIS_{var}_path, station, unit, start_year, end_year)\")"
   ]
  },
  {
   "cell_type": "markdown",
   "metadata": {},
   "source": [
    "<hr style=\"border: none; height: 2px; background-color: none; border-style: dotted;\">\n",
    "<span style=\"font-family: 'Times New Roman'; font-size: 22pt; color: green;\">\n",
    "    PLOT PDF's \n",
    "</span>\n"
   ]
  },
  {
   "cell_type": "code",
   "execution_count": 5,
   "metadata": {},
   "outputs": [
    {
     "ename": "NameError",
     "evalue": "name 'emu_2030' is not defined",
     "output_type": "error",
     "traceback": [
      "\u001b[0;31m---------------------------------------------------------------------------\u001b[0m",
      "\u001b[0;31mNameError\u001b[0m                                 Traceback (most recent call last)",
      "Cell \u001b[0;32mIn [5], line 11\u001b[0m\n\u001b[1;32m      5\u001b[0m \u001b[38;5;66;03m#\u001b[39;00m\n\u001b[1;32m      6\u001b[0m \u001b[38;5;66;03m#\u001b[39;00m\n\u001b[1;32m      7\u001b[0m \u001b[38;5;66;03m#\u001b[39;00m\n\u001b[1;32m      8\u001b[0m \u001b[38;5;66;03m#\u001b[39;00m\n\u001b[1;32m      9\u001b[0m \u001b[38;5;66;03m#--------------------------1--------------------------------------------\u001b[39;00m\n\u001b[1;32m     10\u001b[0m ax1 \u001b[38;5;241m=\u001b[39m fig\u001b[38;5;241m.\u001b[39madd_subplot(gs[\u001b[38;5;241m0\u001b[39m, \u001b[38;5;241m0\u001b[39m])\n\u001b[0;32m---> 11\u001b[0m VAR1\u001b[38;5;241m=\u001b[39m\u001b[43memu_2030\u001b[49m\n\u001b[1;32m     12\u001b[0m VAR2\u001b[38;5;241m=\u001b[39memu_2100 \n\u001b[1;32m     13\u001b[0m VAR_name\u001b[38;5;241m=\u001b[39m\u001b[38;5;124m'\u001b[39m\u001b[38;5;124memu\u001b[39m\u001b[38;5;124m'\u001b[39m\n",
      "\u001b[0;31mNameError\u001b[0m: name 'emu_2030' is not defined"
     ]
    },
    {
     "data": {
      "image/png": "[encoded data removed]",
      "text/plain": [
       "<Figure size 1500x400 with 1 Axes>"
      ]
     },
     "metadata": {},
     "output_type": "display_data"
    }
   ],
   "source": [
    "#\n",
    "fig = plt.figure(figsize=(15, 4))\n",
    "gs = fig.add_gridspec(1, 3)\n",
    "fig.subplots_adjust(wspace=0.5, hspace=0.5) \n",
    "#\n",
    "#\n",
    "#\n",
    "#\n",
    "#--------------------------1--------------------------------------------\n",
    "ax1 = fig.add_subplot(gs[0, 0])\n",
    "VAR1=emu_2030\n",
    "VAR2=emu_2100 \n",
    "VAR_name='emu'\n",
    "TVAR1 = 2030\n",
    "TVAR2 = 2100\n",
    "#\n",
    "fn.log_plot(VAR1,VAR2,VAR_name,TVAR1,TVAR2,-5, 10, 100,\n",
    "            -50, 200, 100,1e-3,'Blues', 5, \n",
    "            -5, 1, 10, 5, \n",
    "            -50, 1, 200,50, 'AIS',ax1,fig,)\n",
    "#------------------------------2----------------------------------------\n",
    "ax2 = fig.add_subplot(gs[0, 1])\n",
    "VAR1=lar_2030\n",
    "VAR2=lar_2100 \n",
    "VAR_name='lar'\n",
    "TVAR1 = 2030\n",
    "TVAR2 = 2100\n",
    "#\n",
    "fn.log_plot(VAR1,VAR2,VAR_name,TVAR1,TVAR2,\n",
    "            -5, 10, 100,-50, 200, 100,\n",
    "            1e-3,'Reds', 5, \n",
    "            -5, 1, 10, 5, \n",
    "            -50, 1, 200,50, 'AIS',ax2,fig)\n",
    "#-----------------------------3-----------------------------------------\n",
    "ax3 = fig.add_subplot(gs[1, 0])\n",
    "VAR1=d21_2030\n",
    "VAR2=d21_2100 \n",
    "VAR_name='d21'\n",
    "TVAR1 = 2030\n",
    "TVAR2 = 2100\n",
    "#\n",
    "fn.log_plot(VAR1,VAR2,VAR_name,TVAR1,TVAR2,\n",
    "            -5, 10, 100,-50, 200, 100,\n",
    "            1e-3,'Blues', 5, \n",
    "            -5, 1, 10, 5, \n",
    "            -200, 1, 1200,200, 'AIS',ax3,fig)\n",
    "#-----------------------------4-----------------------------------------\n",
    "ax4 = fig.add_subplot(gs[1, 1])\n",
    "VAR1=b19_2030\n",
    "VAR2=b19_2100 \n",
    "VAR_name='b19'\n",
    "TVAR1 = 2030\n",
    "TVAR2 = 2100\n",
    "#\n",
    "fn.log_plot(VAR1,VAR2,VAR_name,TVAR1,TVAR2,\n",
    "            -5, 10, 100,-50, 200, 100,\n",
    "            1e-3,'Reds', 5, \n",
    "            -5, 1, 10, 5, \n",
    "            -200, 1, 1200,200, 'AIS',ax4,fig)\n",
    "#----------------------------------------------------------------------"
   ]
  }
 ],
 "metadata": {
  "kernelspec": {
   "display_name": "plot",
   "language": "python",
   "name": "plot"
  },
  "language_info": {
   "codemirror_mode": {
    "name": "ipython",
    "version": 3
   },
   "file_extension": ".py",
   "mimetype": "text/x-python",
   "name": "python",
   "nbconvert_exporter": "python",
   "pygments_lexer": "ipython3",
   "version": "3.9.15"
  }
 },
 "nbformat": 4,
 "nbformat_minor": 2
}
