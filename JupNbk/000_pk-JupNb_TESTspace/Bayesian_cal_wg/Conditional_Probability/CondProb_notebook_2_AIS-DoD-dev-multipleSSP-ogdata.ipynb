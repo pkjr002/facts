{
 "cells": [
  {
   "cell_type": "markdown",
   "metadata": {},
   "source": [
    "<p style=\"font-size: 22pt; color: green; font-family: 'Times New Roman';\">\n",
    " Import Modules necessary for running this notebook \n",
    "</p>"
   ]
  },
  {
   "cell_type": "code",
   "execution_count": 1,
   "metadata": {},
   "outputs": [],
   "source": [
    "import seaborn as sns\n",
    "import matplotlib.pyplot as plt\n",
    "import matplotlib.gridspec as gridspec\n",
    "import numpy as np\n",
    "import pandas as pd"
   ]
  },
  {
   "cell_type": "code",
   "execution_count": 2,
   "metadata": {},
   "outputs": [],
   "source": [
    "import fun_CondProb as fn"
   ]
  },
  {
   "cell_type": "markdown",
   "metadata": {},
   "source": [
    "<span style=\"font-family: 'Times New Roman'; font-size: 32px; color: red;\"> List available FACTS Data:: <br> </span>\n",
    "    "
   ]
  },
  {
   "cell_type": "markdown",
   "metadata": {},
   "source": [
    "<span style=\"font-size: 22px; color: green;\"> :: FACTS 1.1.1 (Axex run)</span> \n",
    "    "
   ]
  },
  {
   "cell_type": "code",
   "execution_count": 3,
   "metadata": {},
   "outputs": [
    {
     "name": "stdout",
     "output_type": "stream",
     "text": [
      " Index                                                    File Name\n",
      "     0     coupling.ssp585.ar5AIS.ipccar5.icesheets_AIS_globalsl.nc\n",
      "     1    coupling.ssp585.ar5AIS.ipccar5.icesheets_EAIS_globalsl.nc\n",
      "     2     coupling.ssp585.ar5AIS.ipccar5.icesheets_GIS_globalsl.nc\n",
      "     3    coupling.ssp585.ar5AIS.ipccar5.icesheets_WAIS_globalsl.nc\n",
      "     4  coupling.ssp585.bamber19.bamber19.icesheets_AIS_globalsl.nc\n",
      "     5 coupling.ssp585.bamber19.bamber19.icesheets_EAIS_globalsl.nc\n",
      "     6 coupling.ssp585.bamber19.bamber19.icesheets_WAIS_globalsl.nc\n",
      "     7      coupling.ssp585.deconto21.deconto21.AIS_AIS_globalsl.nc\n",
      "     8     coupling.ssp585.deconto21.deconto21.AIS_EAIS_globalsl.nc\n",
      "     9     coupling.ssp585.deconto21.deconto21.AIS_WAIS_globalsl.nc\n",
      "    10       coupling.ssp585.emuAIS.emulandice.AIS_EAIS_globalsl.nc\n",
      "    11        coupling.ssp585.emuAIS.emulandice.AIS_PEN_globalsl.nc\n",
      "    12       coupling.ssp585.emuAIS.emulandice.AIS_WAIS_globalsl.nc\n",
      "    13            coupling.ssp585.emuAIS.emulandice.AIS_globalsl.nc\n",
      "    14           coupling.ssp585.larmip.larmip.AIS_EAIS_globalsl.nc\n",
      "    15            coupling.ssp585.larmip.larmip.AIS_PEN_globalsl.nc\n",
      "    16            coupling.ssp585.larmip.larmip.AIS_SMB_globalsl.nc\n",
      "    17           coupling.ssp585.larmip.larmip.AIS_WAIS_globalsl.nc\n",
      "    18                coupling.ssp585.larmip.larmip.AIS_globalsl.nc\n"
     ]
    }
   ],
   "source": [
    "ssp='ssp585'\n",
    "# path = f'/projects/kopp/ar2208/factsv1.1.1/coupling.{ssp}/output/'\n",
    "path = f'/Users/dota/werk/2022_09_FACTS/0000_facts-OPdata/amarel/ar2208/factsv1.1.1/coupling.{ssp}/output/'\n",
    "files=fn.list_files_with_names(path, [\"global\", \"AIS\"])\n",
    "#\n",
    "df = pd.DataFrame(files, columns=['File Name']).reset_index().rename(columns={'index': 'Index'})\n",
    "print(df.to_string(index=False))"
   ]
  },
  {
   "cell_type": "markdown",
   "metadata": {},
   "source": [
    "<hr style=\"border: none; height: 2px; background-color: none; border-style: dotted;\">\n",
    "<p style=\"font-size: 32px; color: green;\">&#10145; Choose <span style=\"color: blue;\">AIS</span> data file.</p>"
   ]
  },
  {
   "cell_type": "markdown",
   "metadata": {},
   "source": [
    "<span style=\"color: blue; font-size: 16px;\"> Use a dictionary saving method </span>"
   ]
  },
  {
   "cell_type": "code",
   "execution_count": 4,
   "metadata": {},
   "outputs": [],
   "source": [
    "# #\n",
    "start_year=2020; end_year=2100; unit='cm'; station=0\n",
    "\n",
    "\n",
    "# # AIS from Emulator module.\n",
    "# AIS_emu_path=f'{path}/coupling.ssp585.emuAIS.emulandice.AIS_globalsl.nc'\n",
    "# var = 'emu'; exec(f\"{var}_dat, {var}_slc, {var}_time, {var}_lat, {var}_lon = fn.extract_nc_info(AIS_{var}_path, station, unit, start_year, end_year)\")\n",
    "\n",
    "# AIS from Larmip module.\n",
    "AIS_lar_path=f'{path}/coupling.ssp585.larmip.larmip.AIS_globalsl.nc'\n",
    "var = 'lar'; exec(f\"{var}_dat, {var}_slc, {var}_time, {var}_lat, {var}_lon = fn.extract_nc_info(AIS_{var}_path, station, unit, start_year, end_year)\")\n",
    "\n",
    "\n",
    "# # AIS from the IPCC AR5 module.\n",
    "# AIS_ar5_path=f'{path}/coupling.ssp585.ar5AIS.ipccar5.icesheets_AIS_globalsl.nc'\n",
    "# var = 'ar5'; exec(f\"{var}_dat, {var}_slc, {var}_time, {var}_lat, {var}_lon = fn.extract_nc_info(AIS_{var}_path, station, unit, start_year, end_year)\")\n",
    "\n",
    "# # AIS from the IPCC Deconto_21 module.\n",
    "# AIS_d21_path=f'{path}/coupling.ssp585.deconto21.deconto21.AIS_AIS_globalsl.nc'\n",
    "# var = 'd21'; exec(f\"{var}_dat, {var}_slc, {var}_time, {var}_lat, {var}_lon = fn.extract_nc_info(AIS_{var}_path, station, unit, start_year, end_year)\")\n",
    "\n",
    "# # AIS from the Bamber 19 module.\n",
    "# AIS_b19_path=f'{path}/coupling.ssp585.bamber19.bamber19.icesheets_AIS_globalsl.nc'\n",
    "# var = 'b19'; exec(f\"{var}_dat, {var}_slc, {var}_time, {var}_lat, {var}_lon = fn.extract_nc_info(AIS_{var}_path, station, unit, start_year, end_year)\")"
   ]
  },
  {
   "cell_type": "code",
   "execution_count": 5,
   "metadata": {
    "scrolled": false
   },
   "outputs": [],
   "source": [
    "# start_year=2020; end_year=2100; unit='cm'; station=0\n",
    "\n",
    "# ssps = ['ssp126','ssp119', 'ssp245','ssp370', 'ssp585']\n",
    "\n",
    "# # Dictionary to store the results from each SSP scenario\n",
    "# ssp_results = {}\n",
    "\n",
    "# # Loop over each SSP scenario\n",
    "# for ssp in ssps:\n",
    "#     # Construct the file path for each scenario\n",
    "#     path = f'/Users/dota/werk/2022_09_FACTS/0000_facts-OPdata/amarel/ar2208/factsv1.1.1/coupling.{ssp}/output/'\n",
    "#     AIS_lar_path = f'{path}/coupling.{ssp}.larmip.larmip.AIS_globalsl.nc'\n",
    "\n",
    "#     # Extract the information and store it in the dictionary\n",
    "#     ssp_results[ssp] = {}\n",
    "#     ssp_results[ssp]['dat'], ssp_results[ssp]['slc'], ssp_results[ssp]['time'], ssp_results[ssp]['lat'], ssp_results[ssp]['lon'] = fn.extract_nc_info(AIS_lar_path, station, unit, start_year, end_year)"
   ]
  },
  {
   "cell_type": "markdown",
   "metadata": {},
   "source": [
    "<hr style=\"border: none; height: 2px; background-color: none; border-style: dotted;\">\n",
    "<span style=\"font-family: 'Times New Roman'; font-size: 22pt; color: green;\">\n",
    "    Select Plot data.\n",
    "</span>\n",
    "<br>\n",
    "<span style=\"font-family: 'Times New Roman'; font-size: 16pt; color: blue;\">\n",
    "    :: Extract all samples from a particulay year \n",
    "</span>"
   ]
  },
  {
   "cell_type": "code",
   "execution_count": 6,
   "metadata": {},
   "outputs": [],
   "source": [
    "def get_axis_data(dum_slc, dum_time, *specific_year):\n",
    "    return [dum_slc[:, dum_time == t].squeeze() for t in specific_year]"
   ]
  },
  {
   "cell_type": "code",
   "execution_count": 7,
   "metadata": {},
   "outputs": [],
   "source": [
    "# T1=2030; T2=2050; T3=2070; T4=2090; T5=2100\n",
    "\n",
    "# # Initialize lists to store stacked data for each time point\n",
    "# lar_ALLssp_T1 = []\n",
    "# lar_ALLssp_T2 = []\n",
    "# lar_ALLssp_T3 = []\n",
    "# lar_ALLssp_T4 = []\n",
    "# lar_ALLssp_T5 = []\n",
    "\n",
    "# # Loop over each SSP scenario\n",
    "# for ssp in ssps:\n",
    "#     # Extracting variables for the current SSP scenario\n",
    "#     lar_ssp_slc = ssp_results[ssp]['slc']\n",
    "#     lar_ssp_time = ssp_results[ssp]['time']\n",
    "\n",
    "#     # Call get_axis_data with these variables and the time points\n",
    "#     lar_ssp_T1, lar_ssp_T2, lar_ssp_T3, lar_ssp_T4, lar_ssp_T5 = get_axis_data(lar_ssp_slc, lar_ssp_time, T1, T2, T3, T4, T5)\n",
    "\n",
    "#     # Append the data to the respective lists\n",
    "#     lar_ALLssp_T1.append(lar_ssp_T1)\n",
    "#     lar_ALLssp_T2.append(lar_ssp_T2)\n",
    "#     lar_ALLssp_T3.append(lar_ssp_T3)\n",
    "#     lar_ALLssp_T4.append(lar_ssp_T4)\n",
    "#     lar_ALLssp_T5.append(lar_ssp_T5)\n"
   ]
  },
  {
   "cell_type": "code",
   "execution_count": 8,
   "metadata": {},
   "outputs": [
    {
     "ename": "NameError",
     "evalue": "name 'ar5_slc' is not defined",
     "output_type": "error",
     "traceback": [
      "\u001b[0;31m---------------------------------------------------------------------------\u001b[0m",
      "\u001b[0;31mNameError\u001b[0m                                 Traceback (most recent call last)",
      "\u001b[1;32m/Users/dota/werk/2022_09_FACTS/002_facts-devel/2023_11_21_Nbk_DoD/facts/JupNbk/000_pk-JupNb_TESTspace/Bayesian_cal_wg/Conditional_Probability/CondProb_notebook_2_AIS-DoD-dev-multipleSSP.ipynb Cell 14\u001b[0m line \u001b[0;36m4\n\u001b[1;32m      <a href='vscode-notebook-cell:/Users/dota/werk/2022_09_FACTS/002_facts-devel/2023_11_21_Nbk_DoD/facts/JupNbk/000_pk-JupNb_TESTspace/Bayesian_cal_wg/Conditional_Probability/CondProb_notebook_2_AIS-DoD-dev-multipleSSP.ipynb#X16sZmlsZQ%3D%3D?line=0'>1</a>\u001b[0m T1\u001b[39m=\u001b[39m\u001b[39m2030\u001b[39m; T2\u001b[39m=\u001b[39m\u001b[39m2050\u001b[39m; T3\u001b[39m=\u001b[39m\u001b[39m2070\u001b[39m; T4\u001b[39m=\u001b[39m\u001b[39m2090\u001b[39m; T5\u001b[39m=\u001b[39m\u001b[39m2100\u001b[39m\n\u001b[1;32m      <a href='vscode-notebook-cell:/Users/dota/werk/2022_09_FACTS/002_facts-devel/2023_11_21_Nbk_DoD/facts/JupNbk/000_pk-JupNb_TESTspace/Bayesian_cal_wg/Conditional_Probability/CondProb_notebook_2_AIS-DoD-dev-multipleSSP.ipynb#X16sZmlsZQ%3D%3D?line=2'>3</a>\u001b[0m var \u001b[39m=\u001b[39m \u001b[39m'\u001b[39m\u001b[39mlar\u001b[39m\u001b[39m'\u001b[39m; exec(\u001b[39mf\u001b[39m\u001b[39m\"\u001b[39m\u001b[39m{\u001b[39;00mvar\u001b[39m}\u001b[39;00m\u001b[39m_\u001b[39m\u001b[39m{\u001b[39;00mT1\u001b[39m}\u001b[39;00m\u001b[39m, \u001b[39m\u001b[39m{\u001b[39;00mvar\u001b[39m}\u001b[39;00m\u001b[39m_\u001b[39m\u001b[39m{\u001b[39;00mT2\u001b[39m}\u001b[39;00m\u001b[39m, \u001b[39m\u001b[39m{\u001b[39;00mvar\u001b[39m}\u001b[39;00m\u001b[39m_\u001b[39m\u001b[39m{\u001b[39;00mT3\u001b[39m}\u001b[39;00m\u001b[39m, \u001b[39m\u001b[39m{\u001b[39;00mvar\u001b[39m}\u001b[39;00m\u001b[39m_\u001b[39m\u001b[39m{\u001b[39;00mT4\u001b[39m}\u001b[39;00m\u001b[39m, \u001b[39m\u001b[39m{\u001b[39;00mvar\u001b[39m}\u001b[39;00m\u001b[39m_\u001b[39m\u001b[39m{\u001b[39;00mT5\u001b[39m}\u001b[39;00m\u001b[39m = get_axis_data(\u001b[39m\u001b[39m{\u001b[39;00mvar\u001b[39m}\u001b[39;00m\u001b[39m_slc, \u001b[39m\u001b[39m{\u001b[39;00mvar\u001b[39m}\u001b[39;00m\u001b[39m_time, \u001b[39m\u001b[39m{\u001b[39;00mT1\u001b[39m}\u001b[39;00m\u001b[39m, \u001b[39m\u001b[39m{\u001b[39;00mT2\u001b[39m}\u001b[39;00m\u001b[39m, \u001b[39m\u001b[39m{\u001b[39;00mT3\u001b[39m}\u001b[39;00m\u001b[39m, \u001b[39m\u001b[39m{\u001b[39;00mT4\u001b[39m}\u001b[39;00m\u001b[39m, \u001b[39m\u001b[39m{\u001b[39;00mT5\u001b[39m}\u001b[39;00m\u001b[39m)\u001b[39m\u001b[39m\"\u001b[39m)\n\u001b[0;32m----> <a href='vscode-notebook-cell:/Users/dota/werk/2022_09_FACTS/002_facts-devel/2023_11_21_Nbk_DoD/facts/JupNbk/000_pk-JupNb_TESTspace/Bayesian_cal_wg/Conditional_Probability/CondProb_notebook_2_AIS-DoD-dev-multipleSSP.ipynb#X16sZmlsZQ%3D%3D?line=3'>4</a>\u001b[0m var \u001b[39m=\u001b[39m \u001b[39m'\u001b[39m\u001b[39mar5\u001b[39m\u001b[39m'\u001b[39m; exec(\u001b[39mf\u001b[39;49m\u001b[39m\"\u001b[39;49m\u001b[39m{\u001b[39;49;00mvar\u001b[39m}\u001b[39;49;00m\u001b[39m_\u001b[39;49m\u001b[39m{\u001b[39;49;00mT1\u001b[39m}\u001b[39;49;00m\u001b[39m, \u001b[39;49m\u001b[39m{\u001b[39;49;00mvar\u001b[39m}\u001b[39;49;00m\u001b[39m_\u001b[39;49m\u001b[39m{\u001b[39;49;00mT2\u001b[39m}\u001b[39;49;00m\u001b[39m, \u001b[39;49m\u001b[39m{\u001b[39;49;00mvar\u001b[39m}\u001b[39;49;00m\u001b[39m_\u001b[39;49m\u001b[39m{\u001b[39;49;00mT3\u001b[39m}\u001b[39;49;00m\u001b[39m, \u001b[39;49m\u001b[39m{\u001b[39;49;00mvar\u001b[39m}\u001b[39;49;00m\u001b[39m_\u001b[39;49m\u001b[39m{\u001b[39;49;00mT4\u001b[39m}\u001b[39;49;00m\u001b[39m, \u001b[39;49m\u001b[39m{\u001b[39;49;00mvar\u001b[39m}\u001b[39;49;00m\u001b[39m_\u001b[39;49m\u001b[39m{\u001b[39;49;00mT5\u001b[39m}\u001b[39;49;00m\u001b[39m = get_axis_data(\u001b[39;49m\u001b[39m{\u001b[39;49;00mvar\u001b[39m}\u001b[39;49;00m\u001b[39m_slc, \u001b[39;49m\u001b[39m{\u001b[39;49;00mvar\u001b[39m}\u001b[39;49;00m\u001b[39m_time, \u001b[39;49m\u001b[39m{\u001b[39;49;00mT1\u001b[39m}\u001b[39;49;00m\u001b[39m, \u001b[39;49m\u001b[39m{\u001b[39;49;00mT2\u001b[39m}\u001b[39;49;00m\u001b[39m, \u001b[39;49m\u001b[39m{\u001b[39;49;00mT3\u001b[39m}\u001b[39;49;00m\u001b[39m, \u001b[39;49m\u001b[39m{\u001b[39;49;00mT4\u001b[39m}\u001b[39;49;00m\u001b[39m, \u001b[39;49m\u001b[39m{\u001b[39;49;00mT5\u001b[39m}\u001b[39;49;00m\u001b[39m)\u001b[39;49m\u001b[39m\"\u001b[39;49m)\n",
      "File \u001b[0;32m<string>:1\u001b[0m\n",
      "\u001b[0;31mNameError\u001b[0m: name 'ar5_slc' is not defined"
     ]
    }
   ],
   "source": [
    "T1=2030; T2=2050; T3=2070; T4=2090; T5=2100\n",
    "\n",
    "var = 'lar'; exec(f\"{var}_{T1}, {var}_{T2}, {var}_{T3}, {var}_{T4}, {var}_{T5} = get_axis_data({var}_slc, {var}_time, {T1}, {T2}, {T3}, {T4}, {T5})\")\n",
    "var = 'ar5'; exec(f\"{var}_{T1}, {var}_{T2}, {var}_{T3}, {var}_{T4}, {var}_{T5} = get_axis_data({var}_slc, {var}_time, {T1}, {T2}, {T3}, {T4}, {T5})\")\n",
    "# var = 'd21'; exec(f\"{var}_{T1}, {var}_{T2}, {var}_{T3}, {var}_{T4}, {var}_{T5} = get_axis_data({var}_slc, {var}_time, {T1}, {T2}, {T3}, {T4}, {T5})\")\n",
    "# var = 'b19'; exec(f\"{var}_{T1}, {var}_{T2}, {var}_{T3}, {var}_{T4}, {var}_{T5} = get_axis_data({var}_slc, {var}_time, {T1}, {T2}, {T3}, {T4}, {T5})\")"
   ]
  },
  {
   "cell_type": "markdown",
   "metadata": {},
   "source": [
    "<hr style=\"border: none; height: 2px; background-color: none; border-style: dotted;\">\n",
    "<span style=\"font-family: 'Times New Roman'; font-size: 22pt; color: green;\">\n",
    "    PLOT PDF's :: </span> \n",
    "<span style=\"color: red;\"> LOG scale </span>"
   ]
  },
  {
   "cell_type": "markdown",
   "metadata": {},
   "source": [
    "<span style=\"font-family: 'Times New Roman'; font-size: 16pt; color: black;\"> Larmip AIS </span>"
   ]
  },
  {
   "cell_type": "code",
   "execution_count": null,
   "metadata": {
    "scrolled": false
   },
   "outputs": [],
   "source": [
    "axis_limits = {\n",
    "    0: {'xlim': (0, 6, 1), 'ylim': (0, 60, 10)},\n",
    "    1: {'xlim': (0, 15, 2), 'ylim': (0, 60, 10)},\n",
    "    2: {'xlim': (0, 30, 5), 'ylim': (0, 60, 10)},\n",
    "    3: {'xlim': (0, 50, 5), 'ylim': (0, 60, 10)}\n",
    "}\n",
    "fn.plot_1file('lar',lar_2030,lar_2050, lar_2070, lar_2090, lar_2100, 2030,2050,2070,2090,2100,\n",
    "             None, None, None, None, 100, 1e-4,  'Reds','LOG', 5,\n",
    "               'AIS',10, axis_limits, None,0.04)"
   ]
  },
  {
   "cell_type": "markdown",
   "metadata": {},
   "source": [
    "<span style=\"font-family: 'Times New Roman'; font-size: 16pt; color: black;\"> Bamber 19 AIS </span>"
   ]
  },
  {
   "cell_type": "code",
   "execution_count": null,
   "metadata": {},
   "outputs": [],
   "source": [
    "axis_limits = {\n",
    "    0: {'xlim': (0, 6, 2), 'ylim': (0, 60, 10)},\n",
    "    1: {'xlim': (0, 15, 2), 'ylim': (0, 60, 10)},\n",
    "    2: {'xlim': (0, 30, 5), 'ylim': (0, 60, 10)},\n",
    "    3: {'xlim': (0, 50, 5), 'ylim': (0, 60, 10)}\n",
    "}\n",
    "fn.plot_1file('b19',b19_2030,b19_2050, b19_2070, b19_2090, b19_2100, 2030,2050,2070,2090,2100,\n",
    "             None, None, None, None, 100, 1e-4,  'Blues', 'LOG', 5,\n",
    "               'AIS',10, axis_limits, None,0.002)"
   ]
  },
  {
   "cell_type": "markdown",
   "metadata": {},
   "source": [
    "<div style=\"width: 50%; margin: auto;\">\n",
    "    <hr style=\"border: none; height: 2px; background-color: yellow; border-style: dotted;\">\n",
    "</div>\n",
    "<span style=\"font-family: 'Times New Roman'; font-size: 22pt; color: green;\">\n",
    "     :: </span> \n",
    "<span style=\"color: red;\"> linear scale </span>"
   ]
  },
  {
   "cell_type": "markdown",
   "metadata": {},
   "source": [
    "<span style=\"font-family: 'Times New Roman'; font-size: 16pt; color: black;\"> Larmip AIS </span>"
   ]
  },
  {
   "cell_type": "code",
   "execution_count": null,
   "metadata": {
    "scrolled": false
   },
   "outputs": [],
   "source": [
    "axis_limits = {\n",
    "    0: {'xlim': (0, 6, 1), 'ylim': (0, 60, 10)},\n",
    "    1: {'xlim': (0, 15, 2), 'ylim': (0, 60, 10)},\n",
    "    2: {'xlim': (0, 30, 5), 'ylim': (0, 60, 10)},\n",
    "    3: {'xlim': (0, 50, 5), 'ylim': (0, 60, 10)}\n",
    "}\n",
    "fn.plot_1file('lar',lar_2030,lar_2050, lar_2070, lar_2090, lar_2100, 2030,2050,2070,2090,2100,\n",
    "             None, None, None, None, 100, 1e-4,  'Reds','LIN', 5,\n",
    "               'AIS',10, axis_limits,None,0.04)"
   ]
  },
  {
   "cell_type": "markdown",
   "metadata": {},
   "source": [
    "<span style=\"font-family: 'Times New Roman'; font-size: 16pt; color: black;\"> Bamber 19 AIS </span>"
   ]
  },
  {
   "cell_type": "code",
   "execution_count": null,
   "metadata": {},
   "outputs": [],
   "source": [
    "axis_limits = {\n",
    "    0: {'xlim': (0, 6, 2), 'ylim': (0, 60, 10)},\n",
    "    1: {'xlim': (0, 15, 2), 'ylim': (0, 60, 10)},\n",
    "    2: {'xlim': (0, 30, 5), 'ylim': (0, 60, 10)},\n",
    "    3: {'xlim': (0, 50, 5), 'ylim': (0, 60, 10)}\n",
    "}\n",
    "fn.plot_1file('b19',b19_2030,b19_2050, b19_2070, b19_2090, b19_2100, 2030,2050,2070,2090,2100,\n",
    "             None, None, None, None, 100, 1e-4,  'Blues', 'LIN', 5,\n",
    "               'AIS',10, axis_limits, None,0.002)"
   ]
  },
  {
   "cell_type": "markdown",
   "metadata": {},
   "source": [
    "<hr style=\"border: none; height: 2px; background-color: none; border-style: dotted;\">"
   ]
  }
 ],
 "metadata": {
  "kernelspec": {
   "display_name": "Python 3",
   "language": "python",
   "name": "python3"
  },
  "language_info": {
   "codemirror_mode": {
    "name": "ipython",
    "version": 3
   },
   "file_extension": ".py",
   "mimetype": "text/x-python",
   "name": "python",
   "nbconvert_exporter": "python",
   "pygments_lexer": "ipython3",
   "version": "3.9.16"
  }
 },
 "nbformat": 4,
 "nbformat_minor": 2
}
