{
 "cells": [
  {
   "cell_type": "code",
   "execution_count": 1,
   "metadata": {},
   "outputs": [],
   "source": [
    "import seaborn as sns\n",
    "import matplotlib.pyplot as plt\n",
    "import matplotlib.gridspec as gridspec\n",
    "import numpy as np\n",
    "import pandas as pd"
   ]
  },
  {
   "cell_type": "markdown",
   "metadata": {},
   "source": [
    "<p style=\"font-size: 22pt; color: green; font-family: 'Times New Roman';\">\n",
    " Import function file necessary for running this notebook \n",
    "</p>"
   ]
  },
  {
   "cell_type": "code",
   "execution_count": 2,
   "metadata": {},
   "outputs": [],
   "source": [
    "import fun_CondProb as fn"
   ]
  },
  {
   "cell_type": "markdown",
   "metadata": {},
   "source": [
    "<span style=\"font-family: 'Times New Roman'; font-size: 32px; color: red;\"> List available FACTS Data:: <br> </span>\n",
    "<span style=\"font-size: 22px; color: green;\"> :: FACTS 1.0 run</span> \n",
    "    "
   ]
  },
  {
   "cell_type": "code",
   "execution_count": 3,
   "metadata": {},
   "outputs": [
    {
     "name": "stdout",
     "output_type": "stream",
     "text": [
      " Index                                                    File Name\n",
      "     0     coupling.ssp585.ar5AIS.ipccar5.icesheets_AIS_globalsl.nc\n",
      "     1    coupling.ssp585.ar5AIS.ipccar5.icesheets_EAIS_globalsl.nc\n",
      "     2    coupling.ssp585.ar5AIS.ipccar5.icesheets_WAIS_globalsl.nc\n",
      "     3  coupling.ssp585.bamber19.bamber19.icesheets_AIS_globalsl.nc\n",
      "     4 coupling.ssp585.bamber19.bamber19.icesheets_EAIS_globalsl.nc\n",
      "     5 coupling.ssp585.bamber19.bamber19.icesheets_WAIS_globalsl.nc\n",
      "     6      coupling.ssp585.deconto21.deconto21.AIS_AIS_globalsl.nc\n",
      "     7     coupling.ssp585.deconto21.deconto21.AIS_EAIS_globalsl.nc\n",
      "     8     coupling.ssp585.deconto21.deconto21.AIS_WAIS_globalsl.nc\n",
      "     9       coupling.ssp585.emuAIS.emulandice.AIS_EAIS_globalsl.nc\n",
      "    10        coupling.ssp585.emuAIS.emulandice.AIS_PEN_globalsl.nc\n",
      "    11       coupling.ssp585.emuAIS.emulandice.AIS_WAIS_globalsl.nc\n",
      "    12            coupling.ssp585.emuAIS.emulandice.AIS_globalsl.nc\n",
      "    13           coupling.ssp585.larmip.larmip.AIS_EAIS_globalsl.nc\n",
      "    14            coupling.ssp585.larmip.larmip.AIS_PEN_globalsl.nc\n",
      "    15            coupling.ssp585.larmip.larmip.AIS_SMB_globalsl.nc\n",
      "    16           coupling.ssp585.larmip.larmip.AIS_WAIS_globalsl.nc\n",
      "    17                coupling.ssp585.larmip.larmip.AIS_globalsl.nc\n"
     ]
    }
   ],
   "source": [
    "ssp='ssp585'\n",
    "path = f'/projects/kopp/facts-experiments/221217/coupling.{ssp}/output/'\n",
    "files=fn.list_files_with_names(path, [\"global\", \"AIS\"])\n",
    "#\n",
    "df = pd.DataFrame(files, columns=['File Name']).reset_index().rename(columns={'index': 'Index'})\n",
    "print(df.to_string(index=False))"
   ]
  },
  {
   "cell_type": "markdown",
   "metadata": {},
   "source": [
    "<hr style=\"border: none; height: 2px; background-color: none; border-style: dotted;\">\n",
    "<p style=\"font-size: 32px; color: green;\">&#10145; Choose <span style=\"color: blue;\">AIS</span> data file.</p>"
   ]
  },
  {
   "cell_type": "code",
   "execution_count": 4,
   "metadata": {},
   "outputs": [],
   "source": [
    "#\n",
    "start_year=2020; end_year=2100; unit='cm'; station=0\n",
    "\n",
    "\n",
    "# AIS from Emulator module.\n",
    "AIS_emu_path=f'{path}/coupling.ssp585.emuAIS.emulandice.AIS_globalsl.nc'\n",
    "var = 'emu'; exec(f\"{var}_dat, {var}_slc, {var}_time, {var}_lat, {var}_lon = fn.extract_nc_info(AIS_{var}_path, station, unit, start_year, end_year)\")\n",
    "\n",
    "# AIS from Larmip module.\n",
    "AIS_lar_path=f'{path}/coupling.ssp585.larmip.larmip.AIS_globalsl.nc'\n",
    "var = 'lar'; exec(f\"{var}_dat, {var}_slc, {var}_time, {var}_lat, {var}_lon = fn.extract_nc_info(AIS_{var}_path, station, unit, start_year, end_year)\")\n",
    "\n",
    "\n",
    "# AIS from the IPCC AR5 module.\n",
    "AIS_ar5_path=f'{path}/coupling.ssp585.ar5AIS.ipccar5.icesheets_AIS_globalsl.nc'\n",
    "var = 'ar5'; exec(f\"{var}_dat, {var}_slc, {var}_time, {var}_lat, {var}_lon = fn.extract_nc_info(AIS_{var}_path, station, unit, start_year, end_year)\")\n",
    "\n",
    "# AIS from the IPCC Deconto_21 module.\n",
    "AIS_d21_path=f'{path}/coupling.ssp585.deconto21.deconto21.AIS_AIS_globalsl.nc'\n",
    "var = 'd21'; exec(f\"{var}_dat, {var}_slc, {var}_time, {var}_lat, {var}_lon = fn.extract_nc_info(AIS_{var}_path, station, unit, start_year, end_year)\")\n",
    "\n",
    "# AIS from the Bamber 19 module.\n",
    "AIS_b19_path=f'{path}/coupling.ssp585.bamber19.bamber19.icesheets_AIS_globalsl.nc'\n",
    "var = 'b19'; exec(f\"{var}_dat, {var}_slc, {var}_time, {var}_lat, {var}_lon = fn.extract_nc_info(AIS_{var}_path, station, unit, start_year, end_year)\")"
   ]
  },
  {
   "cell_type": "markdown",
   "metadata": {},
   "source": [
    "<hr style=\"border: none; height: 2px; background-color: none; border-style: dotted;\">\n",
    "<span style=\"font-family: 'Times New Roman'; font-size: 22pt; color: green;\">\n",
    "    Select Plot data.\n",
    "</span>\n",
    "<br>\n",
    "<span style=\"font-family: 'Times New Roman'; font-size: 16pt; color: blue;\">\n",
    "    :: Extract all samples from a particulay year \n",
    "</span>"
   ]
  },
  {
   "cell_type": "code",
   "execution_count": 5,
   "metadata": {},
   "outputs": [],
   "source": [
    "def get_axis_data(dum_slc, dum_time, *specific_year):\n",
    "    return [dum_slc[:, dum_time == t].squeeze() for t in specific_year]"
   ]
  },
  {
   "cell_type": "code",
   "execution_count": 6,
   "metadata": {},
   "outputs": [],
   "source": [
    "T1=2030; T2=2050; T3=2070; T4=2100\n",
    "\n",
    "var = 'lar'; exec(f\"{var}_{T1}, {var}_{T2}, {var}_{T3}, {var}_{T4} = get_axis_data({var}_slc, {var}_time, {T1}, {T2}, {T3}, {T4})\")\n",
    "var = 'ar5'; exec(f\"{var}_{T1}, {var}_{T2}, {var}_{T3}, {var}_{T4} = get_axis_data({var}_slc, {var}_time, {T1}, {T2}, {T3}, {T4})\")\n",
    "var = 'd21'; exec(f\"{var}_{T1}, {var}_{T2}, {var}_{T3}, {var}_{T4} = get_axis_data({var}_slc, {var}_time, {T1}, {T2}, {T3}, {T4})\")\n",
    "var = 'b19'; exec(f\"{var}_{T1}, {var}_{T2}, {var}_{T3}, {var}_{T4} = get_axis_data({var}_slc, {var}_time, {T1}, {T2}, {T3}, {T4})\")"
   ]
  },
  {
   "cell_type": "markdown",
   "metadata": {},
   "source": [
    "<hr style=\"border: none; height: 2px; background-color: none; border-style: dotted;\">\n",
    "<span style=\"font-family: 'Times New Roman'; font-size: 22pt; color: green;\">\n",
    "     sklearn KDE\n",
    "</span>\n",
    "<br>\n",
    "<span style=\"font-family: 'Times New Roman'; font-size: 16pt; color: blue;\">\n",
    "    Visualize the data like in \n",
    "    <a href=\" https://doi.org/10.1029/2019JF005418\"><b>Gilford20</b></a>\n",
    "    Figure_4b  \n",
    "</span>"
   ]
  },
  {
   "cell_type": "markdown",
   "metadata": {},
   "source": [
    "<p>Approach — </p>\n",
    "<ol>\n",
    "    <li>Use <a href=\"https://scikit-learn.org/stable/modules/generated/sklearn.neighbors.KernelDensity.html\">sklearn.neighbors.KernelDensity</a> to fit a 2-d kernel density estimate to the pairs of, for example, (2030, 2100) in a <code> 2D matrix</code>.</li>\n",
    "    <li>Create a grid of test points. Based on the <code>max/min</code> of each column, create a meshgrid <code> grid_samples</code>.</li>\n",
    "    <li>Use the <code>score_samples</code> method of the kernel density estimate to determine a weight for each test point.<br><code>log_density_values = kde.score_samples(grid_samples)</code></li>\n",
    "    <li>Convert it to density <code>expo(log_density_values)</code>\n",
    "    <li>Normalize the weights column wise. <i>Divide individual column value by column sum.</i></li>\n",
    "    <li>Convert back to log values. </li>\n",
    "    <li>Do a filled contour plot as in Gilford20.<br>\n",
    "</ol>\n"
   ]
  },
  {
   "cell_type": "code",
   "execution_count": 7,
   "metadata": {},
   "outputs": [],
   "source": [
    "VAR1='lar'; T1=2030; T2=2100;\n",
    "K='gaussian'; BW=1; linspace_int=100\n",
    "xaxVAR=f'{VAR1}_{T1}';   xax_VAR=eval(xaxVAR)\n",
    "yaxVAR=f'{VAR1}_{T2}';   yax_VAR=eval(yaxVAR)\n",
    "val = 'density_values'\n",
    "#\n",
    "PLOT_VAR, Xgrid, Ygrid, INdata = fn.gilford(xax_VAR, yax_VAR,K,BW,linspace_int, val)"
   ]
  },
  {
   "cell_type": "markdown",
   "metadata": {},
   "source": [
    "<span style=\"font-family: 'Times New Roman'; font-size: 16pt; color: blue;\">\n",
    "    :: visualize  \n",
    "</span>"
   ]
  },
  {
   "cell_type": "code",
   "execution_count": 8,
   "metadata": {},
   "outputs": [
    {
     "data": {
      "image/png": "[encoded data removed]",
      "text/plain": [
       "<Figure size 800x600 with 2 Axes>"
      ]
     },
     "metadata": {},
     "output_type": "display_data"
    }
   ],
   "source": [
    "# visualize 1\n",
    "plt.figure(figsize=(8, 6))\n",
    "#\n",
    "# clevels=np.linspace(PLOT_VAR.min(),PLOT_VAR.max(),10)\n",
    "clevels=np.linspace(1e-3,PLOT_VAR.max(),10)\n",
    "clabels=np.round(clevels,decimals=3).astype('str')\n",
    "contour=plt.contourf(Xgrid, Ygrid, PLOT_VAR,levels=clevels,cmap='GnBu')\n",
    "#\n",
    "# plt.scatter(INdata[:, 0], INdata[:, 1], s=.5, facecolor='red')\n",
    "plt.title('Kernel Density Estimation')\n",
    "plt.xlabel(xaxVAR)\n",
    "plt.ylabel(yaxVAR)\n",
    "#\n",
    "cbar=plt.colorbar(contour,ticks=clevels,orientation='horizontal',pad=0.1)\n",
    "cbar.set_ticklabels(clabels)\n",
    "cbar.ax.tick_params(labelsize=12)\n",
    "#\n",
    "plt.show()\n",
    "    "
   ]
  },
  {
   "cell_type": "markdown",
   "metadata": {},
   "source": [
    "<span style=\"font-family: 'Times New Roman'; font-size: 16pt; color: blue;\">\n",
    "    :: visualize   LOG\n",
    "</span>"
   ]
  },
  {
   "cell_type": "markdown",
   "metadata": {},
   "source": [
    "<hr style=\"border: none; height: 4px; background-color: yellow; border-style: dotted;\">"
   ]
  },
  {
   "cell_type": "markdown",
   "metadata": {},
   "source": [
    "<span style=\"font-family: 'Times New Roman'; font-size: 16pt; color: blue;\">\n",
    "    :: Check if the column sums to 1 \n",
    "</span>"
   ]
  },
  {
   "cell_type": "code",
   "execution_count": 9,
   "metadata": {},
   "outputs": [],
   "source": [
    "# column_sums = density_values_Normalized.sum(axis=0)\n",
    "# plt.plot(column_sums)\n",
    "# plt.ylim(0, 1.1);\n",
    "# # plt.title('Sum of Columns in Norm_density_values')\n",
    "# # plt.show()"
   ]
  },
  {
   "cell_type": "markdown",
   "metadata": {},
   "source": [
    "<hr style=\"border: none; height: 4px; background-color: red; border-style: dotted;\">"
   ]
  },
  {
   "cell_type": "markdown",
   "metadata": {},
   "source": [
    " <p>Links — </p>\n",
    "    <a href=\\\"https://scikit-learn.org/stable/modules/generated/sklearn.neighbors.KernelDensity.html\\\">sklearn.neighbors.KernelDensity</a>\n",
    "    <br>\n",
    "    <a href=\\\"https://scikit-learn.org/stable/modules/density.html#kernel-density-estimation\\\"> kernel-density-estimation</a>"
   ]
  }
 ],
 "metadata": {
  "kernelspec": {
   "display_name": "plot",
   "language": "python",
   "name": "plot"
  },
  "language_info": {
   "codemirror_mode": {
    "name": "ipython",
    "version": 3
   },
   "file_extension": ".py",
   "mimetype": "text/x-python",
   "name": "python",
   "nbconvert_exporter": "python",
   "pygments_lexer": "ipython3",
   "version": "3.9.15"
  }
 },
 "nbformat": 4,
 "nbformat_minor": 2
}
