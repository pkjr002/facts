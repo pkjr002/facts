{
 "cells": [
  {
   "cell_type": "markdown",
   "metadata": {},
   "source": [
    "<p style=\"font-size: 22pt; color: green; font-family: 'Times New Roman';\">\n",
    " Import Modules necessary for running this notebook \n",
    "</p>"
   ]
  },
  {
   "cell_type": "code",
   "execution_count": null,
   "metadata": {},
   "outputs": [],
   "source": [
    "import seaborn as sns\n",
    "import matplotlib.pyplot as plt\n",
    "import matplotlib.gridspec as gridspec\n",
    "import numpy as np\n",
    "import pandas as pd\n",
    "import os\n",
    "\n",
    "import fun_CondProb as fn"
   ]
  },
  {
   "cell_type": "markdown",
   "metadata": {},
   "source": [
    "<span style=\"font-size: 22px; color: green;\"> :: FACTS 1.1.1 run</span> \n",
    "    "
   ]
  },
  {
   "cell_type": "code",
   "execution_count": null,
   "metadata": {},
   "outputs": [],
   "source": [
    "ssp='ssp585'\n",
    "# path = f'/projects/kopp/ar2208/factsv1.1.1/coupling.{ssp}/output/'\n",
    "path = os.path.expanduser(f'~/werk/2022_09_FACTS/0000_facts-OPdata/amarel/ar2208/factsv1.1.1/coupling.{ssp}/output/')\n",
    "path = os.path.expanduser(f'~/werk.M2/0000_facts-OPdata.M2/amarel/ar2208/factsv1.1.1/coupling.{ssp}/output/')\n",
    "files=fn.list_files_with_names(path, [\"global\"])\n",
    "#\n",
    "df = pd.DataFrame(files, columns=['File Name']).reset_index().rename(columns={'index': 'Index'})\n",
    "print(df.to_string(index=False))"
   ]
  },
  {
   "cell_type": "markdown",
   "metadata": {},
   "source": [
    "<hr style=\"border: none; height: 2px; background-color: black; border-style: dotted;\">\n",
    "<span style=\"font-family: 'Times New Roman'; font-size: 22pt; color: green;\">\n",
    "    Bayesian Paper Figure list\n",
    "</span>\n",
    "<br><br><br>\n",
    "<span style=\"font-family: 'Times New Roman'; font-size: 16pt; color: red;\">\n",
    "    2050 NYC projections conditional on\n",
    "</span>\n",
    "<ol style=\"font-family: 'Times New Roman'; font-size: 16pt; color: red;\">\n",
    "    <li>2030 GMSL observations</li>\n",
    "    <li>2030 AIS observation</li>\n",
    "    <li>2030 Sterodynamic observations</li>\n",
    "    <li>2030 Thermal Expansion</li>\n",
    "</ol>"
   ]
  },
  {
   "cell_type": "code",
   "execution_count": null,
   "metadata": {},
   "outputs": [],
   "source": [
    "ssps = ['ssp119', 'ssp126','ssp245','ssp370', 'ssp585']\n",
    "#\n",
    "station=0; \n",
    "#\n",
    "start_year=2020; end_year=2100; unit='cm'; \n",
    "#\n",
    "# Base path of data folder (all ssp).\n",
    "base_path = os.path.expanduser(f'~/werk.M2/0000_facts-OPdata.M2/amarel/ar2208/factsv1.1.1')\n",
    "#\n",
    "# Dictionary of filenames\n",
    "file_names = {\n",
    "    'GMSL_1f': 'total.workflow.wf1f.global.nc',                          'NYC-RSL_1f': 'total.workflow.wf1f.local.nc',\n",
    "    'AIS_ar5_global': 'ar5AIS.ipccar5.icesheets_AIS_globalsl.nc',           'AIS_ar5_local': 'ar5AIS.ipccar5.icesheets_AIS_globalsl.nc', \n",
    "\n",
    "    'GMSL_2f': 'total.workflow.wf2f.global.nc',                          'NYC-RSL_2f': 'total.workflow.wf2f.local.nc',\n",
    "    'AIS_larmip_global' : 'larmip.larmip.AIS_globalsl.nc',                  'AIS_larmip_local' : 'larmip.larmip.AIS_localsl.nc',\n",
    "\n",
    "    'GMSL_3f': 'total.workflow.wf3f.global.nc',                          'NYC-RSL_3f': 'total.workflow.wf3f.local.nc',\n",
    "    'AIS_d21_global' : 'deconto21.deconto21.AIS_AIS_globalsl.nc',           'AIS_d21_local' : 'deconto21.deconto21.AIS_AIS_localsl.nc',\n",
    "\n",
    "    'GMSL_4': 'total.workflow.wf4.global.nc',                            'NYC-RSL_4': 'total.workflow.wf4.local.nc',\n",
    "    'AIS_b19_global' : 'bamber19.bamber19.icesheets_AIS_globalsl.nc',       'AIS_b19_local' : 'bamber19.bamber19.icesheets_AIS_localsl.nc',\n",
    "    \n",
    "    \n",
    "    'TE'  : 'ocean.tlm.sterodynamics_globalsl.nc',                          'SD'  : 'ocean.tlm.sterodynamics_localsl.nc', \n",
    "}\n",
    "#\n",
    "# Dictionary to store the results\n",
    "all_ssp = {key: {} for key in file_names}\n",
    "\n",
    "# Loop over each SSP scenario\n",
    "for ssp in ssps:\n",
    "    for key, filename in file_names.items():\n",
    "        file_path = f'{base_path}/coupling.{ssp}/output/coupling.{ssp}.{filename}'\n",
    "        dat, slc, time, lat, lon = fn.extract_nc_info(file_path, station, unit, start_year, end_year)\n",
    "        all_ssp[key][ssp] = {'dat': dat, 'slc': slc, 'time': time, 'lat': lat, 'lon': lon, 'path': file_path, 'filename': filename}\n",
    "del dat, slc, time, lat, lon, ssp, file_path, key, file_names, filename"
   ]
  },
  {
   "cell_type": "code",
   "execution_count": null,
   "metadata": {},
   "outputs": [],
   "source": [
    "plot_params = {\n",
    "    0: {'var1': all_ssp['GMSL_2f'], 't1': 2030,           'var2': all_ssp['NYC-RSL_2f'], 't2': 2050},\n",
    "    1: {'var1': all_ssp['AIS_larmip_global'], 't1': 2030,        'var2': all_ssp['NYC-RSL_2f'], 't2': 2050},\n",
    "    2: {'var1': all_ssp['TE'], 't1': 2030,              'var2': all_ssp['NYC-RSL_2f'], 't2': 2050},\n",
    "    3: {'var1': all_ssp['SD'], 't1': 2030,                      'var2': all_ssp['NYC-RSL_2f'], 't2': 2050}\n",
    "}\n",
    "\n",
    "# Set up the figure and axes for 2-panel subplot\n",
    "fig, ax = plt.subplots(1, 4, figsize=(20, 4))\n",
    "fig.subplots_adjust(wspace=0.3, hspace=0.4)\n",
    "\n",
    "plotOPT = {'y_ax_min':0, 'y_ax_max': 150, 'c_bar_min': 0.001, 'c_bar_max': 0.252, 'plotCBAR' : 'YES', 'cmap' : 'Reds'}\n",
    "\n",
    "# Loop through the dictionary and plot\n",
    "for i, params in plot_params.items():\n",
    "    # AXIS-LABELS\n",
    "    var1_lab = next(key for key, val in all_ssp.items() if np.array_equal(val, params['var1']))\n",
    "    var2_lab = next(key for key, val in all_ssp.items() if np.array_equal(val, params['var2']))\n",
    "    fn.plot_ConditionalProb(ax[i], params['var1'], params['var2'], params['t1'], params['t2'],var1_lab,var2_lab,plotOPT)\n",
    "\n",
    "plt.show()\n"
   ]
  },
  {
   "cell_type": "markdown",
   "metadata": {},
   "source": [
    "<div style=\"position: relative; width: 100%;\">\n",
    "    <hr style=\"position: absolute; left: 0; width: 50%; border: none; height: 2px; background-color: none; border-style: dotted;\">\n",
    "    <br>2100\n",
    "</div>"
   ]
  },
  {
   "cell_type": "code",
   "execution_count": null,
   "metadata": {},
   "outputs": [],
   "source": [
    "plot_params = {\n",
    "    0: {'var1': all_ssp['GMSL_2f'], 't1': 2030,           'var2': all_ssp['NYC-RSL_2f'], 't2': 2100},\n",
    "    1: {'var1': all_ssp['AIS_larmip_global'], 't1': 2030,        'var2': all_ssp['NYC-RSL_2f'], 't2': 2100},\n",
    "    2: {'var1': all_ssp['TE'], 't1': 2030,              'var2': all_ssp['NYC-RSL_2f'], 't2': 2100},\n",
    "    3: {'var1': all_ssp['SD'], 't1': 2030,                      'var2': all_ssp['NYC-RSL_2f'], 't2': 2100}\n",
    "}\n",
    "\n",
    "# Set up the figure and axes for 2-panel subplot\n",
    "fig, ax = plt.subplots(1, 4, figsize=(20, 4))\n",
    "fig.subplots_adjust(wspace=0.3, hspace=0.4)\n",
    "\n",
    "plotOPT = {'y_ax_min':0, 'y_ax_max': 150, 'c_bar_min': 0.001, 'c_bar_max': 0.252, 'plotCBAR' : 'YES', 'cmap' : 'Reds'}\n",
    "\n",
    "\n",
    "# Loop through the dictionary and plot\n",
    "for i, params in plot_params.items():\n",
    "    # AXIS-LABELS\n",
    "    var1_lab = next(key for key, val in all_ssp.items() if np.array_equal(val, params['var1']))\n",
    "    var2_lab = next(key for key, val in all_ssp.items() if np.array_equal(val, params['var2']))\n",
    "    fn.plot_ConditionalProb(ax[i], params['var1'], params['var2'], params['t1'], params['t2'],var1_lab,var2_lab,plotOPT)\n",
    "\n",
    "plt.show()"
   ]
  },
  {
   "cell_type": "markdown",
   "metadata": {},
   "source": [
    "<div style=\"position: relative; width: 100%;\">\n",
    "    <hr style=\"position: absolute; left: 0; width: 50%; border: none; height: 2px; background-color: yellow; border-style: dotted;\">\n",
    "</div>\n",
    "<br>\n",
    "<span style=\"font-family: 'Times New Roman'; font-size: 22pt; color: green;\">\n",
    "     :: </span> \n",
    "<span style=\"color: red;\"> 2100 :: 2050   <b> .</b></span>"
   ]
  },
  {
   "cell_type": "code",
   "execution_count": null,
   "metadata": {},
   "outputs": [],
   "source": [
    "plot_params = {\n",
    "    0: {'var1': all_ssp['GMSL_2f'], 't1': 2050,           'var2': all_ssp['NYC-RSL_2f'], 't2': 2100},\n",
    "    1: {'var1': all_ssp['AIS_larmip_global'], 't1': 2050,        'var2': all_ssp['NYC-RSL_2f'], 't2': 2100},\n",
    "    2: {'var1': all_ssp['TE'], 't1': 2050,              'var2': all_ssp['NYC-RSL_2f'], 't2': 2100},\n",
    "    3: {'var1': all_ssp['SD'], 't1': 2050,                      'var2': all_ssp['NYC-RSL_2f'], 't2': 2100}\n",
    "}\n",
    "\n",
    "# Set up the figure and axes for 2-panel subplot\n",
    "fig, ax = plt.subplots(1, 4, figsize=(20, 4))\n",
    "fig.subplots_adjust(wspace=0.3, hspace=0.4)\n",
    "\n",
    "plotOPT = {'y_ax_min':0, 'y_ax_max': 150, 'c_bar_min': 0.001, 'c_bar_max': 0.252, 'plotCBAR' : 'YES', 'cmap' : 'Reds'}\n",
    "\n",
    "# Loop through the dictionary and plot\n",
    "for i, params in plot_params.items():\n",
    "    # AXIS-LABELS\n",
    "    var1_lab = next(key for key, val in all_ssp.items() if np.array_equal(val, params['var1']))\n",
    "    var2_lab = next(key for key, val in all_ssp.items() if np.array_equal(val, params['var2']))\n",
    "    fn.plot_ConditionalProb(ax[i], params['var1'], params['var2'], params['t1'], params['t2'],var1_lab,var2_lab,plotOPT)\n",
    "\n",
    "plt.show()"
   ]
  },
  {
   "cell_type": "markdown",
   "metadata": {},
   "source": [
    "<hr style=\"border: none; height: 2px; background-color: black; border-style: dotted;\">\n",
    "<span style=\"font-family: 'Times New Roman'; font-size: 16pt; color: blue;\">\n",
    "    2050 GMSL projections conditional on\n",
    "</span>\n",
    "<ol style=\"font-family: 'Times New Roman'; font-size: 16pt; color: blue;\">\n",
    "    <li>2030 AIS ar5    <b>global</b> observations</li>\n",
    "    <li>2030 AIS larmp  <b>global</b> observations</li>\n",
    "    <li>2030 AIS d21    <b>global</b> observations</li>\n",
    "    <li>2030 AIS b19    <b>global</b> observation</li>\n",
    "</ol>"
   ]
  },
  {
   "cell_type": "code",
   "execution_count": null,
   "metadata": {},
   "outputs": [],
   "source": [
    "plot_params = {\n",
    "    0: {'var1': all_ssp['AIS_ar5_global'], 't1': 2030,           'var2': all_ssp['GMSL_1f'], 't2': 2050},\n",
    "    1: {'var1': all_ssp['AIS_larmip_global'], 't1': 2030,        'var2': all_ssp['GMSL_2f'], 't2': 2050},\n",
    "    2: {'var1': all_ssp['AIS_d21_global'], 't1': 2030,           'var2': all_ssp['GMSL_3f'], 't2': 2050},\n",
    "    3: {'var1': all_ssp['AIS_b19_global'], 't1': 2030,           'var2': all_ssp['GMSL_4'], 't2': 2050}\n",
    "}\n",
    "\n",
    "# Set up the figure and axes for 2-panel subplot\n",
    "fig, ax = plt.subplots(1, 4, figsize=(20, 4))\n",
    "fig.subplots_adjust(wspace=0.3, hspace=0.4)\n",
    "\n",
    "plotOPT = {'y_ax_min':0, 'y_ax_max': 150, 'c_bar_min': 0.001, 'c_bar_max': 0.252, 'plotCBAR' : 'YES', 'cmap' : 'Blues'}\n",
    "\n",
    "# Loop through the dictionary and plot\n",
    "for i, params in plot_params.items():\n",
    "    # AXIS-LABELS\n",
    "    var1_lab = next(key for key, val in all_ssp.items() if np.array_equal(val, params['var1']))\n",
    "    var2_lab = next(key for key, val in all_ssp.items() if np.array_equal(val, params['var2']))\n",
    "    fn.plot_ConditionalProb(ax[i], params['var1'], params['var2'], params['t1'], params['t2'],var1_lab,var2_lab,plotOPT)\n",
    "\n",
    "plt.show()\n"
   ]
  },
  {
   "cell_type": "markdown",
   "metadata": {},
   "source": [
    "<div style=\"position: relative; width: 100%;\">\n",
    "    <hr style=\"position: absolute; left: 0; width: 50%; border: none; height: 2px; background-color: none; border-style: dotted;\">\n",
    "    <br>2100\n",
    "</div>"
   ]
  },
  {
   "cell_type": "code",
   "execution_count": null,
   "metadata": {},
   "outputs": [],
   "source": [
    "plot_params = {\n",
    "    0: {'var1': all_ssp['AIS_ar5_global'], 't1': 2030,           'var2': all_ssp['GMSL_1f'], 't2': 2100},\n",
    "    1: {'var1': all_ssp['AIS_larmip_global'], 't1': 2030,        'var2': all_ssp['GMSL_2f'], 't2': 2100},\n",
    "    2: {'var1': all_ssp['AIS_d21_global'], 't1': 2030,           'var2': all_ssp['GMSL_3f'], 't2': 2100},\n",
    "    3: {'var1': all_ssp['AIS_b19_global'], 't1': 2030,           'var2': all_ssp['GMSL_4'], 't2': 2100}\n",
    "}\n",
    "\n",
    "# Set up the figure and axes for 2-panel subplot\n",
    "fig, ax = plt.subplots(1, 4, figsize=(20, 4))\n",
    "fig.subplots_adjust(wspace=0.3, hspace=0.4)\n",
    "\n",
    "plotOPT = {'y_ax_min':0, 'y_ax_max': 150, 'c_bar_min': 0.001, 'c_bar_max': 0.252, 'plotCBAR' : 'YES', 'cmap' : 'Blues'}\n",
    "\n",
    "# Loop through the dictionary and plot\n",
    "for i, params in plot_params.items():\n",
    "    # AXIS-LABELS\n",
    "    var1_lab = next(key for key, val in all_ssp.items() if np.array_equal(val, params['var1']))\n",
    "    var2_lab = next(key for key, val in all_ssp.items() if np.array_equal(val, params['var2']))\n",
    "    fn.plot_ConditionalProb(ax[i], params['var1'], params['var2'], params['t1'], params['t2'],var1_lab,var2_lab,plotOPT)\n",
    "\n",
    "plt.show()\n"
   ]
  },
  {
   "cell_type": "markdown",
   "metadata": {},
   "source": [
    "<div style=\"position: relative; width: 100%;\">\n",
    "    <hr style=\"position: absolute; left: 0; width: 50%; border: none; height: 2px; background-color: yellow; border-style: dotted;\">\n",
    "</div>\n",
    "<br>\n",
    "<span style=\"font-family: 'Times New Roman'; font-size: 22pt; color: green;\">\n",
    "     :: </span> \n",
    "<span style=\"color: red;\"> 2100 :: 2050   <b> .</b></span>"
   ]
  },
  {
   "cell_type": "code",
   "execution_count": null,
   "metadata": {},
   "outputs": [],
   "source": [
    "plot_params = {\n",
    "    0: {'var1': all_ssp['AIS_ar5_global'], 't1': 2050,           'var2': all_ssp['GMSL_1f'], 't2': 2100},\n",
    "    1: {'var1': all_ssp['AIS_larmip_global'], 't1': 2050,        'var2': all_ssp['GMSL_2f'], 't2': 2100},\n",
    "    2: {'var1': all_ssp['AIS_d21_global'], 't1': 2050,           'var2': all_ssp['GMSL_3f'], 't2': 2100},\n",
    "    3: {'var1': all_ssp['AIS_b19_global'], 't1': 2050,           'var2': all_ssp['GMSL_4'], 't2': 2100}\n",
    "}\n",
    "\n",
    "# Set up the figure and axes for 2-panel subplot\n",
    "fig, ax = plt.subplots(1, 4, figsize=(20, 4))\n",
    "fig.subplots_adjust(wspace=0.3, hspace=0.4)\n",
    "\n",
    "plotOPT = {'y_ax_min':0, 'y_ax_max': 150, 'c_bar_min': 0.001, 'c_bar_max': 0.252, 'plotCBAR' : 'YES', 'cmap' : 'Blues'}\n",
    "\n",
    "# Loop through the dictionary and plot\n",
    "for i, params in plot_params.items():\n",
    "    # AXIS-LABELS\n",
    "    var1_lab = next(key for key, val in all_ssp.items() if np.array_equal(val, params['var1']))\n",
    "    var2_lab = next(key for key, val in all_ssp.items() if np.array_equal(val, params['var2']))\n",
    "    fn.plot_ConditionalProb(ax[i], params['var1'], params['var2'], params['t1'], params['t2'],var1_lab,var2_lab,plotOPT)\n",
    "\n",
    "plt.show()\n"
   ]
  },
  {
   "cell_type": "markdown",
   "metadata": {},
   "source": [
    "<hr style=\"border: none; height: 2px; background-color: black; border-style: dotted;\">\n",
    "<span style=\"font-family: 'Times New Roman'; font-size: 16pt; color: blue;\">\n",
    "    Fig:: Fraction of Variance\n",
    "</span>"
   ]
  }
 ],
 "metadata": {
  "kernelspec": {
   "display_name": "plot_M2",
   "language": "python",
   "name": "plot_m2"
  },
  "language_info": {
   "codemirror_mode": {
    "name": "ipython",
    "version": 3
   },
   "file_extension": ".py",
   "mimetype": "text/x-python",
   "name": "python",
   "nbconvert_exporter": "python",
   "pygments_lexer": "ipython3",
   "version": "3.9.18"
  }
 },
 "nbformat": 4,
 "nbformat_minor": 4
}
