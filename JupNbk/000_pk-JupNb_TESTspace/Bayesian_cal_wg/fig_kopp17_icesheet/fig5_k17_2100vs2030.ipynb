{
 "cells": [
  {
   "cell_type": "markdown",
   "metadata": {},
   "source": [
    "<div style=\"border: 5px solid blue; padding: 20px;\">\n",
    "\n",
    "<span style=\"font-family: 'Arial';\">\n",
    "    <span style=\"color: 008000;\"> Recreate Figure 5 from Kopp et al  \n",
    "    <a href=\"https://agupubs.onlinelibrary.wiley.com/doi/full/10.1002/2017EF000663/\"<strong>2017</strong></a> \n",
    "    </span>.\n",
    "</span>\n",
    "\n",
    "---\n",
    "</div>"
   ]
  },
  {
   "cell_type": "code",
   "execution_count": 1,
   "metadata": {},
   "outputs": [],
   "source": [
    "import fun_plot_kopp17_v1 as fn\n",
    "import matplotlib.pyplot as plt\n",
    "import matplotlib.gridspec as gridspec\n",
    "import numpy as np"
   ]
  },
  {
   "cell_type": "markdown",
   "metadata": {},
   "source": [
    "<div style=\"border: 2px solid black; border-bottom: none; padding: 20px;\">\n",
    "\n",
    "\n",
    "<span style=\"font-family: 'Times New Roman'; font-size: 32px; color: red;\"> LS Data:: \n",
    "    <span style=\"font-size: 22px; color: green;\"> FACTS 1.0 run</span>\n",
    "</span>\n",
    "\n",
    "---\n",
    "\n",
    "<span style=\"font-family: 'Arial';\">\n",
    "    \n",
    "</span>\n",
    "\n",
    "\n",
    "</div>"
   ]
  },
  {
   "cell_type": "code",
   "execution_count": 2,
   "metadata": {},
   "outputs": [
    {
     "data": {
      "text/plain": [
       "['coupling.ssp585.ar5AIS.ipccar5.icesheets_AIS_globalsl.nc',\n",
       " 'coupling.ssp585.ar5AIS.ipccar5.icesheets_EAIS_globalsl.nc',\n",
       " 'coupling.ssp585.ar5AIS.ipccar5.icesheets_WAIS_globalsl.nc',\n",
       " 'coupling.ssp585.bamber19.bamber19.icesheets_AIS_globalsl.nc',\n",
       " 'coupling.ssp585.bamber19.bamber19.icesheets_EAIS_globalsl.nc',\n",
       " 'coupling.ssp585.bamber19.bamber19.icesheets_WAIS_globalsl.nc',\n",
       " 'coupling.ssp585.deconto21.deconto21.AIS_AIS_globalsl.nc',\n",
       " 'coupling.ssp585.deconto21.deconto21.AIS_EAIS_globalsl.nc',\n",
       " 'coupling.ssp585.deconto21.deconto21.AIS_WAIS_globalsl.nc',\n",
       " 'coupling.ssp585.emuAIS.emulandice.AIS_EAIS_globalsl.nc',\n",
       " 'coupling.ssp585.emuAIS.emulandice.AIS_PEN_globalsl.nc',\n",
       " 'coupling.ssp585.emuAIS.emulandice.AIS_WAIS_globalsl.nc',\n",
       " 'coupling.ssp585.emuAIS.emulandice.AIS_globalsl.nc',\n",
       " 'coupling.ssp585.larmip.larmip.AIS_EAIS_globalsl.nc',\n",
       " 'coupling.ssp585.larmip.larmip.AIS_PEN_globalsl.nc',\n",
       " 'coupling.ssp585.larmip.larmip.AIS_SMB_globalsl.nc',\n",
       " 'coupling.ssp585.larmip.larmip.AIS_WAIS_globalsl.nc',\n",
       " 'coupling.ssp585.larmip.larmip.AIS_globalsl.nc']"
      ]
     },
     "execution_count": 2,
     "metadata": {},
     "output_type": "execute_result"
    }
   ],
   "source": [
    "ssp='ssp585'\n",
    "path = f'/projects/kopp/facts-experiments/221217/coupling.{ssp}/output/'\n",
    "files=fn.list_files_with_names(path, [\"global\", \"AIS\"])\n",
    "files"
   ]
  },
  {
   "cell_type": "markdown",
   "metadata": {},
   "source": [
    "<div style=\"border: 2px solid black; border-bottom: none; padding: 20px;\">\n",
    "\n",
    "\n",
    "<span style=\"font-family: 'Times New Roman'; font-size: 32px; color: red;\"> LS Data:: \n",
    "    <span style=\"font-size: 22px; color: green;\"> FACTS 1.0 20K run</span>\n",
    "</span>\n",
    "\n",
    "---\n",
    "\n",
    "<span style=\"font-family: 'Arial';\">\n",
    "    \n",
    "</span>\n",
    "\n",
    "\n",
    "</div>"
   ]
  },
  {
   "cell_type": "code",
   "execution_count": 3,
   "metadata": {},
   "outputs": [
    {
     "data": {
      "text/plain": [
       "['coupling.ssp585.20k.ar5AIS.ipccar5.icesheets_AIS_globalsl.nc',\n",
       " 'coupling.ssp585.20k.ar5AIS.ipccar5.icesheets_EAIS_globalsl.nc',\n",
       " 'coupling.ssp585.20k.ar5AIS.ipccar5.icesheets_WAIS_globalsl.nc',\n",
       " 'coupling.ssp585.20k.bamber19.bamber19.icesheets_AIS_globalsl.nc',\n",
       " 'coupling.ssp585.20k.bamber19.bamber19.icesheets_EAIS_globalsl.nc',\n",
       " 'coupling.ssp585.20k.bamber19.bamber19.icesheets_WAIS_globalsl.nc',\n",
       " 'coupling.ssp585.20k.deconto16.deconto16.AIS_AIS_globalsl.nc',\n",
       " 'coupling.ssp585.20k.deconto16.deconto16.AIS_EAIS_globalsl.nc',\n",
       " 'coupling.ssp585.20k.deconto16.deconto16.AIS_WAIS_globalsl.nc',\n",
       " 'coupling.ssp585.20k.deconto21.deconto21.AIS_AIS_globalsl.nc',\n",
       " 'coupling.ssp585.20k.deconto21.deconto21.AIS_EAIS_globalsl.nc',\n",
       " 'coupling.ssp585.20k.deconto21.deconto21.AIS_WAIS_globalsl.nc',\n",
       " 'coupling.ssp585.20k.k14ice.kopp14.icesheets_AIS_globalsl.nc',\n",
       " 'coupling.ssp585.20k.k14ice.kopp14.icesheets_EAIS_globalsl.nc',\n",
       " 'coupling.ssp585.20k.k14ice.kopp14.icesheets_WAIS_globalsl.nc',\n",
       " 'coupling.ssp585.20k.larmip.larmip.AIS_EAIS_globalsl.nc',\n",
       " 'coupling.ssp585.20k.larmip.larmip.AIS_PEN_globalsl.nc',\n",
       " 'coupling.ssp585.20k.larmip.larmip.AIS_SMB_globalsl.nc',\n",
       " 'coupling.ssp585.20k.larmip.larmip.AIS_WAIS_globalsl.nc',\n",
       " 'coupling.ssp585.20k.larmip.larmip.AIS_globalsl.nc']"
      ]
     },
     "execution_count": 3,
     "metadata": {},
     "output_type": "execute_result"
    }
   ],
   "source": [
    "ssp='ssp585'\n",
    "path20k = f'/scratch/pk695/FACTS/002_fork/facts/experiments-DUMP/experiments.TEST/exp_k14/coupling.{ssp}.20k/output'\n",
    "files20k=fn.list_files_with_names(path20k, [\"global\", \"AIS\"])\n",
    "files20k"
   ]
  },
  {
   "cell_type": "markdown",
   "metadata": {},
   "source": [
    "<hr style=\"border: none; height: 2px; background-color: none; border-style: dotted;\">\n",
    "<span style=\"font-family: 'Times New Roman'; font-size: 22pt; color: green;\">\n",
    "    AIS data file.\n",
    "</span>"
   ]
  },
  {
   "cell_type": "code",
   "execution_count": 4,
   "metadata": {},
   "outputs": [],
   "source": [
    "#\n",
    "AIS_k14_path=f'{path20k}/coupling.ssp585.20k.k14ice.kopp14.icesheets_AIS_globalsl.nc'\n",
    "AIS_d16_path=f'{path20k}/coupling.ssp585.20k.deconto16.deconto16.AIS_AIS_globalsl.nc'\n",
    "#\n",
    "#\n",
    "AIS_d21_path=f'{path}/coupling.ssp585.deconto21.deconto21.AIS_AIS_globalsl.nc'\n",
    "AIS_ar5_path=f'{path}/coupling.ssp585.ar5AIS.ipccar5.icesheets_AIS_globalsl.nc'"
   ]
  },
  {
   "cell_type": "code",
   "execution_count": 5,
   "metadata": {},
   "outputs": [],
   "source": [
    "#\n",
    "yrST=2020; yrEN=2300; unit='cm'; stn=0\n",
    "#\n",
    "nc1_dat,slc1,time1,lat1,lon1 = fn.extract_nc_info(AIS_k14_path,stn,unit,yrST, yrEN)\n",
    "nc2_dat,slc2,time2,lat2,lon2 = fn.extract_nc_info(AIS_d16_path,stn,unit,yrST, yrEN)\n",
    "#\n",
    "#\n",
    "# nc1_dat,slc1,time1,lat1,lon1 = fn.extract_nc_info(AIS_d21_path,stn,unit,yrST, yrEN)\n",
    "# nc2_dat,slc2,time2,lat2,lon2 = fn.extract_nc_info(AIS_ar5_path,stn,unit,yrST, yrEN)"
   ]
  },
  {
   "cell_type": "markdown",
   "metadata": {},
   "source": [
    "<hr style=\"border: none; height: 2px; background-color: none; border-style: dotted;\">\n",
    "<span style=\"font-family: 'Times New Roman'; font-size: 22pt; color: green;\">\n",
    "    Select Plot data.\n",
    "</span>"
   ]
  },
  {
   "cell_type": "code",
   "execution_count": 6,
   "metadata": {},
   "outputs": [],
   "source": [
    "#\n",
    "x1=slc1[:, time1 == 2020].squeeze()  \n",
    "y1=slc1[:, time1 == 2100].squeeze()  \n",
    "#\n",
    "x2=slc2[:, time2 == 2020].squeeze()  \n",
    "y2=slc2[:, time2 == 2100].squeeze()  \n",
    "#\n",
    "y11=slc1[:, time1 == 2300].squeeze()\n",
    "y22=slc2[:, time2 == 2300].squeeze() \n",
    "#"
   ]
  },
  {
   "cell_type": "code",
   "execution_count": 7,
   "metadata": {},
   "outputs": [],
   "source": [
    "# import matplotlib.pyplot as plt\n",
    "# # plt.scatter(x1, y1, marker='s', edgecolor='red', linestyle='None', s=1, facecolor='none')\n",
    "# plt.scatter(x2, y2, marker='s', edgecolor='red', linestyle='None', s=1, facecolor='none')"
   ]
  },
  {
   "cell_type": "code",
   "execution_count": 10,
   "metadata": {},
   "outputs": [
    {
     "data": {
      "image/png": "[encoded data removed]",
      "text/plain": [
       "<Figure size 800x1500 with 2 Axes>"
      ]
     },
     "metadata": {},
     "output_type": "display_data"
    }
   ],
   "source": [
    "fig = plt.figure(figsize=(8, 15))\n",
    "gs = gridspec.GridSpec(5, 2, figure=fig);  \n",
    "plt.subplots_adjust(wspace=0.4, hspace=0.3)\n",
    "# ==============================================================================================================\n",
    "# PLOT left panel.<\n",
    "plot_info = {\n",
    "    'x_label': 'AIS contribution in 2020 (cm)', 'y_label': 'AIS contribution in 2100 (cm)', 'title': '2100',\n",
    "    'x_lim': (-5, 10), 'x_ticks': np.arange(-5, 11, 5),\n",
    "    'y_lim': (-50, 200), 'y_ticks': np.arange(-50, 201, 50)\n",
    "}\n",
    "ax = fig.add_subplot(gs[0, 0])\n",
    "fn.sub_plot(ax, x1, x2, y1, y2, plot_info)\n",
    "#\n",
    "# PLOT right panel.<\n",
    "plot_info = {\n",
    "    'x_label': 'AIS contribution in 2020 (cm)', 'y_label': 'AIS contribution in 2300 (cm)', 'title': '2300',\n",
    "    'x_lim': (-5, 10), 'x_ticks': np.arange(-5, 11, 5),\n",
    "    'y_lim': (-200, 1200), 'y_ticks': np.arange(-200, 1201, 200)\n",
    "}\n",
    "ax = fig.add_subplot(gs[0,1])\n",
    "fn.sub_plot(ax, x1, x2, y11, y22, plot_info)\n",
    "# ax = fig.add_subplot(gs[1, :])"
   ]
  }
 ],
 "metadata": {
  "kernelspec": {
   "display_name": "Python 3 (ipykernel)",
   "language": "python",
   "name": "python3"
  },
  "language_info": {
   "codemirror_mode": {
    "name": "ipython",
    "version": 3
   },
   "file_extension": ".py",
   "mimetype": "text/x-python",
   "name": "python",
   "nbconvert_exporter": "python",
   "pygments_lexer": "ipython3",
   "version": "3.9.15"
  }
 },
 "nbformat": 4,
 "nbformat_minor": 2
}
