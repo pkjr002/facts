{
 "cells": [
  {
   "cell_type": "markdown",
   "metadata": {},
   "source": [
    "<span style=\"font-size:24pt; color:blue; font-family: 'Times New Roman'\">P-box Notebook \n",
    "    <span style=\"color:green;\"> for creating AR6 style P-box data </span>\n",
    "</span>\n",
    "<br>\n",
    "<span style=\"font-size:12pt; color:black; font-family:Georgia, serif;font-style:italic\">by Praveen Kumar and Robert Kopp.</span>\n",
    "<br>\n",
    "<br>\n",
    "<span style=\"font-family: 'Times New Roman'; font-size:16pt; color:black\"> \n",
    "    This is a notebook that can be used to create and vizualize P-box data from raw <a href=\"https://doi.org/10.5194/egusphere-2023-14\" style=\"color:blue; text-decoration:underline;\">FACTS 1.0</a>\n",
    "    output. Workflows and associated *.nc files are created as part of this notebook. \n",
    "<br>\n",
    "<br>\n",
    "<span style=\"font-family:'Courier New', monospace; font-size:12pt; color:black\"> <b>Background::</b> <br>\n",
    "    In order to represent deep uncertainty, Probability boxes (p-boxes) can be constructed. These represent an envelope encompassing alternative probability distributions for describing the same variables. Within this notebook, we construct four p-boxes: <strong>1e, 1f, 2e,</strong> and <strong>2f</strong>.\n",
    "    <br><br>\n",
    "    <strong>P-box 1e</strong> and <strong>2e</strong> use ice-sheet projections from an emulator that accurately captures the output of both the GlacierMIP glacier model intercomparison and the ISMIP6 ice-sheet model intercomparison.\n",
    "    <br><br>\n",
    "    <strong>P-box 1e</strong> and <strong>1f</strong> both use multi-model intercomparison exercises \n",
    "    (<a href=\"https://www.nature.com/articles/s41586-021-03302-y\" style=\"color:blue; text-decoration:underline;\">ISMIP6</a> and <a href=\"https://doi.org/10.5194/esd-11-35-2020\" style=\"color:blue; text-decoration:underline;\">LARMIP2</a>). \n",
    "    These p-boxes represent a medium-to-high level of agreement among the participating models. The IPCC AR6 thus assessed medium confidence in their projections of included processes.\n",
    "</span>\n",
    "<br>\n",
    "<br>\n",
    "<br>"
   ]
  },
  {
   "cell_type": "markdown",
   "metadata": {},
   "source": [
    "<br>\n",
    "<span style=\"font-size:24pt; color:blue; font-family: 'Times New Roman';\"> Set <b>expFolder</b> ::\n",
    "    <span style=\"font-size:14pt; color:green;\"> point to where FACTS raw output is located (e.g. /facts/experiments) </span>\n",
    "\n",
    "</span>\n",
    "\n",
    "\n",
    "<span style=\"background-color: yellow;\"> need to modify for NZ and generic facts experiments </span> currently configured to the coupling syntax"
   ]
  },
  {
   "cell_type": "code",
   "execution_count": 1,
   "metadata": {},
   "outputs": [],
   "source": [
    "facts_output_folder=\"/projects/kopp/facts-experiments/221217\"\n",
    "#\n",
    "region = 'global'\n",
    "#\n",
    "import fun_pbox_Gen_v6 as fn\n",
    "#\n",
    "ssps=[\"ssp119\",\"ssp126\",\"ssp245\",\"ssp370\",\"ssp585\"]"
   ]
  },
  {
   "cell_type": "markdown",
   "metadata": {},
   "source": [
    "<br>\n",
    "<span style=\"font-size:24pt; color:blue; font-family: 'Times New Roman';\"> Generate::\n",
    "    <span style=\"font-size:14pt; color:green;\">Quantile files from FACTS output and arrange in workflow/ssp_val folders </span>\n",
    "\n",
    "</span>\n"
   ]
  },
  {
   "cell_type": "code",
   "execution_count": 2,
   "metadata": {},
   "outputs": [],
   "source": [
    "fn.generate_pbox_nc_files_(facts_output_folder,region,ssps,\"1_workflow\")"
   ]
  },
  {
   "cell_type": "markdown",
   "metadata": {},
   "source": [
    "<br>\n",
    "<span style=\"font-size: 32pt; color: red; font-family: 'Times New Roman'\"> \n",
    "    Generate:: <br>\n",
    "    <ol style=\"font-size: 12pt; color: green; font-family: 'Times New Roman'\">\n",
    "    <li> Pbox files and folders</li>\n",
    "</ol>  \n",
    "</span>"
   ]
  },
  {
   "cell_type": "code",
   "execution_count": 4,
   "metadata": {
    "scrolled": false
   },
   "outputs": [
    {
     "name": "stdout",
     "output_type": "stream",
     "text": [
      "... created pb_1e folder\n",
      "... created pb_2e folder\n",
      "... created pb_1f folder\n",
      "... created pb_2f folder\n"
     ]
    }
   ],
   "source": [
    "specify_pbox_files = {\n",
    "            'pb_1e': {\n",
    "                'files_to_cp':      [('wf2e', 'larmip.AIS'), ('wf2e', 'total.workflow')],\n",
    "                'AIS_pb':           [\"emulandice.AIS\", \"larmip.AIS\"],\n",
    "                'total_pb':         [\"total.workflow.wf1e\", \"total.workflow.wf2e\"],\n",
    "                'rm_pattern_xcpt':  [('*AIS*', 'icesheets-AIS-pb*'),('*total*', '*total-workflow-pb*')]\n",
    "            },\n",
    "            'pb_1f': {\n",
    "                'files_to_cp':      [('wf2f', 'larmip.AIS'), ('wf2f', 'total.workflow')],\n",
    "                'AIS_pb':           [\"ipccar5.icesheets_AIS\", \"larmip.AIS\"],\n",
    "                'total_pb':         [\"total.workflow.wf1f\", \"total.workflow.wf2f\"],\n",
    "                'rm_pattern_xcpt':  [('*AIS*', 'icesheets-AIS-pb*'),('*total*', '*total-workflow-pb*')]\n",
    "            },\n",
    "            'pb_2e': {\n",
    "                'files_to_cp':      [('wf1e', 'emulandice.AIS'), ('wf3e', 'deconto21.AIS'), ('wf4', 'bamber19.icesheets_AIS'), \n",
    "                                     ('wf4', 'bamber19.icesheets_GIS'), ('wf1f', 'ipccar5.glaciers'),\n",
    "                                     ('wf1e', 'total.workflow'), ('wf3e', 'total.workflow'), ('wf4', 'total.workflow')],\n",
    "                'AIS_pb':           [\"emulandice.AIS\", \"larmip.AIS\", \"deconto21.AIS\", \"bamber19.icesheets_AIS\"],\n",
    "                'GIS_pb':           [\"emulandice.GrIS\", \"bamber19.icesheets_GIS\"],\n",
    "                'glacier_pb':       [\"emulandice.glaciers\", \"ipccar5.glaciers\"],\n",
    "                'total_pb':         [\"total.workflow.wf1e\", \"total.workflow.wf2e\", \"total.workflow.wf3e\", \"total.workflow.wf4\"],\n",
    "                'rm_pattern_xcpt':  [('*AIS*', 'icesheets-AIS-pb*'),('*total*', '*total-workflow-pb*'),\n",
    "                                     (\"*GIS*\", \"icesheets-GIS-pb*\"), (\"*glaciers*\", \"glaciers-pb*\"),]\n",
    "            },\n",
    "            'pb_2f': {\n",
    "                'files_to_cp':      [('wf1f', 'ipccar5.icesheets_AIS*'), ('wf3f', 'deconto21.AIS*'), \n",
    "                                     ('wf4', 'bamber19.icesheets_AIS*'), ('wf4', 'bamber19.icesheets_GIS'),\n",
    "                                     ('wf1f', 'total.workflow'), ('wf3f', 'total.workflow'),('wf4', 'total.workflow')],\n",
    "                'AIS_pb':           [\"ipccar5.icesheets_AIS\", \"larmip.AIS\", \"deconto21.AIS\", \"bamber19.icesheets_AIS\"],\n",
    "                'GIS_pb':           [\"GrIS1f.FittedISMIP.GrIS\", \"bamber19.icesheets_GIS\"],\n",
    "                'total_pb':         [\"total.workflow.wf1f\", \"total.workflow.wf2f\", \"total.workflow.wf3f\", \"total.workflow.wf4\"],\n",
    "                'rm_pattern_xcpt':  [('*AIS*', 'icesheets-AIS-pb*'),('*total*', '*total-workflow-pb*'),\n",
    "                                     (\"*GIS*\", \"icesheets-GIS-pb*\")]\n",
    "            }\n",
    "}\n",
    "fn.create_Pbox(ssps,specify_pbox_files,\"2_pbox\")"
   ]
  },
  {
   "cell_type": "markdown",
   "metadata": {},
   "source": [
    "<br>\n",
    "<span style=\"font-size: 32pt; color: red; font-family: 'Times New Roman'\"> \n",
    "    Generate:: <br>\n",
    "    <ol style=\"font-size: 12pt; color: green; font-family: 'Times New Roman'\">\n",
    "    <li> Confidence level files files and folders</li>\n",
    "</ol>  \n",
    "</span>"
   ]
  },
  {
   "cell_type": "code",
   "execution_count": null,
   "metadata": {},
   "outputs": [],
   "source": [
    "path = fn.create_directory(\"3_confidence_level_files\",\"remove\")\n",
    "fn.generate_confidence_files(os.getcwd()+'/2_pbox', path)"
   ]
  }
 ],
 "metadata": {
  "kernelspec": {
   "display_name": "Python 3 (ipykernel)",
   "language": "python",
   "name": "python3"
  },
  "language_info": {
   "codemirror_mode": {
    "name": "ipython",
    "version": 3
   },
   "file_extension": ".py",
   "mimetype": "text/x-python",
   "name": "python",
   "nbconvert_exporter": "python",
   "pygments_lexer": "ipython3",
   "version": "3.9.15"
  }
 },
 "nbformat": 4,
 "nbformat_minor": 2
}
