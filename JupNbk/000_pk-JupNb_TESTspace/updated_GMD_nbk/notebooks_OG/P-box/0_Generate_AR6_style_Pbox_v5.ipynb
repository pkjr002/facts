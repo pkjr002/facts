{
 "cells": [
  {
   "cell_type": "markdown",
   "metadata": {},
   "source": [
    "<span style=\"font-size:24pt; color:blue; font-family: 'Times New Roman'\">P-box Notebook \n",
    "    <span style=\"color:green;\"> for creating AR6 style P-box data </span>\n",
    "</span>\n",
    "<br>\n",
    "<span style=\"font-size:12pt; color:black; font-family:Georgia, serif;font-style:italic\">by Praveen Kumar and Robert Kopp.</span>\n",
    "<br>\n",
    "<br>\n",
    "<span style=\"font-family: 'Times New Roman'; font-size:16pt; color:black\"> \n",
    "    This is a notebook that can be used to create and vizualize P-box data from raw <a href=\"https://doi.org/10.5194/egusphere-2023-14\" style=\"color:blue; text-decoration:underline;\">FACTS 1.0</a>\n",
    "    output. Workflows and associated *.nc files are created as part of this notebook. \n",
    "<br>\n",
    "<br>\n",
    "<span style=\"font-family:'Courier New', monospace; font-size:12pt; color:black\"> <b>Background::</b> <br>\n",
    "    In order to represent deep uncertainty, Probability boxes (p-boxes) can be constructed. These represent an envelope encompassing alternative probability distributions for describing the same variables. Within this notebook, we construct four p-boxes: <strong>1e, 1f, 2e,</strong> and <strong>2f</strong>.\n",
    "    <br><br>\n",
    "    <strong>P-box 1e</strong> and <strong>2e</strong> use ice-sheet projections from an emulator that accurately captures the output of both the GlacierMIP glacier model intercomparison and the ISMIP6 ice-sheet model intercomparison.\n",
    "    <br><br>\n",
    "    <strong>P-box 1e</strong> and <strong>1f</strong> both use multi-model intercomparison exercises \n",
    "    (<a href=\"https://www.nature.com/articles/s41586-021-03302-y\" style=\"color:blue; text-decoration:underline;\">ISMIP6</a> and <a href=\"https://doi.org/10.5194/esd-11-35-2020\" style=\"color:blue; text-decoration:underline;\">LARMIP2</a>). \n",
    "    These p-boxes represent a medium-to-high level of agreement among the participating models. The IPCC AR6 thus assessed medium confidence in their projections of included processes.\n",
    "</span>\n",
    "<br>\n",
    "<br>\n",
    "<br>"
   ]
  },
  {
   "cell_type": "markdown",
   "metadata": {},
   "source": [
    "<br>\n",
    "<span style=\"font-size:24pt; color:blue; font-family: 'Times New Roman';\"> Set <b>expFolder</b> ::\n",
    "    <span style=\"font-size:14pt; color:green;\"> point to where FACTS raw output is located (e.g. /facts/experiments) </span>\n",
    "\n",
    "</span>\n",
    "\n",
    "\n",
    "<span style=\"background-color: yellow;\"> need to modify for NZ and generic facts experiments </span> currently configured to the coupling syntax"
   ]
  },
  {
   "cell_type": "code",
   "execution_count": 1,
   "metadata": {},
   "outputs": [],
   "source": [
    "expFolder=\"/projects/kopp/facts-experiments/221217\"\n",
    "#\n",
    "region = 'global'\n",
    "#\n",
    "import fun_pbox_Gen_v5 as fn\n",
    "#\n",
    "ssps=[\"ssp119\",\"ssp126\",\"ssp245\",\"ssp370\",\"ssp585\"]\n",
    "import os"
   ]
  },
  {
   "cell_type": "markdown",
   "metadata": {},
   "source": [
    "<br>\n",
    "<span style=\"font-size:24pt; color:blue; font-family: 'Times New Roman';\"> Generate::\n",
    "    <span style=\"font-size:14pt; color:green;\">Quantile files from FACTS output and arrange in workflow/ssp folders </span>\n",
    "\n",
    "</span>\n"
   ]
  },
  {
   "cell_type": "code",
   "execution_count": 2,
   "metadata": {},
   "outputs": [],
   "source": [
    "fn.generate_pbox_nc_files_(expFolder,region,ssps,\"1_workflow\")"
   ]
  },
  {
   "cell_type": "markdown",
   "metadata": {},
   "source": [
    "<br>\n",
    "<span style=\"font-size: 32pt; color: red; font-family: 'Times New Roman'\"> \n",
    "    Generate:: <br>\n",
    "    <ol style=\"font-size: 12pt; color: green; font-family: 'Times New Roman'\">\n",
    "    <li> Pbox files and folders</li>\n",
    "</ol>  \n",
    "</span>"
   ]
  },
  {
   "cell_type": "code",
   "execution_count": 5,
   "metadata": {
    "scrolled": false
   },
   "outputs": [],
   "source": [
    "configurations = {\n",
    "            'pb_1e': {\n",
    "                'files_to_copy':    [('wf2e', 'larmip.AIS'), ('wf2e', 'total.workflow')],\n",
    "                'AIS_pb':           [\"emulandice.AIS\", \"larmip.AIS\"],\n",
    "                'total_pb':         [\"total.workflow.wf1e\", \"total.workflow.wf2e\"]\n",
    "            },\n",
    "            'pb_1f': {\n",
    "                'files_to_copy':    [('wf2f', 'larmip.AIS'), ('wf2f', 'total.workflow')],\n",
    "                'AIS_pb':           [\"ipccar5.icesheets_AIS\", \"larmip.AIS\"],\n",
    "                'total_pb':         [\"total.workflow.wf1f\", \"total.workflow.wf2f\"]\n",
    "            },\n",
    "            'pb_2e': {\n",
    "                'files_to_copy':    [('wf1e', 'emulandice.AIS'), ('wf3e', 'deconto21.AIS'), ('wf4', 'bamber19.icesheets_AIS'), \n",
    "                                     ('wf4', 'bamber19.icesheets_GIS'), ('wf1f', 'ipccar5.glaciers'),\n",
    "                                     ('wf1e', 'total.workflow'), ('wf3e', 'total.workflow'), ('wf4', 'total.workflow')],\n",
    "                'AIS_pb':           [\"emulandice.AIS\", \"larmip.AIS\", \"deconto21.AIS\", \"bamber19.icesheets_AIS\"],\n",
    "                'GIS_pb':           [\"emulandice.GrIS\", \"bamber19.icesheets_GIS\"],\n",
    "                'glacier_pb':       [\"emulandice.glaciers\", \"ipccar5.glaciers\"],\n",
    "                'total_pb':         [\"total.workflow.wf1e\", \"total.workflow.wf2e\", \"total.workflow.wf3e\", \"total.workflow.wf4\"]\n",
    "            },\n",
    "            'pb_2f': {\n",
    "                'files_to_copy':    [('wf1f', 'ipccar5.icesheets_AIS*'), ('wf3f', 'deconto21.AIS*'), \n",
    "                                     ('wf4', 'bamber19.icesheets_AIS*'), ('wf4', 'bamber19.icesheets_GIS')\n",
    "                                     ('wf1f', 'total.workflow'), ('wf3f', 'total.workflow'),('wf4', 'total.workflow')],\n",
    "                'AIS_pb':           [\"ipccar5.icesheets_AIS\", \"larmip.AIS\", \"deconto21.AIS\", \"bamber19.icesheets_AIS\"],\n",
    "                'GIS_pb':           [\"GrIS1f.FittedISMIP.GrIS\", \"bamber19.icesheets_GIS\"],\n",
    "                'total_pb':         [\"total.workflow.wf1f\", \"total.workflow.wf2f\", \"total.workflow.wf3f\", \"total.workflow.wf4\"]\n",
    "            }\n",
    "}\n",
    "#\n",
    "copy_file_with_pattern = lambda ssp, wf, pattern: fn.copy_filename_with_pattern(f\"{os.getcwd()}/1_workflow/{wf}/{ssp}\", ssp_path, f\"*{pattern}*\")\n",
    "copy_all_wf_files = lambda p, s, d: fn.copy_all_files_from(os.path.join(os.getcwd(), f'1_workflow/wf{p.split(\"_\")[1]}/{s}'), d)\n",
    "#    \n",
    "def create_pb_files(ssp_path, patterns, outfile_prefix, pbox, ssp):\n",
    "    infiles = [f'{ssp_path}/{fn.find_filename_with_pattern(ssp_path, pattern)}' for pattern in patterns]\n",
    "    outfile = f\"{ssp_path}/{outfile_prefix}-pb{pbox.split('_')[1]}-{ssp}_globalsl.nc\"\n",
    "    fn.generate_pbox(infiles, outfile, pyear_start=2020, pyear_end=2100, pyear_step=10)\n",
    "    #\n",
    "#\n",
    "path = fn.create_directory(\"2_pbox\",\"remove\")\n",
    "#\n",
    "for pbox in fn.PB_file_patterns:\n",
    "    fn.create_directory(f'{os.path.join(path, pbox)}')\n",
    "    for ssp in ssps:\n",
    "        # ..............................................................................\n",
    "        if pbox in ['pb_2e', 'pb_2f'] and ssp in['ssp119','ssp245','ssp370']: continue\n",
    "        # ..............................................................................\n",
    "        ssp_path = fn.create_directory(f'{os.path.join(path, pbox,ssp)}')\n",
    "        #\n",
    "        # ---> \n",
    "        if pbox in configurations:\n",
    "            config = configurations[pbox]\n",
    "            copy_all_wf_files(pbox, ssp, ssp_path)\n",
    "            #\n",
    "            for indv_wf, pattern in config['files_to_copy']:\n",
    "                copy_file_with_pattern(ssp, indv_wf, pattern)\n",
    "                \n",
    "            #\n",
    "            create_pb_files(ssp_path, config['AIS_pb'], \"icesheets-AIS\", pbox, ssp)\n",
    "            create_pb_files(ssp_path, config['total_pb'], \"total-workflow\", pbox, ssp)\n",
    "            if pbox not in ['pb_1e','pb_1f']:\n",
    "                create_pb_files(ssp_path, config['GIS_pb'], \"icesheets-GIS\", pbox, ssp)\n",
    "                if pbox in ['pb_2e']: create_pb_files(ssp_path, config['glacier_pb'], \"glaciers\", pbox, ssp)\n",
    "\n",
    "\n",
    "            # Uncomment below if you want to delete files\n",
    "            for pattern1, pattern2 in [(\"*AIS*\", \"icesheets-AIS-pb*\"), (\"*GIS*\", \"icesheets-GIS-pb*\"), (\"*glaciers*\", \"glaciers-pb*\"), (\"*total*\", \"*total-workflow-pb*\")]:\n",
    "                fn.delete_files_with_pattern(ssp_path, pattern1, pattern2)\n",
    "            \n",
    "        "
   ]
  },
  {
   "cell_type": "markdown",
   "metadata": {},
   "source": [
    "<br>\n",
    "<span style=\"font-size: 32pt; color: red; font-family: 'Times New Roman'\"> \n",
    "    Generate:: <br>\n",
    "    <ol style=\"font-size: 12pt; color: green; font-family: 'Times New Roman'\">\n",
    "    <li> Confidence level files files and folders</li>\n",
    "</ol>  \n",
    "</span>"
   ]
  },
  {
   "cell_type": "code",
   "execution_count": 4,
   "metadata": {},
   "outputs": [],
   "source": [
    "path = fn.create_directory(\"3_confidence_level_files\",\"remove\")\n",
    "fn.generate_confidence_files(os.getcwd()+'/2_pbox', path)"
   ]
  }
 ],
 "metadata": {
  "kernelspec": {
   "display_name": "Python 3 (ipykernel)",
   "language": "python",
   "name": "python3"
  },
  "language_info": {
   "codemirror_mode": {
    "name": "ipython",
    "version": 3
   },
   "file_extension": ".py",
   "mimetype": "text/x-python",
   "name": "python",
   "nbconvert_exporter": "python",
   "pygments_lexer": "ipython3",
   "version": "3.9.15"
  }
 },
 "nbformat": 4,
 "nbformat_minor": 2
}
