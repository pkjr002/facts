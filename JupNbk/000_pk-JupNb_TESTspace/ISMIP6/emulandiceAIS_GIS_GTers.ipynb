{
 "cells": [
  {
   "attachments": {},
   "cell_type": "markdown",
   "metadata": {},
   "source": [
    "## <font color=blue> ::Load Modules:: </font>\n"
   ]
  },
  {
   "cell_type": "code",
   "execution_count": 1,
   "metadata": {},
   "outputs": [],
   "source": [
    "import numpy as np\n",
    "import pandas as pd\n",
    "import matplotlib.pyplot as plt\n",
    "%matplotlib inline\n",
    "import netCDF4 as nc\n",
    "from netCDF4 import Dataset\n",
    "from pandas.plotting import table \n",
    "import xarray as xr\n",
    "from datetime import date\n",
    "import time\n",
    "import os"
   ]
  },
  {
   "cell_type": "code",
   "execution_count": 2,
   "metadata": {},
   "outputs": [],
   "source": [
    "# Choose ssp\n",
    "scenario = 245\n",
    "#\n",
    "# Import the NC data.\n",
    "d_ncAIS = xr.open_dataset('/projects/kopp/facts-experiments/221217/coupling.ssp{arg1}/output/coupling.ssp{arg1}.emuAIS.emulandice.AIS_globalsl.nc'.format(arg1=scenario))\n"
   ]
  },
  {
   "cell_type": "code",
   "execution_count": 3,
   "metadata": {},
   "outputs": [],
   "source": [
    "gt=3600     #(1cm=3600GT)\n",
    "\n",
    "data0=d_ncAIS.sea_level_change[:,:,0]\n",
    "data1=d_ncAIS.sea_level_change[:,:,0].values\n",
    "data3=data1*gt"
   ]
  }
 ],
 "metadata": {
  "kernelspec": {
   "display_name": "Python 3.9.15 ('plot')",
   "language": "python",
   "name": "python3"
  },
  "language_info": {
   "codemirror_mode": {
    "name": "ipython",
    "version": 3
   },
   "file_extension": ".py",
   "mimetype": "text/x-python",
   "name": "python",
   "nbconvert_exporter": "python",
   "pygments_lexer": "ipython3",
   "version": "3.9.15"
  },
  "orig_nbformat": 4,
  "vscode": {
   "interpreter": {
    "hash": "adc634733d73b0796380be3dda2ecd8c29414439860d566d764cbd379022a65e"
   }
  }
 },
 "nbformat": 4,
 "nbformat_minor": 2
}
