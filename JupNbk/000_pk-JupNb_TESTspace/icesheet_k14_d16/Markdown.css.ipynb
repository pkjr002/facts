{
 "cells": [
  {
   "attachments": {},
   "cell_type": "markdown",
   "metadata": {},
   "source": [
    "<div style=\"border: 2px solid black; border-bottom: none; padding: 20px;\">\n",
    "\n",
    "\n",
    "<span style=\"font-family: 'Times New Roman'; font-size: 24px; color: #FF0000;\">FACTS paper data</span>\n",
    "\n",
    "---\n",
    "\n",
    "<span style=\"font-family: 'Arial';\">\n",
    "    Use data from the facts paper <span style=\"color: #FF0000;\">____</span>, <span style=\"color: #00FF00;\">____</span>, and <span style=\"color: #0000FF;\">____</span> text. \n",
    "    <strong>This text is bold.</strong> \n",
    "    Here is a <a href=\"https://www.example.com\">hyperlink</a> with <span style=\"color: #FFA500;\">orange</span> text.\n",
    "</span>\n",
    "\n",
    "\n",
    "</div>"
   ]
  },
  {
   "attachments": {},
   "cell_type": "markdown",
   "metadata": {},
   "source": [
    "<div style=\"border: 2px solid #000000; padding: 20px;\">\n",
    "\n",
    "<span style=\"font-family: 'Arial'; font-size: 24px; color: #FF0000;\">Example Heading 1</span>\n",
    "\n",
    "Lorem ipsum dolor sit amet, consectetur adipiscing elit. Donec vitae elit non risus ultrices bibendum vel vel magna. In iaculis, ante eget mollis tincidunt, enim turpis tristique turpis, eu eleifend sem mi nec ligula.\n",
    "\n",
    "---\n",
    "\n",
    "<span style=\"font-family: 'Verdana'; font-size: 20px; color: #00FF00;\">Example Heading 2</span>\n",
    "\n",
    "Fusce et ligula interdum, rutrum metus nec, rhoncus enim. Morbi ut dui ac elit volutpat pulvinar. Curabitur varius leo id odio viverra, a aliquam tortor vestibulum. Mauris dignissim metus ut velit dignissim, id pulvinar ipsum pulvinar.\n",
    "\n",
    "---\n",
    "\n",
    "<span style=\"font-family: 'Courier New'; font-size: 16px; color: #0000FF;\">Example Heading 3</span>\n",
    "\n",
    "Vestibulum tincidunt augue quis lectus luctus efficitur. Duis aliquam felis nec odio lobortis rhoncus. Integer ut pulvinar nunc, a facilisis mauris. Curabitur volutpat finibus felis, ac consequat purus congue ac.\n",
    "\n",
    "---\n",
    "\n",
    "</div>\n"
   ]
  },
  {
   "attachments": {},
   "cell_type": "markdown",
   "metadata": {},
   "source": [
    "Fonts:\n",
    "\n",
    "Arial\n",
    "Helvetica\n",
    "Times New Roman\n",
    "Courier New\n",
    "Verdana\n",
    "Georgia\n",
    "Palatino\n",
    "Comic Sans MS\n",
    "Impact\n",
    "Trebuchet MS\n",
    "Colors:\n",
    "\n",
    "#FF0000 (Red)\n",
    "#00FF00 (Green)\n",
    "#0000FF (Blue)\n",
    "#FFA500 (Orange)\n",
    "#FFFF00 (Yellow)\n",
    "#800080 (Purple)\n",
    "#FF00FF (Magenta)\n",
    "#00FFFF (Cyan)\n",
    "#FFC0CB (Pink)\n",
    "#008000 (Dark Green)"
   ]
  },
  {
   "attachments": {},
   "cell_type": "markdown",
   "metadata": {},
   "source": []
  },
  {
   "attachments": {},
   "cell_type": "markdown",
   "metadata": {},
   "source": [
    "<div style=\"background-color: #F44336; color: #FFFFFF; font-size: 20px; font-weight: bold; padding: 20px;\">\n",
    "    <h1 style=\"color: #FFEB3B;\">Welcome to My CSS Markdown Example</h1>\n",
    "    <p style=\"font-style: italic;\">In this example, we'll explore various CSS styles in Markdown cells.</p>\n",
    "    <hr style=\"border-color: #FFC107; border-width: 2px;\">\n",
    "\n",
    "    <h2 style=\"color: #4CAF50;\">Colors</h2>\n",
    "    <p style=\"color: #2196F3;\">This text is in a blue color.</p>\n",
    "    <p style=\"color: rgb(255, 0, 0);\">This text is in a custom RGB color.</p>\n",
    "    <p style=\"color: hsl(200, 100%, 50%);\">This text is in a custom HSL color.</p>\n",
    "\n",
    "    <h2 style=\"color: #4CAF50;\">Fonts</h2>\n",
    "    <p style=\"font-family: 'Arial', sans-serif;\">This text is in the Arial font family.</p>\n",
    "    <p style=\"font-family: 'Courier New', monospace;\">This text is in the Courier New font family.</p>\n",
    "    <p style=\"font-size: 24px;\">This text has a font size of 24 pixels.</p>\n",
    "\n",
    "    <h2 style=\"color: #4CAF50;\">Headings</h2>\n",
    "    <h1 style=\"color: #9C27B0;\">Heading 1</h1>\n",
    "    <h2 style=\"color: #9C27B0;\">Heading 2</h2>\n",
    "    <h3 style=\"color: #9C27B0;\">Heading 3</h3>\n",
    "    <h4 style=\"color: #9C27B0;\">Heading 4</h4>\n",
    "\n",
    "    <!-- Add more CSS styles and experiment further -->\n",
    "\n",
    "</div>"
   ]
  },
  {
   "attachments": {},
   "cell_type": "markdown",
   "metadata": {},
   "source": [
    "<div style=\"background-color: #F44336; color: #FFFFFF; padding: 20px;\">\n",
    "    <h1 style=\"font-family: 'Arial'; font-size: 36px;\">Welcome to My CSS Markdown Example</h1>\n",
    "    <p style=\"font-family: 'Verdana'; font-size: 24px;\">In this example, we'll explore various CSS styles in Markdown cells.</p>\n",
    "    <hr style=\"border-color: #FFC107; border-width: 2px;\">\n",
    "\n",
    "    <p style=\"font-family: 'Helvetica'; font-size: 18px;\">This is line 1 with Arial font and size 36px.</p>\n",
    "    <p style=\"font-family: 'Courier New'; font-size: 14px;\">This is line 2 with Verdana font and size 24px.</p>\n",
    "    <p style=\"font-family: 'Georgia'; font-size: 20px;\">This is line 3 with Helvetica font and size 18px.</p>\n",
    "    <p style=\"font-family: 'Times New Roman'; font-size: 16px;\">This is line 4 with Courier New font and size 14px.</p>\n",
    "    <p style=\"font-family: 'Comic Sans MS'; font-size: 22px;\">This is line 5 with Georgia font and size 20px.</p>\n",
    "    <p style=\"font-family: 'Impact'; font-size: 28px;\">This is line 6 with Times New Roman font and size 16px.</p>\n",
    "    <p style=\"font-family: 'Trebuchet MS'; font-size: 12px;\">This is line 7 with Comic Sans MS font and size 22px.</p>\n",
    "    <p style=\"font-family: 'Lucida Console'; font-size: 26px;\">This is line 8 with Impact font and size 28px.</p>\n",
    "    <p style=\"font-family: 'Palatino Linotype'; font-size: 32px;\">This is line 9 with Trebuchet MS font and size 12px.</p>\n",
    "    <p style=\"font-family: 'Arial Black'; font-size: 20px;\">This is line 10 with Lucida Console font and size 26px.</p>\n",
    "\n",
    "    <!-- Continue adding more lines with different font and size combinations -->\n",
    "\n",
    "</div>\n"
   ]
  },
  {
   "attachments": {},
   "cell_type": "markdown",
   "metadata": {},
   "source": [
    "<p style=\"font-family: 'Times New Roman'; font-size: 16px;\" </p>"
   ]
  },
  {
   "attachments": {},
   "cell_type": "markdown",
   "metadata": {},
   "source": []
  },
  {
   "attachments": {},
   "cell_type": "markdown",
   "metadata": {},
   "source": []
  }
 ],
 "metadata": {
  "language_info": {
   "name": "python"
  },
  "orig_nbformat": 4
 },
 "nbformat": 4,
 "nbformat_minor": 2
}
