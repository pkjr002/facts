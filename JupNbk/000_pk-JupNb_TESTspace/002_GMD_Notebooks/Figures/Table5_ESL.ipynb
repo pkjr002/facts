{
 "cells": [
  {
   "attachments": {},
   "cell_type": "markdown",
   "metadata": {},
   "source": [
    "## <font color=Green>GMD Table 5 </font>  \n",
    "#### <font color=blue> *Frequency amplification factors in the year 2100 for the historic 1% average annual probability (100-year return period) extreme sea-level event at New York City* </font>\n"
   ]
  },
  {
   "cell_type": "code",
   "execution_count": 1,
   "metadata": {},
   "outputs": [],
   "source": [
    "import numpy as np\n",
    "import pandas as pd\n",
    "import matplotlib.pyplot as plt\n",
    "%matplotlib inline\n",
    "import netCDF4 as nc\n",
    "from pandas.plotting import table \n",
    "import xarray as xr\n",
    "import tarfile\n",
    "#\n",
    "import warnings\n",
    "import matplotlib\n",
    "warnings.filterwarnings(\"ignore\", category=matplotlib.MatplotlibDeprecationWarning)\n",
    "#\n",
    "colrs = 'rcbgmyrkcbgm'"
   ]
  },
  {
   "cell_type": "code",
   "execution_count": 2,
   "metadata": {},
   "outputs": [
    {
     "data": {
      "text/html": [
       "<div>\n",
       "<style scoped>\n",
       "    .dataframe tbody tr th:only-of-type {\n",
       "        vertical-align: middle;\n",
       "    }\n",
       "\n",
       "    .dataframe tbody tr th {\n",
       "        vertical-align: top;\n",
       "    }\n",
       "\n",
       "    .dataframe thead tr th {\n",
       "        text-align: left;\n",
       "    }\n",
       "\n",
       "    .dataframe thead tr:last-of-type th {\n",
       "        text-align: right;\n",
       "    }\n",
       "</style>\n",
       "<table border=\"1\" class=\"dataframe\">\n",
       "  <thead>\n",
       "    <tr>\n",
       "      <th>SSP</th>\n",
       "      <th>ssp126</th>\n",
       "      <th>ssp585</th>\n",
       "    </tr>\n",
       "    <tr>\n",
       "      <th></th>\n",
       "      <th></th>\n",
       "      <th></th>\n",
       "    </tr>\n",
       "    <tr>\n",
       "      <th>Workflow</th>\n",
       "      <th></th>\n",
       "      <th></th>\n",
       "    </tr>\n",
       "  </thead>\n",
       "  <tbody>\n",
       "    <tr>\n",
       "      <th>wf1f</th>\n",
       "      <td>1.24 (0.98 - 1.36)</td>\n",
       "      <td>2.13 (1.83 - 2.41)</td>\n",
       "    </tr>\n",
       "    <tr>\n",
       "      <th>wf2f</th>\n",
       "      <td>1.57 (1.37 - 1.77)</td>\n",
       "      <td>3.08 (2.64 - 3.70)</td>\n",
       "    </tr>\n",
       "    <tr>\n",
       "      <th>wf3f</th>\n",
       "      <td>1.56 (1.36 - 1.67)</td>\n",
       "      <td>4.72 (3.52 - 5.64)</td>\n",
       "    </tr>\n",
       "    <tr>\n",
       "      <th>wf4</th>\n",
       "      <td>1.28 (1.08 - 1.53)</td>\n",
       "      <td>3.01 (2.31 - 3.56)</td>\n",
       "    </tr>\n",
       "  </tbody>\n",
       "</table>\n",
       "</div>"
      ],
      "text/plain": [
       "SSP                   ssp126              ssp585\n",
       "                                                \n",
       "Workflow                                        \n",
       "wf1f      1.24 (0.98 - 1.36)  2.13 (1.83 - 2.41)\n",
       "wf2f      1.57 (1.37 - 1.77)  3.08 (2.64 - 3.70)\n",
       "wf3f      1.56 (1.36 - 1.67)  4.72 (3.52 - 5.64)\n",
       "wf4       1.28 (1.08 - 1.53)  3.01 (2.31 - 3.56)"
      ]
     },
     "metadata": {},
     "output_type": "display_data"
    }
   ],
   "source": [
    "SCENARIO = ['ssp126','ssp585']\n",
    "WORKFLO  = [\"wf1f\",\"wf2f\",\"wf3f\",\"wf4\"]\n",
    "#\n",
    "EXPDATE  = 221217\n",
    "\n",
    "df_TEMP   = [] \n",
    "# open file\n",
    "for scenario in SCENARIO:\n",
    "    for wf in WORKFLO:\n",
    "        dataFOLDER  = '/projects/kopp/facts-experiments/{arg2}/coupling.{arg1}/output/'.format(arg1=scenario,arg2=EXPDATE)\n",
    "        tarFILE = 'coupling.{arg1}.extremesealevel.extremesealevel.pointsoverthreshold.{arg2}_extremesl.tgz'.format(arg1=scenario,arg2=wf)\n",
    "        file = tarfile.open(dataFOLDER+tarFILE)\n",
    "        # extracting file\n",
    "        file.extractall('./ESL_nc_data')\n",
    "        file.close()\n",
    "        #\n",
    "        d_nc = xr.open_dataset('ESL_nc_data/' + 'coupling.{arg1}.extremesealevel.extremesealevel.pointsoverthreshold.{arg2}_id12_year2100_extremesl.nc'.format(arg1=scenario,arg2=wf))\n",
    "        #\n",
    "        percentList = [50, 17, 83]\n",
    "        #\n",
    "        af = [d_nc.amplification_factors_quantiles.values[49], d_nc.amplification_factors_quantiles.values[16] , d_nc.amplification_factors_quantiles.values[82]]\n",
    "        af = np.around(af,2)\n",
    "        #\n",
    "        df_TEMP.append( [wf, scenario] + af.tolist() )\n",
    "df_ptile = pd.DataFrame( df_TEMP, columns=['Workflow','SSP', ] + [ f'col_{x}' for xi, x in enumerate( percentList )] )\n",
    "#\n",
    "df_ptile[''] = df_ptile.apply(lambda x: f'{x.col_50:2.2f} ({x.col_17:2.2f} - {x.col_83:2.2f})', axis=1 )\n",
    "df_ptile1    = pd.DataFrame( df_ptile.set_index( [ 'Workflow', 'SSP'] )[''] ).unstack().swaplevel( 0,1, axis=1 )\n",
    "display(df_ptile1)"
   ]
  }
 ],
 "metadata": {
  "kernelspec": {
   "display_name": "Python 3.9.15 ('plot')",
   "language": "python",
   "name": "python3"
  },
  "language_info": {
   "codemirror_mode": {
    "name": "ipython",
    "version": 3
   },
   "file_extension": ".py",
   "mimetype": "text/x-python",
   "name": "python",
   "nbconvert_exporter": "python",
   "pygments_lexer": "ipython3",
   "version": "3.9.15"
  },
  "orig_nbformat": 4,
  "vscode": {
   "interpreter": {
    "hash": "adc634733d73b0796380be3dda2ecd8c29414439860d566d764cbd379022a65e"
   }
  }
 },
 "nbformat": 4,
 "nbformat_minor": 2
}
