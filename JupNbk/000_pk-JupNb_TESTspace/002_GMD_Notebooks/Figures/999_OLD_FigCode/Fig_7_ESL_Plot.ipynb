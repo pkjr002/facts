{
 "cells": [
  {
   "attachments": {},
   "cell_type": "markdown",
   "metadata": {},
   "source": [
    "## <font color=Green>GMD Figure 7 </font>  \n",
    "#### <font color=blue> *Extreme sea-level return-period curve* PLOT </font>\n"
   ]
  },
  {
   "cell_type": "code",
   "execution_count": 1,
   "metadata": {},
   "outputs": [],
   "source": [
    "import numpy as np\n",
    "import pandas as pd\n",
    "import matplotlib.pyplot as plt\n",
    "%matplotlib inline\n",
    "import netCDF4 as nc\n",
    "from pandas.plotting import table \n",
    "import xarray as xr\n",
    "#\n",
    "import warnings\n",
    "import matplotlib\n",
    "warnings.filterwarnings(\"ignore\", category=matplotlib.MatplotlibDeprecationWarning)\n",
    "#\n",
    "colrs = 'rcbgmyrkcbgm'"
   ]
  },
  {
   "attachments": {},
   "cell_type": "markdown",
   "metadata": {},
   "source": [
    "#### <font color=black> *Define* Functions </font>"
   ]
  },
  {
   "cell_type": "code",
   "execution_count": 2,
   "metadata": {},
   "outputs": [],
   "source": [
    "def IP_nc(df,wf1e,SCENARIO,EXPDATE):\n",
    "    #  \n",
    "    a = [];     ccomp = []\n",
    "    MODNO = df.index.values;   # Number of datasets Module outputs\n",
    "    #\n",
    "    for scenario in SCENARIO:\n",
    "        for wf in wf1e: \n",
    "            #\n",
    "            # Pick Component acording to workflow.\n",
    "            COMP = wf.split(\"-\")[0]; MODULE = wf.split(\"-\")[1]; \n",
    "            val = df.index[ (df['Component'] == COMP) & (df['Module'] == MODULE) ].values[0]\n",
    "            SUB_MODULE = df[\"sub_Module\"][val];  DATAFILE   = df[\"DataFile\"][val];\n",
    "            valIND = 0\n",
    "            #       \n",
    "            # Skip if data is absent.\n",
    "            if df[\"DataFile\"][val] == 'XXX':\n",
    "                continue \n",
    "            #\n",
    "            # Pick the data files & Import nc file to dataframe. \n",
    "            if SCENARIO[0][:3] == 'ssp':\n",
    "                dataFOLDER  = '/projects/kopp/facts-experiments/{arg2}/coupling.{arg1}/output/'.format(arg1=scenario,arg2=EXPDATE)\n",
    "                dataFILE    = 'coupling.{arg1}.'.format(arg1=scenario) + df[\"DataFile\"][val]\n",
    "            elif SCENARIO[0][:3] == 'rcp':\n",
    "                dataFOLDER  = '/projects/kopp/facts-experiments/{arg2}/ar5k14.{arg1}/output/'.format(arg1=scenario,arg2=EXPDATE)\n",
    "                dataFILE    = 'ar5k14.{arg1}.'.format(arg1=scenario) + df[\"DataFile\"][val]\n",
    "            d_nc        = xr.open_dataset(dataFOLDER + dataFILE)\n",
    "            #print( \"DataFILE ==> \"+str(df[\"DataFile\"][val])+\"\\n\"+ str(d_nc.dims) + \"\\n\" + str(d_nc.data_vars)+ \"\\n\" + str(d_nc.coords)+\"\\n\"+\"-------------\"+\"\\n\"+\"\\n\" )\n",
    "            #\n",
    "            # Index for time.\n",
    "            ST = 2020 ; EN = 2100\n",
    "            YindST = np.where(d_nc[\"years\"].values == ST)[0][0];   YindEN = np.where(d_nc[\"years\"].values == EN)[0][0]\n",
    "            # Save data into a new variable.\n",
    "            ccomp.append(COMP)\n",
    "            b = d_nc.sea_level_change[:,YindST:YindEN+1,0].values\n",
    "            a.append(b[None,:] )\n",
    "    #stack all at once\n",
    "    sampsloccomponents = np.vstack(a);  sampsloccomponents = np.transpose(sampsloccomponents,(1,0,2))\n",
    "    yrs=d_nc.years[YindST:YindEN+1].values\n",
    "    #\n",
    "    sampslocrise = np.sum(sampsloccomponents[:,:,:],axis=1)\n",
    "    #\n",
    "    return sampsloccomponents, sampslocrise, ccomp, yrs; "
   ]
  },
  {
   "cell_type": "code",
   "execution_count": 3,
   "metadata": {},
   "outputs": [],
   "source": [
    "sitelab='New York';\n",
    "selectedSite = 12;      #PSMSL ID for NYC\n",
    "threshold = 0.5148;     #GPD threshold\n",
    "scale = 0.1285;         #GPD scale\n",
    "shape = 0.188;          #GPD shape\n",
    "llambda = 2.8085;        #Poisson Lambda\n"
   ]
  },
  {
   "attachments": {},
   "cell_type": "markdown",
   "metadata": {},
   "source": [
    "#### <font color=blue> Load Module data from </font> <mark> facts-experiments </mark>"
   ]
  },
  {
   "cell_type": "code",
   "execution_count": 4,
   "metadata": {},
   "outputs": [],
   "source": [
    "# Load FACTS workflow data as a dataframe.\n",
    "#\n",
    "# df_G = pd.read_fwf('../001_GMD_IP_Modules_Data/ModuleTest_DataFile_List_coupling.txt',comment = '#')\n",
    "df_L = pd.read_fwf('../001_GMD_IP_Modules_Data/ModuleTest_DataFile_List_coupling.local.txt',comment = '#')\n",
    "#\n",
    "# df_ark_G = pd.read_fwf('../001_GMD_IP_Modules_Data/ModuleTest_DataFile_List_ar5k14-221217.txt',comment = '#')\n",
    "# df_ark_L = pd.read_fwf('../001_GMD_IP_Modules_Data/ModuleTest_DataFile_List_ar5k14.local-221217.txt',comment = '#')\n",
    "#df"
   ]
  },
  {
   "attachments": {},
   "cell_type": "markdown",
   "metadata": {},
   "source": [
    "# <font color=green> **Coupling** *(Global\\&Local)* </font>"
   ]
  },
  {
   "cell_type": "code",
   "execution_count": 5,
   "metadata": {},
   "outputs": [],
   "source": [
    "EXPDATE     = 221217\n",
    "SCENARIO    = ['ssp585'];\n",
    "# Workflow Components.\n",
    "wf1e = ['AIS-emulandice', 'GrIS-emulandice', 'TE-tlm','Glaciers-emulandice',  'LWS-ssp']\n",
    "#\n",
    "# df = df_G;      [sampsloccomponents_G, ccomp_G, yrs] = IP_nc(df,wf1e,SCENARIO,EXPDATE);\n",
    "df = df_L;      [sampsloccomponents_L, sampslocrise, ccomp_L, yrs] = IP_nc(df,wf1e,SCENARIO,EXPDATE);\n",
    "#\n",
    "#\n",
    "samps = np.hstack((np.zeros((sampslocrise.shape[0],1)),sampslocrise)) / 1000\n",
    "\n",
    "# Translate later ==>samps=bsxfun(@min,samps,quantile(samps,.999)); % truncate samples viewed as physically implausible\n",
    "#qsamps = np.quantile(samps, .999,axis=0)\n",
    "\n",
    "yrs = np.insert(yrs, 0, 2010, axis=0)\n",
    "\n",
    "testz = np.arange(0, 10+0.01, 0.01)"
   ]
  },
  {
   "cell_type": "code",
   "execution_count": 6,
   "metadata": {},
   "outputs": [],
   "source": [
    "ESLR = np.mean(samps,axis=0)\n",
    "SLR50=np.quantile(samps,.5,axis=0)\n",
    "SLR999=np.quantile(samps,.999,axis=0)"
   ]
  },
  {
   "cell_type": "code",
   "execution_count": 7,
   "metadata": {},
   "outputs": [],
   "source": [
    "def GPDLogNExceedances(z,llambda,shape,scale,MHHW):\n",
    "    #\n",
    "    z0 = z\n",
    "    z = np.maximum(z, 0)  #z[z<0] = 0\n",
    "    #\n",
    "    if shape<0:\n",
    "        z=np.minimum(z,.99999*-scale/shape,z)\n",
    "        logN = np.log(llambda*(1+(shape)*z/scale)**(-1/(shape)))\n",
    "    elif shape==0:\n",
    "        logN = np.log(llambda)-z/scale\n",
    "    else:\n",
    "        logN = np.log(llambda*(1+(shape)*z/scale)**(-1/(shape)))\n",
    "    #    \n",
    "    y= logN\n",
    "\n",
    "    # (not using this since MHHW for NYC == 0.5148)\n",
    "    # for those points below threshold to MHHW, put on a Gumbel.\n",
    "    # if np.max(MHHW.shape)>=1:\n",
    "    # np.maximum(z0, MHHW(1), z0)\n",
    "    z0=np.maximum(z0, MHHW) \n",
    "    sub = np.argwhere(z0<0)\n",
    "    #if np.max(MHHW.shape)>=2:\n",
    "    #    MHHWfreq=MHHW(2); \n",
    "    #else:\n",
    "    MHHWfreq=365.25/2  \n",
    "    # y(sub) = np.log(llambda)+(np.log(MHHWfreq)-np.log(llambda))*z0(sub)/MHHW(1)\n",
    "    y[tuple(sub.T)] = np.log(llambda)+(np.log(MHHWfreq)-np.log(llambda))*z0[tuple(sub.T)]/MHHW\n",
    "    #\n",
    "    return y    "
   ]
  },
  {
   "cell_type": "code",
   "execution_count": 8,
   "metadata": {},
   "outputs": [],
   "source": [
    "histcurve=np.exp(GPDLogNExceedances(testz-threshold,llambda,shape,scale,-threshold))"
   ]
  },
  {
   "cell_type": "code",
   "execution_count": 12,
   "metadata": {},
   "outputs": [],
   "source": [
    "effcurve = np.empty((yrs.shape[0],testz.shape[0],)); effcurve[:] = np.nan\n",
    "#\n",
    "for tt in enumerate(yrs):\n",
    "    # print(tt[0])\n",
    "    gg  = testz[np.newaxis] - samps[:,tt[0]][np.newaxis].T\n",
    "    gg1 = np.real(np.mean(np.exp(GPDLogNExceedances(gg-threshold,llambda,shape,scale,-threshold)),axis=0))\n",
    "    effcurve[tt[0],:] = gg1.T\n",
    "    \n",
    "\n",
    "\n",
    "\n"
   ]
  },
  {
   "cell_type": "code",
   "execution_count": 17,
   "metadata": {},
   "outputs": [
    {
     "data": {
      "image/png": "[encoded data removed]",
      "text/plain": [
       "<Figure size 640x480 with 1 Axes>"
      ]
     },
     "metadata": {},
     "output_type": "display_data"
    }
   ],
   "source": [
    "plt.plot(testz, histcurve, '-k')\n",
    "plt.plot(testz, effcurve[4,:], '-r')\n",
    "plt.plot(testz, effcurve[9,:], '-b')\n",
    "#\n",
    "plt.yscale(\"log\")\n",
    "#\n",
    "ax = plt.gca()\n",
    "ax.set_xlim([0, 6])\n",
    "ax.set_ylim([1e-4, 10])\n",
    "#\n",
    "plt.show()"
   ]
  },
  {
   "cell_type": "code",
   "execution_count": null,
   "metadata": {},
   "outputs": [],
   "source": [
    "ans = samps[:,9][np.newaxis].T\n",
    "# ans = testz[np.newaxis]"
   ]
  },
  {
   "attachments": {},
   "cell_type": "markdown",
   "metadata": {},
   "source": [
    "# <font color=black> **=======================================================================** </font>"
   ]
  },
  {
   "cell_type": "code",
   "execution_count": null,
   "metadata": {},
   "outputs": [],
   "source": [
    "# % Breakdown the above.\n",
    "# % for ttt=1:length(targyears)\n",
    "    # gg = (bsxfun(@minus,testz,samps(:,21)));\n",
    "# %     gg = (bsxfun(@minus,testz,samps(:,ttt)));\n",
    "    gg1 = logN(gg);\n",
    "    gg2 = exp(gg1);\n",
    "    gg3 = mean(gg2,1);\n",
    "    gg4 = real(gg3);\n",
    "\n",
    "    gg11 = GPDLogNExceedances(gg-threshold,lambda,shape,scale,-threshold);\n",
    "    gg22 = exp(gg11);\n",
    "    gg33 = mean(gg22,1);\n",
    "    gg44 = real(gg33);"
   ]
  },
  {
   "cell_type": "code",
   "execution_count": null,
   "metadata": {},
   "outputs": [],
   "source": [
    "z0 = testz-threshold\n",
    "np.maximum(z0, -threshold, z0)\n",
    "sub = np.argwhere(z0<0)\n",
    "MHHWfreq=365.25/2"
   ]
  },
  {
   "cell_type": "code",
   "execution_count": null,
   "metadata": {},
   "outputs": [],
   "source": []
  },
  {
   "cell_type": "code",
   "execution_count": null,
   "metadata": {},
   "outputs": [],
   "source": [
    "# Use only is shape is <=1\n",
    "gg = np.array(threshold)"
   ]
  },
  {
   "cell_type": "code",
   "execution_count": null,
   "metadata": {},
   "outputs": [],
   "source": [
    "gg = np.array([[2,4,6],[1,3,3]])\n",
    "gg1=np.zeros(gg.shape)\n",
    "sub=np.argwhere(gg<4)"
   ]
  },
  {
   "cell_type": "code",
   "execution_count": null,
   "metadata": {},
   "outputs": [],
   "source": [
    "np.maximum(gg, 5, gg)"
   ]
  },
  {
   "cell_type": "code",
   "execution_count": null,
   "metadata": {},
   "outputs": [],
   "source": [
    "# gg[sub] = 999\n",
    "gg1[tuple(sub.T)] = gg[tuple(sub.T)] + 999"
   ]
  },
  {
   "cell_type": "code",
   "execution_count": null,
   "metadata": {},
   "outputs": [],
   "source": [
    "import numpy as np\n",
    "a = np.array([5,4])[np.newaxis]\n",
    "print(a)\n",
    "a2 = a.T"
   ]
  },
  {
   "attachments": {},
   "cell_type": "markdown",
   "metadata": {},
   "source": [
    "# <font color=black> **=======================================================================** </font>"
   ]
  }
 ],
 "metadata": {
  "kernelspec": {
   "display_name": "Python 3.9.15 ('plot')",
   "language": "python",
   "name": "python3"
  },
  "language_info": {
   "codemirror_mode": {
    "name": "ipython",
    "version": 3
   },
   "file_extension": ".py",
   "mimetype": "text/x-python",
   "name": "python",
   "nbconvert_exporter": "python",
   "pygments_lexer": "ipython3",
   "version": "3.9.15"
  },
  "orig_nbformat": 4,
  "vscode": {
   "interpreter": {
    "hash": "adc634733d73b0796380be3dda2ecd8c29414439860d566d764cbd379022a65e"
   }
  }
 },
 "nbformat": 4,
 "nbformat_minor": 2
}
