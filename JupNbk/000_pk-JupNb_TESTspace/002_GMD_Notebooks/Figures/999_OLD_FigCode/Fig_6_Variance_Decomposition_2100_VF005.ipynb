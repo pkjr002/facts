{
 "cells": [
  {
   "attachments": {},
   "cell_type": "markdown",
   "metadata": {},
   "source": [
    "## <font color=Green>GMD Figure 6 </font>  \n",
    "#### <font color=blue> *VARIANCE DECOMPOSITION* PLOT </font>"
   ]
  },
  {
   "cell_type": "code",
   "execution_count": 16,
   "metadata": {},
   "outputs": [],
   "source": [
    "import numpy as np\n",
    "import pandas as pd\n",
    "import matplotlib.pyplot as plt\n",
    "%matplotlib inline\n",
    "import netCDF4 as nc\n",
    "from pandas.plotting import table \n",
    "import xarray as xr\n",
    "#\n",
    "import warnings\n",
    "import matplotlib\n",
    "warnings.filterwarnings(\"ignore\", category=matplotlib.MatplotlibDeprecationWarning)\n",
    "#\n",
    "colrs = 'rcbgmyrkcbgm'"
   ]
  },
  {
   "attachments": {},
   "cell_type": "markdown",
   "metadata": {},
   "source": [
    "##### <font color=blue> Load Module data from </font> <mark> facts-experiments </mark>"
   ]
  },
  {
   "cell_type": "code",
   "execution_count": 17,
   "metadata": {},
   "outputs": [],
   "source": [
    "# Load FACTS workflow data as a dataframe.\n",
    "#\n",
    "df_cpl_G = pd.read_fwf('../001_GMD_IP_Modules_Data/ModuleTest_DataFile_List_coupling.txt',comment = '#')\n",
    "df_cpl_L = pd.read_fwf('../001_GMD_IP_Modules_Data/ModuleTest_DataFile_List_coupling.local.txt',comment = '#')\n",
    "#\n",
    "df_ark_G = pd.read_fwf('../001_GMD_IP_Modules_Data/ModuleTest_DataFile_List_ar5k14-221217.txt',comment = '#')\n",
    "df_ark_L = pd.read_fwf('../001_GMD_IP_Modules_Data/ModuleTest_DataFile_List_ar5k14.local-221217.txt',comment = '#')\n",
    "#df"
   ]
  },
  {
   "attachments": {},
   "cell_type": "markdown",
   "metadata": {},
   "source": [
    "# <font color=green> Experiment==> **ar5kopp14** *(Global \\& Local)* </font>"
   ]
  },
  {
   "cell_type": "code",
   "execution_count": null,
   "metadata": {},
   "outputs": [],
   "source": [
    "EXPDATE   = 221217\n",
    "SCENARIO  = ['rcp85'];\n",
    "wf1f_ark  = ['AIS-kopp14'   , 'GrIS-kopp14' ,  'Glaciers-kopp14'  ,  'LWS-kopp14' , 'TE-kopp14' , 'VLM-kopp14' ]     \n",
    "#\n",
    "[sampsloccomponents_ark_G, ccomp_ark_G, yrs] = IP_nc(df_ark_G,WORKFLO_ARK,SCENARIO,EXPDATE);\n",
    "#\n",
    "# # Note that AIS kopp14 is missing for local\n",
    "# wf1e = ['AIS-deconto16', 'GrIS-kopp14', 'TE-kopp14','Glaciers-kopp14',  'LWS-kopp14']\n",
    "# df = df_ark_L;      [sampsloccomponents_ark_L, ccomp_ark_L, yrs] = IP_nc(df,wf1e,SCENARIO,EXPDATE);"
   ]
  },
  {
   "attachments": {},
   "cell_type": "markdown",
   "metadata": {},
   "source": [
    "#### <font color=black> *Define* Functions </font>"
   ]
  },
  {
   "attachments": {},
   "cell_type": "markdown",
   "metadata": {},
   "source": [
    "##### <font color=blue> Input </font> <mark> Data </mark>"
   ]
  },
  {
   "cell_type": "code",
   "execution_count": 19,
   "metadata": {},
   "outputs": [],
   "source": [
    "def IP_nc(DF,WF,SCENARIO,EXPDATE):\n",
    "    #  \n",
    "    a = [];     ccomp = []\n",
    "    #\n",
    "    for wf in enumerate(WF):\n",
    "        # print(wf[0]) #INDEX\n",
    "        #\n",
    "        # Pick Component acording to workflow.\n",
    "        COMP = wf[1].split(\"-\")[0]; MODULE = wf[1].split(\"-\")[1]; \n",
    "        val = DF.index[ (DF['Component'] == COMP) & (DF['Module'] == MODULE) ].values[0]\n",
    "        SUB_MODULE = DF[\"sub_Module\"][val];  DATAFILE   = DF[\"DataFile\"][val];\n",
    "        #       \n",
    "        # Skip if data is absent.\n",
    "        if DF[\"DataFile\"][val] == 'XXX':\n",
    "            continue \n",
    "        #\n",
    "        # Pick the data files & Import nc file to dataframe. \n",
    "        if SCENARIO[0][:3] == 'ssp':\n",
    "            dataFOLDER  = '/projects/kopp/facts-experiments/{arg2}/coupling.{arg1}/output/'.format(arg1=SCENARIO,arg2=EXPDATE)\n",
    "            dataFILE    = 'coupling.{arg1}.'.format(arg1=SCENARIO) + DF[\"DataFile\"][val]\n",
    "        elif SCENARIO[0][:3] == 'rcp':\n",
    "            dataFOLDER  = '/projects/kopp/facts-experiments/{arg2}/ar5k14.{arg1}/output/'.format(arg1=SCENARIO,arg2=EXPDATE)\n",
    "            dataFILE    = 'ar5k14.{arg1}.'.format(arg1=SCENARIO) + DF[\"DataFile\"][val]\n",
    "        d_nc        = xr.open_dataset(dataFOLDER + dataFILE)\n",
    "        #print( \"DataFILE ==> \"+str(DF[\"DataFile\"][val])+\"\\n\"+ str(d_nc.dims) + \"\\n\" + str(d_nc.data_vars)+ \"\\n\" + str(d_nc.coords)+\"\\n\"+\"-------------\"+\"\\n\"+\"\\n\" )\n",
    "        #\n",
    "        # Index for time.\n",
    "        ST = 2020 ; EN = 2100\n",
    "        YindST = np.where(d_nc[\"years\"].values == ST)[0][0];   YindEN = np.where(d_nc[\"years\"].values == EN)[0][0]\n",
    "        # Save data into a new variable.\n",
    "        ccomp.append(COMP)\n",
    "        b = d_nc.sea_level_change[:,YindST:YindEN+1,0].values\n",
    "        a.append(b[None,:] )\n",
    "    #stack all at once\n",
    "    sampsloccomponents = np.vstack(a);  sampsloccomponents = np.transpose(sampsloccomponents,(1,0,2))\n",
    "    yrs=d_nc.years[YindST:YindEN+1].values\n",
    "    #\n",
    "    return sampsloccomponents, ccomp, yrs; "
   ]
  },
  {
   "cell_type": "code",
   "execution_count": 20,
   "metadata": {},
   "outputs": [
    {
     "name": "stdout",
     "output_type": "stream",
     "text": [
      "wf1f_ark\n",
      "wf2f_ark\n",
      "wf3f_ark\n",
      "wf4_ark\n"
     ]
    }
   ],
   "source": [
    "for wf in enumerate(WORKFLO_ARK):\n",
    "    print(wf[1])"
   ]
  },
  {
   "cell_type": "code",
   "execution_count": null,
   "metadata": {},
   "outputs": [],
   "source": []
  },
  {
   "attachments": {},
   "cell_type": "markdown",
   "metadata": {},
   "source": [
    "##### <font color=blue> Compute </font> <mark> Variance </mark>"
   ]
  },
  {
   "cell_type": "code",
   "execution_count": null,
   "metadata": {},
   "outputs": [],
   "source": [
    "def varV_varF(sampsloccomponents,ccomp):\n",
    "    #\n",
    "    varV = []; varF = [];  valIND = 0\n",
    "    denom=np.var(np.sum(sampsloccomponents[:,:,:],axis = 1),axis=0)\n",
    "    for co in ccomp:\n",
    "        # u = np.sum(sampsloccomponents[:,0:valIND+1,:],axis = 1)\n",
    "        u = sampsloccomponents[:,valIND,:]\n",
    "        VAR_V=(np.var(u,axis=0))/1e6\n",
    "        VAR_F=(np.var(u,axis=0))/denom\n",
    "        varV.append(VAR_V)\n",
    "        varF.append(VAR_F)\n",
    "        valIND += 1    \n",
    "    return varV, varF"
   ]
  },
  {
   "attachments": {},
   "cell_type": "markdown",
   "metadata": {},
   "source": [
    "##### <font color=blue> Specify **individual** WorkFlow Components </font> <mark> Coupling  </mark>"
   ]
  },
  {
   "cell_type": "code",
   "execution_count": null,
   "metadata": {},
   "outputs": [],
   "source": [
    "WORKFLO_CPL = [\"wf1f_cpl\",\"wf2f_cpl\",\"wf3f_cpl\",\"wf4_cpl\"]\n",
    "\n",
    "# Couplong Workflow Components.\n",
    "wf1f_cpl = ['AIS-ipccar5'   , 'GrIS-FittedISMIP' ,  'Glaciers-ipccar5-GMIP2'  ,  'LWS-ssp' , 'TE-tlm' , 'VLM-kopp14' ]\n",
    "wf2f_cpl = ['AIS-larmip'    , 'GrIS-FittedISMIP' ,  'Glaciers-ipccar5-GMIP2'  ,  'LWS-ssp' , 'TE-tlm' , 'VLM-kopp14' ]\n",
    "wf3f_cpl = ['AIS-deconto21' , 'GrIS-FittedISMIP' ,  'Glaciers-ipccar5-GMIP2'  ,  'LWS-ssp' , 'TE-tlm' , 'VLM-kopp14' ]\n",
    "wf4_cpl  = ['AIS-bamber19'  , 'GrIS-bamber19'    ,  'Glaciers-ipccar5-GMIP2'  ,  'LWS-ssp' , 'TE-tlm' , 'VLM-kopp14' ]"
   ]
  },
  {
   "attachments": {},
   "cell_type": "markdown",
   "metadata": {},
   "source": [
    "##### <font color=blue> Specify **individual** WorkFlow Components </font> <mark> ar5k14  </mark>"
   ]
  },
  {
   "cell_type": "code",
   "execution_count": 7,
   "metadata": {},
   "outputs": [],
   "source": [
    "WORKFLO_ARK = [\"wf1f_ark\",\"wf2f_ark\",\"wf3f_ark\",\"wf4_ark\"]\n",
    "#\n",
    "# ar5k14 Workflow Components.\n",
    "wf1f_ark = ['AIS-kopp14'   , 'GrIS-kopp14' ,  'Glaciers-kopp14'  ,  'LWS-kopp14' , 'TE-kopp14' , 'VLM-kopp14' ]\n",
    "wf2f_ark = ['AIS-kopp14'   , 'GrIS-kopp14' ,  'Glaciers-kopp14'  ,  'LWS-kopp14' , 'TE-kopp14' , 'VLM-kopp14' ]\n",
    "wf3f_ark = ['AIS-kopp14'   , 'GrIS-kopp14' ,  'Glaciers-kopp14'  ,  'LWS-kopp14' , 'TE-kopp14' , 'VLM-kopp14' ]\n",
    "wf4_ark  = ['AIS-kopp14'   , 'GrIS-kopp14' ,  'Glaciers-kopp14'  ,  'LWS-kopp14' , 'TE-kopp14' , 'VLM-kopp14' ]\n"
   ]
  },
  {
   "cell_type": "code",
   "execution_count": null,
   "metadata": {},
   "outputs": [],
   "source": [
    "# input data EXP"
   ]
  },
  {
   "cell_type": "code",
   "execution_count": null,
   "metadata": {},
   "outputs": [],
   "source": []
  },
  {
   "cell_type": "code",
   "execution_count": null,
   "metadata": {},
   "outputs": [],
   "source": [
    "sampsloccomponents = sampsloccomponents_ark_G;      ccomp = ccomp_ark_G;\n",
    "[varV, varF] = varV_varF(sampsloccomponents,ccomp)\n",
    "#\n",
    "plt.subplots(figsize=(10, 5));\n",
    "#\n",
    "# Varince.\n",
    "plt.subplot(2, 2, 1); \n",
    "plt.stackplot(yrs,varV[0],varV[1], varV[2], varV[3], varV[4], labels=ccomp, colors=colrs);\n",
    "plt.legend(loc='upper left'); plt.title('ar5kopp14: GMSL'); plt.xlabel(''); plt.ylabel('m$^2$');\n",
    "plt.xlim([2020, 2100]);\n",
    "#\n",
    "# Fraction of variance.\n",
    "plt.subplot(2, 2, 2);   plt.stackplot(yrs,varF[0],varF[1], varF[2], varF[3], varF[4], labels=ccomp, colors=colrs);\n",
    "plt.title(''); plt.xlabel(''); plt.ylabel('Fraction of variance');\n",
    "plt.xlim([2020, 2100]); plt.ylim([0, 1])\n",
    "#\n",
    "#\n",
    "sampsloccomponents = sampsloccomponents_ark_L;      ccomp = ccomp_ark_L\n",
    "[varV, varF] = varV_varF(sampsloccomponents,ccomp)\n",
    "#\n",
    "# Varince.\n",
    "plt.subplot(2, 2, 3);   plt.stackplot(yrs,varV[0],varV[1], varV[2], varV[3], varV[4], labels=ccomp, colors=colrs);\n",
    "plt.legend(loc='upper left');   plt.title('New York'); plt.xlabel(''); plt.ylabel('m$^2$');\n",
    "plt.xlim([2020, 2100])\n",
    "#\n",
    "# Fraction of variance.\n",
    "plt.subplot(2, 2, 4);   plt.stackplot(yrs,varF[0],varF[1], varF[2], varF[3], varF[4], labels=ccomp, colors=colrs);\n",
    "plt.title(''); plt.xlabel(''); plt.ylabel('Fraction of variance');\n",
    "plt.xlim([2020, 2100]);     plt.ylim([0, 1])\n",
    "#\n",
    "plt.subplots_adjust(wspace=0.35, hspace=0.4)\n",
    "#\n",
    "#\n",
    "plt.show()"
   ]
  },
  {
   "attachments": {},
   "cell_type": "markdown",
   "metadata": {},
   "source": [
    "# <font color=black> **=======================================================================** </font>"
   ]
  }
 ],
 "metadata": {
  "kernelspec": {
   "display_name": "plot",
   "language": "python",
   "name": "python3"
  },
  "language_info": {
   "codemirror_mode": {
    "name": "ipython",
    "version": 3
   },
   "file_extension": ".py",
   "mimetype": "text/x-python",
   "name": "python",
   "nbconvert_exporter": "python",
   "pygments_lexer": "ipython3",
   "version": "3.9.15"
  },
  "orig_nbformat": 4,
  "vscode": {
   "interpreter": {
    "hash": "adc634733d73b0796380be3dda2ecd8c29414439860d566d764cbd379022a65e"
   }
  }
 },
 "nbformat": 4,
 "nbformat_minor": 2
}
