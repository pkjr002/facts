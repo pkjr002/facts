{
 "cells": [
  {
   "attachments": {},
   "cell_type": "markdown",
   "metadata": {},
   "source": [
    "## <font color=Green>GMD Figure 7 </font>  \n",
    "#### <font color=blue> *Extreme sea-level return-period curve* PLOT </font>\n"
   ]
  },
  {
   "cell_type": "code",
   "execution_count": 1,
   "metadata": {},
   "outputs": [],
   "source": [
    "import numpy as np\n",
    "import pandas as pd\n",
    "import matplotlib.pyplot as plt\n",
    "%matplotlib inline\n",
    "import netCDF4 as nc\n",
    "from pandas.plotting import table \n",
    "import xarray as xr\n",
    "#\n",
    "import warnings\n",
    "import matplotlib\n",
    "warnings.filterwarnings(\"ignore\", category=matplotlib.MatplotlibDeprecationWarning)\n",
    "#\n",
    "colrs = 'rcbgmyrkcbgm'"
   ]
  },
  {
   "attachments": {},
   "cell_type": "markdown",
   "metadata": {},
   "source": [
    "#### <font color=black> *Define* Functions </font>"
   ]
  },
  {
   "cell_type": "code",
   "execution_count": 2,
   "metadata": {},
   "outputs": [],
   "source": [
    "def IP_ncWF(DF,SCENARIO,EXPDATE):\n",
    "    #\n",
    "    modNO       = df.index.values;   # Number of datasets Module outputs\n",
    "    #\n",
    "    a = [];     ccomp = []\n",
    "    #        \n",
    "    for scenario in SCENARIO:\n",
    "        for val in modNO:\n",
    "            WF = df[\"Workflow\"][val]\n",
    "            # Skip if data is absent.\n",
    "            if df.loc[val].at['Data_File'] == 'XXX':\n",
    "               continue \n",
    "            #   \n",
    "            # Pick the data files & Import nc file to dataframe. \n",
    "            dataFOLDER  = '/projects/kopp/facts-experiments/{arg2}/coupling.{arg1}/output/'.format(arg1=scenario,arg2=EXPDATE)\n",
    "            dataFILE    = 'coupling.{arg1}.'.format(arg1=scenario) + df[\"Data_File\"][val]\n",
    "            d_nc        = xr.open_dataset(dataFOLDER + dataFILE)\n",
    "            #\n",
    "            # Index for time.\n",
    "            ST = 2020 ; EN = 2100\n",
    "            YindST = np.where(d_nc[\"years\"].values == ST)[0][0];   YindEN = np.where(d_nc[\"years\"].values == EN)[0][0]\n",
    "            # Save data into a new variable.\n",
    "            b = d_nc.sea_level_change[:,YindST:YindEN+1,0].values\n",
    "            a.append(b[None,:] )\n",
    "    #stack all at once\n",
    "    SAMPSLOCRISE = np.vstack(a);  SAMPSLOCRISE = np.transpose(SAMPSLOCRISE,(1,2,0))\n",
    "    yrs=d_nc.years[YindST:YindEN+1].values\n",
    "    return SAMPSLOCRISE, yrs; "
   ]
  },
  {
   "cell_type": "code",
   "execution_count": 3,
   "metadata": {},
   "outputs": [],
   "source": [
    "def GPDLogNExceedances(z,llambda,shape,scale,MHHW):\n",
    "    #\n",
    "    z0 = z\n",
    "    z = np.maximum(z, 0)  #z[z<0] = 0\n",
    "    #\n",
    "    if shape<0:\n",
    "        z=np.minimum(z,.99999*-scale/shape)\n",
    "        logN = np.log(llambda*(1+(shape)*z/scale)**(-1/(shape)))\n",
    "    elif shape==0:\n",
    "        logN = np.log(llambda)-z/scale\n",
    "    else:\n",
    "        logN = np.log(llambda*(1+(shape)*z/scale)**(-1/(shape)))\n",
    "    #    \n",
    "    y= logN\n",
    "\n",
    "    # (not using this since MHHW for NYC == 0.5148)\n",
    "    # for those points below threshold to MHHW, put on a Gumbel.\n",
    "    # if np.max(MHHW.shape)>=1:\n",
    "    # np.maximum(z0, MHHW(1), z0)\n",
    "    z0=np.maximum(z0, MHHW) \n",
    "    sub = np.argwhere(z0<0)\n",
    "    #if np.max(MHHW.shape)>=2:\n",
    "    #    MHHWfreq=MHHW(2); \n",
    "    #else:\n",
    "    MHHWfreq=365.25/2  \n",
    "    # y(sub) = np.log(llambda)+(np.log(MHHWfreq)-np.log(llambda))*z0(sub)/MHHW(1)\n",
    "    y[tuple(sub.T)] = np.log(llambda)+(np.log(MHHWfreq)-np.log(llambda))*z0[tuple(sub.T)]/MHHW\n",
    "    #\n",
    "    return y    "
   ]
  },
  {
   "cell_type": "code",
   "execution_count": 4,
   "metadata": {},
   "outputs": [],
   "source": [
    "sitelab='New York';\n",
    "selectedSite = 12;      #PSMSL ID for NYC\n",
    "threshold = 0.5148;     #GPD threshold\n",
    "scale = 0.1285;         #GPD scale\n",
    "shape = 0.188;          #GPD shape\n",
    "llambda = 2.8085;        #Poisson Lambda"
   ]
  },
  {
   "attachments": {},
   "cell_type": "markdown",
   "metadata": {},
   "source": [
    "#### <font color=blue> Load Module data from </font> <mark> facts-experiments </mark>"
   ]
  },
  {
   "cell_type": "code",
   "execution_count": 5,
   "metadata": {},
   "outputs": [
    {
     "data": {
      "text/html": [
       "<div>\n",
       "<style scoped>\n",
       "    .dataframe tbody tr th:only-of-type {\n",
       "        vertical-align: middle;\n",
       "    }\n",
       "\n",
       "    .dataframe tbody tr th {\n",
       "        vertical-align: top;\n",
       "    }\n",
       "\n",
       "    .dataframe thead th {\n",
       "        text-align: right;\n",
       "    }\n",
       "</style>\n",
       "<table border=\"1\" class=\"dataframe\">\n",
       "  <thead>\n",
       "    <tr style=\"text-align: right;\">\n",
       "      <th></th>\n",
       "      <th>Component</th>\n",
       "      <th>Workflow</th>\n",
       "      <th>Data_File</th>\n",
       "    </tr>\n",
       "  </thead>\n",
       "  <tbody>\n",
       "    <tr>\n",
       "      <th>0</th>\n",
       "      <td>total</td>\n",
       "      <td>wf1f</td>\n",
       "      <td>total.workflow.wf1f.local.nc</td>\n",
       "    </tr>\n",
       "    <tr>\n",
       "      <th>1</th>\n",
       "      <td>total</td>\n",
       "      <td>wf2f</td>\n",
       "      <td>total.workflow.wf2f.local.nc</td>\n",
       "    </tr>\n",
       "    <tr>\n",
       "      <th>2</th>\n",
       "      <td>total</td>\n",
       "      <td>wf3f</td>\n",
       "      <td>total.workflow.wf3f.local.nc</td>\n",
       "    </tr>\n",
       "    <tr>\n",
       "      <th>3</th>\n",
       "      <td>total</td>\n",
       "      <td>wf4</td>\n",
       "      <td>total.workflow.wf4.local.nc</td>\n",
       "    </tr>\n",
       "  </tbody>\n",
       "</table>\n",
       "</div>"
      ],
      "text/plain": [
       "  Component Workflow                     Data_File\n",
       "0     total     wf1f  total.workflow.wf1f.local.nc\n",
       "1     total     wf2f  total.workflow.wf2f.local.nc\n",
       "2     total     wf3f  total.workflow.wf3f.local.nc\n",
       "3     total      wf4   total.workflow.wf4.local.nc"
      ]
     },
     "execution_count": 5,
     "metadata": {},
     "output_type": "execute_result"
    }
   ],
   "source": [
    "# Load FACTS module names/data as a dataframe.\n",
    "df = pd.read_fwf('001_IP_GMD_names_Modules_Data/mod-submod-data_WF_local_Bob_amarel_V2.txt',comment = '#')\n",
    "df"
   ]
  },
  {
   "cell_type": "code",
   "execution_count": 6,
   "metadata": {},
   "outputs": [],
   "source": [
    "EXPDATE     = 221217; SCENARIO    = ['ssp585']\n",
    "[SAMPSLOCRISE_585, yrs] = IP_ncWF(df,SCENARIO,EXPDATE);\n",
    "#\n",
    "EXPDATE     = 221217; SCENARIO    = ['ssp126']\n",
    "[SAMPSLOCRISE_126, yrs] = IP_ncWF(df,SCENARIO,EXPDATE);\n",
    "#\n",
    "#\n",
    "yrs = np.insert(yrs, 0, 2010, axis=0)\n",
    "#\n",
    "testz = np.arange(0, 10+0.01, 0.01)\n",
    "#\n",
    "histcurve=np.exp(GPDLogNExceedances(testz-threshold,llambda,shape,scale,-threshold))"
   ]
  },
  {
   "cell_type": "code",
   "execution_count": null,
   "metadata": {},
   "outputs": [],
   "source": [
    "def EFcurv(SAMPSLOCRISE,yrs,testz,threshold,llambda,shape,scale):\n",
    "    #\n",
    "    sampslocrise = SAMPSLOCRISE\n",
    "    #\n",
    "    samps=[];\n",
    "    #\n",
    "    samps = np.hstack((np.zeros((sampslocrise.shape[0],1)),sampslocrise)) / 1000\n",
    "    #\n",
    "    # samps=np.minimum(samps, np.quantile(samps, .999,axis=0)) #truncate samples viewed as physically implausible\n",
    "    #\n",
    "    #\n",
    "    effcurve = np.empty((yrs.shape[0],testz.shape[0],)); effcurve[:] = np.nan\n",
    "    #\n",
    "    gg=[]; gg1=[];\n",
    "    for tt in enumerate(yrs):\n",
    "        # print(tt[0])\n",
    "        gg  = testz[np.newaxis] - samps[:,tt[0]][np.newaxis].T\n",
    "        gg1 = np.real(np.mean(np.exp(GPDLogNExceedances(gg-threshold,llambda,shape,scale,-threshold)),axis=0))\n",
    "        effcurve[tt[0],:] = gg1.T\n",
    "        #\n",
    "    return effcurve\n",
    "    #\n"
   ]
  },
  {
   "cell_type": "code",
   "execution_count": 25,
   "metadata": {},
   "outputs": [],
   "source": [
    "def EFcurvWF(SAMPSLOCRISE,WFNO,yrs,testz,threshold,llambda,shape,scale):\n",
    "    #\n",
    "    workflo = np.arange(WFNO)\n",
    "    for wf in workflo: \n",
    "        sampslocrise = SAMPSLOCRISE[:,:,wf]\n",
    "        #\n",
    "        samps=[];\n",
    "        samps = np.hstack((np.zeros((sampslocrise.shape[0],1)),sampslocrise)) / 1000\n",
    "        #\n",
    "        # samps=np.minimum(samps, np.quantile(samps, .999,axis=0)) #truncate samples viewed as physically implausible\n",
    "        #\n",
    "        #\n",
    "        effcurve = np.empty((yrs.shape[0],testz.shape[0],WFNO,)); effcurve[:] = np.nan\n",
    "        #\n",
    "        gg=[]; gg1=[];\n",
    "        for tt in enumerate(yrs):\n",
    "            # print(tt[0])\n",
    "            gg  = testz[np.newaxis] - samps[:,tt[0]][np.newaxis].T\n",
    "            gg1 = np.real(np.mean(np.exp(GPDLogNExceedances(gg-threshold,llambda,shape,scale,-threshold)),axis=0))\n",
    "            effcurve[tt[0],:,wf] = np.squeeze(gg1[np.newaxis].T)\n",
    "            #\n",
    "    return effcurve\n",
    "    #\n"
   ]
  },
  {
   "cell_type": "code",
   "execution_count": 15,
   "metadata": {},
   "outputs": [],
   "source": [
    "sampslocrise = SAMPSLOCRISE_585[:,:,0]\n",
    "samps=[];\n",
    "samps = np.hstack((np.zeros((sampslocrise.shape[0],1)),sampslocrise)) / 1000\n",
    "effcurve = np.empty((yrs.shape[0],testz.shape[0],)); effcurve[:] = np.nan"
   ]
  },
  {
   "cell_type": "code",
   "execution_count": 18,
   "metadata": {},
   "outputs": [
    {
     "data": {
      "text/plain": [
       "4"
      ]
     },
     "execution_count": 18,
     "metadata": {},
     "output_type": "execute_result"
    }
   ],
   "source": [
    "workflo = np.arange(4)\n",
    "workflo.shape[0]"
   ]
  },
  {
   "cell_type": "code",
   "execution_count": 26,
   "metadata": {},
   "outputs": [],
   "source": [
    "WFNO = 4\n",
    "effcurve_ssp585 = EFcurvWF(SAMPSLOCRISE_585,WFNO,yrs,testz,threshold,llambda,shape,scale)"
   ]
  },
  {
   "cell_type": "code",
   "execution_count": null,
   "metadata": {},
   "outputs": [],
   "source": [
    "# WF_NO = 1\n",
    "# effcurve_ssp585 = EFcurv(SAMPSLOCRISE_585[:,:,WF_NO],yrs,testz,threshold,llambda,shape,scale)\n",
    "# #\n",
    "# effcurve_ssp126 = EFcurv(SAMPSLOCRISE_126[:,:,WF_NO],yrs,testz,threshold,llambda,shape,scale)"
   ]
  },
  {
   "attachments": {},
   "cell_type": "markdown",
   "metadata": {},
   "source": [
    "# <font color=green> **PLOT** </font>"
   ]
  },
  {
   "cell_type": "code",
   "execution_count": null,
   "metadata": {},
   "outputs": [],
   "source": [
    "# Colors updated to match updated SPM colors\n",
    "color_ssp119 = np.array([0, 173,207])/255\n",
    "color_ssp126 = np.array([23  ,60 ,  102])/255\n",
    "color_ssp245 = np.array([247 ,148,  32])/255\n",
    "color_ssp370 = np.array([231 ,29 ,  37])/255\n",
    "color_ssp585 = np.array([149 ,27 ,  30])/255\n",
    "# scencolors=[color_SSP585, color_SSP370, color_SSP245, color_SSP126, color_SSP119]\n",
    "scencolors=[color_ssp585, color_ssp245, color_ssp126]\n",
    "scencolors1 = list(reversed(scencolors))\n",
    "#\n",
    "# Workflow Components.\n",
    "#wf1e = ['GrIS-emulandice', 'AIS-emulandice', 'Glaciers-emulandice']\n",
    "wf1f = ['GrIS-FittedISMIP', 'AIS-ipccar5', 'Glaciers-ipccar5-GMIP2']\n",
    "#wf2e = ['GrIS-emulandice', 'AIS-larmip', 'Glaciers-emulandice']\n",
    "wf2f = ['GrIS-FittedISMIP', 'AIS-larmip', 'Glaciers-ipccar5-GMIP2']\n",
    "#wf3e = ['GrIS-emulandice', 'AIS-deconto21', 'Glaciers-emulandice']\n",
    "wf3f = ['GrIS-FittedISMIP', 'AIS-deconto21', 'Glaciers-ipccar5-GMIP2']\n",
    "wf4  = ['GrIS-bamber19', 'AIS-bamber19', 'Glaciers-ipccar5-GMIP2']\n",
    "#WORKFLO = [\"wf1e\",\"wf1f\",\"wf2e\",\"wf2f\",\"wf3e\",\"wf3f\",\"wf4\"]\n",
    "WORKFLO = [\"wf1f\",\"wf2f\",\"wf3f\",\"wf4\"]\n",
    "# WORKFLO = [\"wf1e\",\"wf1f\",\"wf2e\",\"wf2f\",\"wf3e\",\"wf3f\"]"
   ]
  },
  {
   "cell_type": "code",
   "execution_count": null,
   "metadata": {},
   "outputs": [],
   "source": [
    "# Set global figure size and dots per inch\n",
    "plt.rcParams.update({'figure.figsize':(35,40), 'figure.dpi':100})\n",
    "# Initialize the grid\n",
    "grid = plt.GridSpec(4, 5, wspace=0.1, hspace=-.4)\n",
    "grid00 = grid[0].subgridspec(4, 5)\n",
    "grid01 = grid[1].subgridspec(4, 5)\n",
    "#\n",
    "# Axis Spec.\n",
    "# Global\n",
    "xlim  = [0,6]\n",
    "ylim = [1e-3, 10]\n",
    "#\n",
    "XAX1 = testz\n",
    "SSP  = ['ssp126','ssp585']\n",
    "#\n",
    "# Subplot Axis.\n",
    "ax1_wf1f = plt.subplot(grid00[0, :4]); \n",
    "ax1_wf2f = plt.subplot(grid00[1, :4]); \n",
    "ax1_wf3f = plt.subplot(grid00[2, :4]); \n",
    "ax1_wf4  = plt.subplot(grid00[3, :4]); \n",
    "#\n",
    "ax3_wf1f = plt.subplot(grid01[0, :4]);\n",
    "ax3_wf2f = plt.subplot(grid01[1, :4]);\n",
    "ax3_wf3f = plt.subplot(grid01[2, :4]);\n",
    "ax3_wf4  = plt.subplot(grid01[3, :4]); \n",
    "#\n",
    "#\n",
    "#\n",
    "for ss in SSP: # Loop through each SSP\n",
    "    for wf in enumerate(WORKFLO):\n",
    "        #\n",
    "        effcurve_ssp585 = EFcurv(SAMPSLOCRISE_585[:,:,wf[0]],yrs,testz,threshold,llambda,shape,scale)\n",
    "        effcurve_ssp126 = EFcurv(SAMPSLOCRISE_126[:,:,wf[0]],yrs,testz,threshold,llambda,shape,scale)\n",
    "        #\n",
    "        #\n",
    "        # Select subplot axis based on workflow\n",
    "        if ss == 'ssp126': \n",
    "            ax1 = eval(f'ax1_{wf[1]}');  \n",
    "            effcurve = eval(f'effcurve_{ss}')\n",
    "        elif ss == 'ssp585':\n",
    "            ax1 = eval(f'ax3_{wf[1]}');  \n",
    "            effcurve = eval(f'effcurve_{ss}')\n",
    "        yylim = []\n",
    "        #\n",
    "        # Plot Left \n",
    "        # ax1.plot(XAX1, histcurve, label = ss, color = eval(f'color_{ss}'))\n",
    "        ax1.plot(XAX1, histcurve, '-k',label = ss)\n",
    "        ax1.plot(XAX1, effcurve[4,:], '-b')\n",
    "        ax1.plot(XAX1, effcurve[9,:], '-r')\n",
    "        ax1.set_yscale(\"log\")\n",
    "        ax1.set_ylim(ylim); ax1.set_xlim(xlim);\n",
    "        ax1.set_xlabel(\"meters\");\n",
    "        ax1.set_ylabel(\"expected events/year\");\n",
    "        if wf[1] != 'wf4': ax1.xaxis.set_ticklabels([]); ax1.set_xlabel('')\n",
    "        \n",
    "    #"
   ]
  },
  {
   "cell_type": "code",
   "execution_count": null,
   "metadata": {},
   "outputs": [],
   "source": []
  },
  {
   "attachments": {},
   "cell_type": "markdown",
   "metadata": {},
   "source": [
    "# <font color=black> **=======================================================================** </font>"
   ]
  }
 ],
 "metadata": {
  "kernelspec": {
   "display_name": "Python 3.9.15 ('plot')",
   "language": "python",
   "name": "python3"
  },
  "language_info": {
   "codemirror_mode": {
    "name": "ipython",
    "version": 3
   },
   "file_extension": ".py",
   "mimetype": "text/x-python",
   "name": "python",
   "nbconvert_exporter": "python",
   "pygments_lexer": "ipython3",
   "version": "3.9.15"
  },
  "orig_nbformat": 4,
  "vscode": {
   "interpreter": {
    "hash": "adc634733d73b0796380be3dda2ecd8c29414439860d566d764cbd379022a65e"
   }
  }
 },
 "nbformat": 4,
 "nbformat_minor": 2
}
