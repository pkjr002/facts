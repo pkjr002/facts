{
 "cells": [
  {
   "cell_type": "markdown",
   "metadata": {},
   "source": [
    "## $\\color{Green}{\\text{GMD Table 4: GMSL from Workflows}}$"
   ]
  },
  {
   "cell_type": "code",
   "execution_count": 1,
   "metadata": {},
   "outputs": [],
   "source": [
    "import numpy as np\n",
    "import pandas as pd\n",
    "import matplotlib.pyplot as plt\n",
    "%matplotlib inline\n",
    "import netCDF4 as nc\n",
    "from pandas.plotting import table \n",
    "import xarray as xr"
   ]
  },
  {
   "cell_type": "markdown",
   "metadata": {},
   "source": [
    "#### $\\color{blue}{\\text{List of Modules and Data to be used}}$"
   ]
  },
  {
   "cell_type": "code",
   "execution_count": 2,
   "metadata": {},
   "outputs": [
    {
     "data": {
      "text/html": [
       "<div>\n",
       "<style scoped>\n",
       "    .dataframe tbody tr th:only-of-type {\n",
       "        vertical-align: middle;\n",
       "    }\n",
       "\n",
       "    .dataframe tbody tr th {\n",
       "        vertical-align: top;\n",
       "    }\n",
       "\n",
       "    .dataframe thead th {\n",
       "        text-align: right;\n",
       "    }\n",
       "</style>\n",
       "<table border=\"1\" class=\"dataframe\">\n",
       "  <thead>\n",
       "    <tr style=\"text-align: right;\">\n",
       "      <th></th>\n",
       "      <th>Component</th>\n",
       "      <th>Workflow</th>\n",
       "      <th>Data_File</th>\n",
       "    </tr>\n",
       "  </thead>\n",
       "  <tbody>\n",
       "    <tr>\n",
       "      <th>0</th>\n",
       "      <td>total</td>\n",
       "      <td>wf1e</td>\n",
       "      <td>total.workflow.wf1e.global.nc</td>\n",
       "    </tr>\n",
       "    <tr>\n",
       "      <th>1</th>\n",
       "      <td>total</td>\n",
       "      <td>wf1f</td>\n",
       "      <td>total.workflow.wf1f.global.nc</td>\n",
       "    </tr>\n",
       "    <tr>\n",
       "      <th>2</th>\n",
       "      <td>total</td>\n",
       "      <td>wf2e</td>\n",
       "      <td>total.workflow.wf2e.global.nc</td>\n",
       "    </tr>\n",
       "    <tr>\n",
       "      <th>3</th>\n",
       "      <td>total</td>\n",
       "      <td>wf2f</td>\n",
       "      <td>total.workflow.wf2f.global.nc</td>\n",
       "    </tr>\n",
       "    <tr>\n",
       "      <th>4</th>\n",
       "      <td>total</td>\n",
       "      <td>wf3e</td>\n",
       "      <td>total.workflow.wf3e.global.nc</td>\n",
       "    </tr>\n",
       "    <tr>\n",
       "      <th>5</th>\n",
       "      <td>total</td>\n",
       "      <td>wf3f</td>\n",
       "      <td>total.workflow.wf3f.global.nc</td>\n",
       "    </tr>\n",
       "    <tr>\n",
       "      <th>6</th>\n",
       "      <td>total</td>\n",
       "      <td>wf4</td>\n",
       "      <td>total.workflow.wf4.global.nc</td>\n",
       "    </tr>\n",
       "  </tbody>\n",
       "</table>\n",
       "</div>"
      ],
      "text/plain": [
       "  Component Workflow                      Data_File\n",
       "0     total     wf1e  total.workflow.wf1e.global.nc\n",
       "1     total     wf1f  total.workflow.wf1f.global.nc\n",
       "2     total     wf2e  total.workflow.wf2e.global.nc\n",
       "3     total     wf2f  total.workflow.wf2f.global.nc\n",
       "4     total     wf3e  total.workflow.wf3e.global.nc\n",
       "5     total     wf3f  total.workflow.wf3f.global.nc\n",
       "6     total      wf4   total.workflow.wf4.global.nc"
      ]
     },
     "execution_count": 2,
     "metadata": {},
     "output_type": "execute_result"
    }
   ],
   "source": [
    "# Load FACTS workflow data set names as a dataframe.\n",
    "df_WF = pd.read_fwf( '001_IP_GMD_Table_names_Modules_Data/mod-submod-data_WF_global_Bob_amarel_V2.txt' )\n",
    "df_WF\n"
   ]
  },
  {
   "attachments": {},
   "cell_type": "markdown",
   "metadata": {},
   "source": [
    "#### $\\color{Red}{\\text{Load Module data from ==> facts-experiments}}$"
   ]
  },
  {
   "cell_type": "code",
   "execution_count": 3,
   "metadata": {},
   "outputs": [
    {
     "name": "stdout",
     "output_type": "stream",
     "text": [
      "Percentile of GMSL [ median(17th,83rd) ] in cm for different workflows for the year  2100\n"
     ]
    },
    {
     "data": {
      "text/html": [
       "<div>\n",
       "<style scoped>\n",
       "    .dataframe tbody tr th:only-of-type {\n",
       "        vertical-align: middle;\n",
       "    }\n",
       "\n",
       "    .dataframe tbody tr th {\n",
       "        vertical-align: top;\n",
       "    }\n",
       "\n",
       "    .dataframe thead tr th {\n",
       "        text-align: left;\n",
       "    }\n",
       "\n",
       "    .dataframe thead tr:last-of-type th {\n",
       "        text-align: right;\n",
       "    }\n",
       "</style>\n",
       "<table border=\"1\" class=\"dataframe\">\n",
       "  <thead>\n",
       "    <tr>\n",
       "      <th></th>\n",
       "      <th>SSP</th>\n",
       "      <th>ssp126</th>\n",
       "      <th>ssp245</th>\n",
       "      <th>ssp585</th>\n",
       "    </tr>\n",
       "    <tr>\n",
       "      <th></th>\n",
       "      <th></th>\n",
       "      <th></th>\n",
       "      <th></th>\n",
       "      <th></th>\n",
       "    </tr>\n",
       "    <tr>\n",
       "      <th>Component</th>\n",
       "      <th>Workflow</th>\n",
       "      <th></th>\n",
       "      <th></th>\n",
       "      <th></th>\n",
       "    </tr>\n",
       "  </thead>\n",
       "  <tbody>\n",
       "    <tr>\n",
       "      <th rowspan=\"7\" valign=\"top\">total</th>\n",
       "      <th>wf1e</th>\n",
       "      <td>39.90 (31.80 , 49.20)</td>\n",
       "      <td>50.10 (41.58 , 59.92)</td>\n",
       "      <td>70.60 (60.90 , 81.52)</td>\n",
       "    </tr>\n",
       "    <tr>\n",
       "      <th>wf1f</th>\n",
       "      <td>40.00 (31.50 , 48.90)</td>\n",
       "      <td>49.00 (39.80 , 58.60)</td>\n",
       "      <td>65.75 (54.78 , 78.32)</td>\n",
       "    </tr>\n",
       "    <tr>\n",
       "      <th>wf2e</th>\n",
       "      <td>45.70 (34.70 , 59.90)</td>\n",
       "      <td>57.10 (45.00 , 73.00)</td>\n",
       "      <td>79.80 (65.00 , 100.20)</td>\n",
       "    </tr>\n",
       "    <tr>\n",
       "      <th>wf2f</th>\n",
       "      <td>47.70 (38.40 , 61.82)</td>\n",
       "      <td>58.90 (48.40 , 74.40)</td>\n",
       "      <td>79.80 (66.30 , 100.25)</td>\n",
       "    </tr>\n",
       "    <tr>\n",
       "      <th>wf3e</th>\n",
       "      <td>40.40 (33.80 , 47.90)</td>\n",
       "      <td>51.40 (44.50 , 59.20)</td>\n",
       "      <td>96.70 (79.98 , 117.72)</td>\n",
       "    </tr>\n",
       "    <tr>\n",
       "      <th>wf3f</th>\n",
       "      <td>42.70 (37.20 , 48.82)</td>\n",
       "      <td>53.30 (47.00 , 60.10)</td>\n",
       "      <td>97.30 (81.20 , 117.42)</td>\n",
       "    </tr>\n",
       "    <tr>\n",
       "      <th>wf4</th>\n",
       "      <td>52.85 (37.28 , 80.23)</td>\n",
       "      <td>60.40 (44.40 , 87.92)</td>\n",
       "      <td>100.90 (69.20 , 163.53)</td>\n",
       "    </tr>\n",
       "  </tbody>\n",
       "</table>\n",
       "</div>"
      ],
      "text/plain": [
       "SSP                                ssp126                 ssp245  \\\n",
       "                                                                   \n",
       "Component Workflow                                                 \n",
       "total     wf1e      39.90 (31.80 , 49.20)  50.10 (41.58 , 59.92)   \n",
       "          wf1f      40.00 (31.50 , 48.90)  49.00 (39.80 , 58.60)   \n",
       "          wf2e      45.70 (34.70 , 59.90)  57.10 (45.00 , 73.00)   \n",
       "          wf2f      47.70 (38.40 , 61.82)  58.90 (48.40 , 74.40)   \n",
       "          wf3e      40.40 (33.80 , 47.90)  51.40 (44.50 , 59.20)   \n",
       "          wf3f      42.70 (37.20 , 48.82)  53.30 (47.00 , 60.10)   \n",
       "          wf4       52.85 (37.28 , 80.23)  60.40 (44.40 , 87.92)   \n",
       "\n",
       "SSP                                  ssp585  \n",
       "                                             \n",
       "Component Workflow                           \n",
       "total     wf1e        70.60 (60.90 , 81.52)  \n",
       "          wf1f        65.75 (54.78 , 78.32)  \n",
       "          wf2e       79.80 (65.00 , 100.20)  \n",
       "          wf2f       79.80 (66.30 , 100.25)  \n",
       "          wf3e       96.70 (79.98 , 117.72)  \n",
       "          wf3f       97.30 (81.20 , 117.42)  \n",
       "          wf4       100.90 (69.20 , 163.53)  "
      ]
     },
     "execution_count": 3,
     "metadata": {},
     "output_type": "execute_result"
    }
   ],
   "source": [
    "EXPDATE     = 221217\n",
    "MODNO       = df_WF.index.values;   # Number of datasets Module outputs\n",
    "SCENARIO    = ['ssp126', 'ssp245','ssp585'];\n",
    "#SCENARIO    = ['ssp119','ssp126', 'ssp245', 'ssp370', 'ssp585'];\n",
    "YEAR        = 2100; # Percentile Year for the table.   \n",
    "#\n",
    "# Temp DF to store all .nc O/P.      \n",
    "df_TEMP      = []\n",
    "#        \n",
    "for val in MODNO:\n",
    "    for scenario in SCENARIO: \n",
    "        WORKFLOW = df_WF[\"Workflow\"][val];  COMP = df_WF[\"Component\"][val];  \n",
    "        # Skip if data is absent.\n",
    "        if df_WF[\"Data_File\"][val] == 'XXX':\n",
    "           continue \n",
    "        #\n",
    "        # Pick the data files & Import nc file to dataframe. \n",
    "        dataFOLDER  = '/projects/kopp/facts-experiments/{arg2}/coupling.{arg1}/output/'.format(arg1=scenario,arg2=EXPDATE)\n",
    "        dataFILE    = 'coupling.{arg1}.'.format(arg1=scenario) + df_WF[\"Data_File\"][val]\n",
    "        d_nc        = xr.open_dataset(dataFOLDER + dataFILE)\n",
    "        d_nc\n",
    "        #\n",
    "        # Percentile calculation.\n",
    "        percentList = [50, 17, 83]          #[50, 5, 17, 83, 95]\n",
    "        # Find year index to pick SLC value\n",
    "        Yind    = np.where(d_nc[\"years\"].values == YEAR)[0][0]\n",
    "        GMSL    = (d_nc[\"sea_level_change\"][:,Yind,0].values)/10  # Convert to cmeters.\n",
    "        # Find Percentiles.\n",
    "        pcntle  = np.percentile(GMSL[:], percentList );    pcntle = np.around(pcntle,2)\n",
    "        #\n",
    "        TEMP = [COMP,WORKFLOW, scenario] + pcntle.tolist()\n",
    "        df_TEMP.append( TEMP )\n",
    "df_ptile = pd.DataFrame( df_TEMP, columns=['Component','Workflow','SSP', ] + [ f'col_{x}' for xi, x in enumerate( percentList )] )\n",
    "#\n",
    "df_ptile[''] = df_ptile.apply(lambda x: f'{x.col_50:2.2f} ({x.col_17:2.2f} , {x.col_83:2.2f})', axis=1 )\n",
    "df_ptile1    = pd.DataFrame( df_ptile.set_index( ['Component', 'Workflow', 'SSP'] )[''] ).unstack().swaplevel( 0,1, axis=1 )\n",
    "print('Percentile of GMSL [ median(17th,83rd) ] in cm for different workflows for the year ', YEAR)\n",
    "df_ptile1\n"
   ]
  },
  {
   "attachments": {},
   "cell_type": "markdown",
   "metadata": {},
   "source": [
    "# <font color=red> Need to export the table. </font>"
   ]
  },
  {
   "cell_type": "markdown",
   "metadata": {},
   "source": []
  },
  {
   "cell_type": "code",
   "execution_count": 16,
   "metadata": {},
   "outputs": [
    {
     "data": {
      "image/png": "[encoded data removed]",
      "text/plain": [
       "<Figure size 600x500 with 1 Axes>"
      ]
     },
     "metadata": {},
     "output_type": "display_data"
    }
   ],
   "source": [
    "df = df_ptile1;\n",
    "\n",
    "def render_mpl_table(data, col_width=3.0, row_height=0.625, font_size=8,\n",
    "                     header_color='#40466e', row_colors=['#f1f1f2', 'w'], edge_color='w',\n",
    "                     bbox=[0, 0, 1, 1], header_columns=0,\n",
    "                     ax=None, **kwargs):\n",
    "    if ax is None:\n",
    "        size = (np.array(data.shape[::-1]) + np.array([0, 1])) * np.array([col_width, row_height])\n",
    "        fig, ax = plt.subplots(figsize=size)\n",
    "        ax.axis('off')\n",
    "    mpl_table = ax.table(cellText=data.values, bbox=bbox, colLabels=data.columns, **kwargs)\n",
    "    mpl_table.auto_set_font_size(False)\n",
    "    mpl_table.set_fontsize(font_size)\n",
    "\n",
    "    for k, cell in mpl_table._cells.items():\n",
    "        cell.set_edgecolor(edge_color)\n",
    "        if k[0] == 0 or k[1] < header_columns:\n",
    "            cell.set_text_props(weight='bold', color='w')\n",
    "            cell.set_facecolor(header_color)\n",
    "        else:\n",
    "            cell.set_facecolor(row_colors[k[0]%len(row_colors) ])\n",
    "    return ax.get_figure(), ax\n",
    "\n",
    "fig,ax = render_mpl_table(df, header_columns=0, col_width=2.0)\n",
    "# fig.savefig(\"table_mpl.png\")"
   ]
  },
  {
   "cell_type": "markdown",
   "metadata": {},
   "source": []
  }
 ],
 "metadata": {
  "kernelspec": {
   "display_name": "Python 3.9.15 ('plot')",
   "language": "python",
   "name": "python3"
  },
  "language_info": {
   "codemirror_mode": {
    "name": "ipython",
    "version": 3
   },
   "file_extension": ".py",
   "mimetype": "text/x-python",
   "name": "python",
   "nbconvert_exporter": "python",
   "pygments_lexer": "ipython3",
   "version": "3.9.15"
  },
  "orig_nbformat": 4,
  "vscode": {
   "interpreter": {
    "hash": "adc634733d73b0796380be3dda2ecd8c29414439860d566d764cbd379022a65e"
   }
  }
 },
 "nbformat": 4,
 "nbformat_minor": 2
}
