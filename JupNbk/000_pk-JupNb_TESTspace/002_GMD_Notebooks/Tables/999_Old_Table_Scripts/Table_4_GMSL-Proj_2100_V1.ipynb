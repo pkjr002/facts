{
 "cells": [
  {
   "cell_type": "markdown",
   "metadata": {},
   "source": [
    "## $\\color{Green}{\\text{GMD Table 4: GMSL from Workflows}}$"
   ]
  },
  {
   "cell_type": "code",
   "execution_count": 28,
   "metadata": {},
   "outputs": [],
   "source": [
    "import numpy as np\n",
    "import pandas as pd\n",
    "import matplotlib.pyplot as plt\n",
    "%matplotlib inline\n",
    "import netCDF4 as nc\n",
    "from pandas.plotting import table \n",
    "import xarray as xr\n",
    "#\n",
    "# Load FACTS workflow data as a dataframe.\n",
    "# df_WF = pd.read_fwf('001_IP_names_Modules_Data/mod-submod-data_Bob_amarel_WF.txt')\n",
    "df_WF = pd.read_fwf('mod-submod-data_Bob_amarel_WF.txt')"
   ]
  },
  {
   "cell_type": "markdown",
   "metadata": {},
   "source": [
    "#### $\\color{Red}{\\text{Use Workflow data from ==> facts-experiments/221206}}$"
   ]
  },
  {
   "cell_type": "code",
   "execution_count": 29,
   "metadata": {},
   "outputs": [
    {
     "name": "stdout",
     "output_type": "stream",
     "text": [
      "GMSL Component Projections for  2100\n"
     ]
    },
    {
     "data": {
      "text/html": [
       "<div>\n",
       "<style scoped>\n",
       "    .dataframe tbody tr th:only-of-type {\n",
       "        vertical-align: middle;\n",
       "    }\n",
       "\n",
       "    .dataframe tbody tr th {\n",
       "        vertical-align: top;\n",
       "    }\n",
       "\n",
       "    .dataframe thead th {\n",
       "        text-align: right;\n",
       "    }\n",
       "</style>\n",
       "<table border=\"1\" class=\"dataframe\">\n",
       "  <thead>\n",
       "    <tr style=\"text-align: right;\">\n",
       "      <th></th>\n",
       "      <th>Component</th>\n",
       "      <th>Workflow</th>\n",
       "      <th>Data_File</th>\n",
       "      <th>%ile(ssp126)</th>\n",
       "      <th>%ile(ssp245)</th>\n",
       "      <th>%ile(ssp585)</th>\n",
       "    </tr>\n",
       "  </thead>\n",
       "  <tbody>\n",
       "    <tr>\n",
       "      <th>0</th>\n",
       "      <td>total</td>\n",
       "      <td>wf1e</td>\n",
       "      <td>total.workflow.wf1e.global.nc</td>\n",
       "      <td>[0.4, 0.32, 0.49]</td>\n",
       "      <td>[0.5, 0.42, 0.59]</td>\n",
       "      <td>[0.7, 0.6, 0.8]</td>\n",
       "    </tr>\n",
       "    <tr>\n",
       "      <th>1</th>\n",
       "      <td>total</td>\n",
       "      <td>wf1f</td>\n",
       "      <td>total.workflow.wf1f.global.nc</td>\n",
       "      <td>[0.41, 0.33, 0.5]</td>\n",
       "      <td>[0.5, 0.41, 0.59]</td>\n",
       "      <td>[0.64, 0.57, 0.75]</td>\n",
       "    </tr>\n",
       "    <tr>\n",
       "      <th>2</th>\n",
       "      <td>total</td>\n",
       "      <td>wf2e</td>\n",
       "      <td>total.workflow.wf2e.global.nc</td>\n",
       "      <td>[0.46, 0.36, 0.59]</td>\n",
       "      <td>[0.57, 0.47, 0.73]</td>\n",
       "      <td>[0.86, 0.71, 1.07]</td>\n",
       "    </tr>\n",
       "    <tr>\n",
       "      <th>3</th>\n",
       "      <td>total</td>\n",
       "      <td>wf2f</td>\n",
       "      <td>total.workflow.wf2f.global.nc</td>\n",
       "      <td>[0.47, 0.39, 0.6]</td>\n",
       "      <td>[0.58, 0.49, 0.75]</td>\n",
       "      <td>[0.79, 0.7, 0.96]</td>\n",
       "    </tr>\n",
       "  </tbody>\n",
       "</table>\n",
       "</div>"
      ],
      "text/plain": [
       "  Component Workflow                      Data_File        %ile(ssp126)  \\\n",
       "0     total     wf1e  total.workflow.wf1e.global.nc   [0.4, 0.32, 0.49]   \n",
       "1     total     wf1f  total.workflow.wf1f.global.nc   [0.41, 0.33, 0.5]   \n",
       "2     total     wf2e  total.workflow.wf2e.global.nc  [0.46, 0.36, 0.59]   \n",
       "3     total     wf2f  total.workflow.wf2f.global.nc   [0.47, 0.39, 0.6]   \n",
       "\n",
       "         %ile(ssp245)        %ile(ssp585)  \n",
       "0   [0.5, 0.42, 0.59]     [0.7, 0.6, 0.8]  \n",
       "1   [0.5, 0.41, 0.59]  [0.64, 0.57, 0.75]  \n",
       "2  [0.57, 0.47, 0.73]  [0.86, 0.71, 1.07]  \n",
       "3  [0.58, 0.49, 0.75]   [0.79, 0.7, 0.96]  "
      ]
     },
     "execution_count": 29,
     "metadata": {},
     "output_type": "execute_result"
    }
   ],
   "source": [
    "modNO       = df_WF.index.values;   # Number of datasets Module outputs\n",
    "SCENARIO    = ['ssp126', 'ssp245', 'ssp585'];  \n",
    "#\n",
    "# Temp DF to store all .nc O/P.      \n",
    "df_TEMP      = []\n",
    "#        \n",
    "for scenario in SCENARIO:\n",
    "    # Define pd DF columns to append.\n",
    "    PERCENTILE  = '%ile({arg2})'.format(arg2=scenario)\n",
    "    percentile = np.nan\n",
    "    df_WF[PERCENTILE] = percentile\n",
    "    df_WF[PERCENTILE] = df_WF[PERCENTILE].astype('object') \n",
    "    #\n",
    "    for val in modNO:\n",
    "        WORKFLOW = df_WF.loc[val].at['Workflow'];  COMP = df_WF[\"Component\"][val];  \n",
    "        # Skip if data is absent.\n",
    "        if df_WF.loc[val].at['Data_File'] == 'XXX':\n",
    "           continue \n",
    "        # Pick the data files. \n",
    "        dataFOLDER  = '/projects/kopp/facts-experiments/221206/coupling.{arg1}/output/'.format(arg1=scenario)\n",
    "        dataFILE    = 'coupling.{arg1}.'.format(arg1=scenario) + df_WF.loc[val].at['Data_File']\n",
    "        dataPATH    = dataFOLDER + dataFILE\n",
    "        # IMPORT .nc data.\n",
    "        d_nc = xr.open_dataset(dataPATH)\n",
    "        #\n",
    "        #\n",
    "        # Percentile calculation.\n",
    "        # percentList = [50, 5, 17, 83, 95]\n",
    "        percentList = [50, 17, 83]\n",
    "        #\n",
    "        # Find year index to pick SLC value\n",
    "        Yind    = np.where(d_nc[\"years\"].values == 2100)[0][0]\n",
    "        GMSL = (d_nc[\"sea_level_change\"][:,Yind,0].values)/1000\n",
    "        #\n",
    "        # Find Percentile ranges.\n",
    "        pcntle = np.percentile(GMSL[:], percentList );    pcntle = np.around(pcntle,2)\n",
    "        #\n",
    "        df_WF.at[val,PERCENTILE] = [pcntle[0], pcntle[1],pcntle[2]]\n",
    "        # Print the OP.\n",
    "print('GMSL Component Projections for ',d_nc[\"years\"][Yind].values)    \n",
    "#show(df)\n",
    "df_WF"
   ]
  },
  {
   "cell_type": "markdown",
   "metadata": {},
   "source": [
    "# ============================================"
   ]
  },
  {
   "cell_type": "markdown",
   "metadata": {},
   "source": [
    "#### $\\color{Red}{\\text{Use Workflow data from ==> facts-experiments/coupling.}}$"
   ]
  },
  {
   "cell_type": "code",
   "execution_count": 30,
   "metadata": {},
   "outputs": [
    {
     "name": "stdout",
     "output_type": "stream",
     "text": [
      "GMSL Component Projections for  2100\n"
     ]
    },
    {
     "data": {
      "text/html": [
       "<div>\n",
       "<style scoped>\n",
       "    .dataframe tbody tr th:only-of-type {\n",
       "        vertical-align: middle;\n",
       "    }\n",
       "\n",
       "    .dataframe tbody tr th {\n",
       "        vertical-align: top;\n",
       "    }\n",
       "\n",
       "    .dataframe thead th {\n",
       "        text-align: right;\n",
       "    }\n",
       "</style>\n",
       "<table border=\"1\" class=\"dataframe\">\n",
       "  <thead>\n",
       "    <tr style=\"text-align: right;\">\n",
       "      <th></th>\n",
       "      <th>Component</th>\n",
       "      <th>Workflow</th>\n",
       "      <th>Data_File</th>\n",
       "      <th>%ile(ssp126)</th>\n",
       "      <th>%ile(ssp245)</th>\n",
       "      <th>%ile(ssp585)</th>\n",
       "    </tr>\n",
       "  </thead>\n",
       "  <tbody>\n",
       "    <tr>\n",
       "      <th>0</th>\n",
       "      <td>total</td>\n",
       "      <td>wf1e</td>\n",
       "      <td>total.workflow.wf1e.global.nc</td>\n",
       "      <td>[0.41, 0.33, 0.5]</td>\n",
       "      <td>[0.51, 0.43, 0.61]</td>\n",
       "      <td>[0.72, 0.62, 0.83]</td>\n",
       "    </tr>\n",
       "    <tr>\n",
       "      <th>1</th>\n",
       "      <td>total</td>\n",
       "      <td>wf1f</td>\n",
       "      <td>total.workflow.wf1f.global.nc</td>\n",
       "      <td>[0.41, 0.33, 0.5]</td>\n",
       "      <td>[0.5, 0.41, 0.59]</td>\n",
       "      <td>[0.67, 0.57, 0.79]</td>\n",
       "    </tr>\n",
       "    <tr>\n",
       "      <th>2</th>\n",
       "      <td>total</td>\n",
       "      <td>wf2e</td>\n",
       "      <td>total.workflow.wf2e.global.nc</td>\n",
       "      <td>[0.55, 0.44, 0.71]</td>\n",
       "      <td>[0.67, 0.54, 0.84]</td>\n",
       "      <td>[0.89, 0.75, 1.11]</td>\n",
       "    </tr>\n",
       "    <tr>\n",
       "      <th>3</th>\n",
       "      <td>total</td>\n",
       "      <td>wf2f</td>\n",
       "      <td>total.workflow.wf2f.global.nc</td>\n",
       "      <td>[0.48, 0.39, 0.61]</td>\n",
       "      <td>[0.59, 0.49, 0.73]</td>\n",
       "      <td>[0.8, 0.68, 1.0]</td>\n",
       "    </tr>\n",
       "  </tbody>\n",
       "</table>\n",
       "</div>"
      ],
      "text/plain": [
       "  Component Workflow                      Data_File        %ile(ssp126)  \\\n",
       "0     total     wf1e  total.workflow.wf1e.global.nc   [0.41, 0.33, 0.5]   \n",
       "1     total     wf1f  total.workflow.wf1f.global.nc   [0.41, 0.33, 0.5]   \n",
       "2     total     wf2e  total.workflow.wf2e.global.nc  [0.55, 0.44, 0.71]   \n",
       "3     total     wf2f  total.workflow.wf2f.global.nc  [0.48, 0.39, 0.61]   \n",
       "\n",
       "         %ile(ssp245)        %ile(ssp585)  \n",
       "0  [0.51, 0.43, 0.61]  [0.72, 0.62, 0.83]  \n",
       "1   [0.5, 0.41, 0.59]  [0.67, 0.57, 0.79]  \n",
       "2  [0.67, 0.54, 0.84]  [0.89, 0.75, 1.11]  \n",
       "3  [0.59, 0.49, 0.73]    [0.8, 0.68, 1.0]  "
      ]
     },
     "execution_count": 30,
     "metadata": {},
     "output_type": "execute_result"
    }
   ],
   "source": [
    "modNO       = df_WF.index.values;   # Number of datasets Module outputs\n",
    "SCENARIO    = ['ssp126', 'ssp245', 'ssp585'];  \n",
    "#\n",
    "# Temp DF to store all .nc O/P.      \n",
    "df_TEMP      = []\n",
    "#        \n",
    "for scenario in SCENARIO:\n",
    "    # Define pd DF columns to append.\n",
    "    PERCENTILE  = '%ile({arg2})'.format(arg2=scenario)\n",
    "    percentile = np.nan\n",
    "    df_WF[PERCENTILE] = percentile\n",
    "    df_WF[PERCENTILE] = df_WF[PERCENTILE].astype('object') \n",
    "    #\n",
    "    for val in modNO:\n",
    "        WORKFLOW = df_WF.loc[val].at['Workflow'];  COMP = df_WF[\"Component\"][val];  \n",
    "        # Skip if data is absent.\n",
    "        if df_WF.loc[val].at['Data_File'] == 'XXX':\n",
    "           continue \n",
    "        # Pick the data files. \n",
    "        if scenario == 'ssp585':\n",
    "            dataFOLDER = '/projects/kopp/facts-experiments/coupling.{arg1}.localhost/output/'.format(arg1=scenario)\n",
    "            dataFILE   = 'coupling.{arg1}.localhost.'.format(arg1=scenario) + df_WF.loc[val].at['Data_File']\n",
    "        else:\n",
    "            dataFOLDER = '/projects/kopp/facts-experiments/coupling.{arg1}/output/'.format(arg1=scenario)\n",
    "            dataFILE   = 'coupling.{arg1}.'.format(arg1=scenario) + df_WF.loc[val].at['Data_File']\n",
    "        dataPATH    = dataFOLDER + dataFILE\n",
    "        # IMPORT .nc data.\n",
    "        d_nc = xr.open_dataset(dataPATH)\n",
    "        #\n",
    "        #\n",
    "        # Percentile calculation.\n",
    "        # percentList = [50, 5, 17, 83, 95]\n",
    "        percentList = [50, 17, 83]\n",
    "        #\n",
    "        # Find year index to pick SLC value\n",
    "        Yind    = np.where(d_nc[\"years\"].values == 2100)[0][0]\n",
    "        GMSL = (d_nc[\"sea_level_change\"][:,Yind,0].values)/1000\n",
    "        #\n",
    "        # Find Percentile ranges.\n",
    "        pcntle = np.percentile(GMSL[:], percentList );    pcntle = np.around(pcntle,2)\n",
    "        #\n",
    "        df_WF.at[val,PERCENTILE] = [pcntle[0], pcntle[1],pcntle[2]]\n",
    "        # Print the OP.\n",
    "print('GMSL Component Projections for ',d_nc[\"years\"][Yind].values)    \n",
    "#show(df)\n",
    "df_WF"
   ]
  },
  {
   "cell_type": "markdown",
   "metadata": {},
   "source": []
  }
 ],
 "metadata": {
  "kernelspec": {
   "display_name": "Python 3.7.0 ('facts37')",
   "language": "python",
   "name": "python3"
  },
  "language_info": {
   "codemirror_mode": {
    "name": "ipython",
    "version": 3
   },
   "file_extension": ".py",
   "mimetype": "text/x-python",
   "name": "python",
   "nbconvert_exporter": "python",
   "pygments_lexer": "ipython3",
   "version": "3.7.0"
  },
  "orig_nbformat": 4,
  "vscode": {
   "interpreter": {
    "hash": "c2457d19af8ced19a74ab7a78e9c83d25d9b6fe31085aeabfe535f823a253add"
   }
  }
 },
 "nbformat": 4,
 "nbformat_minor": 2
}
