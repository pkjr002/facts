{
 "cells": [
  {
   "cell_type": "code",
   "execution_count": null,
   "metadata": {},
   "outputs": [],
   "source": [
    "%run ./T3_IP_modules.ipynb \n",
    "# ........................................................................................\n",
    "MODULE      = 'ssp'\n",
    "SUB_MODULE  = 'landwaterstorage'\n",
    "# ........................................................................................\n",
    "dataFOLDER = '/projects/kopp/ar6/global/full_sample_components/'\n",
    "dataFILE   = 'landwaterstorage-ssp-landwaterstorage-ssp585_globalsl.nc'\n",
    "dataPATH   = dataFOLDER+dataFILE\n",
    "#print(dataPATH)\n",
    "#_-_-_-_-_-_-_-_-_-_-_-_-_-_-_-_-_-_-_-_-_-_-_-_-_-_-_-_-_-_-_-_-_-_-_-_-_-_-_-_-_-_-_-_-_\n",
    "print_var = 1\n",
    "%run ./T3_IP_ncDATA.ipynb   #I/P data"
   ]
  },
  {
   "cell_type": "markdown",
   "metadata": {},
   "source": [
    "## $\\color{red}{\\text{Kopp AR6 folder on AMAREL}}$"
   ]
  },
  {
   "cell_type": "code",
   "execution_count": null,
   "metadata": {},
   "outputs": [],
   "source": [
    "# Find the SLC for year 2100.\n",
    "ind = np.where(yrs == 2100)[0][0]\n",
    "GMSL    = slc[:,ind,:]\n",
    "#\n",
    "# Percentile\n",
    "pcntle  = np.percentile(GMSL[:,0], [50, 17, 83])\n",
    "#\n",
    "print('GMSL Component Projections for',yrs[ind], '\\t', '  Median (17th-83rd percentile)')\n",
    "print(MODULE,' / ',SUB_MODULE , '\\t \\t' , pcntle[0], '(',pcntle[1],' - ', pcntle[2], ')')"
   ]
  }
 ],
 "metadata": {
  "kernelspec": {
   "display_name": "Python 3.7.0 ('facts37')",
   "language": "python",
   "name": "python3"
  },
  "language_info": {
   "codemirror_mode": {
    "name": "ipython",
    "version": 3
   },
   "file_extension": ".py",
   "mimetype": "text/x-python",
   "name": "python",
   "nbconvert_exporter": "python",
   "pygments_lexer": "ipython3",
   "version": "3.7.0"
  },
  "orig_nbformat": 4,
  "vscode": {
   "interpreter": {
    "hash": "c2457d19af8ced19a74ab7a78e9c83d25d9b6fe31085aeabfe535f823a253add"
   }
  }
 },
 "nbformat": 4,
 "nbformat_minor": 2
}
