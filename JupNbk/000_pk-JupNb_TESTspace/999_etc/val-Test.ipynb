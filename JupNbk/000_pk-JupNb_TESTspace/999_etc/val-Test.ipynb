{
 "cells": [
  {
   "cell_type": "code",
   "execution_count": null,
   "metadata": {},
   "outputs": [],
   "source": [
    "# Modules\n",
    "import numpy as np\n",
    "import pandas as pd\n",
    "import netCDF4 as nc"
   ]
  },
  {
   "cell_type": "code",
   "execution_count": null,
   "metadata": {},
   "outputs": [],
   "source": [
    "# Read the Location file.\n",
    "locFILE       = \"location_list.lst\"\n",
    "path2locFILE  = \"../scripts/moduletest/\"\n",
    "locdataIN     = path2locFILE+locFILE#\n",
    "#_-_-_-_-_-_-_-_-_-_-_-_-_-_-_-_-_-_-_-_-_-_-_-_-_-_-_-_-_-_-_-_-_-_-_-_-_-_-_-_-_-_-_-_-_\n",
    "# Write out to dataframe.\n",
    "dataF = pd.read_csv(locdataIN, sep='\\t', header=None)\n",
    "dataF.columns = [\"stn\", \"sID\", \"lat\", \"lon\"]\n",
    "# ........................................................................................\n",
    "#print(dataF[:])"
   ]
  },
  {
   "cell_type": "code",
   "execution_count": null,
   "metadata": {},
   "outputs": [],
   "source": [
    "# Input datasets\n",
    "MODULE      = 'ssp'\n",
    "SUB_MODULE  ='landwaterstorage'\n",
    "SCENARIO    = '-ssp585'\n",
    "SL_TYPE     = 'global'\n",
    "# ........................................................................................\n",
    "dataFOLDER = '../modules/{arg1}/{arg2}/test/output/'.format(arg1=MODULE,arg2=SUB_MODULE)\n",
    "dataFILE   = '{arg2}-{arg1}-{arg2}{arg4}_{arg3}sl.nc'.format(arg1=MODULE,arg2=SUB_MODULE,arg3=SL_TYPE,arg4=SCENARIO)\n",
    "dataPATH   = dataFOLDER+dataFILE\n",
    "#print(dataPATH)\n",
    "#_-_-_-_-_-_-_-_-_-_-_-_-_-_-_-_-_-_-_-_-_-_-_-_-_-_-_-_-_-_-_-_-_-_-_-_-_-_-_-_-_-_-_-_-_\n",
    "# Data info.\n",
    "dumDAT = nc.Dataset(dataPATH, 'r')\n",
    "print(dumDAT) \n",
    "#print(dumDAT.variables) \n"
   ]
  },
  {
   "cell_type": "code",
   "execution_count": null,
   "metadata": {},
   "outputs": [],
   "source": [
    "\n",
    "# Access variable\n",
    "VAR = list(dumDAT.variables)\n",
    "numVAR = len(VAR)\n",
    "#\n",
    "print('Number of variables are =>',numVAR)\n",
    "print('Variables => ', VAR[:],'\\n')\n",
    "#print('Print OG data ==> \\n',dumDAT.variables['years'])\n",
    "#print('Fn below...')\n",
    "\n",
    "\n",
    "# def function_somethong(columnId):\n",
    "#     try:\n",
    "#         slicedData = dumDAT.variables[columnId]\n",
    "#         #print(\"SlicedData\" , slicedData)\n",
    "#         return slicedData\n",
    "#     except:\n",
    "#         #print(\"An exception occurred\")\n",
    "#         return None\n",
    "\n",
    "from var_col_order import var_col_order\n",
    "\n",
    "years               =  var_col_order(dumDAT.variables,'years') # null or data\n",
    "# lat                 =  function_somethong('lat')\n",
    "# lon                 =  function_somethong('lon')\n",
    "# samples             =  function_somethong('samples')\n",
    "# locations           =  function_somethong('locations')\n",
    "# sea_level_change    = function_somethong('sea_level_change')\n",
    "\n",
    "# if year is absent close the program\n",
    "print(\"Year Data \", years)\n",
    "# print(\"lat Data \", lat)\n",
    "# print(\"lon Data \", lon)\n",
    "# print(\"samples Data \", samples)\n",
    "# print(\"locations Data \", locations)\n",
    "# print(\"sea_level_change Data \", sea_level_change)\n",
    "\n",
    "#dumDAT.variables[VAR[0]]\n"
   ]
  }
 ],
 "metadata": {
  "kernelspec": {
   "display_name": "Python 3.7.0 ('facts37')",
   "language": "python",
   "name": "python3"
  },
  "language_info": {
   "codemirror_mode": {
    "name": "ipython",
    "version": 3
   },
   "file_extension": ".py",
   "mimetype": "text/x-python",
   "name": "python",
   "nbconvert_exporter": "python",
   "pygments_lexer": "ipython3",
   "version": "3.7.0"
  },
  "orig_nbformat": 4,
  "vscode": {
   "interpreter": {
    "hash": "c2457d19af8ced19a74ab7a78e9c83d25d9b6fe31085aeabfe535f823a253add"
   }
  }
 },
 "nbformat": 4,
 "nbformat_minor": 2
}
