{
 "cells": [
  {
   "cell_type": "code",
   "execution_count": null,
   "metadata": {},
   "outputs": [],
   "source": [
    "ssp_dat = np.full((3,yrs.size,),np.nan)\n",
    "ssp_dat[:,Yind] = pcntle"
   ]
  },
  {
   "cell_type": "code",
   "execution_count": 1,
   "metadata": {},
   "outputs": [],
   "source": [
    "#SHortcut to adding dimensions\n",
    "#Modules\n",
    "import numpy as np\n",
    "import pandas as pd\n",
    "import matplotlib.pyplot as plt\n",
    "import netCDF4 as nc\n",
    "from pandas.plotting import table \n",
    "from netCDF4 import Dataset\n",
    "years = [1,2,3]\n",
    "samples = [11,22,33,44,55,66,77]\n",
    "\n",
    "nc_filename = \"TT_globalsl.nc\"\n",
    "rootgrp = Dataset(nc_filename, \"w\", format=\"NETCDF4\")\n",
    "#Define Dimensions\n",
    "\n",
    "year_dim = rootgrp.createDimension(\"years\", 3)\n",
    "samp_dim = rootgrp.createDimension(\"samples\", 7)\n",
    "loc_dim  = rootgrp.createDimension(\"locations\", 1)\n",
    "loc_var  = rootgrp.createVariable(\"locations\", \"i8\", (\"locations\",))\n",
    "\n",
    "# Populate dimension variables\n",
    "year_var = rootgrp.createVariable(\"years\", \"i4\", (\"years\",))\n",
    "samp_var = rootgrp.createVariable(\"samples\", \"i8\", (\"samples\",))\n",
    "# samps = rootgrp.createVariable(\"sea_level_change\", \"f4\", (\"samples\", \"years\", \"locations\"), zlib=True, least_significant_digit=2)\n",
    "samps = rootgrp.createVariable(\"sea_level_change\", \"f4\", (\"samples\", \"years\",\"locations\"), zlib=True, least_significant_digit=2)\n",
    "sampsT = rootgrp.createVariable(\"sea_level_changeT\", \"f4\", (\"years\",\"samples\",\"locations\"), zlib=True, least_significant_digit=2)\n",
    "\n",
    "\n",
    "\n"
   ]
  },
  {
   "cell_type": "code",
   "execution_count": 4,
   "metadata": {},
   "outputs": [
    {
     "name": "stdout",
     "output_type": "stream",
     "text": [
      "[[1 4 0 1 3 4 1]\n",
      " [0 1 2 0 1 0 2]\n",
      " [0 4 3 0 4 3 0]]\n",
      "--> \n",
      "\n",
      "[[1. 0. 0.]\n",
      " [4. 1. 4.]\n",
      " [0. 2. 3.]\n",
      " [1. 0. 0.]\n",
      " [3. 1. 4.]\n",
      " [4. 0. 3.]\n",
      " [1. 2. 0.]]\n"
     ]
    },
    {
     "name": "stderr",
     "output_type": "stream",
     "text": [
      "/home/pk695/000_swre/miniconda/envs/facts37/lib/python3.7/site-packages/ipykernel_launcher.py:10: DeprecationWarning: `np.bool` is a deprecated alias for the builtin `bool`. To silence this warning, use `bool` by itself. Doing this will not modify any behavior and is safe. If you specifically wanted the numpy scalar type, use `np.bool_` here.\n",
      "Deprecated in NumPy 1.20; for more details and guidance: https://numpy.org/devdocs/release/1.20.0-notes.html#deprecations\n",
      "  # Remove the CWD from sys.path while we load stuff.\n"
     ]
    }
   ],
   "source": [
    "import numpy as np\n",
    "np.random.seed(10)\n",
    "\n",
    "dum = np.random.randint(5, size=(3, 7))\n",
    "print(dum[:,:])\n",
    "print('--> \\n')\n",
    "\n",
    "samps[:,:,:] = np.transpose(dum[:,:,np.newaxis],(1,0,2))\n",
    "# sampsT[:,:,:] = np.transpose(dum[:,:,np.newaxis])\n",
    "print(samps[:,:,0])\n",
    "# print('--> \\n')\n",
    "# print(sampsT[:,:,0])\n",
    "\n",
    "# # print(samps1)\n",
    "# print(samps.shape)\n",
    "# print(sampsT.shape)\n",
    "# # print('-----')\n",
    "# # # dum22 = dum2[:,:,np.newaxis]\n",
    "# # # print[dum22]"
   ]
  },
  {
   "cell_type": "code",
   "execution_count": 112,
   "metadata": {},
   "outputs": [
    {
     "name": "stderr",
     "output_type": "stream",
     "text": [
      "/home/pk695/000_swre/miniconda/envs/facts37/lib/python3.7/site-packages/ipykernel_launcher.py:1: DeprecationWarning: `np.bool` is a deprecated alias for the builtin `bool`. To silence this warning, use `bool` by itself. Doing this will not modify any behavior and is safe. If you specifically wanted the numpy scalar type, use `np.bool_` here.\n",
      "Deprecated in NumPy 1.20; for more details and guidance: https://numpy.org/devdocs/release/1.20.0-notes.html#deprecations\n",
      "  \"\"\"Entry point for launching an IPython kernel.\n"
     ]
    },
    {
     "data": {
      "text/plain": [
       "masked_array(data=[1., 1., 1., 2., 0., 4., 4.],\n",
       "             mask=False,\n",
       "       fill_value=1e+20,\n",
       "            dtype=float32)"
      ]
     },
     "execution_count": 112,
     "metadata": {},
     "output_type": "execute_result"
    }
   ],
   "source": [
    "samps[:,0,0]"
   ]
  },
  {
   "cell_type": "code",
   "execution_count": 89,
   "metadata": {},
   "outputs": [],
   "source": [
    "rootgrp.close()"
   ]
  }
 ],
 "metadata": {
  "kernelspec": {
   "display_name": "Python 3.7.0 ('facts37')",
   "language": "python",
   "name": "python3"
  },
  "language_info": {
   "codemirror_mode": {
    "name": "ipython",
    "version": 3
   },
   "file_extension": ".py",
   "mimetype": "text/x-python",
   "name": "python",
   "nbconvert_exporter": "python",
   "pygments_lexer": "ipython3",
   "version": "3.7.0"
  },
  "orig_nbformat": 4,
  "vscode": {
   "interpreter": {
    "hash": "c2457d19af8ced19a74ab7a78e9c83d25d9b6fe31085aeabfe535f823a253add"
   }
  }
 },
 "nbformat": 4,
 "nbformat_minor": 2
}
