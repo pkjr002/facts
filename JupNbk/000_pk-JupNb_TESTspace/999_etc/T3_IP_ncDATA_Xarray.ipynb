{
 "cells": [
  {
   "cell_type": "code",
   "execution_count": null,
   "metadata": {},
   "outputs": [],
   "source": [
    "# Import the netCDF file.\n",
    "#\n",
    "dumDAT = nc.Dataset(dataPATH, 'r')\n",
    "#\n",
    "if print_nc == 1: print(dumDAT) \n",
    "#print(dumDAT.variables) "
   ]
  },
  {
   "cell_type": "code",
   "execution_count": null,
   "metadata": {},
   "outputs": [],
   "source": [
    "# Order the variables. \n",
    "def var_col_order(dataIP,columnId):\n",
    "    try:\n",
    "        slicedData = dataIP[columnId]\n",
    "        #print(\"SlicedData\" , slicedData)\n",
    "        return slicedData\n",
    "    except:\n",
    "        #print(\"An exception occurred\")\n",
    "        return None\n",
    "\n",
    "# Import and structure variables.\n",
    "#from var_col_order import var_col_order\n",
    "#\n",
    "yrs    =  np.array(var_col_order(dumDAT.variables,'years'))\n",
    "lat    =  np.array(var_col_order(dumDAT.variables,'lat'))\n",
    "lon    =  np.array(var_col_order(dumDAT.variables,'lon'))\n",
    "samp   =  np.array(var_col_order(dumDAT.variables,'samples'))\n",
    "loc    =  np.array(var_col_order(dumDAT.variables,'locations'))\n",
    "slc    =  np.array(var_col_order(dumDAT.variables,'sea_level_change'))\n",
    "sst    =  np.array(var_col_order(dumDAT.variables,'surface_temperature'))\n",
    "\n",
    "if print_var == 1:\n",
    "    try:\n",
    "        print('lat ',lat.shape, lat[:])\n",
    "    except:\n",
    "        print('Lat absent')\n",
    "    try:   \n",
    "        print('loc ',loc.shape, loc[:])\n",
    "    except:\n",
    "        print('Loc absent')\n",
    "    try:\n",
    "        print('Sample ',samp.shape,samp[0:3])\n",
    "    except:\n",
    "        print('Sample absent')\n",
    "    try:   \n",
    "        print('Years ',yrs.shape,yrs[0:3],'  T/F =',np.min(yrs),'/',np.max(yrs))\n",
    "    except:\n",
    "        print('Years absent')\n",
    "    try:    \n",
    "        print('SLC ',slc.shape,'\\n',slc[0:3,0:3,0])\n",
    "    except:\n",
    "        print('SLC absent')\n",
    "    try:    \n",
    "        print('SST ',sst.shape,'\\n',sst[0:3,0:3,0])\n",
    "    except:\n",
    "        print('SST absent')"
   ]
  }
 ],
 "metadata": {
  "kernelspec": {
   "display_name": "Python 3.7.0 ('facts37')",
   "language": "python",
   "name": "python3"
  },
  "language_info": {
   "codemirror_mode": {
    "name": "ipython",
    "version": 3
   },
   "file_extension": ".py",
   "mimetype": "text/x-python",
   "name": "python",
   "nbconvert_exporter": "python",
   "pygments_lexer": "ipython3",
   "version": "3.7.0"
  },
  "orig_nbformat": 4,
  "vscode": {
   "interpreter": {
    "hash": "c2457d19af8ced19a74ab7a78e9c83d25d9b6fe31085aeabfe535f823a253add"
   }
  }
 },
 "nbformat": 4,
 "nbformat_minor": 2
}
