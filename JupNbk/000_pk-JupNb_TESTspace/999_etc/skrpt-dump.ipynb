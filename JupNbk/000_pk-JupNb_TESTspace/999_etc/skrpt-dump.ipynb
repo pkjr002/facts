{
 "cells": [
  {
   "cell_type": "code",
   "execution_count": null,
   "metadata": {},
   "outputs": [],
   "source": [
    "# Reading a pkl file\n",
    "import pickle\n",
    "path = ''\n",
    "with open(path, 'rb') as f:\n",
    "    dum = pickle.load(f)\n",
    "print(dum)"
   ]
  }
 ],
 "metadata": {
  "kernelspec": {
   "display_name": "Python 3.7.0 ('facts37')",
   "language": "python",
   "name": "python3"
  },
  "language_info": {
   "name": "python",
   "version": "3.7.0"
  },
  "orig_nbformat": 4,
  "vscode": {
   "interpreter": {
    "hash": "c2457d19af8ced19a74ab7a78e9c83d25d9b6fe31085aeabfe535f823a253add"
   }
  }
 },
 "nbformat": 4,
 "nbformat_minor": 2
}
