{
 "cells": [
  {
   "cell_type": "markdown",
   "metadata": {},
   "source": [
    "<span style=\"font-size:24pt; color:blue; font-family: 'Times New Roman'\">Notebook \n",
    "    <span style=\"color:green;\"> for creating new estimate of Total Fresh water including floating ice </span>\n",
    "</span>\n",
    "<br>\n",
    "<span style=\"font-size:12pt; color:black; font-family:Georgia, serif;font-style:italic\">by Praveen Kumar and Sophie Nowicki.</span>\n",
    "<br>\n",
    "<br>\n",
    "<span style=\"font-family: 'Times New Roman'; font-size:16pt; color:black\"> \n",
    "    This is a notebook that is used to create .....\n",
    "</span>\n",
    "\n",
    "<span style=\"font-family: 'Times New Roman'; font-size:16pt; color:black\"> LINKS: </span>\n",
    "\n",
    "<ol>\n",
    "    <li> <a href=\"https://doi.org/10.5194/tc-14-3033-2020\" style=\"color:blue; text-decoration:underline;\">Hélène_Seroussi_et_al</a> ISMIP6 Antarctica: a multi-model ensemble of the Antarctic ice sheet evolution over the 21st century </li>\n",
    "    <li> <a href=\"https://doi.org/10.5194/tc-14-3033-2020\" style=\"color:blue; text-decoration:underline;\">Hélène_Seroussi_et_al</a> ISMIP6 Antarctica: a multi-model ensemble of the Antarctic ice sheet evolution over the 21st century </li>\n",
    "    <li> <a href=\"https://zenodo.org/records/3940766\" style=\"color:blue; text-decoration:underline;\">Zenodo DATA Repo</a> data for reproducing - Results of ISMIP6 Antarctica: a multi-model ensemble of the Antarctic ice sheet evolution over the 21st century</li>\n",
    "    <li> <a href=\"https://zenodo.org/records/3940768\" style=\"color:blue; text-decoration:underline;\">Zenodo SCRIPTS Repo</a> Scripts for reproducing - Results of ISMIP6 Antarctica: a multi-model ensemble of the Antarctic ice sheet evolution over the 21st century</li>\n",
    "    <li> <a href=\"https://theghub.org/resources?alias=ismip6aissvnwf2\" style=\"color:blue; text-decoration:underline;\">The Hub</a> -An Open Source Tool for Visualizing ISM Intercomparisons. In local folder <b>(ismip6aissvnwf2-r19.tar.gz)</b> </li>\n",
    "    <li> <a href=\"https://theghub.org/groups/ismip6/wiki/ISMIP6-Projections-Antarctica \" style=\"color:blue; text-decoration:underline;\">ISMIP6 Wiki</a> - Overview: Experimental protocol for Antarctic projections</li>\n",
    "</ol>\n",
    "\n",
    "\n",
    "<br>\n",
    "<br>\n",
    "<span style=\"font-family:'Courier New', monospace; font-size:12pt; color:black\"> <b>Background::</b> <br>\n",
    "    <br>\n",
    "</span>"
   ]
  },
  {
   "cell_type": "markdown",
   "metadata": {},
   "source": [
    "<br>\n",
    "<span style=\"font-size:24pt; color:blue; font-family: 'Times New Roman';\"> Set <b>Experiment </b> Folder ::\n",
    "    <span style=\"font-size:14pt; color:green;\"> point to where raw output is located </span>\n",
    "\n",
    "</span>"
   ]
  },
  {
   "cell_type": "code",
   "execution_count": 1,
   "metadata": {},
   "outputs": [],
   "source": [
    "facts_output_folder=\"/__/\"\n",
    "#\n",
    "region = 'global'\n",
    "# \n",
    "import fun_1_ as fn\n",
    "#\n",
    "#ssps=[\"ssp119\",\"ssp126\",\"ssp245\",\"ssp370\",\"ssp585\"]"
   ]
  }
 ],
 "metadata": {
  "kernelspec": {
   "display_name": "Python 3 (ipykernel)",
   "language": "python",
   "name": "python3"
  },
  "language_info": {
   "codemirror_mode": {
    "name": "ipython",
    "version": 3
   },
   "file_extension": ".py",
   "mimetype": "text/x-python",
   "name": "python",
   "nbconvert_exporter": "python",
   "pygments_lexer": "ipython3",
   "version": "3.9.15"
  }
 },
 "nbformat": 4,
 "nbformat_minor": 2
}
