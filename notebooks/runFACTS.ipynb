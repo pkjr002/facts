{
 "cells": [
  {
   "cell_type": "code",
   "execution_count": 1,
   "metadata": {},
   "outputs": [],
   "source": [
    "# Configure directories and experiment\n",
    "\n",
    "factsdir = '/opt/facts' # FACTS root directory\n",
    "exp_name = 'jupyter01' # desired experiment name\n",
    "\n",
    "experiment_config = \"\"\"\n",
    "global-options:\n",
    "    nsamps: 200\n",
    "    scenario: ssp245\n",
    "    pyear_start: 2020\n",
    "    pyear_end: 2150\n",
    "    pyear_step: 10\n",
    "    baseyear: 2005\n",
    "    pipeline_file: 'pipeline.global.yml'\n",
    "\n",
    "climate_step:\n",
    "    temperature:\n",
    "        module_set: \"fair\"\n",
    "        module: \"temperature\"\n",
    "        generates_climate_output: true\n",
    "\n",
    "sealevel_step:\n",
    "    GrIS1f:\n",
    "        module_set: \"FittedISMIP\"\n",
    "        module: \"GrIS\"\n",
    "        include_in_workflow:\n",
    "            - \"wf1f\"\n",
    "            - \"wf2f\"\n",
    "            - \"wf3f\"\n",
    "\n",
    "    deconto21:\n",
    "        module_set: \"deconto21\"\n",
    "        module: \"AIS\"\n",
    "        include_in_workflow:\n",
    "            - \"wf3f\"\n",
    "\n",
    "    bamber19:\n",
    "        module_set: \"bamber19\"\n",
    "        module: \"icesheets\"\n",
    "        include_in_workflow:\n",
    "            - \"wf4\"\n",
    "\n",
    "    larmip:\n",
    "        module_set: \"larmip\"\n",
    "        module: \"AIS\"\n",
    "        include_in_workflow:\n",
    "            - \"wf2f\"\n",
    "\n",
    "    ar5glaciers:\n",
    "        module_set: \"ipccar5\"\n",
    "        module: \"glaciers\"\n",
    "        options:\n",
    "            gmip: 2\n",
    "        include_in_workflow:\n",
    "            - \"wf1f\"\n",
    "            - \"wf2f\"\n",
    "            - \"wf3f\"\n",
    "            - \"wf4\"\n",
    "\n",
    "    ar5AIS:\n",
    "        module_set: \"ipccar5\"\n",
    "        module: \"icesheets\"\n",
    "        pipeline_file: \"pipeline.AIS.global.yml\"\n",
    "        include_in_workflow:\n",
    "            - \"wf1f\"\n",
    "\n",
    "    ocean:\n",
    "        module_set: \"tlm\"\n",
    "        module: \"sterodynamics\"\n",
    "        include_in_workflow:\n",
    "            - \"wf1f\"\n",
    "            - \"wf2f\"\n",
    "            - \"wf3f\"\n",
    "            - \"wf4\"\n",
    "\n",
    "    lws:\n",
    "        module_set: \"ssp\"\n",
    "        module: \"landwaterstorage\"\n",
    "        options:\n",
    "            scenario: \"ssp2\"\n",
    "            dcrate_lo: -0.4\n",
    "        include_in_workflow:\n",
    "            - \"wf1f\"\n",
    "            - \"wf2f\"\n",
    "            - \"wf3f\"\n",
    "            - \"wf4\"\n",
    "\"\"\""
   ]
  },
  {
   "cell_type": "markdown",
   "metadata": {},
   "source": [
    "Write the experiment `config.yml` file. "
   ]
  },
  {
   "cell_type": "code",
   "execution_count": 2,
   "metadata": {},
   "outputs": [],
   "source": [
    "import os \n",
    "import sys\n",
    "\n",
    "os.chdir(factsdir)\n",
    "import runFACTS\n",
    "\n",
    "exp_dir=os.path.join(factsdir,'experiments',exp_name)\n",
    "resourcedir=os.path.join(factsdir,'resources')\n",
    "\n",
    "try:\n",
    "    os.makedirs(exp_dir)\n",
    "except:\n",
    "    None\n",
    "\n",
    "f = open(os.path.join(exp_dir,'config.yml'),'w')\n",
    "f.write(experiment_config)\n",
    "f.close()\n"
   ]
  },
  {
   "cell_type": "markdown",
   "metadata": {},
   "source": [
    "Run the newly created FACTS experiment."
   ]
  },
  {
   "cell_type": "code",
   "execution_count": null,
   "metadata": {
    "scrolled": true
   },
   "outputs": [
    {
     "name": "stderr",
     "output_type": "stream",
     "text": [
      "\u001b[94mEnTK session: re.session.b93eb9ce-986a-11ee-bc11-0242ac110002\n",
      "\u001b[39m\u001b[0m\u001b[94mCreating AppManager\n",
      "\u001b[39m\u001b[0m\u001b[94mSetting up ZMQ queues\u001b[39m\u001b[0m\u001b[92m                                                         ok\n",
      "\u001b[39m\u001b[0m\u001b[94mAppManager initialized\u001b[39m\u001b[0m\u001b[92m                                                        ok\n",
      "\u001b[39m\u001b[0m\u001b[94mValidating and assigning resource manager\u001b[39m\u001b[0m\u001b[92m                                     ok\n",
      "\u001b[39m\u001b[0m\u001b[94mSetting up ZMQ queues\u001b[39m\u001b[0m\u001b[92m                                                        n/a\n",
      "\u001b[39m\u001b[0m\u001b[94mnew session: \u001b[39m\u001b[0m[re.session.b93eb9ce-986a-11ee-bc11-0242ac110002]\u001b[39m\u001b[0m\u001b[94m                 \\\n",
      "zmq proxy  : \u001b[39m\u001b[0m[tcp://172.17.0.2:10002]\u001b[39m\u001b[0m"
     ]
    },
    {
     "name": "stdout",
     "output_type": "stream",
     "text": [
      "****** STEP: climate_step ******\n"
     ]
    },
    {
     "name": "stderr",
     "output_type": "stream",
     "text": [
      "\u001b[92m                                         ok\n",
      "\u001b[39m\u001b[0m\u001b[94mcreate pilot manager\u001b[39m\u001b[0m\u001b[92m                                                          ok\n",
      "\u001b[39m\u001b[0m\u001b[94msubmit 1 pilot(s)\u001b[39m\u001b[0m\n",
      "        pilot.0000   local.localhost           2 cores       0 gpus\u001b[39m\u001b[0m\u001b[92m           ok\n",
      "\u001b[39m\u001b[0m"
     ]
    }
   ],
   "source": [
    "runFACTS.run_experiment(exp_dir,resourcedir=resourcedir)"
   ]
  },
  {
   "cell_type": "code",
   "execution_count": null,
   "metadata": {},
   "outputs": [],
   "source": []
  }
 ],
 "metadata": {
  "kernelspec": {
   "display_name": "Python 3",
   "language": "python",
   "name": "python3"
  },
  "language_info": {
   "codemirror_mode": {
    "name": "ipython",
    "version": 3
   },
   "file_extension": ".py",
   "mimetype": "text/x-python",
   "name": "python",
   "nbconvert_exporter": "python",
   "pygments_lexer": "ipython3",
   "version": "3.8.10"
  }
 },
 "nbformat": 4,
 "nbformat_minor": 4
}
