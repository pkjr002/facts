{
 "cells": [
  {
   "attachments": {},
   "cell_type": "markdown",
   "metadata": {},
   "source": [
    "## <font color=green> *FACTS GMD:* <font color=black> Figure 6 </font>\n",
    "#### <font color=blue> *Total RSL projections for New York City under four different Workflows under different SSP scenarios.* </font>\n"
   ]
  },
  {
   "cell_type": "code",
   "execution_count": null,
   "metadata": {},
   "outputs": [],
   "source": [
    "import numpy as np\n",
    "import pandas as pd\n",
    "import matplotlib.pyplot as plt\n",
    "%matplotlib inline\n",
    "import netCDF4 as nc\n",
    "from pandas.plotting import table \n",
    "import xarray as xr\n",
    "from datetime import date\n",
    "import os"
   ]
  },
  {
   "attachments": {},
   "cell_type": "markdown",
   "metadata": {},
   "source": [
    "### <font color=blue> List of **Workflows** and **Data** to be used </font>"
   ]
  },
  {
   "cell_type": "code",
   "execution_count": null,
   "metadata": {},
   "outputs": [],
   "source": [
    "# Load FACTS module names/data as a dataframe.\n",
    "df = pd.read_fwf('001_input_Names_Modules_dataFILES/Fig6_IP_workflow_dataFILE_LOCAL.txt',comment = '#')\n",
    "df"
   ]
  },
  {
   "attachments": {},
   "cell_type": "markdown",
   "metadata": {},
   "source": [
    "### <font color=blue>Extract **.nc** data \\& Find Percentiles</font>"
   ]
  },
  {
   "cell_type": "code",
   "execution_count": null,
   "metadata": {},
   "outputs": [],
   "source": [
    "import fig_ncTOdf as IP\n",
    "#\n",
    "EXPDATE   = 221217                    # Experiment date.\n",
    "SCENARIO    = ['ssp119','ssp126', 'ssp245', 'ssp370','ssp585'];  \n",
    "#\n",
    "df_ptile = IP.wf_Fig_nc(df,SCENARIO,EXPDATE,2100)\n",
    "#\n",
    "display(df_ptile)\n"
   ]
  },
  {
   "attachments": {},
   "cell_type": "markdown",
   "metadata": {},
   "source": [
    "### <font color=green> **PLOT** RSL for workflows under various SSPs </font>"
   ]
  },
  {
   "cell_type": "code",
   "execution_count": null,
   "metadata": {},
   "outputs": [],
   "source": [
    "color_ssp119 = np.array([0, 173,207])/255\n",
    "color_ssp126 = np.array([23  ,60 ,  102])/255\n",
    "color_ssp245 = np.array([247 ,148,  32])/255\n",
    "color_ssp370 = np.array([231 ,29 ,  37])/255\n",
    "color_ssp585 = np.array([149 ,27 ,  30])/255\n",
    "scencolors=[color_ssp585, color_ssp245, color_ssp126]\n",
    "#\n",
    "# Workflow Components.\n",
    "wf1f     = ['GrIS-FittedISMIP', 'AIS-ipccar5', 'Glaciers-ipccar5-GMIP2']\n",
    "wf2f     = ['GrIS-FittedISMIP', 'AIS-larmip', 'Glaciers-ipccar5-GMIP2']\n",
    "wf3f     = ['GrIS-FittedISMIP', 'AIS-deconto21', 'Glaciers-ipccar5-GMIP2']\n",
    "wf4      = ['GrIS-bamber19', 'AIS-bamber19', 'Glaciers-ipccar5-GMIP2']\n",
    "workflow = [\"wf1f\",\"wf2f\",\"wf3f\",\"wf4\"]"
   ]
  },
  {
   "cell_type": "code",
   "execution_count": null,
   "metadata": {},
   "outputs": [],
   "source": [
    "# Set global figure size and dots per inch\n",
    "plt.rcParams.update({'figure.figsize':(55,30), 'figure.dpi':100})\n",
    "# Initialize the grid\n",
    "grid   = plt.GridSpec(4, 5, wspace=0.1, hspace=-.4)\n",
    "grid01 = grid[0].subgridspec(4, 5)\n",
    "#\n",
    "XAX1        = df_ptile.loc[:,\"Year\"].unique()\n",
    "SSP         = np.flip(df_ptile.loc[:,\"SSP\"].unique())\n",
    "#\n",
    "xlim  = [2020,2100]\n",
    "xlim1 = [.1,2]\n",
    "#\n",
    "ax1_wf1f = plt.subplot(grid01[0, :4]); ax2_wf1f = plt.subplot(grid01[0, 4]);\n",
    "ax1_wf2f = plt.subplot(grid01[1, :4]); ax2_wf2f = plt.subplot(grid01[1, 4]);\n",
    "ax1_wf3f = plt.subplot(grid01[2, :4]); ax2_wf3f = plt.subplot(grid01[2, 4]);\n",
    "ax1_wf4  = plt.subplot(grid01[3, :4]); ax2_wf4  = plt.subplot(grid01[3, 4]);\n",
    "#\n",
    "for wf in workflow:\n",
    "    # Select subplot axis based on workflow\n",
    "    ax1 = eval(f'ax1_{wf}');    ax2 = eval(f'ax2_{wf}')\n",
    "    # X axis for the Right (Bar) Plot.\n",
    "    XAX2 = np.array([[.2,.2]]) \n",
    "    yylim = []\n",
    "    #\n",
    "    for ss in SSP: # Loop through each SSP\n",
    "        if (ss == 'ssp245') & (wf == 'wf4'):\n",
    "            continue\n",
    "        if (ss == 'ssp119') & ((wf == 'wf3f') or (wf == 'wf4')):\n",
    "            continue\n",
    "        if (ss == 'ssp370') & ((wf == 'wf3f') or (wf == 'wf4')):\n",
    "            continue\n",
    "        #\n",
    "        # Plot Left\n",
    "        Yax1 = df_ptile.loc[((df_ptile[\"Workflow\"] == wf) & (df_ptile['SSP'] == ss)),\"col_50\" ] \n",
    "        ax1.plot(XAX1, Yax1, label = ss[:3].upper()+ss[3]+'-'+ss[4]+'.'+ss[5], color = eval(f'color_{ss}'))\n",
    "        #\n",
    "        # Plot Right\n",
    "        Yax2_1 = df_ptile.loc[((df_ptile[\"Workflow\"] == wf) & (df_ptile['SSP'] == ss) & (df_ptile['Year'] == 2100)),(\"col_5\", \"col_95\") ].values\n",
    "        Yax2_2 = df_ptile.loc[((df_ptile[\"Workflow\"] == wf) & (df_ptile['SSP'] == ss) & (df_ptile['Year'] == 2100)),(\"col_17\", \"col_83\") ].values \n",
    "        Yax2_3 = df_ptile.loc[((df_ptile[\"Workflow\"] == wf) & (df_ptile['SSP'] == ss) & (df_ptile['Year'] == 2100)),(\"col_50\",\"col_50\") ].values \n",
    "        #\n",
    "        ax2.plot(XAX2.transpose(), Yax2_1.transpose(), label = ss, color = eval(f'color_{ss}'),linewidth=1,)\n",
    "        ax2.plot(XAX2.transpose(), Yax2_2.transpose(), label = ss, color = eval(f'color_{ss}'),linewidth=2)\n",
    "        ax2.plot(XAX2.transpose(), Yax2_3.transpose(), marker = 'o', color = eval(f'color_{ss}'),ms = 2,mfc='none')\n",
    "        XAX2 = XAX2+.15\n",
    "        #\n",
    "        # Dynamix y axis\n",
    "        yylim.append( Yax2_1[0] )\n",
    "    #\n",
    "    ylim =[0, 0.07 + np.max(np.unique(np.array(yylim)))]\n",
    "    #\n",
    "    # Use Common Yaxis limits across panels.\n",
    "    if wf == 'wf1f':  ylim =[0, 2]\n",
    "    if wf == 'wf2f':  ylim =[0, 2]\n",
    "    if wf == 'wf3f':  ylim =[0, 3]\n",
    "    if wf == 'wf4':  ylim = [0, 3]\n",
    "    #\n",
    "    ax1.tick_params(axis='both', labelsize=10)\n",
    "    ax1.yaxis.set_ticks_position('both')\n",
    "    if wf == 'wf1f': ax1.legend(loc='upper left',prop={'size': 10}); \n",
    "    ax1.set_xlim(xlim); ax1.set_ylim(ylim)\n",
    "    ax1.set_ylabel(\"RSL rise (m)\"); #ax1.grid()\n",
    "    # WorkFlow Title.\n",
    "    ax1.text(.9, .91, 'Workflow '+wf[2:], horizontalalignment='right',verticalalignment='top',weight='bold',fontsize=14,transform=ax1.transAxes)\n",
    "    if wf != 'wf4': ax1.xaxis.set_ticklabels([])\n",
    "    #\n",
    "    ax2.set_ylim(ylim); ax2.axis('off'); ax2.set_xlim(xlim1);\n",
    "# Get todays date.\n",
    "today = date.today().strftime('%Y-%m-%d')\n",
    "# Save Figure.\n",
    "figureNAME = \"Fig6-\"+today+\".pdf\" \n",
    "if os.path.exists(figureNAME): os.remove(figureNAME)\n",
    "plt.savefig(figureNAME, format=\"pdf\", bbox_inches=\"tight\")\n",
    "# \n",
    "plt.show()"
   ]
  }
 ],
 "metadata": {
  "kernelspec": {
   "display_name": "Python 3.9.15 ('plot')",
   "language": "python",
   "name": "python3"
  },
  "language_info": {
   "codemirror_mode": {
    "name": "ipython",
    "version": 3
   },
   "file_extension": ".py",
   "mimetype": "text/x-python",
   "name": "python",
   "nbconvert_exporter": "python",
   "pygments_lexer": "ipython3",
   "version": "3.9.15"
  },
  "orig_nbformat": 4,
  "vscode": {
   "interpreter": {
    "hash": "adc634733d73b0796380be3dda2ecd8c29414439860d566d764cbd379022a65e"
   }
  }
 },
 "nbformat": 4,
 "nbformat_minor": 2
}
