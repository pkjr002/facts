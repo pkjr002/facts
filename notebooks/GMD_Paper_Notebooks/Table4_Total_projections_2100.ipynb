{
 "cells": [
  {
   "attachments": {},
   "cell_type": "markdown",
   "metadata": {},
   "source": [
    "## <font color=green> *FACTS GMD:* <font color=black> Table 4 </font>\n"
   ]
  },
  {
   "cell_type": "code",
   "execution_count": 1,
   "metadata": {},
   "outputs": [],
   "source": [
    "import numpy as np\n",
    "import pandas as pd\n",
    "import matplotlib.pyplot as plt\n",
    "%matplotlib inline\n",
    "import netCDF4 as nc\n",
    "from pandas.plotting import table \n",
    "import xarray as xr"
   ]
  },
  {
   "attachments": {},
   "cell_type": "markdown",
   "metadata": {},
   "source": [
    "### <font color=blue> List of **Workflows** and **Data** to be used </font>"
   ]
  },
  {
   "attachments": {},
   "cell_type": "markdown",
   "metadata": {},
   "source": [
    "##### <font color=red> **Global**</font>"
   ]
  },
  {
   "cell_type": "code",
   "execution_count": 2,
   "metadata": {},
   "outputs": [
    {
     "name": "stdout",
     "output_type": "stream",
     "text": [
      "Global Workflow data\n"
     ]
    },
    {
     "data": {
      "text/html": [
       "<div>\n",
       "<style scoped>\n",
       "    .dataframe tbody tr th:only-of-type {\n",
       "        vertical-align: middle;\n",
       "    }\n",
       "\n",
       "    .dataframe tbody tr th {\n",
       "        vertical-align: top;\n",
       "    }\n",
       "\n",
       "    .dataframe thead th {\n",
       "        text-align: right;\n",
       "    }\n",
       "</style>\n",
       "<table border=\"1\" class=\"dataframe\">\n",
       "  <thead>\n",
       "    <tr style=\"text-align: right;\">\n",
       "      <th></th>\n",
       "      <th>Component</th>\n",
       "      <th>Workflow</th>\n",
       "      <th>DataFile</th>\n",
       "    </tr>\n",
       "  </thead>\n",
       "  <tbody>\n",
       "    <tr>\n",
       "      <th>0</th>\n",
       "      <td>total</td>\n",
       "      <td>wf1e</td>\n",
       "      <td>total.workflow.wf1e.global.nc</td>\n",
       "    </tr>\n",
       "    <tr>\n",
       "      <th>1</th>\n",
       "      <td>total</td>\n",
       "      <td>wf1f</td>\n",
       "      <td>total.workflow.wf1f.global.nc</td>\n",
       "    </tr>\n",
       "    <tr>\n",
       "      <th>2</th>\n",
       "      <td>total</td>\n",
       "      <td>wf2e</td>\n",
       "      <td>total.workflow.wf2e.global.nc</td>\n",
       "    </tr>\n",
       "    <tr>\n",
       "      <th>3</th>\n",
       "      <td>total</td>\n",
       "      <td>wf2f</td>\n",
       "      <td>total.workflow.wf2f.global.nc</td>\n",
       "    </tr>\n",
       "    <tr>\n",
       "      <th>4</th>\n",
       "      <td>total</td>\n",
       "      <td>wf3e</td>\n",
       "      <td>total.workflow.wf3e.global.nc</td>\n",
       "    </tr>\n",
       "    <tr>\n",
       "      <th>5</th>\n",
       "      <td>total</td>\n",
       "      <td>wf3f</td>\n",
       "      <td>total.workflow.wf3f.global.nc</td>\n",
       "    </tr>\n",
       "    <tr>\n",
       "      <th>6</th>\n",
       "      <td>total</td>\n",
       "      <td>wf4</td>\n",
       "      <td>total.workflow.wf4.global.nc</td>\n",
       "    </tr>\n",
       "  </tbody>\n",
       "</table>\n",
       "</div>"
      ],
      "text/plain": [
       "  Component Workflow                       DataFile\n",
       "0     total     wf1e  total.workflow.wf1e.global.nc\n",
       "1     total     wf1f  total.workflow.wf1f.global.nc\n",
       "2     total     wf2e  total.workflow.wf2e.global.nc\n",
       "3     total     wf2f  total.workflow.wf2f.global.nc\n",
       "4     total     wf3e  total.workflow.wf3e.global.nc\n",
       "5     total     wf3f  total.workflow.wf3f.global.nc\n",
       "6     total      wf4   total.workflow.wf4.global.nc"
      ]
     },
     "execution_count": 2,
     "metadata": {},
     "output_type": "execute_result"
    }
   ],
   "source": [
    "# Load FACTS workflow data set names as a dataframe.\n",
    "df_WF_global = pd.read_fwf( '001_input_Names_Modules_dataFILES/Table4_WF_dataFILE_global.txt' ,comment = '#')\n",
    "print('Global Workflow data'); \n",
    "df_WF_global"
   ]
  },
  {
   "attachments": {},
   "cell_type": "markdown",
   "metadata": {},
   "source": [
    "##### <font color=red> **Local**</font>"
   ]
  },
  {
   "cell_type": "code",
   "execution_count": 3,
   "metadata": {},
   "outputs": [
    {
     "name": "stdout",
     "output_type": "stream",
     "text": [
      "Local Workflow data\n"
     ]
    },
    {
     "data": {
      "text/html": [
       "<div>\n",
       "<style scoped>\n",
       "    .dataframe tbody tr th:only-of-type {\n",
       "        vertical-align: middle;\n",
       "    }\n",
       "\n",
       "    .dataframe tbody tr th {\n",
       "        vertical-align: top;\n",
       "    }\n",
       "\n",
       "    .dataframe thead th {\n",
       "        text-align: right;\n",
       "    }\n",
       "</style>\n",
       "<table border=\"1\" class=\"dataframe\">\n",
       "  <thead>\n",
       "    <tr style=\"text-align: right;\">\n",
       "      <th></th>\n",
       "      <th>Component</th>\n",
       "      <th>Workflow</th>\n",
       "      <th>DataFile</th>\n",
       "    </tr>\n",
       "  </thead>\n",
       "  <tbody>\n",
       "    <tr>\n",
       "      <th>0</th>\n",
       "      <td>total</td>\n",
       "      <td>wf1e</td>\n",
       "      <td>total.workflow.wf1e.local.nc</td>\n",
       "    </tr>\n",
       "    <tr>\n",
       "      <th>1</th>\n",
       "      <td>total</td>\n",
       "      <td>wf1f</td>\n",
       "      <td>total.workflow.wf1f.local.nc</td>\n",
       "    </tr>\n",
       "    <tr>\n",
       "      <th>2</th>\n",
       "      <td>total</td>\n",
       "      <td>wf2e</td>\n",
       "      <td>total.workflow.wf2e.local.nc</td>\n",
       "    </tr>\n",
       "    <tr>\n",
       "      <th>3</th>\n",
       "      <td>total</td>\n",
       "      <td>wf2f</td>\n",
       "      <td>total.workflow.wf2f.local.nc</td>\n",
       "    </tr>\n",
       "    <tr>\n",
       "      <th>4</th>\n",
       "      <td>total</td>\n",
       "      <td>wf3e</td>\n",
       "      <td>total.workflow.wf3e.local.nc</td>\n",
       "    </tr>\n",
       "    <tr>\n",
       "      <th>5</th>\n",
       "      <td>total</td>\n",
       "      <td>wf3f</td>\n",
       "      <td>total.workflow.wf3f.local.nc</td>\n",
       "    </tr>\n",
       "    <tr>\n",
       "      <th>6</th>\n",
       "      <td>total</td>\n",
       "      <td>wf4</td>\n",
       "      <td>total.workflow.wf4.local.nc</td>\n",
       "    </tr>\n",
       "  </tbody>\n",
       "</table>\n",
       "</div>"
      ],
      "text/plain": [
       "  Component Workflow                      DataFile\n",
       "0     total     wf1e  total.workflow.wf1e.local.nc\n",
       "1     total     wf1f  total.workflow.wf1f.local.nc\n",
       "2     total     wf2e  total.workflow.wf2e.local.nc\n",
       "3     total     wf2f  total.workflow.wf2f.local.nc\n",
       "4     total     wf3e  total.workflow.wf3e.local.nc\n",
       "5     total     wf3f  total.workflow.wf3f.local.nc\n",
       "6     total      wf4   total.workflow.wf4.local.nc"
      ]
     },
     "execution_count": 3,
     "metadata": {},
     "output_type": "execute_result"
    }
   ],
   "source": [
    "df_WF_local = pd.read_fwf( '001_input_Names_Modules_dataFILES/Table4_WF_dataFILE_local.txt' ,comment = '#')\n",
    "print('Local Workflow data'); \n",
    "df_WF_local"
   ]
  },
  {
   "attachments": {},
   "cell_type": "markdown",
   "metadata": {},
   "source": [
    "### <font color=blue> Create **Table 4** </font>"
   ]
  },
  {
   "cell_type": "code",
   "execution_count": 4,
   "metadata": {},
   "outputs": [
    {
     "name": "stdout",
     "output_type": "stream",
     "text": [
      "Percentile of GMSL [ median(17th,83rd) ] in m for different workflows for the year  2100\n"
     ]
    },
    {
     "data": {
      "text/html": [
       "<div>\n",
       "<style scoped>\n",
       "    .dataframe tbody tr th:only-of-type {\n",
       "        vertical-align: middle;\n",
       "    }\n",
       "\n",
       "    .dataframe tbody tr th {\n",
       "        vertical-align: top;\n",
       "    }\n",
       "\n",
       "    .dataframe thead tr th {\n",
       "        text-align: left;\n",
       "    }\n",
       "\n",
       "    .dataframe thead tr:last-of-type th {\n",
       "        text-align: right;\n",
       "    }\n",
       "</style>\n",
       "<table border=\"1\" class=\"dataframe\">\n",
       "  <thead>\n",
       "    <tr>\n",
       "      <th></th>\n",
       "      <th>SSP</th>\n",
       "      <th>ssp585</th>\n",
       "    </tr>\n",
       "    <tr>\n",
       "      <th></th>\n",
       "      <th></th>\n",
       "      <th></th>\n",
       "    </tr>\n",
       "    <tr>\n",
       "      <th>Component</th>\n",
       "      <th>Workflow</th>\n",
       "      <th></th>\n",
       "    </tr>\n",
       "  </thead>\n",
       "  <tbody>\n",
       "    <tr>\n",
       "      <th rowspan=\"7\" valign=\"top\">total</th>\n",
       "      <th>wf1e</th>\n",
       "      <td>0.72 (0.62 - 0.81)</td>\n",
       "    </tr>\n",
       "    <tr>\n",
       "      <th>wf1f</th>\n",
       "      <td>0.67 (0.56 - 0.79)</td>\n",
       "    </tr>\n",
       "    <tr>\n",
       "      <th>wf2e</th>\n",
       "      <td>0.80 (0.67 - 1.01)</td>\n",
       "    </tr>\n",
       "    <tr>\n",
       "      <th>wf2f</th>\n",
       "      <td>0.81 (0.67 - 1.00)</td>\n",
       "    </tr>\n",
       "    <tr>\n",
       "      <th>wf3e</th>\n",
       "      <td>0.99 (0.83 - 1.18)</td>\n",
       "    </tr>\n",
       "    <tr>\n",
       "      <th>wf3f</th>\n",
       "      <td>1.00 (0.82 - 1.19)</td>\n",
       "    </tr>\n",
       "    <tr>\n",
       "      <th>wf4</th>\n",
       "      <td>1.05 (0.71 - 1.55)</td>\n",
       "    </tr>\n",
       "  </tbody>\n",
       "</table>\n",
       "</div>"
      ],
      "text/plain": [
       "SSP                             ssp585\n",
       "                                      \n",
       "Component Workflow                    \n",
       "total     wf1e      0.72 (0.62 - 0.81)\n",
       "          wf1f      0.67 (0.56 - 0.79)\n",
       "          wf2e      0.80 (0.67 - 1.01)\n",
       "          wf2f      0.81 (0.67 - 1.00)\n",
       "          wf3e      0.99 (0.83 - 1.18)\n",
       "          wf3f      1.00 (0.82 - 1.19)\n",
       "          wf4       1.05 (0.71 - 1.55)"
      ]
     },
     "metadata": {},
     "output_type": "display_data"
    },
    {
     "name": "stdout",
     "output_type": "stream",
     "text": [
      "Percentile of RSL at New York City [ median(17th,83rd) ] in m for different workflows for the year  2100\n"
     ]
    },
    {
     "data": {
      "text/html": [
       "<div>\n",
       "<style scoped>\n",
       "    .dataframe tbody tr th:only-of-type {\n",
       "        vertical-align: middle;\n",
       "    }\n",
       "\n",
       "    .dataframe tbody tr th {\n",
       "        vertical-align: top;\n",
       "    }\n",
       "\n",
       "    .dataframe thead tr th {\n",
       "        text-align: left;\n",
       "    }\n",
       "\n",
       "    .dataframe thead tr:last-of-type th {\n",
       "        text-align: right;\n",
       "    }\n",
       "</style>\n",
       "<table border=\"1\" class=\"dataframe\">\n",
       "  <thead>\n",
       "    <tr>\n",
       "      <th></th>\n",
       "      <th>SSP</th>\n",
       "      <th>ssp585</th>\n",
       "    </tr>\n",
       "    <tr>\n",
       "      <th></th>\n",
       "      <th></th>\n",
       "      <th></th>\n",
       "    </tr>\n",
       "    <tr>\n",
       "      <th>Component</th>\n",
       "      <th>Workflow</th>\n",
       "      <th></th>\n",
       "    </tr>\n",
       "  </thead>\n",
       "  <tbody>\n",
       "    <tr>\n",
       "      <th rowspan=\"7\" valign=\"top\">total</th>\n",
       "      <th>wf1e</th>\n",
       "      <td>0.98 (0.80 - 1.15)</td>\n",
       "    </tr>\n",
       "    <tr>\n",
       "      <th>wf1f</th>\n",
       "      <td>0.92 (0.71 - 1.10)</td>\n",
       "    </tr>\n",
       "    <tr>\n",
       "      <th>wf2e</th>\n",
       "      <td>1.08 (0.86 - 1.36)</td>\n",
       "    </tr>\n",
       "    <tr>\n",
       "      <th>wf2f</th>\n",
       "      <td>1.08 (0.85 - 1.36)</td>\n",
       "    </tr>\n",
       "    <tr>\n",
       "      <th>wf3e</th>\n",
       "      <td>1.29 (1.07 - 1.55)</td>\n",
       "    </tr>\n",
       "    <tr>\n",
       "      <th>wf3f</th>\n",
       "      <td>1.28 (1.08 - 1.55)</td>\n",
       "    </tr>\n",
       "    <tr>\n",
       "      <th>wf4</th>\n",
       "      <td>1.28 (0.95 - 1.65)</td>\n",
       "    </tr>\n",
       "  </tbody>\n",
       "</table>\n",
       "</div>"
      ],
      "text/plain": [
       "SSP                             ssp585\n",
       "                                      \n",
       "Component Workflow                    \n",
       "total     wf1e      0.98 (0.80 - 1.15)\n",
       "          wf1f      0.92 (0.71 - 1.10)\n",
       "          wf2e      1.08 (0.86 - 1.36)\n",
       "          wf2f      1.08 (0.85 - 1.36)\n",
       "          wf3e      1.29 (1.07 - 1.55)\n",
       "          wf3f      1.28 (1.08 - 1.55)\n",
       "          wf4       1.28 (0.95 - 1.65)"
      ]
     },
     "metadata": {},
     "output_type": "display_data"
    }
   ],
   "source": [
    "import table_ncTOdf as IP\n",
    "#\n",
    "EXPDATE   = 221217                    # Experiment date.\n",
    "YEAR      = 2100;                     # Percentile Year for the table.   \n",
    "# SCENARIO  = ['ssp119','ssp126', 'ssp245', 'ssp370', 'ssp585'];  \n",
    "SCENARIO  = ['ssp585'];  \n",
    "\n",
    "# Global\n",
    "df_ptile_global = IP.wf_Table_nc(df_WF_global,SCENARIO,EXPDATE,YEAR)\n",
    "print('Percentile of GMSL [ median(17th,83rd) ] in m for different workflows for the year ', YEAR)\n",
    "display(df_ptile_global)\n",
    "\n",
    "# Local\n",
    "df_ptile_local = IP.wf_Table_nc(df_WF_local,SCENARIO,EXPDATE,YEAR)\n",
    "print('Percentile of RSL at New York City [ median(17th,83rd) ] in m for different workflows for the year ', YEAR)\n",
    "display(df_ptile_local)"
   ]
  },
  {
   "cell_type": "code",
   "execution_count": 5,
   "metadata": {},
   "outputs": [],
   "source": [
    "#print(df_ptile_global.to_latex(index=True, escape=False))\n",
    "#print(df_ptile_local.to_latex(index=True, escape=False))"
   ]
  }
 ],
 "metadata": {
  "kernelspec": {
   "display_name": "Python 3.9.15 ('plot')",
   "language": "python",
   "name": "python3"
  },
  "language_info": {
   "codemirror_mode": {
    "name": "ipython",
    "version": 3
   },
   "file_extension": ".py",
   "mimetype": "text/x-python",
   "name": "python",
   "nbconvert_exporter": "python",
   "pygments_lexer": "ipython3",
   "version": "3.9.15"
  },
  "orig_nbformat": 4,
  "vscode": {
   "interpreter": {
    "hash": "adc634733d73b0796380be3dda2ecd8c29414439860d566d764cbd379022a65e"
   }
  }
 },
 "nbformat": 4,
 "nbformat_minor": 2
}
