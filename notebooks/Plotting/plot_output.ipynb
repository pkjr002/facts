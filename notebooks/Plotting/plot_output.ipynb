{
 "cells": [
  {
   "cell_type": "code",
   "execution_count": null,
   "metadata": {},
   "outputs": [],
   "source": [
    "import os\n",
    "import dask\n",
    "import xarray as xr\n",
    "import pandas as pd\n",
    "import numpy as np\n",
    "import matplotlib.pyplot as plt\n",
    "from PlotLib import *"
   ]
  },
  {
   "cell_type": "code",
   "execution_count": null,
   "metadata": {},
   "outputs": [],
   "source": [
    "# root_dir needs to be applied to the root directory for this FACTS install\n",
    "root_dir = \"\"\n",
    "os.chdir(root_dir)"
   ]
  },
  {
   "cell_type": "code",
   "execution_count": null,
   "metadata": {},
   "outputs": [],
   "source": [
    "import runFACTS\n",
    "lazy_scenario = [dask.delayed(runFACTS.run_experiment(exp_dir=os.path.join(exp_dir, f'{ssp}'), \n",
    "                                                      resourcedir=resource_dir, \n",
    "                                                      outdir=out_dir)) for ssp in scenarios] \n",
    "run_scenarios = dask.compute(*lazy_scenario)"
   ]
  },
  {
   "cell_type": "code",
   "execution_count": null,
   "metadata": {},
   "outputs": [],
   "source": [
    "# Create the utility object\n",
    "# Create the utility object\n",
    "mods = [\n",
    "        'emulandice_ais',\n",
    "        'emulandice_gris',\n",
    "        'emulandice_glaciers',\n",
    "        'ipccar5_glaciers',\n",
    "        'ipccar5_ais',\n",
    "        'ipccar5_gris',\n",
    "        'larmip_ais',\n",
    "        'fittedismip_gris',\n",
    "        'tlm_sterodynamics',\n",
    "        'bamber19_ais',\n",
    "        'bamber19_gris',\n",
    "        'deconto21_ais',\n",
    "        'wf1e_global',\n",
    "        'wf1f_global',\n",
    "        'wf2e_global',\n",
    "        'wf2f_global',\n",
    "        'wf3e_global',\n",
    "        'wf3f_global',\n",
    "        'wf4_global',\n",
    "        'wf1e_local',\n",
    "        'wf1f_local',\n",
    "        'wf2e_local',\n",
    "        'wf2f_local',\n",
    "        'wf3e_local',\n",
    "        'wf3f_local',\n",
    "        'wf4_local',\n",
    "]\n",
    "\n",
    "\n",
    "util = PlotLib(root_dir='/home/alex/rutgers/facts/branches/whitepaper/facts', \n",
    "               version_flag='FACTS v1.1.2')\n",
    "\n",
    "for i in range(len(mods)):\n",
    "    util.plot_module(mod_idx=i, module=mods[i], exp_name='coupling.ssp')\n",
    "\n",
    "# Displays the outputs for the quantiles per ssp and temperature bin\n",
    "print(util.ssp_quantiles)\n",
    "print(util.temp_qauntiles)"
   ]
  }
 ],
 "metadata": {
  "kernelspec": {
   "display_name": "cfve",
   "language": "python",
   "name": "python3"
  },
  "language_info": {
   "codemirror_mode": {
    "name": "ipython",
    "version": 3
   },
   "file_extension": ".py",
   "mimetype": "text/x-python",
   "name": "python",
   "nbconvert_exporter": "python",
   "pygments_lexer": "ipython3",
   "version": "3.9.18"
  }
 },
 "nbformat": 4,
 "nbformat_minor": 2
}
