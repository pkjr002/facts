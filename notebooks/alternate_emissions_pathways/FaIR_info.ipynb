{
 "cells": [
  {
   "cell_type": "markdown",
   "id": "009963cd-63d9-4df4-ad02-a6f3632101a4",
   "metadata": {},
   "source": [
    "<span style=\"font-size: 16pt; color: darkblue; font-family: 'Times New Roman';\"> <u>FaIR</u> \n",
    "<br><br>\n",
    "The FAIR (Finite Amplitude Impulse-Response) climate model is a simplified climate model used to estimate the temperature response and other climate variables in response to emissions of greenhouse gases (GHGs) and other forcings. Unlike complex General Circulation Models (GCMs) that require significant computational resources, FAIR is designed to be more accessible and computationally efficient, allowing for quick estimations and scenario analyses. Here's a detailed explanation of the FAIR climate model, including its key components and how it is used in climate research and policy analysis.\n",
    "</span>\n",
    "\n",
    "<span style=\"font-size: 22pt; color: red; font-family: 'Times New Roman';\"> Key Components  </span>\n",
    "<ol style=\"font-size: 16pt; color: black;\">\n",
    "    <li>Impulse Response Functions: FAIR models the Earth's climate system using impulse response functions that describe how the climate system responds over time to a pulse of emissions. This allows the model to simulate the decay and distribution of carbon dioxide and other GHGs in the atmosphere.</li>\n",
    "    <li>Carbon Cycle: The model includes a simplified representation of the global carbon cycle, accounting for the emissions of carbon dioxide from fossil fuel combustion, land-use changes, and the natural processes that absorb CO2 from the atmosphere, such as ocean uptake and terrestrial biosphere absorption.</li>\n",
    "    <li>Climate Sensitivity: FAIR incorporates climate sensitivity parameters, such as the equilibrium climate sensitivity (ECS) and transient climate response (TCR), which determine how much the global mean surface temperature will increase in response to a doubling of atmospheric CO2 concentration.</li>\n",
    "    <li>Radiative Forcing: The model calculates radiative forcing from GHGs and other agents like aerosols and land-use changes. Radiative forcing is the change in energy balance of the Earth's atmosphere due to these emissions and is a key driver of climate change.</li>\n",
    "    <li>Temperature Response: Based on the radiative forcing and the climate system's response, FAIR estimates the change in global mean surface temperature and other climate variables over time.</li>\n",
    "</ol>\n",
    "\n",
    "\n",
    "<span style=\"font-size: 12pt; color: black; font-family: 'Times New Roman';\"> <b>Notes</b><br>\n",
    "<u>Equilibrium Climate Sensitivity (ECS)</u><br>\n",
    "Equilibrium Climate Sensitivity refers to the change in the Earth's global mean surface temperature at equilibrium, resulting from a doubling of the pre-industrial levels of atmospheric CO2. This is a theoretical measure, as it assumes the climate system has reached a new equilibrium state after the effects of the increased CO2 have fully worked their way through the climate system, which can take hundreds to thousands of years due to the slow response of the oceans and ice sheets. \n",
    "<br><br>\n",
    "ECS is usually expressed in degrees Celsius (°C). The Intergovernmental Panel on Climate Change (IPCC) has reported that ECS is likely between 1.5°C and 4.5°C, with a best estimate of about 3°C, although recent studies continue to refine this range.\n",
    "</span>\n",
    "<br><br>\n",
    "<!-- -->\n",
    "<span style=\"font-size: 12pt; color: black; font-family: 'Times New Roman';\"> <b><u>Transient Climate Response (TCR)</b></u>\n",
    "<br>\n",
    "Transient Climate Response measures the change in the global mean surface temperature, at the time of CO2 doubling, under a scenario where CO2 concentrations increase by 1% per year. This scenario takes about 70 years, and the TCR captures the partially-equilibrated state of the climate, including the quicker responses of the atmosphere and land surfaces but not the full equilibrium response of the deeper oceans.\n",
    "<br><br>\n",
    "TCR is a more immediate measure of climate sensitivity, reflecting conditions that might be more relevant to policy and planning over the 21st century. The TCR is generally lower than ECS because it does not account for the slower feedbacks in the climate system, particularly those involving the deep ocean. IPCC assessments suggest that TCR is likely in the range of 1.0°C to 2.5°C.\n",
    "</span>\n",
    "<br><br>\n",
    "\n",
    "<span style=\"font-size: 22pt; color: red; font-family: 'Times New Roman';\"> Differences and Importance<br>\n",
    "    <ol style=\"font-size: 16pt; color: black;\">\n",
    "        <li>Time Scale: ECS assumes a new equilibrium after CO2 has doubled and all feedbacks have fully played out, while TCR measures the response before reaching equilibrium, at the time CO2 doubles over a specific period.</li>\n",
    "        <li> Feedbacks Considered: ECS considers all feedbacks, including slow processes like deep ocean heat uptake and ice sheet melting, whereas TCR captures only the quicker responses and not the full equilibrium state. </li>\n",
    "        <li> Policy Relevance: TCR is often considered more directly relevant to policy decisions for the 21st century because it reflects near-term climate responses, while ECS is crucial for understanding long-term climate commitments and the potential for tipping points.</li>\n",
    "        <li> Both ECS and TCR are fundamental for climate modeling and the assessment of climate change impacts and risks, helping to inform both mitigation and adaptation strategies.</li>\n",
    "    </ol>\n",
    "\n",
    "\n",
    "\n",
    "\n",
    "\n",
    "<span style=\"font-size: 22pt; color: red; font-family: 'Times New Roman';\"> Applications\n",
    "    <ol style=\"font-size: 16pt; color: black;\">\n",
    "        <li>Scenario Analysis: FAIR is widely used to analyze the temperature and climate impacts of different emission scenarios, including pathways to limit global warming to 1.5°C or 2°C above pre-industrial levels as outlined in the Paris Agreement.</li>\n",
    "        <li> Policy Assessment: It helps in evaluating the effectiveness of climate policies and measures in reducing GHG emissions and their impact on global temperature. </li>\n",
    "        <li> Integrated Assessment Models: FAIR can be integrated with economic and social models to understand the broader implications of climate policies on economic development, energy systems, and societal well-being. </li>\n",
    "        <li> Risk and Impact Studies: The model is used to assess the risks and impacts of climate change under various scenarios, aiding in the development of adaptation and mitigation strategies. </li>\n",
    "    </ol>\n",
    "\n",
    "<span style=\"font-size: 16pt; color: blue; font-family: 'Times New Roman';\"> <u>Discussions</u>\n",
    "<br><br>\n",
    "While FAIR offers a more accessible and efficient way to model the climate system's response to emissions, it comes with certain limitations compared to more complex models. Simplifications in the representation of the carbon cycle, climate sensitivity, and other processes mean that FAIR might not capture all the dynamics and feedbacks of the climate system as accurately as GCMs. However, its efficiency and simplicity make it a valuable tool for policy analysis, educational purposes, and preliminary research into climate change impacts and mitigation strategies.\n",
    "</span>\n"
   ]
  }
 ],
 "metadata": {
  "kernelspec": {
   "display_name": "Python 3 (ipykernel)",
   "language": "python",
   "name": "python3"
  },
  "language_info": {
   "codemirror_mode": {
    "name": "ipython",
    "version": 3
   },
   "file_extension": ".py",
   "mimetype": "text/x-python",
   "name": "python",
   "nbconvert_exporter": "python",
   "pygments_lexer": "ipython3",
   "version": "3.11.6"
  }
 },
 "nbformat": 4,
 "nbformat_minor": 5
}
